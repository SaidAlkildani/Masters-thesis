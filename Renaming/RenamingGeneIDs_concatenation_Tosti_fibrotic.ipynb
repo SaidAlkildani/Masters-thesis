{
 "cells": [
  {
   "cell_type": "code",
   "execution_count": 19,
   "id": "3c16d3eb-c72d-4701-acc0-47a3c579009c",
   "metadata": {},
   "outputs": [],
   "source": [
    "library(Seurat)\n",
    "library(openxlsx)\n",
    "library(readxl)\n",
    "library(Matrix)\n",
    "library(readr)"
   ]
  },
  {
   "cell_type": "code",
   "execution_count": 2,
   "id": "ccce35ae-c800-467b-8184-eae72090aa7b",
   "metadata": {},
   "outputs": [],
   "source": [
    "#Need to find out if all duplicates are nonzeros\n",
    "#Tostipanc\n",
    "setwd(\"/dh-projects/ag-conrad/analysis/saal11/panfib/Renaming/Tostipanctits\")\n",
    "#Upload matrices\n",
    "data_tosti_panctits_matrix <- readMM(\"data_tosti_panctits_matrix.mtx\")\n",
    "#Upload original gene list\n",
    "data_tosti_panctits_genes <- read.delim(\"data_tosti_panctits_genes.tsv\")\n",
    "data_tosti_panctits_genes <- data_tosti_panctits_genes$genes\n",
    "data_tosti_panctits_cellIDs <- read.delim(\"data_tosti_panctits_cellIDs.tsv\")\n",
    "rownames(data_tosti_panctits_matrix) <- data_tosti_panctits_genes\n",
    "colnames(data_tosti_panctits_matrix) <- data_tosti_panctits_cellIDs$cellIDs"
   ]
  },
  {
   "cell_type": "code",
   "execution_count": 21,
   "id": "74b4d9cb-b4b4-4432-aea4-3ba9beeb2416",
   "metadata": {},
   "outputs": [],
   "source": [
    "#Upload duplicates list\n",
    "data_tosti_panctits_genes_dup <- read.xlsx(\"data_tosti_panctits_geneIDs_forsum.xlsx\")"
   ]
  },
  {
   "cell_type": "code",
   "execution_count": 23,
   "id": "3facef3a-2fb8-4802-82e5-5723b261e532",
   "metadata": {},
   "outputs": [],
   "source": [
    "# Initialize an empty list to store the sums\n",
    "sums_list <- list()\n",
    "\n",
    "# Iterate over each gene in your list\n",
    "for (gene in data_tosti_panctits_genes_dup$Old) {\n",
    "  # Subset the count matrix for the current gene and calculate the sum\n",
    "  gene_sum <- sum(data_tosti_panctits_matrix[rownames(data_tosti_panctits_matrix) == gene, ])\n",
    "  \n",
    "  # Add the sum to the sums_list with the gene name as the key\n",
    "  sums_list[[gene]] <- gene_sum\n",
    "}"
   ]
  },
  {
   "cell_type": "code",
   "execution_count": null,
   "id": "1654e60c-29e2-4322-aab5-be0661d4f294",
   "metadata": {},
   "outputs": [],
   "source": [
    "sums_list"
   ]
  },
  {
   "cell_type": "code",
   "execution_count": 16,
   "id": "b76269f3-bdf7-4264-b69e-d872d31d3a88",
   "metadata": {},
   "outputs": [],
   "source": [
    "dup_sum <- do.call(rbind, lapply(sums_list, as.data.frame))"
   ]
  },
  {
   "cell_type": "code",
   "execution_count": 17,
   "id": "c43cc02b-71d8-4b66-8d44-c9c90d43b199",
   "metadata": {},
   "outputs": [],
   "source": [
    "dup_sum$genes <- rownames(dup_sum)"
   ]
  },
  {
   "cell_type": "code",
   "execution_count": 18,
   "id": "407f7a79-15a3-4df3-a313-1efa69b68276",
   "metadata": {},
   "outputs": [],
   "source": [
    "write.xlsx(list(dup_sum), \"data_tosti_panctits_geneIDs_dup_sum.xlsx\")"
   ]
  },
  {
   "cell_type": "code",
   "execution_count": 25,
   "id": "a0b933b5-fb41-4713-b45d-9093bf9932ab",
   "metadata": {},
   "outputs": [],
   "source": [
    "#Upload manually editted list\n",
    "data_tosti_panctits_genes <- read.xlsx(\"data_tosti_panctits_geneIDs_int_removed_manualedit.xlsx\")"
   ]
  },
  {
   "cell_type": "code",
   "execution_count": 27,
   "id": "dd53cf58-336d-4b06-ba88-59275ed13d97",
   "metadata": {},
   "outputs": [],
   "source": [
    "#Plug new genes to the matrix\n",
    "rownames(data_tosti_panctits_matrix) <- data_tosti_panctits_genes$New"
   ]
  },
  {
   "cell_type": "code",
   "execution_count": 28,
   "id": "6fed206b-f287-41c8-9df1-f721de7572d8",
   "metadata": {},
   "outputs": [
    {
     "name": "stdout",
     "output_type": "stream",
     "text": [
      "Duplicate gene IDs:\n",
      " [1] \"BTBD8\"        \"GPR89B\"       \"NBPF11\"       \"NBPF15\"       \"HNRNPU\"      \n",
      " [6] \"RRM2\"         \"TRAF3IP2-AS1\" \"CASTOR2\"      \"CFAP47\"       \"CFAP47\"      \n",
      "[11] \"TSPAN7\"       \"DLGAP2\"       \"AGO2\"         \"FAM27E2\"      \"ZNG1F\"       \n",
      "[16] \"MRC1\"         \"NSUN6\"        \"C10orf67\"     \"CCDC7\"        \"PTPN20\"      \n",
      "[21] \"AGAP4\"        \"WASHC2A\"      \"LCOR\"         \"MICAL2\"       \"ARHGAP42\"    \n",
      "[26] \"GRAMD1B\"      \"PLEKHG7\"      \"SUCLA2\"       \"MIA2\"         \"SYNE3\"       \n",
      "[31] \"RPS17\"        \"ZFHX3\"        \"NAA38\"        \"GRIK5\"        \"PSG9\"        \n",
      "[36] \"AREG\"        \n"
     ]
    }
   ],
   "source": [
    "#Check for duplicates. Do they match the genes to be concatenated?\n",
    "duplicate_genes <- duplicated(rownames(data_tosti_panctits_matrix))\n",
    "cat(\"Duplicate gene IDs:\\n\")\n",
    "print(rownames(data_tosti_panctits_matrix)[duplicate_genes])\n",
    "duplicated <- rownames(data_tosti_panctits_matrix)[duplicate_genes]\n",
    "#They match"
   ]
  },
  {
   "cell_type": "code",
   "execution_count": 29,
   "id": "081f8332-e58a-44ba-83f0-af6036b4fb34",
   "metadata": {},
   "outputs": [
    {
     "data": {
      "text/html": [
       "36"
      ],
      "text/latex": [
       "36"
      ],
      "text/markdown": [
       "36"
      ],
      "text/plain": [
       "[1] 36"
      ]
     },
     "metadata": {},
     "output_type": "display_data"
    }
   ],
   "source": [
    "#Filter zeros \n",
    "row_sums <- rowSums(data_tosti_panctits_matrix)\n",
    "names_with_zeros <- names(row_sums[row_sums == 0])\n",
    "length(names_with_zeros)"
   ]
  },
  {
   "cell_type": "code",
   "execution_count": 30,
   "id": "05f07884-e64b-4dc3-8e0b-3d8079030c50",
   "metadata": {},
   "outputs": [],
   "source": [
    "filtered_data_tosti_panctits_matrix <- data_tosti_panctits_matrix[row_sums != 0, ]"
   ]
  },
  {
   "cell_type": "code",
   "execution_count": 31,
   "id": "02547f3a-3b32-4fca-9192-0c7fba6118f2",
   "metadata": {},
   "outputs": [
    {
     "name": "stdout",
     "output_type": "stream",
     "text": [
      "Formal class 'dgTMatrix' [package \"Matrix\"] with 6 slots\n",
      "  ..@ i       : int [1:6907682] 5 19 22 44 45 53 66 68 69 75 ...\n",
      "  ..@ j       : int [1:6907682] 0 0 0 0 0 0 0 0 0 0 ...\n",
      "  ..@ Dim     : int [1:2] 24782 2666\n",
      "  ..@ Dimnames:List of 2\n",
      "  .. ..$ : chr [1:24782] \"RP11-34P13.7\" \"AL627309.1\" \"AP006222.2\" \"RP4-669L17.10\" ...\n",
      "  .. ..$ : chr [1:2666] \"AAACGAAAGCATCCTA_1\" \"AAACGAACACTCATAG_1\" \"AAACGAAGTATTCTCT_1\" \"AAACGAAGTTCTTAGG_1\" ...\n",
      "  ..@ x       : num [1:6907682] 1 1 1 1 5 1 1 1 3 2 ...\n",
      "  ..@ factors : list()\n",
      "Formal class 'dgTMatrix' [package \"Matrix\"] with 6 slots\n",
      "  ..@ i       : int [1:6907682] 5 19 22 44 45 53 66 68 69 75 ...\n",
      "  ..@ j       : int [1:6907682] 0 0 0 0 0 0 0 0 0 0 ...\n",
      "  ..@ Dim     : int [1:2] 24746 2666\n",
      "  ..@ Dimnames:List of 2\n",
      "  .. ..$ : chr [1:24746] \"RP11-34P13.7\" \"AL627309.1\" \"AP006222.2\" \"RP4-669L17.10\" ...\n",
      "  .. ..$ : chr [1:2666] \"AAACGAAAGCATCCTA_1\" \"AAACGAACACTCATAG_1\" \"AAACGAAGTATTCTCT_1\" \"AAACGAAGTTCTTAGG_1\" ...\n",
      "  ..@ x       : num [1:6907682] 1 1 1 1 5 1 1 1 3 2 ...\n",
      "  ..@ factors : list()\n"
     ]
    }
   ],
   "source": [
    "str(data_tosti_panctits_matrix)\n",
    "str(filtered_data_tosti_panctits_matrix)"
   ]
  },
  {
   "cell_type": "code",
   "execution_count": 32,
   "id": "6eea0948-3120-421c-8674-fdad580d5b0c",
   "metadata": {},
   "outputs": [
    {
     "name": "stderr",
     "output_type": "stream",
     "text": [
      "'as(<dgTMatrix>, \"dgCMatrix\")' is deprecated.\n",
      "Use 'as(., \"CsparseMatrix\")' instead.\n",
      "See help(\"Deprecated\") and help(\"Matrix-deprecated\").\n",
      "\n"
     ]
    }
   ],
   "source": [
    "#Concatenating replicates\n",
    "filtered_data_tosti_panctits_matrix <- as(filtered_data_tosti_panctits_matrix, \"dgCMatrix\")"
   ]
  },
  {
   "cell_type": "code",
   "execution_count": 33,
   "id": "f9bbbd3d-f2d0-4d2f-8c9d-7b7f19f18340",
   "metadata": {},
   "outputs": [],
   "source": [
    "gene_names <- rownames(filtered_data_tosti_panctits_matrix)\n",
    "unique_gene_names <- unique(gene_names)\n",
    "gene_factors <- factor(gene_names, levels = unique_gene_names)"
   ]
  },
  {
   "cell_type": "code",
   "execution_count": 34,
   "id": "96e1da70-c6b2-4132-bbc0-a5c25bf0374e",
   "metadata": {},
   "outputs": [],
   "source": [
    "aggregated_counts <- rowsum(as.matrix(filtered_data_tosti_panctits_matrix), group = gene_factors)"
   ]
  },
  {
   "cell_type": "code",
   "execution_count": 36,
   "id": "c91a7df9-592d-44d2-b173-a55e5bd8ac5d",
   "metadata": {},
   "outputs": [
    {
     "name": "stdout",
     "output_type": "stream",
     "text": [
      " num [1:24710, 1:2666] 0 0 0 0 0 1 0 0 0 0 ...\n",
      " - attr(*, \"dimnames\")=List of 2\n",
      "  ..$ : chr [1:24710] \"RP11-34P13.7\" \"AL627309.1\" \"AP006222.2\" \"RP4-669L17.10\" ...\n",
      "  ..$ : chr [1:2666] \"AAACGAAAGCATCCTA_1\" \"AAACGAACACTCATAG_1\" \"AAACGAAGTATTCTCT_1\" \"AAACGAAGTTCTTAGG_1\" ...\n"
     ]
    }
   ],
   "source": [
    "str(aggregated_counts)"
   ]
  },
  {
   "cell_type": "code",
   "execution_count": 37,
   "id": "6b55d21e-60a7-4578-a2f9-45b64ce05ea4",
   "metadata": {},
   "outputs": [
    {
     "name": "stderr",
     "output_type": "stream",
     "text": [
      "\u001b[1m\u001b[22mNew names:\n",
      "\u001b[36m•\u001b[39m `` -> `...1`\n",
      "\u001b[36m•\u001b[39m `...1` -> `...2`\n",
      "\u001b[1mRows: \u001b[22m\u001b[34m2666\u001b[39m \u001b[1mColumns: \u001b[22m\u001b[34m19\u001b[39m\n",
      "\u001b[36m──\u001b[39m \u001b[1mColumn specification\u001b[22m \u001b[36m────────────────────────────────────────────────────────\u001b[39m\n",
      "\u001b[1mDelimiter:\u001b[22m \",\"\n",
      "\u001b[31mchr\u001b[39m (13): ...2, sex, condition, study, cells, lineage, subclass, patientID, ...\n",
      "\u001b[32mdbl\u001b[39m  (5): ...1, nCount_RNA, nFeature_RNA, percent.mt, age\n",
      "\u001b[33mlgl\u001b[39m  (1): smoking\n",
      "\n",
      "\u001b[36mℹ\u001b[39m Use `spec()` to retrieve the full column specification for this data.\n",
      "\u001b[36mℹ\u001b[39m Specify the column types or set `show_col_types = FALSE` to quiet this message.\n"
     ]
    }
   ],
   "source": [
    "#Creating a seurat object\n",
    "#Load metadata and dim reductions\n",
    "data_tosti_panctits_metadata <- read_csv(\"data_tosti_panctits_metadata_final.csv\")"
   ]
  },
  {
   "cell_type": "code",
   "execution_count": 38,
   "id": "b062b72e-a132-44c5-ab04-b76666fada52",
   "metadata": {},
   "outputs": [],
   "source": [
    "data_tosti_panctits_metadata <- as.data.frame(data_tosti_panctits_metadata)"
   ]
  },
  {
   "cell_type": "code",
   "execution_count": 40,
   "id": "f7a76e17-a10a-4d7d-a084-b3946162f731",
   "metadata": {},
   "outputs": [],
   "source": [
    "rownames(data_tosti_panctits_metadata) <- data_tosti_panctits_metadata$`...2`"
   ]
  },
  {
   "cell_type": "code",
   "execution_count": 41,
   "id": "dded7436-5268-4cf0-8024-78690a06118e",
   "metadata": {},
   "outputs": [],
   "source": [
    "data_tosti_panctits_metadata$`...2` <- NULL\n",
    "data_tosti_panctits_metadata$`...1` <- NULL"
   ]
  },
  {
   "cell_type": "code",
   "execution_count": 43,
   "id": "2c939590-a86a-4067-866f-dab575f2d530",
   "metadata": {},
   "outputs": [
    {
     "name": "stderr",
     "output_type": "stream",
     "text": [
      "Warning message:\n",
      "“Data is of class matrix. Coercing to dgCMatrix.”\n"
     ]
    }
   ],
   "source": [
    "data_tosti_panctits_seurat <- CreateSeuratObject(counts = aggregated_counts, meta.data = data_tosti_panctits_metadata)"
   ]
  },
  {
   "cell_type": "code",
   "execution_count": 45,
   "id": "9d27d3e7-c914-4a25-b55c-b23a2a991fb2",
   "metadata": {},
   "outputs": [],
   "source": [
    "save(data_tosti_panctits_seurat, file = \"data_tosti_panctits_seurat.RData\")"
   ]
  }
 ],
 "metadata": {
  "kernelspec": {
   "display_name": "R [conda env:panfib] *",
   "language": "R",
   "name": "conda-env-panfib-r"
  },
  "language_info": {
   "codemirror_mode": "r",
   "file_extension": ".r",
   "mimetype": "text/x-r-source",
   "name": "R",
   "pygments_lexer": "r",
   "version": "4.3.3"
  }
 },
 "nbformat": 4,
 "nbformat_minor": 5
}
