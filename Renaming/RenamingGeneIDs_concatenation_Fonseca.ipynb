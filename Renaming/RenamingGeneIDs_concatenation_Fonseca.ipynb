{
 "cells": [
  {
   "cell_type": "code",
   "execution_count": 7,
   "id": "d98fbc09-0330-43b2-aea9-0d070ade2871",
   "metadata": {},
   "outputs": [],
   "source": [
    "library(Seurat)\n",
    "library(openxlsx)\n",
    "library(readxl)\n",
    "library(Matrix)\n",
    "library(readr)"
   ]
  },
  {
   "cell_type": "code",
   "execution_count": 10,
   "id": "34a98642-8ffe-4dbd-b324-d6434ccc1ea6",
   "metadata": {},
   "outputs": [],
   "source": [
    "#Need to find out if all duplicates are nonzeros\n",
    "setwd(\"/dh-projects/ag-conrad/analysis/saal11/panfib/Renaming/Fons\")\n",
    "#Upload matrices\n",
    "data_fons_matrix <- readMM(\"data_fons_matrix.mtx\")\n",
    "#Upload original gene list\n",
    "#data_fons_genes <- read.delim(\"data_fons_genes.tsv\")\n",
    "#data_fons_genes <- data_fons_genes$genes\n",
    "data_fons_cellIDs <- read.delim(\"data_fons_cellIDs.tsv\")\n",
    "#rownames(data_fons_matrix) <- data_fons_genes\n",
    "colnames(data_fons_matrix) <- data_fons_cellIDs$cellIDs"
   ]
  },
  {
   "cell_type": "code",
   "execution_count": 12,
   "id": "b9633151-be9a-4649-90ba-6f641528d3b1",
   "metadata": {},
   "outputs": [],
   "source": [
    "#Upload genes of interest (duplicates)\n",
    "data_fons_genes_dup <- read.xlsx(\"data_fons_geneIDs_duplicates_forsum.xlsx\")"
   ]
  },
  {
   "cell_type": "code",
   "execution_count": 13,
   "id": "358fc104-ab17-49ad-af13-5c4ac8d79ba2",
   "metadata": {},
   "outputs": [],
   "source": [
    "#Find the zeros of these duplicates\n",
    "#Initialize an empty list to store the sums\n",
    "sums_list <- list()\n",
    "\n",
    "#Iterate over each gene in your list\n",
    "for (gene in data_fons_genes_dup$Old) {\n",
    "  #Subset the count matrix for the current gene and calculate the sum\n",
    "  gene_sum <- sum(data_fons_matrix[rownames(data_fons_matrix) == gene, ])\n",
    "  \n",
    "  #Add the sum to the sums_list with the gene name as the key\n",
    "  sums_list[[gene]] <- gene_sum\n",
    "}"
   ]
  },
  {
   "cell_type": "code",
   "execution_count": 11,
   "id": "86b6bd6d-ca08-4338-9246-bfd4197c114e",
   "metadata": {},
   "outputs": [],
   "source": [
    "#Upload manually edited geneIDs\n",
    "data_fons_genes_manual <- read.xlsx(\"data_fons_geneIDs_int_removed_manualedit.xlsx\")\n",
    "rownames(data_fons_matrix) <- data_fons_genes_manual$New"
   ]
  },
  {
   "cell_type": "code",
   "execution_count": 12,
   "id": "14df6b30-b754-4087-803e-0708a18ab18e",
   "metadata": {},
   "outputs": [
    {
     "name": "stdout",
     "output_type": "stream",
     "text": [
      "Duplicate gene IDs:\n"
     ]
    },
    {
     "data": {
      "text/html": [
       "172"
      ],
      "text/latex": [
       "172"
      ],
      "text/markdown": [
       "172"
      ],
      "text/plain": [
       "[1] 172"
      ]
     },
     "metadata": {},
     "output_type": "display_data"
    }
   ],
   "source": [
    "#Check duplicates\n",
    "#Find sums of duplicate genes (from manual edit)\n",
    "duplicate_genes <- duplicated(rownames(data_fons_matrix))\n",
    "cat(\"Duplicate gene IDs:\\n\")\n",
    "#print(rownames(data_fons_matrix)[duplicate_genes])\n",
    "duplicated <- rownames(data_fons_matrix)[duplicate_genes]\n",
    "length(duplicated)\n",
    "#matches excel!"
   ]
  },
  {
   "cell_type": "code",
   "execution_count": 13,
   "id": "182c0d5d-f574-4a46-9537-47281ac02c78",
   "metadata": {},
   "outputs": [
    {
     "data": {
      "text/html": [
       "30"
      ],
      "text/latex": [
       "30"
      ],
      "text/markdown": [
       "30"
      ],
      "text/plain": [
       "[1] 30"
      ]
     },
     "metadata": {},
     "output_type": "display_data"
    }
   ],
   "source": [
    "#Filter zeros\n",
    "row_sums <- rowSums(data_fons_matrix)\n",
    "names_with_zeros <- names(row_sums[row_sums == 0])\n",
    "length(names_with_zeros)"
   ]
  },
  {
   "cell_type": "code",
   "execution_count": 14,
   "id": "d8c97b88-b2ee-4b59-b42b-e3ca4cd2cc4d",
   "metadata": {},
   "outputs": [],
   "source": [
    "filtered_data_fons_matrix <- data_fons_matrix[row_sums != 0, ]"
   ]
  },
  {
   "cell_type": "code",
   "execution_count": 15,
   "id": "67245a30-19b0-4a7e-85eb-9a55f7fde7ff",
   "metadata": {},
   "outputs": [
    {
     "name": "stderr",
     "output_type": "stream",
     "text": [
      "'as(<dgTMatrix>, \"dgCMatrix\")' is deprecated.\n",
      "Use 'as(., \"CsparseMatrix\")' instead.\n",
      "See help(\"Deprecated\") and help(\"Matrix-deprecated\").\n",
      "\n"
     ]
    }
   ],
   "source": [
    "#Concatenating replicates\n",
    "filtered_data_fons_matrix <- as(filtered_data_fons_matrix, \"dgCMatrix\")"
   ]
  },
  {
   "cell_type": "code",
   "execution_count": 16,
   "id": "41bed04f-afce-4cdc-aecf-594dd4b45fb9",
   "metadata": {},
   "outputs": [],
   "source": [
    "gene_names <- rownames(filtered_data_fons_matrix)\n",
    "unique_gene_names <- unique(gene_names)\n",
    "gene_factors <- factor(gene_names, levels = unique_gene_names)"
   ]
  },
  {
   "cell_type": "code",
   "execution_count": 17,
   "id": "d0f28baf-03a7-4614-b6c3-614f7fd772be",
   "metadata": {},
   "outputs": [
    {
     "name": "stderr",
     "output_type": "stream",
     "text": [
      "Warning message in asMethod(object):\n",
      "“sparse->dense coercion: allocating vector of size 73.1 GiB”\n"
     ]
    }
   ],
   "source": [
    "aggregated_counts <- rowsum(as.matrix(filtered_data_fons_matrix), group = gene_factors)"
   ]
  },
  {
   "cell_type": "code",
   "execution_count": 27,
   "id": "7336a3cb-ca27-4620-bf9a-8790ea2e8533",
   "metadata": {},
   "outputs": [
    {
     "name": "stderr",
     "output_type": "stream",
     "text": [
      "\u001b[1m\u001b[22mNew names:\n",
      "\u001b[36m•\u001b[39m `` -> `...1`\n",
      "\u001b[1mRows: \u001b[22m\u001b[34m342668\u001b[39m \u001b[1mColumns: \u001b[22m\u001b[34m17\u001b[39m\n",
      "\u001b[36m──\u001b[39m \u001b[1mColumn specification\u001b[22m \u001b[36m────────────────────────────────────────────────────────\u001b[39m\n",
      "\u001b[1mDelimiter:\u001b[22m \",\"\n",
      "\u001b[31mchr\u001b[39m (9): ...1, orig.ident, patientID, study, cells_or_nuclei, tissue, condit...\n",
      "\u001b[32mdbl\u001b[39m (6): nCount_RNA, nFeature_RNA, percent.mt, age, RNA_snn_res.0.8, seurat_...\n",
      "\u001b[33mlgl\u001b[39m (2): sex, smoking\n",
      "\n",
      "\u001b[36mℹ\u001b[39m Use `spec()` to retrieve the full column specification for this data.\n",
      "\u001b[36mℹ\u001b[39m Specify the column types or set `show_col_types = FALSE` to quiet this message.\n"
     ]
    }
   ],
   "source": [
    "#Creating a seurat object\n",
    "data_fons_metadata <- read_csv(\"data_fons_metadata_final.csv\")"
   ]
  },
  {
   "cell_type": "code",
   "execution_count": 28,
   "id": "78687346-604c-4e06-93bc-2b1e0d92eb38",
   "metadata": {},
   "outputs": [],
   "source": [
    "data_fons_metadata <- as.data.frame(data_fons_metadata)"
   ]
  },
  {
   "cell_type": "code",
   "execution_count": 29,
   "id": "4cecc801-9e39-4601-9314-6066a226aece",
   "metadata": {},
   "outputs": [],
   "source": [
    "rownames(data_fons_metadata) <- data_fons_metadata$`...1`"
   ]
  },
  {
   "cell_type": "code",
   "execution_count": 30,
   "id": "45903151-5d5a-474f-8e15-07fb9c174dca",
   "metadata": {},
   "outputs": [],
   "source": [
    "data_fons_metadata$`...1` <- NULL\n",
    "data_fons_metadata$`...2` <- NULL"
   ]
  },
  {
   "cell_type": "code",
   "execution_count": 32,
   "id": "a7948449-e4d0-4b8e-8b59-34e2e4e143df",
   "metadata": {},
   "outputs": [
    {
     "name": "stderr",
     "output_type": "stream",
     "text": [
      "Warning message:\n",
      "“Data is of class matrix. Coercing to dgCMatrix.”\n"
     ]
    }
   ],
   "source": [
    "#Create Seurat Object\n",
    "data_fons_seurat <- CreateSeuratObject(counts = aggregated_counts, meta.data = data_fons_metadata)"
   ]
  },
  {
   "cell_type": "code",
   "execution_count": 34,
   "id": "c598a1aa-9cdd-4002-a9a9-8360b0990b69",
   "metadata": {},
   "outputs": [
    {
     "data": {
      "text/html": [
       "<style>\n",
       ".list-inline {list-style: none; margin:0; padding: 0}\n",
       ".list-inline>li {display: inline-block}\n",
       ".list-inline>li:not(:last-child)::after {content: \"\\00b7\"; padding: 0 .5ex}\n",
       "</style>\n",
       "<ol class=list-inline><li>'T cells'</li><li>'B cells'</li><li>'Fibroblasts'</li><li>'Macrophages'</li><li>'NK cells'</li><li>'Monocytes'</li><li>'Endothelial cells'</li><li>'SMCs'</li><li>'Plasma cells'</li><li>'Mitotic'</li><li>'Epithelial cells'</li><li>'Ciliated cells'</li><li>'Mast cells'</li><li>'Lymph. endo. cells'</li><li>'pDCs'</li></ol>\n"
      ],
      "text/latex": [
       "\\begin{enumerate*}\n",
       "\\item 'T cells'\n",
       "\\item 'B cells'\n",
       "\\item 'Fibroblasts'\n",
       "\\item 'Macrophages'\n",
       "\\item 'NK cells'\n",
       "\\item 'Monocytes'\n",
       "\\item 'Endothelial cells'\n",
       "\\item 'SMCs'\n",
       "\\item 'Plasma cells'\n",
       "\\item 'Mitotic'\n",
       "\\item 'Epithelial cells'\n",
       "\\item 'Ciliated cells'\n",
       "\\item 'Mast cells'\n",
       "\\item 'Lymph. endo. cells'\n",
       "\\item 'pDCs'\n",
       "\\end{enumerate*}\n"
      ],
      "text/markdown": [
       "1. 'T cells'\n",
       "2. 'B cells'\n",
       "3. 'Fibroblasts'\n",
       "4. 'Macrophages'\n",
       "5. 'NK cells'\n",
       "6. 'Monocytes'\n",
       "7. 'Endothelial cells'\n",
       "8. 'SMCs'\n",
       "9. 'Plasma cells'\n",
       "10. 'Mitotic'\n",
       "11. 'Epithelial cells'\n",
       "12. 'Ciliated cells'\n",
       "13. 'Mast cells'\n",
       "14. 'Lymph. endo. cells'\n",
       "15. 'pDCs'\n",
       "\n",
       "\n"
      ],
      "text/plain": [
       " [1] \"T cells\"            \"B cells\"            \"Fibroblasts\"       \n",
       " [4] \"Macrophages\"        \"NK cells\"           \"Monocytes\"         \n",
       " [7] \"Endothelial cells\"  \"SMCs\"               \"Plasma cells\"      \n",
       "[10] \"Mitotic\"            \"Epithelial cells\"   \"Ciliated cells\"    \n",
       "[13] \"Mast cells\"         \"Lymph. endo. cells\" \"pDCs\"              "
      ]
     },
     "metadata": {},
     "output_type": "display_data"
    }
   ],
   "source": [
    "unique(data_fons_seurat$cells)"
   ]
  },
  {
   "cell_type": "code",
   "execution_count": 35,
   "id": "bdfde460-51ca-4d60-8bc0-e17de30a98ce",
   "metadata": {},
   "outputs": [],
   "source": [
    "save(data_fons_seurat, file = \"data_fons_seurat_final.RData\")"
   ]
  }
 ],
 "metadata": {
  "kernelspec": {
   "display_name": "R [conda env:panfib]",
   "language": "R",
   "name": "conda-env-panfib-r"
  },
  "language_info": {
   "codemirror_mode": "r",
   "file_extension": ".r",
   "mimetype": "text/x-r-source",
   "name": "R",
   "pygments_lexer": "r",
   "version": "4.3.3"
  }
 },
 "nbformat": 4,
 "nbformat_minor": 5
}
