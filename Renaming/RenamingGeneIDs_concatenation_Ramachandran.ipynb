{
 "cells": [
  {
   "cell_type": "code",
   "execution_count": 1,
   "id": "9888d0d3-fa6e-45de-b364-54e3e65aa9ad",
   "metadata": {},
   "outputs": [
    {
     "name": "stderr",
     "output_type": "stream",
     "text": [
      "Loading required package: SeuratObject\n",
      "\n",
      "Loading required package: sp\n",
      "\n",
      "‘SeuratObject’ was built under R 4.3.2 but the current version is\n",
      "4.3.3; it is recomended that you reinstall ‘SeuratObject’ as the ABI\n",
      "for R may have changed\n",
      "\n",
      "‘SeuratObject’ was built with package ‘Matrix’ 1.6.3 but the current\n",
      "version is 1.6.5; it is recomended that you reinstall ‘SeuratObject’ as\n",
      "the ABI for ‘Matrix’ may have changed\n",
      "\n",
      "\n",
      "Attaching package: ‘SeuratObject’\n",
      "\n",
      "\n",
      "The following object is masked from ‘package:base’:\n",
      "\n",
      "    intersect\n",
      "\n",
      "\n"
     ]
    }
   ],
   "source": [
    "library(Seurat)\n",
    "library(openxlsx)\n",
    "library(readxl)\n",
    "library(Matrix)\n",
    "library(readr)"
   ]
  },
  {
   "cell_type": "code",
   "execution_count": 8,
   "id": "319aab79-66d8-4266-a72b-9d5566943d64",
   "metadata": {},
   "outputs": [],
   "source": [
    "#Need to find out if all duplicates are nonzeros\n",
    "#Rama\n",
    "setwd(\"/dh-projects/ag-conrad/analysis/saal11/panfib/Renaming/Rama\")\n",
    "#Upload matrices\n",
    "data_rama_matrix <- readMM(\"data_rama_matrix.mtx\")\n",
    "#Upload original gene list\n",
    "data_rama_genes <- read.delim(\"data_rama_genes.tsv\")\n",
    "data_rama_genes <- data_rama_genes$genes\n",
    "data_rama_cellIDs <- read.delim(\"data_rama_cellIDs.tsv\")\n",
    "rownames(data_rama_matrix) <- data_rama_genes\n",
    "colnames(data_rama_matrix) <- data_rama_cellIDs$cellIDs"
   ]
  },
  {
   "cell_type": "code",
   "execution_count": 11,
   "id": "03240de4-8f03-4d95-917e-c44ebe928098",
   "metadata": {},
   "outputs": [],
   "source": [
    "#Upload genes of interest (duplicates)\n",
    "data_rama_genes_dup <- read.xlsx(\"data_rama_geneIDs_duplicates_forcount.xlsx\")"
   ]
  },
  {
   "cell_type": "code",
   "execution_count": 14,
   "id": "7fa11adb-7c40-4bf5-9b3d-a6338dee9870",
   "metadata": {},
   "outputs": [],
   "source": [
    "#Find the zeros of these duplicates\n",
    "#Initialize an empty list to store the sums\n",
    "sums_list <- list()\n",
    "\n",
    "#Iterate over each gene in your list\n",
    "for (gene in data_rama_genes_dup$Old) {\n",
    "  #Subset the count matrix for the current gene and calculate the sum\n",
    "  gene_sum <- sum(data_rama_matrix[rownames(data_rama_matrix) == gene, ])\n",
    "  \n",
    "  #Add the sum to the sums_list with the gene name as the key\n",
    "  sums_list[[gene]] <- gene_sum\n",
    "}"
   ]
  },
  {
   "cell_type": "code",
   "execution_count": null,
   "id": "68b3ce45-194d-4cb1-886b-5c11ca7b1820",
   "metadata": {},
   "outputs": [],
   "source": [
    "sums_list"
   ]
  },
  {
   "cell_type": "code",
   "execution_count": 18,
   "id": "be112065-d144-49f2-9361-77b3fdebe910",
   "metadata": {},
   "outputs": [],
   "source": [
    "#Upload manually edited geneIDs\n",
    "data_rama_genes_manual <- read.xlsx(\"data_rama_geneIDs_int_removed_manualedit.xlsx\")\n",
    "rownames(data_rama_matrix) <- data_rama_genes_manual$New"
   ]
  },
  {
   "cell_type": "code",
   "execution_count": 19,
   "id": "8194db8f-5d4d-409b-b5b7-995c1ecba3b3",
   "metadata": {},
   "outputs": [
    {
     "name": "stdout",
     "output_type": "stream",
     "text": [
      "Duplicate gene IDs:\n",
      " [1] \"BTBD8\"        \"HNRNPU\"       \"TRAF3IP2-AS1\" \"S1PR3\"        \"LCOR\"        \n",
      " [6] \"MYO18A\"       \"SOCS4\"        \"IGFLR1\"       \"ROPN1L\"       \"ARHGAP42\"    \n",
      "[11] \"MIA2\"         \"MEG8\"         \"GCNT4\"        \"RRM2\"         \"MICAL2\"      \n",
      "[16] \"TMEM8B\"       \"LINC00632\"    \"NEBL\"         \"MEG8\"         \"ZFHX3\"       \n",
      "[21] \"TBC1D3B\"      \"DLGAP2\"       \"UBE2R2-AS1\"   \"CC2D2B\"       \"SIGLEC12\"    \n"
     ]
    }
   ],
   "source": [
    "#Check duplicates\n",
    "#Find sums of duplicate genes (from manual edit)\n",
    "duplicate_genes <- duplicated(rownames(data_rama_matrix))\n",
    "cat(\"Duplicate gene IDs:\\n\")\n",
    "print(rownames(data_rama_matrix)[duplicate_genes])\n",
    "duplicated <- rownames(data_rama_matrix)[duplicate_genes]"
   ]
  },
  {
   "cell_type": "code",
   "execution_count": null,
   "id": "5df4df16-464f-4319-934a-c364cc147dbb",
   "metadata": {},
   "outputs": [],
   "source": [
    "#Matches the decision list"
   ]
  },
  {
   "cell_type": "code",
   "execution_count": 21,
   "id": "2a4aaabe-e18a-4967-9445-153ab40d7cfe",
   "metadata": {},
   "outputs": [
    {
     "data": {
      "text/html": [
       "456"
      ],
      "text/latex": [
       "456"
      ],
      "text/markdown": [
       "456"
      ],
      "text/plain": [
       "[1] 456"
      ]
     },
     "metadata": {},
     "output_type": "display_data"
    }
   ],
   "source": [
    "#Filter zeros\n",
    "row_sums <- rowSums(data_rama_matrix)\n",
    "names_with_zeros <- names(row_sums[row_sums == 0])\n",
    "length(names_with_zeros)"
   ]
  },
  {
   "cell_type": "code",
   "execution_count": 23,
   "id": "aca35fc4-c8d6-4917-bb25-99d42a25be70",
   "metadata": {},
   "outputs": [],
   "source": [
    "filtered_data_rama_matrix <- data_rama_matrix[row_sums != 0, ]"
   ]
  },
  {
   "cell_type": "code",
   "execution_count": 24,
   "id": "08d6c582-bb08-467b-bdee-26cc74bacc02",
   "metadata": {},
   "outputs": [
    {
     "name": "stdout",
     "output_type": "stream",
     "text": [
      "Formal class 'dgTMatrix' [package \"Matrix\"] with 6 slots\n",
      "  ..@ i       : int [1:81916773] 78 99 103 183 188 198 222 224 225 226 ...\n",
      "  ..@ j       : int [1:81916773] 0 0 0 0 0 0 0 0 0 0 ...\n",
      "  ..@ Dim     : int [1:2] 23498 58358\n",
      "  ..@ Dimnames:List of 2\n",
      "  .. ..$ : chr [1:23498] \"FO538757.2\" \"AP006222.2\" \"RP4-669L17.10\" \"RP11-206L10.9\" ...\n",
      "  .. ..$ : chr [1:58358] \"Healthy1_Cd45+_AAACCTGCAGTATCTG\" \"Healthy1_Cd45+_AACTGGTTCATGGTCA\" \"Healthy1_Cd45+_AACTTTCCAGCTGTAT\" \"Healthy1_Cd45+_AAGGTTCCACATGACT\" ...\n",
      "  ..@ x       : num [1:81916773] 1 1 1 1 1 1 1 9 4 11 ...\n",
      "  ..@ factors : list()\n",
      "Formal class 'dgTMatrix' [package \"Matrix\"] with 6 slots\n",
      "  ..@ i       : int [1:81916773] 78 99 103 183 188 198 222 224 225 226 ...\n",
      "  ..@ j       : int [1:81916773] 0 0 0 0 0 0 0 0 0 0 ...\n",
      "  ..@ Dim     : int [1:2] 23042 58358\n",
      "  ..@ Dimnames:List of 2\n",
      "  .. ..$ : chr [1:23042] \"FO538757.2\" \"AP006222.2\" \"RP4-669L17.10\" \"RP11-206L10.9\" ...\n",
      "  .. ..$ : chr [1:58358] \"Healthy1_Cd45+_AAACCTGCAGTATCTG\" \"Healthy1_Cd45+_AACTGGTTCATGGTCA\" \"Healthy1_Cd45+_AACTTTCCAGCTGTAT\" \"Healthy1_Cd45+_AAGGTTCCACATGACT\" ...\n",
      "  ..@ x       : num [1:81916773] 1 1 1 1 1 1 1 9 4 11 ...\n",
      "  ..@ factors : list()\n"
     ]
    }
   ],
   "source": [
    "str(data_rama_matrix)\n",
    "str(filtered_data_rama_matrix)"
   ]
  },
  {
   "cell_type": "code",
   "execution_count": 25,
   "id": "f68d5cdd-ab38-41ba-8227-3aad50cdd058",
   "metadata": {},
   "outputs": [
    {
     "name": "stderr",
     "output_type": "stream",
     "text": [
      "'as(<dgTMatrix>, \"dgCMatrix\")' is deprecated.\n",
      "Use 'as(., \"CsparseMatrix\")' instead.\n",
      "See help(\"Deprecated\") and help(\"Matrix-deprecated\").\n",
      "\n"
     ]
    }
   ],
   "source": [
    "#Concatenating replicates\n",
    "filtered_data_rama_matrix <- as(filtered_data_rama_matrix, \"dgCMatrix\")"
   ]
  },
  {
   "cell_type": "code",
   "execution_count": 26,
   "id": "dc9e3002-908a-4519-baf3-60abc6387f8d",
   "metadata": {},
   "outputs": [],
   "source": [
    "gene_names <- rownames(filtered_data_rama_matrix)\n",
    "unique_gene_names <- unique(gene_names)\n",
    "gene_factors <- factor(gene_names, levels = unique_gene_names)"
   ]
  },
  {
   "cell_type": "code",
   "execution_count": 27,
   "id": "36524c02-c62b-4a9c-a22f-16353cabb406",
   "metadata": {},
   "outputs": [
    {
     "name": "stderr",
     "output_type": "stream",
     "text": [
      "Warning message in asMethod(object):\n",
      "“sparse->dense coercion: allocating vector of size 10.0 GiB”\n"
     ]
    }
   ],
   "source": [
    "aggregated_counts <- rowsum(as.matrix(filtered_data_rama_matrix), group = gene_factors)"
   ]
  },
  {
   "cell_type": "code",
   "execution_count": 28,
   "id": "d5bf5d44-4bb3-450b-ac8d-8537ccafbf48",
   "metadata": {},
   "outputs": [
    {
     "name": "stdout",
     "output_type": "stream",
     "text": [
      " num [1:23019, 1:58358] 0 0 0 0 0 0 0 0 0 0 ...\n",
      " - attr(*, \"dimnames\")=List of 2\n",
      "  ..$ : chr [1:23019] \"FO538757.2\" \"AP006222.2\" \"RP4-669L17.10\" \"RP11-206L10.9\" ...\n",
      "  ..$ : chr [1:58358] \"Healthy1_Cd45+_AAACCTGCAGTATCTG\" \"Healthy1_Cd45+_AACTGGTTCATGGTCA\" \"Healthy1_Cd45+_AACTTTCCAGCTGTAT\" \"Healthy1_Cd45+_AAGGTTCCACATGACT\" ...\n"
     ]
    }
   ],
   "source": [
    "str(aggregated_counts)\n",
    "#Number matches with the decision table"
   ]
  },
  {
   "cell_type": "code",
   "execution_count": 29,
   "id": "7bdc0a84-2287-4490-8791-89e1721d77af",
   "metadata": {},
   "outputs": [
    {
     "name": "stderr",
     "output_type": "stream",
     "text": [
      "\u001b[1m\u001b[22mNew names:\n",
      "\u001b[36m•\u001b[39m `` -> `...1`\n",
      "\u001b[36m•\u001b[39m `...1` -> `...2`\n",
      "\u001b[1mRows: \u001b[22m\u001b[34m58358\u001b[39m \u001b[1mColumns: \u001b[22m\u001b[34m18\u001b[39m\n",
      "\u001b[36m──\u001b[39m \u001b[1mColumn specification\u001b[22m \u001b[36m────────────────────────────────────────────────────────\u001b[39m\n",
      "\u001b[1mDelimiter:\u001b[22m \",\"\n",
      "\u001b[31mchr\u001b[39m (12): ...2, condition, aetiology, cells, lineage, subclass, study, tissu...\n",
      "\u001b[32mdbl\u001b[39m  (5): ...1, nCount_RNA, nFeature_RNA, percent.mt, age\n",
      "\u001b[33mlgl\u001b[39m  (1): smoking\n",
      "\n",
      "\u001b[36mℹ\u001b[39m Use `spec()` to retrieve the full column specification for this data.\n",
      "\u001b[36mℹ\u001b[39m Specify the column types or set `show_col_types = FALSE` to quiet this message.\n"
     ]
    }
   ],
   "source": [
    "#Creating a seurat object\n",
    "data_rama_metadata <- read_csv(\"data_rama_metadata_final.csv\")"
   ]
  },
  {
   "cell_type": "code",
   "execution_count": 30,
   "id": "242330ec-632e-4187-b7d6-56793e357c59",
   "metadata": {},
   "outputs": [],
   "source": [
    "data_rama_metadata <- as.data.frame(data_rama_metadata)"
   ]
  },
  {
   "cell_type": "code",
   "execution_count": 32,
   "id": "7fc0cb2a-6ade-41a7-a51e-41c0f9d766af",
   "metadata": {},
   "outputs": [],
   "source": [
    "rownames(data_rama_metadata) <- data_rama_metadata$`...2`"
   ]
  },
  {
   "cell_type": "code",
   "execution_count": 34,
   "id": "e28325c1-faab-49e7-b22a-f8b644022bf6",
   "metadata": {},
   "outputs": [],
   "source": [
    "data_rama_metadata$`...2` <- NULL\n",
    "data_rama_metadata$`...1` <- NULL"
   ]
  },
  {
   "cell_type": "code",
   "execution_count": 36,
   "id": "58c5261c-d934-4bdb-abf6-32600b6b5327",
   "metadata": {},
   "outputs": [
    {
     "name": "stderr",
     "output_type": "stream",
     "text": [
      "Warning message:\n",
      "“Data is of class matrix. Coercing to dgCMatrix.”\n"
     ]
    }
   ],
   "source": [
    "data_rama_seurat <- CreateSeuratObject(counts = aggregated_counts, meta.data = data_rama_metadata)"
   ]
  },
  {
   "cell_type": "code",
   "execution_count": 39,
   "id": "2533b8ec-13f8-466e-80c9-8cf0ebbc81ae",
   "metadata": {},
   "outputs": [],
   "source": [
    "save(data_rama_seurat, file = \"data_rama_seurat_final.RData\")"
   ]
  }
 ],
 "metadata": {
  "kernelspec": {
   "display_name": "R [conda env:panfib] *",
   "language": "R",
   "name": "conda-env-panfib-r"
  },
  "language_info": {
   "codemirror_mode": "r",
   "file_extension": ".r",
   "mimetype": "text/x-r-source",
   "name": "R",
   "pygments_lexer": "r",
   "version": "4.3.3"
  }
 },
 "nbformat": 4,
 "nbformat_minor": 5
}
