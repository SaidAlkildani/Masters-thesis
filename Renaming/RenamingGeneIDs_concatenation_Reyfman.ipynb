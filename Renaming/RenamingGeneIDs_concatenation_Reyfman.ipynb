{
 "cells": [
  {
   "cell_type": "code",
   "execution_count": null,
   "id": "99d6d28d-d312-4e32-a6cf-8c03d4c18c70",
   "metadata": {
    "vscode": {
     "languageId": "r"
    }
   },
   "outputs": [
    {
     "name": "stderr",
     "output_type": "stream",
     "text": [
      "Loading required package: SeuratObject\n",
      "\n",
      "Loading required package: sp\n",
      "\n",
      "‘SeuratObject’ was built under R 4.3.2 but the current version is\n",
      "4.3.3; it is recomended that you reinstall ‘SeuratObject’ as the ABI\n",
      "for R may have changed\n",
      "\n",
      "‘SeuratObject’ was built with package ‘Matrix’ 1.6.3 but the current\n",
      "version is 1.6.5; it is recomended that you reinstall ‘SeuratObject’ as\n",
      "the ABI for ‘Matrix’ may have changed\n",
      "\n",
      "\n",
      "Attaching package: ‘SeuratObject’\n",
      "\n",
      "\n",
      "The following object is masked from ‘package:base’:\n",
      "\n",
      "    intersect\n",
      "\n",
      "\n"
     ]
    }
   ],
   "source": [
    "library(Seurat)\n",
    "library(openxlsx)\n",
    "library(readxl)\n",
    "library(Matrix)\n",
    "library(readr)\n"
   ]
  },
  {
   "cell_type": "code",
   "execution_count": 13,
   "id": "c65b8cac-833d-42de-9b6d-1645d211f810",
   "metadata": {
    "vscode": {
     "languageId": "r"
    }
   },
   "outputs": [],
   "source": [
    "#Reyf\n",
    "setwd(\"/dh-projects/ag-conrad/analysis/saal11/panfib/Renaming/Reyf\")\n",
    "#Upload matrices\n",
    "#data_reyf_matrix <- readMM(\"data_reyf_matrix.mtx\")\n",
    "#Upload final gene list\n",
    "data_reyf_genes <- read.xlsx(\"data_reyf_geneIDs_int_removed_manualedit.xlsx\")\n",
    "data_reyf_genes <- data_reyf_genes$New\n",
    "data_reyf_cellIDs <- read.delim(\"data_reyf_cellIDs.tsv\")\n",
    "rownames(data_reyf_matrix) <- data_reyf_genes\n",
    "colnames(data_reyf_matrix) <- data_reyf_cellIDs$cellIDs"
   ]
  },
  {
   "cell_type": "code",
   "execution_count": null,
   "id": "5b01f894-16b0-49d1-8b4b-7c76c1363767",
   "metadata": {
    "vscode": {
     "languageId": "r"
    }
   },
   "outputs": [],
   "source": [
    "rownames(data_reyf_matrix)"
   ]
  },
  {
   "cell_type": "code",
   "execution_count": 14,
   "id": "6b3477c9-0541-4776-8bcd-5aede9dce74f",
   "metadata": {
    "scrolled": true,
    "vscode": {
     "languageId": "r"
    }
   },
   "outputs": [
    {
     "name": "stdout",
     "output_type": "stream",
     "text": [
      "Duplicate gene IDs:\n",
      " [1] \"BTBD8\"        \"HNRNPU\"       \"RRM2\"         \"MCM2\"         \"ROPN1L\"      \n",
      " [6] \"GCNT4\"        \"TRAF3IP2-AS1\" \"LINC00632\"    \"TMEM8B\"       \"S1PR3\"       \n",
      "[11] \"MICAL2\"       \"NEBL\"         \"LCOR\"         \"SUCLA2\"       \"MIA2\"        \n",
      "[16] \"MYO18A\"       \"IGFLR1\"       \"C10orf67\"     \"PLEKHG7\"      \"DLGAP2\"      \n",
      "[21] \"MEG8\"         \"MEG8\"        \n"
     ]
    }
   ],
   "source": [
    "#Find sums of duplicate genes (from manual edit)\n",
    "duplicate_genes <- duplicated(rownames(data_reyf_matrix))\n",
    "cat(\"Duplicate gene IDs:\\n\")\n",
    "print(rownames(data_reyf_matrix)[duplicate_genes])\n",
    "duplicated <- rownames(data_reyf_matrix)[duplicate_genes]"
   ]
  },
  {
   "cell_type": "code",
   "execution_count": 27,
   "id": "8a48cc21-eaa7-4ff0-b0c5-b53dc86d36da",
   "metadata": {
    "vscode": {
     "languageId": "r"
    }
   },
   "outputs": [],
   "source": [
    "#Find the zeros of these duplicates\n",
    "#Initialize an empty list to store the sums\n",
    "duplicate_genes <- read.xlsx(\"data_reyf_geneIDs_old_dup.xlsx\")\n",
    "sums_list <- list()\n",
    "\n",
    "#Iterate over each gene in your list\n",
    "for (gene in duplicated) {\n",
    "  #Subset the count matrix for the current gene and calculate the sum\n",
    "  gene_sum <- sum(data_reyf_matrix[rownames(data_reyf_matrix) == gene, ])\n",
    "  \n",
    "  #Add the sum to the sums_list with the gene name as the key\n",
    "  sums_list[[gene]] <- gene_sum\n",
    "}"
   ]
  },
  {
   "cell_type": "code",
   "execution_count": null,
   "id": "83a08159-e8da-428a-a4c2-daf5a37d5f64",
   "metadata": {
    "vscode": {
     "languageId": "r"
    }
   },
   "outputs": [],
   "source": [
    "sums_list"
   ]
  },
  {
   "cell_type": "code",
   "execution_count": 16,
   "id": "e0d8a4e4-7dc2-43d8-ba84-56dc7a57a525",
   "metadata": {
    "vscode": {
     "languageId": "r"
    }
   },
   "outputs": [
    {
     "data": {
      "text/html": [
       "<style>\n",
       ".list-inline {list-style: none; margin:0; padding: 0}\n",
       ".list-inline>li {display: inline-block}\n",
       ".list-inline>li:not(:last-child)::after {content: \"\\00b7\"; padding: 0 .5ex}\n",
       "</style>\n",
       "<ol class=list-inline><li>'SCGN'</li><li>'RBMXL2'</li><li>'DELEC1'</li><li>'TCERG1L'</li></ol>\n"
      ],
      "text/latex": [
       "\\begin{enumerate*}\n",
       "\\item 'SCGN'\n",
       "\\item 'RBMXL2'\n",
       "\\item 'DELEC1'\n",
       "\\item 'TCERG1L'\n",
       "\\end{enumerate*}\n"
      ],
      "text/markdown": [
       "1. 'SCGN'\n",
       "2. 'RBMXL2'\n",
       "3. 'DELEC1'\n",
       "4. 'TCERG1L'\n",
       "\n",
       "\n"
      ],
      "text/plain": [
       "[1] \"SCGN\"    \"RBMXL2\"  \"DELEC1\"  \"TCERG1L\""
      ]
     },
     "metadata": {},
     "output_type": "display_data"
    }
   ],
   "source": [
    "#Filter zeros\n",
    "row_sums <- rowSums(data_reyf_matrix)\n",
    "names_with_zeros <- names(row_sums[row_sums == 0])\n",
    "names_with_zeros"
   ]
  },
  {
   "cell_type": "code",
   "execution_count": 17,
   "id": "79c7137f-20a8-466d-b7ae-c3b3e440cb01",
   "metadata": {
    "vscode": {
     "languageId": "r"
    }
   },
   "outputs": [],
   "source": [
    "filtered_data_reyf_matrix <- data_reyf_matrix[row_sums != 0, ]"
   ]
  },
  {
   "cell_type": "code",
   "execution_count": 18,
   "id": "e0f4290f-3ed3-4024-9bc0-c486523ddd63",
   "metadata": {
    "vscode": {
     "languageId": "r"
    }
   },
   "outputs": [
    {
     "name": "stderr",
     "output_type": "stream",
     "text": [
      "'as(<dgTMatrix>, \"dgCMatrix\")' is deprecated.\n",
      "Use 'as(., \"CsparseMatrix\")' instead.\n",
      "See help(\"Deprecated\") and help(\"Matrix-deprecated\").\n",
      "\n"
     ]
    }
   ],
   "source": [
    "#Concatenating replicates\n",
    "filtered_data_reyf_matrix <- as(filtered_data_reyf_matrix, \"dgCMatrix\")"
   ]
  },
  {
   "cell_type": "code",
   "execution_count": 19,
   "id": "462af3b1-72ba-424f-96a8-6571c65b5f2b",
   "metadata": {
    "vscode": {
     "languageId": "r"
    }
   },
   "outputs": [],
   "source": [
    "gene_names <- rownames(filtered_data_reyf_matrix)\n",
    "unique_gene_names <- unique(gene_names)\n",
    "gene_factors <- factor(gene_names, levels = unique_gene_names)"
   ]
  },
  {
   "cell_type": "code",
   "execution_count": 20,
   "id": "934936c1-82af-4736-85c3-0f5796c3e313",
   "metadata": {
    "vscode": {
     "languageId": "r"
    }
   },
   "outputs": [
    {
     "name": "stderr",
     "output_type": "stream",
     "text": [
      "Warning message in asMethod(object):\n",
      "“sparse->dense coercion: allocating vector of size 9.9 GiB”\n"
     ]
    }
   ],
   "source": [
    "aggregated_counts <- rowsum(as.matrix(filtered_data_reyf_matrix), group = gene_factors)"
   ]
  },
  {
   "cell_type": "code",
   "execution_count": 21,
   "id": "7ae7158b-c666-40aa-9da6-48724c571bcb",
   "metadata": {
    "vscode": {
     "languageId": "r"
    }
   },
   "outputs": [
    {
     "name": "stdout",
     "output_type": "stream",
     "text": [
      " num [1:22901, 1:57695] 0 0 0 0 0 0 0 0 1 0 ...\n",
      " - attr(*, \"dimnames\")=List of 2\n",
      "  ..$ : chr [1:22901] \"RP11-34P13.7\" \"FO538757.2\" \"AP006222.2\" \"RP4-669L17.10\" ...\n",
      "  ..$ : NULL\n"
     ]
    }
   ],
   "source": [
    "str(aggregated_counts)"
   ]
  },
  {
   "cell_type": "code",
   "execution_count": 22,
   "id": "a1a97288-757b-4708-afa7-f0fe736d4e3d",
   "metadata": {
    "vscode": {
     "languageId": "r"
    }
   },
   "outputs": [
    {
     "name": "stdout",
     "output_type": "stream",
     "text": [
      "Formal class 'dgCMatrix' [package \"Matrix\"] with 6 slots\n",
      "  ..@ i       : int [1:103111994] 8 36 38 53 56 59 66 67 69 74 ...\n",
      "  ..@ p       : int [1:57696] 0 2034 6192 8394 10689 11989 14804 18093 19909 21944 ...\n",
      "  ..@ Dim     : int [1:2] 22923 57695\n",
      "  ..@ Dimnames:List of 2\n",
      "  .. ..$ : chr [1:22923] \"RP11-34P13.7\" \"FO538757.2\" \"AP006222.2\" \"RP4-669L17.10\" ...\n",
      "  .. ..$ : NULL\n",
      "  ..@ x       : num [1:103111994] 1 2 1 1 3 1 2 1 1 1 ...\n",
      "  ..@ factors : list()\n"
     ]
    }
   ],
   "source": [
    "str(filtered_data_reyf_matrix)"
   ]
  },
  {
   "cell_type": "code",
   "execution_count": null,
   "id": "b9018b28-7831-4dd6-9711-232dc93893a4",
   "metadata": {
    "vscode": {
     "languageId": "r"
    }
   },
   "outputs": [],
   "source": [
    "#Dimensions make sense?\n",
    "#Yes the difference matches the number of duplicates"
   ]
  },
  {
   "cell_type": "code",
   "execution_count": 24,
   "id": "674ec3de-5109-4d1b-8788-db5df67a325b",
   "metadata": {
    "vscode": {
     "languageId": "r"
    }
   },
   "outputs": [
    {
     "name": "stderr",
     "output_type": "stream",
     "text": [
      "\u001b[1m\u001b[22mNew names:\n",
      "\u001b[36m•\u001b[39m `` -> `...1`\n",
      "\u001b[1mRows: \u001b[22m\u001b[34m57695\u001b[39m \u001b[1mColumns: \u001b[22m\u001b[34m17\u001b[39m\n",
      "\u001b[36m──\u001b[39m \u001b[1mColumn specification\u001b[22m \u001b[36m────────────────────────────────────────────────────────\u001b[39m\n",
      "\u001b[1mDelimiter:\u001b[22m \",\"\n",
      "\u001b[31mchr\u001b[39m (11): ...1, lineage, condition, study, tissue, primary_or_cultured, cell...\n",
      "\u001b[32mdbl\u001b[39m  (4): nCount_RNA, nFeature_RNA, percent.mt, age\n",
      "\u001b[33mlgl\u001b[39m  (2): subclass, aetiology\n",
      "\n",
      "\u001b[36mℹ\u001b[39m Use `spec()` to retrieve the full column specification for this data.\n",
      "\u001b[36mℹ\u001b[39m Specify the column types or set `show_col_types = FALSE` to quiet this message.\n"
     ]
    }
   ],
   "source": [
    "#Creating a seurat object\n",
    "data_reyf_metadata <- read_csv(\"data_reyf_metadata_final.csv\")"
   ]
  },
  {
   "cell_type": "code",
   "execution_count": 27,
   "id": "48c543d1-52ff-4c8d-bc39-cdc558af3622",
   "metadata": {
    "vscode": {
     "languageId": "r"
    }
   },
   "outputs": [],
   "source": [
    "data_reyf_metadata <- as.data.frame(data_reyf_metadata)"
   ]
  },
  {
   "cell_type": "code",
   "execution_count": 29,
   "id": "a9b9f375-d9e3-4e2e-967e-dc40764545d2",
   "metadata": {
    "vscode": {
     "languageId": "r"
    }
   },
   "outputs": [],
   "source": [
    "rownames(data_reyf_metadata) <- data_reyf_metadata$`...1`"
   ]
  },
  {
   "cell_type": "code",
   "execution_count": 30,
   "id": "bc37dd9d-93ed-42a5-beb5-fa9897b0b410",
   "metadata": {
    "vscode": {
     "languageId": "r"
    }
   },
   "outputs": [],
   "source": [
    "data_reyf_metadata$`...1` <- NULL"
   ]
  },
  {
   "cell_type": "code",
   "execution_count": 33,
   "id": "13782dbb-9053-44c3-9be9-47852b9265bf",
   "metadata": {
    "vscode": {
     "languageId": "r"
    }
   },
   "outputs": [
    {
     "name": "stderr",
     "output_type": "stream",
     "text": [
      "Warning message:\n",
      "“Data is of class matrix. Coercing to dgCMatrix.”\n"
     ]
    }
   ],
   "source": [
    "data_reyf_seurat <- CreateSeuratObject(counts = aggregated_counts, meta.data = data_reyf_metadata)"
   ]
  },
  {
   "cell_type": "code",
   "execution_count": 35,
   "id": "3cb542f1-9c47-4bc6-9705-f79048536865",
   "metadata": {
    "vscode": {
     "languageId": "r"
    }
   },
   "outputs": [],
   "source": [
    "save(data_reyf_seurat, file = \"data_reyf_seurat_final.RData\")"
   ]
  }
 ],
 "metadata": {
  "kernelspec": {
   "display_name": "R [conda env:panfib] *",
   "language": "R",
   "name": "conda-env-panfib-r"
  },
  "language_info": {
   "codemirror_mode": "r",
   "file_extension": ".r",
   "mimetype": "text/x-r-source",
   "name": "R",
   "pygments_lexer": "r",
   "version": "4.3.3"
  }
 },
 "nbformat": 4,
 "nbformat_minor": 5
}
