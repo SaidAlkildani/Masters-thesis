{
 "cells": [
  {
   "cell_type": "code",
   "execution_count": null,
   "id": "1d9f94f6-2c14-49f5-9dd6-a3fa9a604a1a",
   "metadata": {
    "vscode": {
     "languageId": "r"
    }
   },
   "outputs": [],
   "source": [
    "library(Seurat)\n",
    "library(openxlsx)\n",
    "library(readxl)\n",
    "library(Matrix)\n",
    "library(readr)\n"
   ]
  },
  {
   "cell_type": "code",
   "execution_count": 3,
   "id": "f6170a78-ba97-46fe-81ce-62f74c91b2a9",
   "metadata": {
    "vscode": {
     "languageId": "r"
    }
   },
   "outputs": [],
   "source": [
    "#Need to find out if all duplicates are nonzeros\n",
    "#Tostipanc\n",
    "setwd(\"/dh-projects/ag-conrad/analysis/saal11/panfib/Renaming/ESPACE\")\n",
    "#Upload matrices\n",
    "data_espace_matrix <- readMM(\"data_espace_matrix.mtx\")\n",
    "#Upload original gene list\n",
    "data_espace_genes <- read.delim(\"data_espace_genes.tsv\")\n",
    "data_espace_genes <- data_espace_genes$genes\n",
    "data_espace_cellIDs <- read.delim(\"data_espace_cellIDs.tsv\")\n",
    "rownames(data_espace_matrix) <- data_espace_genes\n",
    "colnames(data_espace_matrix) <- data_espace_cellIDs$cellIDs"
   ]
  },
  {
   "cell_type": "code",
   "execution_count": 23,
   "id": "db9adb11-4f4e-46a0-b104-0266ae40908d",
   "metadata": {
    "vscode": {
     "languageId": "r"
    }
   },
   "outputs": [],
   "source": [
    "#Upload list of duplicates\n",
    "data_espace_genes_dup <- read.xlsx(\"data_espace_geneIDs_duplicates_forsum.xlsx\")"
   ]
  },
  {
   "cell_type": "code",
   "execution_count": 24,
   "id": "37118033-ab69-44f3-9295-21e759aae9be",
   "metadata": {
    "vscode": {
     "languageId": "r"
    }
   },
   "outputs": [],
   "source": [
    "library(future)\n",
    "plan(\"multicore\", workers = 6)"
   ]
  },
  {
   "cell_type": "code",
   "execution_count": 26,
   "id": "b4ae7f95-4117-451e-8d5a-1ddaef5cbf56",
   "metadata": {
    "vscode": {
     "languageId": "r"
    }
   },
   "outputs": [],
   "source": [
    "# Initialize an empty list to store the sums\n",
    "sums_list <- list()\n",
    "\n",
    "# Iterate over each gene in your list\n",
    "for (gene in data_espace_genes_dup$Old) {\n",
    "  # Subset the count matrix for the current gene and calculate the sum\n",
    "  gene_sum <- sum(data_espace_matrix[rownames(data_espace_matrix) == gene, ])\n",
    "  \n",
    "  # Add the sum to the sums_list with the gene name as the key\n",
    "  sums_list[[gene]] <- gene_sum\n",
    "}"
   ]
  },
  {
   "cell_type": "code",
   "execution_count": null,
   "id": "c255c85b-241b-45fa-874f-635abb8a8fea",
   "metadata": {
    "vscode": {
     "languageId": "r"
    }
   },
   "outputs": [],
   "source": [
    "sums_list"
   ]
  },
  {
   "cell_type": "code",
   "execution_count": 28,
   "id": "dfeb3363-1d1a-4bd1-a92a-a6ff1aa3b855",
   "metadata": {
    "vscode": {
     "languageId": "r"
    }
   },
   "outputs": [],
   "source": [
    "#Upload manually editted list\n",
    "data_espace_genes <- read.xlsx(\"data_espace_geneIDs_int_removed_manualedit.xlsx\")"
   ]
  },
  {
   "cell_type": "code",
   "execution_count": 29,
   "id": "5af18657-5694-43ca-92de-fab6bc5c8dba",
   "metadata": {
    "vscode": {
     "languageId": "r"
    }
   },
   "outputs": [],
   "source": [
    "#Plug new genes to the matrix\n",
    "rownames(data_espace_matrix) <- data_espace_genes$New"
   ]
  },
  {
   "cell_type": "code",
   "execution_count": 31,
   "id": "378141cf-28ba-4df0-8329-67593ea32bc0",
   "metadata": {
    "vscode": {
     "languageId": "r"
    }
   },
   "outputs": [
    {
     "data": {
      "text/html": [
       "4286"
      ],
      "text/latex": [
       "4286"
      ],
      "text/markdown": [
       "4286"
      ],
      "text/plain": [
       "[1] 4286"
      ]
     },
     "metadata": {},
     "output_type": "display_data"
    }
   ],
   "source": [
    "#Remove zeros\n",
    "row_sums <- rowSums(data_espace_matrix)\n",
    "names_with_zeros <- names(row_sums[row_sums == 0])\n",
    "length(names_with_zeros)"
   ]
  },
  {
   "cell_type": "code",
   "execution_count": 32,
   "id": "c076c80d-65e1-434f-8c09-1c98a18c20a0",
   "metadata": {
    "vscode": {
     "languageId": "r"
    }
   },
   "outputs": [],
   "source": [
    "filtered_data_espace_matrix <- data_espace_matrix[row_sums != 0, ]"
   ]
  },
  {
   "cell_type": "code",
   "execution_count": 33,
   "id": "03ffb8dd-703c-4aa4-b261-4f9c5b2aec49",
   "metadata": {
    "vscode": {
     "languageId": "r"
    }
   },
   "outputs": [
    {
     "name": "stdout",
     "output_type": "stream",
     "text": [
      "Duplicate gene IDs:\n",
      " [1] \"GPR89B\"     \"LYPLAL1-DT\" \"LINC02814\"  \"LINC01819\"  \"LINC01291\" \n",
      " [6] \"MCM2\"       \"SLC4A4\"     \"CCNA2\"      \"ROPN1L\"     \"LY6G6F\"    \n",
      "[11] \"KHDRBS2\"    \"GJA9\"       \"UBE2R2-AS1\" \"KRT6A\"      \"TBC1D3B\"   \n",
      "[16] \"SOCS4\"      \"TMC6\"       \"IGFLR1\"     \"PSG9\"       \"KLKB1\"     \n",
      "[21] \"SIGLEC12\"   \"MMRN2\"     \n"
     ]
    }
   ],
   "source": [
    "#Check for duplicates. Do they match the genes to be concatenated?\n",
    "duplicate_genes <- duplicated(rownames(filtered_data_espace_matrix))\n",
    "cat(\"Duplicate gene IDs:\\n\")\n",
    "print(rownames(filtered_data_espace_matrix)[duplicate_genes])\n",
    "duplicated <- rownames(filtered_data_espace_matrix)[duplicate_genes]\n"
   ]
  },
  {
   "cell_type": "code",
   "execution_count": 34,
   "id": "4bcbfbea-edf9-4141-82f2-c8acfd79c8e9",
   "metadata": {
    "vscode": {
     "languageId": "r"
    }
   },
   "outputs": [
    {
     "name": "stderr",
     "output_type": "stream",
     "text": [
      "'as(<dgTMatrix>, \"dgCMatrix\")' is deprecated.\n",
      "Use 'as(., \"CsparseMatrix\")' instead.\n",
      "See help(\"Deprecated\") and help(\"Matrix-deprecated\").\n",
      "\n"
     ]
    }
   ],
   "source": [
    "#Concatenating replicates\n",
    "filtered_data_espace_matrix <- as(filtered_data_espace_matrix, \"dgCMatrix\")"
   ]
  },
  {
   "cell_type": "code",
   "execution_count": 35,
   "id": "54489e76-223f-4e8a-919d-56a0b9b0bfb5",
   "metadata": {
    "vscode": {
     "languageId": "r"
    }
   },
   "outputs": [],
   "source": [
    "gene_names <- rownames(filtered_data_espace_matrix)\n",
    "unique_gene_names <- unique(gene_names)\n",
    "gene_factors <- factor(gene_names, levels = unique_gene_names)"
   ]
  },
  {
   "cell_type": "code",
   "execution_count": 36,
   "id": "b5f41959-c32a-4853-ae79-58b0269161e4",
   "metadata": {
    "vscode": {
     "languageId": "r"
    }
   },
   "outputs": [
    {
     "name": "stderr",
     "output_type": "stream",
     "text": [
      "Warning message in asMethod(object):\n",
      "“sparse->dense coercion: allocating vector of size 46.2 GiB”\n"
     ]
    }
   ],
   "source": [
    "aggregated_counts <- rowsum(as.matrix(filtered_data_espace_matrix), group = gene_factors)"
   ]
  },
  {
   "cell_type": "code",
   "execution_count": 38,
   "id": "f03cf109-226d-4cda-86e0-5e2fb37417df",
   "metadata": {
    "vscode": {
     "languageId": "r"
    }
   },
   "outputs": [
    {
     "name": "stdout",
     "output_type": "stream",
     "text": [
      "Formal class 'dgCMatrix' [package \"Matrix\"] with 6 slots\n",
      "  ..@ i       : int [1:329759993] 9 77 90 119 128 130 171 183 187 195 ...\n",
      "  ..@ p       : int [1:191695] 0 2958 5056 7444 9958 12171 14567 16920 19188 21394 ...\n",
      "  ..@ Dim     : int [1:2] 32315 191694\n",
      "  ..@ Dimnames:List of 2\n",
      "  .. ..$ : chr [1:32315] \"MIR1302-2HG\" \"AL627309.1\" \"AL627309.2\" \"AL627309.5\" ...\n",
      "  .. ..$ : chr [1:191694] \"APSE-control-pancreas-01-a_ATACCTTTCGTGCACG-1\" \"APSE-control-pancreas-01-a_CTCCCTCTCGCCCAGA-1\" \"APSE-control-pancreas-01-a_CAATACGTCCACTGGG-1\" \"APSE-control-pancreas-01-a_AGGGCCTTCTTTGCTA-1\" ...\n",
      "  ..@ x       : num [1:329759993] 1 3 1 2 1 2 1 1 1 5 ...\n",
      "  ..@ factors : list()\n",
      " num [1:32293, 1:191694] 0 0 0 0 0 0 0 0 0 1 ...\n",
      " - attr(*, \"dimnames\")=List of 2\n",
      "  ..$ : chr [1:32293] \"MIR1302-2HG\" \"AL627309.1\" \"AL627309.2\" \"AL627309.5\" ...\n",
      "  ..$ : chr [1:191694] \"APSE-control-pancreas-01-a_ATACCTTTCGTGCACG-1\" \"APSE-control-pancreas-01-a_CTCCCTCTCGCCCAGA-1\" \"APSE-control-pancreas-01-a_CAATACGTCCACTGGG-1\" \"APSE-control-pancreas-01-a_AGGGCCTTCTTTGCTA-1\" ...\n"
     ]
    }
   ],
   "source": [
    "str(filtered_data_espace_matrix)\n",
    "str(aggregated_counts)"
   ]
  },
  {
   "cell_type": "code",
   "execution_count": 39,
   "id": "3f5b7662-f2ac-43ac-933e-6b39a1d5d506",
   "metadata": {
    "vscode": {
     "languageId": "r"
    }
   },
   "outputs": [
    {
     "name": "stderr",
     "output_type": "stream",
     "text": [
      "\u001b[1m\u001b[22mNew names:\n",
      "\u001b[36m•\u001b[39m `` -> `...1`\n",
      "\u001b[36m•\u001b[39m `...1` -> `...2`\n",
      "\u001b[1mRows: \u001b[22m\u001b[34m191694\u001b[39m \u001b[1mColumns: \u001b[22m\u001b[34m20\u001b[39m\n",
      "\u001b[36m──\u001b[39m \u001b[1mColumn specification\u001b[22m \u001b[36m────────────────────────────────────────────────────────\u001b[39m\n",
      "\u001b[1mDelimiter:\u001b[22m \",\"\n",
      "\u001b[31mchr\u001b[39m (15): ...2, sex, condition, subclass, aetiology, location, study, test, ...\n",
      "\u001b[32mdbl\u001b[39m  (5): ...1, nCount_RNA, nFeature_RNA, age, percent.mt\n",
      "\n",
      "\u001b[36mℹ\u001b[39m Use `spec()` to retrieve the full column specification for this data.\n",
      "\u001b[36mℹ\u001b[39m Specify the column types or set `show_col_types = FALSE` to quiet this message.\n"
     ]
    }
   ],
   "source": [
    "#Creating a seurat object\n",
    "#Load metadata and dim reductions\n",
    "data_espace_metadata <- read_csv(\"data_espace_metadata_final.csv\")"
   ]
  },
  {
   "cell_type": "code",
   "execution_count": 40,
   "id": "20e89f50-45f1-4813-a9dc-6f64da125c9d",
   "metadata": {
    "vscode": {
     "languageId": "r"
    }
   },
   "outputs": [],
   "source": [
    "data_espace_metadata <- as.data.frame(data_espace_metadata)"
   ]
  },
  {
   "cell_type": "code",
   "execution_count": 42,
   "id": "295ada75-7951-4624-ac96-34a2ea56f0af",
   "metadata": {
    "vscode": {
     "languageId": "r"
    }
   },
   "outputs": [],
   "source": [
    "rownames(data_espace_metadata) <- data_espace_metadata$`...2`"
   ]
  },
  {
   "cell_type": "code",
   "execution_count": 43,
   "id": "9a55b82d-fc07-4389-813d-522f864bbf82",
   "metadata": {
    "vscode": {
     "languageId": "r"
    }
   },
   "outputs": [],
   "source": [
    "data_espace_metadata$`...2` <- NULL\n",
    "data_espace_metadata$`...1` <- NULL"
   ]
  },
  {
   "cell_type": "code",
   "execution_count": 46,
   "id": "9ad74e0e-2797-4d4a-9a05-85aea09d2336",
   "metadata": {
    "vscode": {
     "languageId": "r"
    }
   },
   "outputs": [],
   "source": [
    "data_espace_metadata$test <- NULL"
   ]
  },
  {
   "cell_type": "code",
   "execution_count": 47,
   "id": "c5599167-323a-4686-88fe-da785735d22e",
   "metadata": {
    "vscode": {
     "languageId": "r"
    }
   },
   "outputs": [
    {
     "data": {
      "text/html": [
       "<table class=\"dataframe\">\n",
       "<caption>A data.frame: 191694 × 17</caption>\n",
       "<thead>\n",
       "\t<tr><th></th><th scope=col>nCount_RNA</th><th scope=col>nFeature_RNA</th><th scope=col>age</th><th scope=col>sex</th><th scope=col>condition</th><th scope=col>subclass</th><th scope=col>aetiology</th><th scope=col>percent.mt</th><th scope=col>location</th><th scope=col>study</th><th scope=col>cells</th><th scope=col>lineage</th><th scope=col>patientID</th><th scope=col>fileID</th><th scope=col>tissue</th><th scope=col>primary_or_cultured</th><th scope=col>cells_or_nuclei</th></tr>\n",
       "\t<tr><th></th><th scope=col>&lt;dbl&gt;</th><th scope=col>&lt;dbl&gt;</th><th scope=col>&lt;dbl&gt;</th><th scope=col>&lt;chr&gt;</th><th scope=col>&lt;chr&gt;</th><th scope=col>&lt;chr&gt;</th><th scope=col>&lt;chr&gt;</th><th scope=col>&lt;dbl&gt;</th><th scope=col>&lt;chr&gt;</th><th scope=col>&lt;chr&gt;</th><th scope=col>&lt;chr&gt;</th><th scope=col>&lt;chr&gt;</th><th scope=col>&lt;chr&gt;</th><th scope=col>&lt;chr&gt;</th><th scope=col>&lt;chr&gt;</th><th scope=col>&lt;chr&gt;</th><th scope=col>&lt;chr&gt;</th></tr>\n",
       "</thead>\n",
       "<tbody>\n",
       "\t<tr><th scope=row>APSE-control-pancreas-01-a_ATACCTTTCGTGCACG-1</th><td>6826</td><td>2958</td><td>53</td><td>F</td><td>fibrotic-panc</td><td>Endothel_venous   </td><td>fibrosis</td><td>0.003808966</td><td>head_PPI</td><td>Liebig</td><td>Endothelial cells</td><td>Mesen</td><td>APSE</td><td>APSE-control-pancreas-01-a</td><td>pancreas</td><td>primary</td><td>nuclei</td></tr>\n",
       "\t<tr><th scope=row>APSE-control-pancreas-01-a_CTCCCTCTCGCCCAGA-1</th><td>5712</td><td>2098</td><td>53</td><td>F</td><td>fibrotic-panc</td><td>Endothel_venous   </td><td>fibrosis</td><td>0.004201681</td><td>head_PPI</td><td>Liebig</td><td>Endothelial cells</td><td>Mesen</td><td>APSE</td><td>APSE-control-pancreas-01-a</td><td>pancreas</td><td>primary</td><td>nuclei</td></tr>\n",
       "\t<tr><th scope=row>APSE-control-pancreas-01-a_CAATACGTCCACTGGG-1</th><td>5540</td><td>2388</td><td>53</td><td>F</td><td>fibrotic-panc</td><td>Endothel_lymphatic</td><td>fibrosis</td><td>0.006859206</td><td>head_PPI</td><td>Liebig</td><td>Endothelial cells</td><td>Mesen</td><td>APSE</td><td>APSE-control-pancreas-01-a</td><td>pancreas</td><td>primary</td><td>nuclei</td></tr>\n",
       "\t<tr><th scope=row>APSE-control-pancreas-01-a_AGGGCCTTCTTTGCTA-1</th><td>5392</td><td>2514</td><td>53</td><td>F</td><td>fibrotic-panc</td><td>Endothel_venous   </td><td>fibrosis</td><td>0.007418398</td><td>head_PPI</td><td>Liebig</td><td>Endothelial cells</td><td>Mesen</td><td>APSE</td><td>APSE-control-pancreas-01-a</td><td>pancreas</td><td>primary</td><td>nuclei</td></tr>\n",
       "\t<tr><th scope=row>APSE-control-pancreas-01-a_TTACTGTTCCAAGCTA-1</th><td>5290</td><td>2213</td><td>53</td><td>F</td><td>fibrotic-panc</td><td>Endothel_lymphatic</td><td>fibrosis</td><td>0.005671078</td><td>head_PPI</td><td>Liebig</td><td>Endothelial cells</td><td>Mesen</td><td>APSE</td><td>APSE-control-pancreas-01-a</td><td>pancreas</td><td>primary</td><td>nuclei</td></tr>\n",
       "\t<tr><th scope=row>APSE-control-pancreas-01-a_TGCGATACAGTTGTCA-1</th><td>5081</td><td>2396</td><td>53</td><td>F</td><td>fibrotic-panc</td><td>Endothel_lymphatic</td><td>fibrosis</td><td>0.003936233</td><td>head_PPI</td><td>Liebig</td><td>Endothelial cells</td><td>Mesen</td><td>APSE</td><td>APSE-control-pancreas-01-a</td><td>pancreas</td><td>primary</td><td>nuclei</td></tr>\n",
       "\t<tr><th scope=row>APSE-control-pancreas-01-a_CTGGTCTGTCTTGGTA-1</th><td>5063</td><td>2353</td><td>53</td><td>F</td><td>fibrotic-panc</td><td>Endothel_arterial </td><td>fibrosis</td><td>0.002765159</td><td>head_PPI</td><td>Liebig</td><td>Endothelial cells</td><td>Mesen</td><td>APSE</td><td>APSE-control-pancreas-01-a</td><td>pancreas</td><td>primary</td><td>nuclei</td></tr>\n",
       "\t<tr><th scope=row>APSE-control-pancreas-01-a_CGAGTTATCGCCACTT-1</th><td>5000</td><td>2268</td><td>53</td><td>F</td><td>fibrotic-panc</td><td>Endothel_lymphatic</td><td>fibrosis</td><td>0.003800000</td><td>head_PPI</td><td>Liebig</td><td>Endothelial cells</td><td>Mesen</td><td>APSE</td><td>APSE-control-pancreas-01-a</td><td>pancreas</td><td>primary</td><td>nuclei</td></tr>\n",
       "\t<tr><th scope=row>APSE-control-pancreas-01-a_GGACGTCTCCTTCGAC-1</th><td>4919</td><td>2206</td><td>53</td><td>F</td><td>fibrotic-panc</td><td>Endothel_lymphatic</td><td>fibrosis</td><td>0.005082334</td><td>head_PPI</td><td>Liebig</td><td>Endothelial cells</td><td>Mesen</td><td>APSE</td><td>APSE-control-pancreas-01-a</td><td>pancreas</td><td>primary</td><td>nuclei</td></tr>\n",
       "\t<tr><th scope=row>APSE-control-pancreas-01-a_GATCACATCCGTCACT-1</th><td>4819</td><td>2324</td><td>53</td><td>F</td><td>fibrotic-panc</td><td>Blood_vessel      </td><td>fibrosis</td><td>0.004772774</td><td>head_PPI</td><td>Liebig</td><td>Endothelial cells</td><td>Mesen</td><td>APSE</td><td>APSE-control-pancreas-01-a</td><td>pancreas</td><td>primary</td><td>nuclei</td></tr>\n",
       "\t<tr><th scope=row>APSE-control-pancreas-01-a_TCTGGCTTCTGCGGAC-1</th><td>4790</td><td>2214</td><td>53</td><td>F</td><td>fibrotic-panc</td><td>Endothel_lymphatic</td><td>fibrosis</td><td>0.003549061</td><td>head_PPI</td><td>Liebig</td><td>Endothelial cells</td><td>Mesen</td><td>APSE</td><td>APSE-control-pancreas-01-a</td><td>pancreas</td><td>primary</td><td>nuclei</td></tr>\n",
       "\t<tr><th scope=row>APSE-control-pancreas-01-a_GCAACATAGAAACACT-1</th><td>4771</td><td>2218</td><td>53</td><td>F</td><td>fibrotic-panc</td><td>Endothel_venous   </td><td>fibrosis</td><td>0.003772794</td><td>head_PPI</td><td>Liebig</td><td>Endothelial cells</td><td>Mesen</td><td>APSE</td><td>APSE-control-pancreas-01-a</td><td>pancreas</td><td>primary</td><td>nuclei</td></tr>\n",
       "\t<tr><th scope=row>APSE-control-pancreas-01-a_TACGGGCCATCCAACA-1</th><td>4650</td><td>2271</td><td>53</td><td>F</td><td>fibrotic-panc</td><td>Endothel_venous   </td><td>fibrosis</td><td>0.004516129</td><td>head_PPI</td><td>Liebig</td><td>Endothelial cells</td><td>Mesen</td><td>APSE</td><td>APSE-control-pancreas-01-a</td><td>pancreas</td><td>primary</td><td>nuclei</td></tr>\n",
       "\t<tr><th scope=row>APSE-control-pancreas-01-a_CGATGGCAGTACGAGC-1</th><td>4463</td><td>2111</td><td>53</td><td>F</td><td>fibrotic-panc</td><td>Endothel_lymphatic</td><td>fibrosis</td><td>0.004705355</td><td>head_PPI</td><td>Liebig</td><td>Endothelial cells</td><td>Mesen</td><td>APSE</td><td>APSE-control-pancreas-01-a</td><td>pancreas</td><td>primary</td><td>nuclei</td></tr>\n",
       "\t<tr><th scope=row>APSE-control-pancreas-01-a_GGCGTCAGTCATCGCG-1</th><td>4453</td><td>2403</td><td>53</td><td>F</td><td>fibrotic-panc</td><td>Endothel_lymphatic</td><td>fibrosis</td><td>0.003817651</td><td>head_PPI</td><td>Liebig</td><td>Endothelial cells</td><td>Mesen</td><td>APSE</td><td>APSE-control-pancreas-01-a</td><td>pancreas</td><td>primary</td><td>nuclei</td></tr>\n",
       "\t<tr><th scope=row>APSE-control-pancreas-01-a_CGCAGGTGTACTGAGG-1</th><td>4426</td><td>1945</td><td>53</td><td>F</td><td>fibrotic-panc</td><td>Endothel_lymphatic</td><td>fibrosis</td><td>0.002937189</td><td>head_PPI</td><td>Liebig</td><td>Endothelial cells</td><td>Mesen</td><td>APSE</td><td>APSE-control-pancreas-01-a</td><td>pancreas</td><td>primary</td><td>nuclei</td></tr>\n",
       "\t<tr><th scope=row>APSE-control-pancreas-01-a_CCAAGCGCAATCCTTT-1</th><td>4424</td><td>2049</td><td>53</td><td>F</td><td>fibrotic-panc</td><td>Blood_vessel      </td><td>fibrosis</td><td>0.007233273</td><td>head_PPI</td><td>Liebig</td><td>Endothelial cells</td><td>Mesen</td><td>APSE</td><td>APSE-control-pancreas-01-a</td><td>pancreas</td><td>primary</td><td>nuclei</td></tr>\n",
       "\t<tr><th scope=row>APSE-control-pancreas-01-a_AGGTAGGTCCAGCTCT-1</th><td>4411</td><td>2134</td><td>53</td><td>F</td><td>fibrotic-panc</td><td>Endothel_lymphatic</td><td>fibrosis</td><td>0.002720472</td><td>head_PPI</td><td>Liebig</td><td>Endothelial cells</td><td>Mesen</td><td>APSE</td><td>APSE-control-pancreas-01-a</td><td>pancreas</td><td>primary</td><td>nuclei</td></tr>\n",
       "\t<tr><th scope=row>APSE-control-pancreas-01-a_CCCTTAGGTGTCTTGA-1</th><td>4350</td><td>1946</td><td>53</td><td>F</td><td>fibrotic-panc</td><td>Endothel_arterial </td><td>fibrosis</td><td>0.004367816</td><td>head_PPI</td><td>Liebig</td><td>Endothelial cells</td><td>Mesen</td><td>APSE</td><td>APSE-control-pancreas-01-a</td><td>pancreas</td><td>primary</td><td>nuclei</td></tr>\n",
       "\t<tr><th scope=row>APSE-control-pancreas-01-a_GTAACCATCGCTCTAC-1</th><td>4345</td><td>2040</td><td>53</td><td>F</td><td>fibrotic-panc</td><td>Endothel_arterial </td><td>fibrosis</td><td>0.013118527</td><td>head_PPI</td><td>Liebig</td><td>Endothelial cells</td><td>Mesen</td><td>APSE</td><td>APSE-control-pancreas-01-a</td><td>pancreas</td><td>primary</td><td>nuclei</td></tr>\n",
       "\t<tr><th scope=row>APSE-control-pancreas-01-a_TGGAGGATCCGATAGT-1</th><td>4267</td><td>2119</td><td>53</td><td>F</td><td>fibrotic-panc</td><td>Endothel_venous   </td><td>fibrosis</td><td>0.007499414</td><td>head_PPI</td><td>Liebig</td><td>Endothelial cells</td><td>Mesen</td><td>APSE</td><td>APSE-control-pancreas-01-a</td><td>pancreas</td><td>primary</td><td>nuclei</td></tr>\n",
       "\t<tr><th scope=row>APSE-control-pancreas-01-a_TATCAGGGTCTGCAAT-1</th><td>4244</td><td>2175</td><td>53</td><td>F</td><td>fibrotic-panc</td><td>Endothel_arterial </td><td>fibrosis</td><td>0.004476909</td><td>head_PPI</td><td>Liebig</td><td>Endothelial cells</td><td>Mesen</td><td>APSE</td><td>APSE-control-pancreas-01-a</td><td>pancreas</td><td>primary</td><td>nuclei</td></tr>\n",
       "\t<tr><th scope=row>APSE-control-pancreas-01-a_CTCAATTTCGCAGATT-1</th><td>4176</td><td>1973</td><td>53</td><td>F</td><td>fibrotic-panc</td><td>Endothel_lymphatic</td><td>fibrosis</td><td>0.002394636</td><td>head_PPI</td><td>Liebig</td><td>Endothelial cells</td><td>Mesen</td><td>APSE</td><td>APSE-control-pancreas-01-a</td><td>pancreas</td><td>primary</td><td>nuclei</td></tr>\n",
       "\t<tr><th scope=row>APSE-control-pancreas-01-a_AGCCACGTCCGCTGTT-1</th><td>4149</td><td>1816</td><td>53</td><td>F</td><td>fibrotic-panc</td><td>Endothel_lymphatic</td><td>fibrosis</td><td>0.006989636</td><td>head_PPI</td><td>Liebig</td><td>Endothelial cells</td><td>Mesen</td><td>APSE</td><td>APSE-control-pancreas-01-a</td><td>pancreas</td><td>primary</td><td>nuclei</td></tr>\n",
       "\t<tr><th scope=row>APSE-control-pancreas-01-a_GGCAGTCTCCGCATAA-1</th><td>4133</td><td>2052</td><td>53</td><td>F</td><td>fibrotic-panc</td><td>Endothel_capillary</td><td>fibrosis</td><td>0.007016695</td><td>head_PPI</td><td>Liebig</td><td>Endothelial cells</td><td>Mesen</td><td>APSE</td><td>APSE-control-pancreas-01-a</td><td>pancreas</td><td>primary</td><td>nuclei</td></tr>\n",
       "\t<tr><th scope=row>APSE-control-pancreas-01-a_CCCTCAATCTTGGTCC-1</th><td>4124</td><td>2060</td><td>53</td><td>F</td><td>fibrotic-panc</td><td>Endothel_capillary</td><td>fibrosis</td><td>0.004122211</td><td>head_PPI</td><td>Liebig</td><td>Endothelial cells</td><td>Mesen</td><td>APSE</td><td>APSE-control-pancreas-01-a</td><td>pancreas</td><td>primary</td><td>nuclei</td></tr>\n",
       "\t<tr><th scope=row>APSE-control-pancreas-01-a_GAGACCCTCAGGGATG-1</th><td>4122</td><td>2099</td><td>53</td><td>F</td><td>fibrotic-panc</td><td>Endothel_venous   </td><td>fibrosis</td><td>0.004609413</td><td>head_PPI</td><td>Liebig</td><td>Endothelial cells</td><td>Mesen</td><td>APSE</td><td>APSE-control-pancreas-01-a</td><td>pancreas</td><td>primary</td><td>nuclei</td></tr>\n",
       "\t<tr><th scope=row>APSE-control-pancreas-01-a_CTTGAGATCTAGCCAA-1</th><td>4093</td><td>2130</td><td>53</td><td>F</td><td>fibrotic-panc</td><td>Endothel_venous   </td><td>fibrosis</td><td>0.004642072</td><td>head_PPI</td><td>Liebig</td><td>Endothelial cells</td><td>Mesen</td><td>APSE</td><td>APSE-control-pancreas-01-a</td><td>pancreas</td><td>primary</td><td>nuclei</td></tr>\n",
       "\t<tr><th scope=row>APSE-control-pancreas-01-a_GGGACCTTCTACCACC-1</th><td>4068</td><td>1842</td><td>53</td><td>F</td><td>fibrotic-panc</td><td>Endothel_arterial </td><td>fibrosis</td><td>0.005653884</td><td>head_PPI</td><td>Liebig</td><td>Endothelial cells</td><td>Mesen</td><td>APSE</td><td>APSE-control-pancreas-01-a</td><td>pancreas</td><td>primary</td><td>nuclei</td></tr>\n",
       "\t<tr><th scope=row>APSE-control-pancreas-01-a_AGTTCCCGTACTTCCC-1</th><td>4040</td><td>1893</td><td>53</td><td>F</td><td>fibrotic-panc</td><td>Blood_vessel      </td><td>fibrosis</td><td>0.003712871</td><td>head_PPI</td><td>Liebig</td><td>Endothelial cells</td><td>Mesen</td><td>APSE</td><td>APSE-control-pancreas-01-a</td><td>pancreas</td><td>primary</td><td>nuclei</td></tr>\n",
       "\t<tr><th scope=row>⋮</th><td>⋮</td><td>⋮</td><td>⋮</td><td>⋮</td><td>⋮</td><td>⋮</td><td>⋮</td><td>⋮</td><td>⋮</td><td>⋮</td><td>⋮</td><td>⋮</td><td>⋮</td><td>⋮</td><td>⋮</td><td>⋮</td><td>⋮</td></tr>\n",
       "\t<tr><th scope=row>FIWA-control-pancreas-01-d_CATGGATGTAACGGTG-1</th><td>5265</td><td>2488</td><td>51</td><td>F</td><td>control</td><td>Fibroblast        </td><td>normal</td><td>0.006457740</td><td>tail</td><td>Liebig</td><td>Fibroblasts   </td><td>Mesen</td><td>FIWA</td><td>FIWA-control-pancreas-01-d</td><td>pancreas</td><td>primary</td><td>nuclei</td></tr>\n",
       "\t<tr><th scope=row>FIWA-control-pancreas-01-d_TCCTCGAGTCGCTTAA-1</th><td>5250</td><td>2332</td><td>51</td><td>F</td><td>control</td><td>Activated_Stellate</td><td>normal</td><td>0.006857143</td><td>tail</td><td>Liebig</td><td>Stellate cells</td><td>Neu  </td><td>FIWA</td><td>FIWA-control-pancreas-01-d</td><td>pancreas</td><td>primary</td><td>nuclei</td></tr>\n",
       "\t<tr><th scope=row>FIWA-control-pancreas-01-d_CTCCTTTCATTCTCTA-1</th><td>5107</td><td>2610</td><td>51</td><td>F</td><td>control</td><td>Fibroblast        </td><td>normal</td><td>0.002349716</td><td>tail</td><td>Liebig</td><td>Fibroblasts   </td><td>Mesen</td><td>FIWA</td><td>FIWA-control-pancreas-01-d</td><td>pancreas</td><td>primary</td><td>nuclei</td></tr>\n",
       "\t<tr><th scope=row>FIWA-control-pancreas-01-d_AGACACTTCCCAAGCG-1</th><td>4695</td><td>2301</td><td>51</td><td>F</td><td>control</td><td>Activated_Stellate</td><td>normal</td><td>0.007028754</td><td>tail</td><td>Liebig</td><td>Stellate cells</td><td>Neu  </td><td>FIWA</td><td>FIWA-control-pancreas-01-d</td><td>pancreas</td><td>primary</td><td>nuclei</td></tr>\n",
       "\t<tr><th scope=row>FIWA-control-pancreas-01-d_CTTCCGAGTGCGAACA-1</th><td>4618</td><td>2332</td><td>51</td><td>F</td><td>control</td><td>Activated_Stellate</td><td>normal</td><td>0.004547423</td><td>tail</td><td>Liebig</td><td>Stellate cells</td><td>Neu  </td><td>FIWA</td><td>FIWA-control-pancreas-01-d</td><td>pancreas</td><td>primary</td><td>nuclei</td></tr>\n",
       "\t<tr><th scope=row>FIWA-control-pancreas-01-d_GCATGATGTGAGTTTC-1</th><td>4550</td><td>2386</td><td>51</td><td>F</td><td>control</td><td>Fibroblast        </td><td>normal</td><td>0.005494505</td><td>tail</td><td>Liebig</td><td>Fibroblasts   </td><td>Mesen</td><td>FIWA</td><td>FIWA-control-pancreas-01-d</td><td>pancreas</td><td>primary</td><td>nuclei</td></tr>\n",
       "\t<tr><th scope=row>FIWA-control-pancreas-01-d_CTGAGGCCACAACGCC-1</th><td>4411</td><td>2061</td><td>51</td><td>F</td><td>control</td><td>Pericyte          </td><td>normal</td><td>0.003627295</td><td>tail</td><td>Liebig</td><td>Pericytes     </td><td>Mesen</td><td>FIWA</td><td>FIWA-control-pancreas-01-d</td><td>pancreas</td><td>primary</td><td>nuclei</td></tr>\n",
       "\t<tr><th scope=row>FIWA-control-pancreas-01-d_TGGAGGACACCATTCC-1</th><td>4242</td><td>2102</td><td>51</td><td>F</td><td>control</td><td>Activated_Stellate</td><td>normal</td><td>0.004243281</td><td>tail</td><td>Liebig</td><td>Stellate cells</td><td>Neu  </td><td>FIWA</td><td>FIWA-control-pancreas-01-d</td><td>pancreas</td><td>primary</td><td>nuclei</td></tr>\n",
       "\t<tr><th scope=row>FIWA-control-pancreas-01-d_CATACTTGTTGGCCTG-1</th><td>4141</td><td>2278</td><td>51</td><td>F</td><td>control</td><td>Activated_Stellate</td><td>normal</td><td>0.003863801</td><td>tail</td><td>Liebig</td><td>Stellate cells</td><td>Neu  </td><td>FIWA</td><td>FIWA-control-pancreas-01-d</td><td>pancreas</td><td>primary</td><td>nuclei</td></tr>\n",
       "\t<tr><th scope=row>FIWA-control-pancreas-01-d_CTAGACATCGTCGATA-1</th><td>3185</td><td>1868</td><td>51</td><td>F</td><td>control</td><td>Activated_Stellate</td><td>normal</td><td>0.003453689</td><td>tail</td><td>Liebig</td><td>Stellate cells</td><td>Neu  </td><td>FIWA</td><td>FIWA-control-pancreas-01-d</td><td>pancreas</td><td>primary</td><td>nuclei</td></tr>\n",
       "\t<tr><th scope=row>FIWA-control-pancreas-01-d_AGCGCTGGTTGGAGGT-1</th><td>2747</td><td>1479</td><td>51</td><td>F</td><td>control</td><td>Quiescent_Stellate</td><td>normal</td><td>0.021477976</td><td>tail</td><td>Liebig</td><td>Stellate cells</td><td>Neu  </td><td>FIWA</td><td>FIWA-control-pancreas-01-d</td><td>pancreas</td><td>primary</td><td>nuclei</td></tr>\n",
       "\t<tr><th scope=row>FIWA-control-pancreas-01-d_CTCATCGAGAATGTTG-1</th><td>2409</td><td>1421</td><td>51</td><td>F</td><td>control</td><td>Pericyte          </td><td>normal</td><td>0.003735990</td><td>tail</td><td>Liebig</td><td>Pericytes     </td><td>Mesen</td><td>FIWA</td><td>FIWA-control-pancreas-01-d</td><td>pancreas</td><td>primary</td><td>nuclei</td></tr>\n",
       "\t<tr><th scope=row>FIWA-control-pancreas-01-d_TTTGACTCATACATCG-1</th><td>2181</td><td>1198</td><td>51</td><td>F</td><td>control</td><td>Fibroblast        </td><td>normal</td><td>0.010087116</td><td>tail</td><td>Liebig</td><td>Fibroblasts   </td><td>Mesen</td><td>FIWA</td><td>FIWA-control-pancreas-01-d</td><td>pancreas</td><td>primary</td><td>nuclei</td></tr>\n",
       "\t<tr><th scope=row>FIWA-control-pancreas-01-d_GGTGAAGAGGTTGGTG-1</th><td>2156</td><td>1249</td><td>51</td><td>F</td><td>control</td><td>Quiescent_Stellate</td><td>normal</td><td>0.009276438</td><td>tail</td><td>Liebig</td><td>Stellate cells</td><td>Neu  </td><td>FIWA</td><td>FIWA-control-pancreas-01-d</td><td>pancreas</td><td>primary</td><td>nuclei</td></tr>\n",
       "\t<tr><th scope=row>FIWA-control-pancreas-01-d_TACTTACCACCAGTTA-1</th><td>1956</td><td>1069</td><td>51</td><td>F</td><td>control</td><td>Glia              </td><td>normal</td><td>0.008691207</td><td>tail</td><td>Liebig</td><td>Glial cells   </td><td>Neu  </td><td>FIWA</td><td>FIWA-control-pancreas-01-d</td><td>pancreas</td><td>primary</td><td>nuclei</td></tr>\n",
       "\t<tr><th scope=row>FIWA-control-pancreas-01-d_TTTCCTCTCACAAGGG-1</th><td>1901</td><td>1062</td><td>51</td><td>F</td><td>control</td><td>Quiescent_Stellate</td><td>normal</td><td>0.012098895</td><td>tail</td><td>Liebig</td><td>Stellate cells</td><td>Neu  </td><td>FIWA</td><td>FIWA-control-pancreas-01-d</td><td>pancreas</td><td>primary</td><td>nuclei</td></tr>\n",
       "\t<tr><th scope=row>FIWA-control-pancreas-01-d_CTAACCCAGCGCCTCA-1</th><td>1709</td><td> 892</td><td>51</td><td>F</td><td>control</td><td>Glia              </td><td>normal</td><td>0.012873025</td><td>tail</td><td>Liebig</td><td>Glial cells   </td><td>Neu  </td><td>FIWA</td><td>FIWA-control-pancreas-01-d</td><td>pancreas</td><td>primary</td><td>nuclei</td></tr>\n",
       "\t<tr><th scope=row>FIWA-control-pancreas-01-d_ACTACGAGTGCGAGTA-1</th><td>1681</td><td>1125</td><td>51</td><td>F</td><td>control</td><td>Pericyte          </td><td>normal</td><td>0.004759072</td><td>tail</td><td>Liebig</td><td>Pericytes     </td><td>Mesen</td><td>FIWA</td><td>FIWA-control-pancreas-01-d</td><td>pancreas</td><td>primary</td><td>nuclei</td></tr>\n",
       "\t<tr><th scope=row>FIWA-control-pancreas-01-d_ACGATCAGTTAAACCC-1</th><td>1562</td><td> 840</td><td>51</td><td>F</td><td>control</td><td>Quiescent_Stellate</td><td>normal</td><td>0.007042254</td><td>tail</td><td>Liebig</td><td>Stellate cells</td><td>Neu  </td><td>FIWA</td><td>FIWA-control-pancreas-01-d</td><td>pancreas</td><td>primary</td><td>nuclei</td></tr>\n",
       "\t<tr><th scope=row>FIWA-control-pancreas-01-d_AGGGCCTGTTTCCAAG-1</th><td>1527</td><td>1133</td><td>51</td><td>F</td><td>control</td><td>Glia              </td><td>normal</td><td>0.011787819</td><td>tail</td><td>Liebig</td><td>Glial cells   </td><td>Neu  </td><td>FIWA</td><td>FIWA-control-pancreas-01-d</td><td>pancreas</td><td>primary</td><td>nuclei</td></tr>\n",
       "\t<tr><th scope=row>FIWA-control-pancreas-01-d_TTACGTTTCGGCATAT-1</th><td>1420</td><td> 850</td><td>51</td><td>F</td><td>control</td><td>Quiescent_Stellate</td><td>normal</td><td>0.030985915</td><td>tail</td><td>Liebig</td><td>Stellate cells</td><td>Neu  </td><td>FIWA</td><td>FIWA-control-pancreas-01-d</td><td>pancreas</td><td>primary</td><td>nuclei</td></tr>\n",
       "\t<tr><th scope=row>FIWA-control-pancreas-01-d_TACCGGGGTATCCCTC-1</th><td>1393</td><td> 755</td><td>51</td><td>F</td><td>control</td><td>Quiescent_Stellate</td><td>normal</td><td>0.027997128</td><td>tail</td><td>Liebig</td><td>Stellate cells</td><td>Neu  </td><td>FIWA</td><td>FIWA-control-pancreas-01-d</td><td>pancreas</td><td>primary</td><td>nuclei</td></tr>\n",
       "\t<tr><th scope=row>FIWA-control-pancreas-01-d_GTCATCCTCCTTGACC-1</th><td>1346</td><td> 790</td><td>51</td><td>F</td><td>control</td><td>Quiescent_Stellate</td><td>normal</td><td>0.017830609</td><td>tail</td><td>Liebig</td><td>Stellate cells</td><td>Neu  </td><td>FIWA</td><td>FIWA-control-pancreas-01-d</td><td>pancreas</td><td>primary</td><td>nuclei</td></tr>\n",
       "\t<tr><th scope=row>FIWA-control-pancreas-01-d_GCCCGAAAGGCGTTAG-1</th><td>1254</td><td> 769</td><td>51</td><td>F</td><td>control</td><td>Quiescent_Stellate</td><td>normal</td><td>0.020733652</td><td>tail</td><td>Liebig</td><td>Stellate cells</td><td>Neu  </td><td>FIWA</td><td>FIWA-control-pancreas-01-d</td><td>pancreas</td><td>primary</td><td>nuclei</td></tr>\n",
       "\t<tr><th scope=row>FIWA-control-pancreas-01-d_ATCCGTCCAGGCACAA-1</th><td>1196</td><td> 718</td><td>51</td><td>F</td><td>control</td><td>Quiescent_Stellate</td><td>normal</td><td>0.008361204</td><td>tail</td><td>Liebig</td><td>Stellate cells</td><td>Neu  </td><td>FIWA</td><td>FIWA-control-pancreas-01-d</td><td>pancreas</td><td>primary</td><td>nuclei</td></tr>\n",
       "\t<tr><th scope=row>FIWA-control-pancreas-01-d_GTCATTTAGTCTAGCT-1</th><td>1181</td><td> 679</td><td>51</td><td>F</td><td>control</td><td>Quiescent_Stellate</td><td>normal</td><td>0.020321761</td><td>tail</td><td>Liebig</td><td>Stellate cells</td><td>Neu  </td><td>FIWA</td><td>FIWA-control-pancreas-01-d</td><td>pancreas</td><td>primary</td><td>nuclei</td></tr>\n",
       "\t<tr><th scope=row>FIWA-control-pancreas-01-d_GGTTAACTCCGAGATT-1</th><td>1137</td><td> 655</td><td>51</td><td>F</td><td>control</td><td>Quiescent_Stellate</td><td>normal</td><td>0.025505717</td><td>tail</td><td>Liebig</td><td>Stellate cells</td><td>Neu  </td><td>FIWA</td><td>FIWA-control-pancreas-01-d</td><td>pancreas</td><td>primary</td><td>nuclei</td></tr>\n",
       "\t<tr><th scope=row>FIWA-control-pancreas-01-d_AAACGCTAGAGCGACT-1</th><td>1119</td><td> 669</td><td>51</td><td>F</td><td>control</td><td>Quiescent_Stellate</td><td>normal</td><td>0.015192136</td><td>tail</td><td>Liebig</td><td>Stellate cells</td><td>Neu  </td><td>FIWA</td><td>FIWA-control-pancreas-01-d</td><td>pancreas</td><td>primary</td><td>nuclei</td></tr>\n",
       "\t<tr><th scope=row>FIWA-control-pancreas-01-d_CTACCCAGTTCCACGG-1</th><td>1100</td><td> 646</td><td>51</td><td>F</td><td>control</td><td>Quiescent_Stellate</td><td>normal</td><td>0.014545455</td><td>tail</td><td>Liebig</td><td>Stellate cells</td><td>Neu  </td><td>FIWA</td><td>FIWA-control-pancreas-01-d</td><td>pancreas</td><td>primary</td><td>nuclei</td></tr>\n",
       "\t<tr><th scope=row>FIWA-control-pancreas-01-d_CTACAGACATAATGCC-1</th><td>1038</td><td> 638</td><td>51</td><td>F</td><td>control</td><td>Quiescent_Stellate</td><td>normal</td><td>0.012524085</td><td>tail</td><td>Liebig</td><td>Stellate cells</td><td>Neu  </td><td>FIWA</td><td>FIWA-control-pancreas-01-d</td><td>pancreas</td><td>primary</td><td>nuclei</td></tr>\n",
       "</tbody>\n",
       "</table>\n"
      ],
      "text/latex": [
       "A data.frame: 191694 × 17\n",
       "\\begin{tabular}{r|lllllllllllllllll}\n",
       "  & nCount\\_RNA & nFeature\\_RNA & age & sex & condition & subclass & aetiology & percent.mt & location & study & cells & lineage & patientID & fileID & tissue & primary\\_or\\_cultured & cells\\_or\\_nuclei\\\\\n",
       "  & <dbl> & <dbl> & <dbl> & <chr> & <chr> & <chr> & <chr> & <dbl> & <chr> & <chr> & <chr> & <chr> & <chr> & <chr> & <chr> & <chr> & <chr>\\\\\n",
       "\\hline\n",
       "\tAPSE-control-pancreas-01-a\\_ATACCTTTCGTGCACG-1 & 6826 & 2958 & 53 & F & fibrotic-panc & Endothel\\_venous    & fibrosis & 0.003808966 & head\\_PPI & Liebig & Endothelial cells & Mesen & APSE & APSE-control-pancreas-01-a & pancreas & primary & nuclei\\\\\n",
       "\tAPSE-control-pancreas-01-a\\_CTCCCTCTCGCCCAGA-1 & 5712 & 2098 & 53 & F & fibrotic-panc & Endothel\\_venous    & fibrosis & 0.004201681 & head\\_PPI & Liebig & Endothelial cells & Mesen & APSE & APSE-control-pancreas-01-a & pancreas & primary & nuclei\\\\\n",
       "\tAPSE-control-pancreas-01-a\\_CAATACGTCCACTGGG-1 & 5540 & 2388 & 53 & F & fibrotic-panc & Endothel\\_lymphatic & fibrosis & 0.006859206 & head\\_PPI & Liebig & Endothelial cells & Mesen & APSE & APSE-control-pancreas-01-a & pancreas & primary & nuclei\\\\\n",
       "\tAPSE-control-pancreas-01-a\\_AGGGCCTTCTTTGCTA-1 & 5392 & 2514 & 53 & F & fibrotic-panc & Endothel\\_venous    & fibrosis & 0.007418398 & head\\_PPI & Liebig & Endothelial cells & Mesen & APSE & APSE-control-pancreas-01-a & pancreas & primary & nuclei\\\\\n",
       "\tAPSE-control-pancreas-01-a\\_TTACTGTTCCAAGCTA-1 & 5290 & 2213 & 53 & F & fibrotic-panc & Endothel\\_lymphatic & fibrosis & 0.005671078 & head\\_PPI & Liebig & Endothelial cells & Mesen & APSE & APSE-control-pancreas-01-a & pancreas & primary & nuclei\\\\\n",
       "\tAPSE-control-pancreas-01-a\\_TGCGATACAGTTGTCA-1 & 5081 & 2396 & 53 & F & fibrotic-panc & Endothel\\_lymphatic & fibrosis & 0.003936233 & head\\_PPI & Liebig & Endothelial cells & Mesen & APSE & APSE-control-pancreas-01-a & pancreas & primary & nuclei\\\\\n",
       "\tAPSE-control-pancreas-01-a\\_CTGGTCTGTCTTGGTA-1 & 5063 & 2353 & 53 & F & fibrotic-panc & Endothel\\_arterial  & fibrosis & 0.002765159 & head\\_PPI & Liebig & Endothelial cells & Mesen & APSE & APSE-control-pancreas-01-a & pancreas & primary & nuclei\\\\\n",
       "\tAPSE-control-pancreas-01-a\\_CGAGTTATCGCCACTT-1 & 5000 & 2268 & 53 & F & fibrotic-panc & Endothel\\_lymphatic & fibrosis & 0.003800000 & head\\_PPI & Liebig & Endothelial cells & Mesen & APSE & APSE-control-pancreas-01-a & pancreas & primary & nuclei\\\\\n",
       "\tAPSE-control-pancreas-01-a\\_GGACGTCTCCTTCGAC-1 & 4919 & 2206 & 53 & F & fibrotic-panc & Endothel\\_lymphatic & fibrosis & 0.005082334 & head\\_PPI & Liebig & Endothelial cells & Mesen & APSE & APSE-control-pancreas-01-a & pancreas & primary & nuclei\\\\\n",
       "\tAPSE-control-pancreas-01-a\\_GATCACATCCGTCACT-1 & 4819 & 2324 & 53 & F & fibrotic-panc & Blood\\_vessel       & fibrosis & 0.004772774 & head\\_PPI & Liebig & Endothelial cells & Mesen & APSE & APSE-control-pancreas-01-a & pancreas & primary & nuclei\\\\\n",
       "\tAPSE-control-pancreas-01-a\\_TCTGGCTTCTGCGGAC-1 & 4790 & 2214 & 53 & F & fibrotic-panc & Endothel\\_lymphatic & fibrosis & 0.003549061 & head\\_PPI & Liebig & Endothelial cells & Mesen & APSE & APSE-control-pancreas-01-a & pancreas & primary & nuclei\\\\\n",
       "\tAPSE-control-pancreas-01-a\\_GCAACATAGAAACACT-1 & 4771 & 2218 & 53 & F & fibrotic-panc & Endothel\\_venous    & fibrosis & 0.003772794 & head\\_PPI & Liebig & Endothelial cells & Mesen & APSE & APSE-control-pancreas-01-a & pancreas & primary & nuclei\\\\\n",
       "\tAPSE-control-pancreas-01-a\\_TACGGGCCATCCAACA-1 & 4650 & 2271 & 53 & F & fibrotic-panc & Endothel\\_venous    & fibrosis & 0.004516129 & head\\_PPI & Liebig & Endothelial cells & Mesen & APSE & APSE-control-pancreas-01-a & pancreas & primary & nuclei\\\\\n",
       "\tAPSE-control-pancreas-01-a\\_CGATGGCAGTACGAGC-1 & 4463 & 2111 & 53 & F & fibrotic-panc & Endothel\\_lymphatic & fibrosis & 0.004705355 & head\\_PPI & Liebig & Endothelial cells & Mesen & APSE & APSE-control-pancreas-01-a & pancreas & primary & nuclei\\\\\n",
       "\tAPSE-control-pancreas-01-a\\_GGCGTCAGTCATCGCG-1 & 4453 & 2403 & 53 & F & fibrotic-panc & Endothel\\_lymphatic & fibrosis & 0.003817651 & head\\_PPI & Liebig & Endothelial cells & Mesen & APSE & APSE-control-pancreas-01-a & pancreas & primary & nuclei\\\\\n",
       "\tAPSE-control-pancreas-01-a\\_CGCAGGTGTACTGAGG-1 & 4426 & 1945 & 53 & F & fibrotic-panc & Endothel\\_lymphatic & fibrosis & 0.002937189 & head\\_PPI & Liebig & Endothelial cells & Mesen & APSE & APSE-control-pancreas-01-a & pancreas & primary & nuclei\\\\\n",
       "\tAPSE-control-pancreas-01-a\\_CCAAGCGCAATCCTTT-1 & 4424 & 2049 & 53 & F & fibrotic-panc & Blood\\_vessel       & fibrosis & 0.007233273 & head\\_PPI & Liebig & Endothelial cells & Mesen & APSE & APSE-control-pancreas-01-a & pancreas & primary & nuclei\\\\\n",
       "\tAPSE-control-pancreas-01-a\\_AGGTAGGTCCAGCTCT-1 & 4411 & 2134 & 53 & F & fibrotic-panc & Endothel\\_lymphatic & fibrosis & 0.002720472 & head\\_PPI & Liebig & Endothelial cells & Mesen & APSE & APSE-control-pancreas-01-a & pancreas & primary & nuclei\\\\\n",
       "\tAPSE-control-pancreas-01-a\\_CCCTTAGGTGTCTTGA-1 & 4350 & 1946 & 53 & F & fibrotic-panc & Endothel\\_arterial  & fibrosis & 0.004367816 & head\\_PPI & Liebig & Endothelial cells & Mesen & APSE & APSE-control-pancreas-01-a & pancreas & primary & nuclei\\\\\n",
       "\tAPSE-control-pancreas-01-a\\_GTAACCATCGCTCTAC-1 & 4345 & 2040 & 53 & F & fibrotic-panc & Endothel\\_arterial  & fibrosis & 0.013118527 & head\\_PPI & Liebig & Endothelial cells & Mesen & APSE & APSE-control-pancreas-01-a & pancreas & primary & nuclei\\\\\n",
       "\tAPSE-control-pancreas-01-a\\_TGGAGGATCCGATAGT-1 & 4267 & 2119 & 53 & F & fibrotic-panc & Endothel\\_venous    & fibrosis & 0.007499414 & head\\_PPI & Liebig & Endothelial cells & Mesen & APSE & APSE-control-pancreas-01-a & pancreas & primary & nuclei\\\\\n",
       "\tAPSE-control-pancreas-01-a\\_TATCAGGGTCTGCAAT-1 & 4244 & 2175 & 53 & F & fibrotic-panc & Endothel\\_arterial  & fibrosis & 0.004476909 & head\\_PPI & Liebig & Endothelial cells & Mesen & APSE & APSE-control-pancreas-01-a & pancreas & primary & nuclei\\\\\n",
       "\tAPSE-control-pancreas-01-a\\_CTCAATTTCGCAGATT-1 & 4176 & 1973 & 53 & F & fibrotic-panc & Endothel\\_lymphatic & fibrosis & 0.002394636 & head\\_PPI & Liebig & Endothelial cells & Mesen & APSE & APSE-control-pancreas-01-a & pancreas & primary & nuclei\\\\\n",
       "\tAPSE-control-pancreas-01-a\\_AGCCACGTCCGCTGTT-1 & 4149 & 1816 & 53 & F & fibrotic-panc & Endothel\\_lymphatic & fibrosis & 0.006989636 & head\\_PPI & Liebig & Endothelial cells & Mesen & APSE & APSE-control-pancreas-01-a & pancreas & primary & nuclei\\\\\n",
       "\tAPSE-control-pancreas-01-a\\_GGCAGTCTCCGCATAA-1 & 4133 & 2052 & 53 & F & fibrotic-panc & Endothel\\_capillary & fibrosis & 0.007016695 & head\\_PPI & Liebig & Endothelial cells & Mesen & APSE & APSE-control-pancreas-01-a & pancreas & primary & nuclei\\\\\n",
       "\tAPSE-control-pancreas-01-a\\_CCCTCAATCTTGGTCC-1 & 4124 & 2060 & 53 & F & fibrotic-panc & Endothel\\_capillary & fibrosis & 0.004122211 & head\\_PPI & Liebig & Endothelial cells & Mesen & APSE & APSE-control-pancreas-01-a & pancreas & primary & nuclei\\\\\n",
       "\tAPSE-control-pancreas-01-a\\_GAGACCCTCAGGGATG-1 & 4122 & 2099 & 53 & F & fibrotic-panc & Endothel\\_venous    & fibrosis & 0.004609413 & head\\_PPI & Liebig & Endothelial cells & Mesen & APSE & APSE-control-pancreas-01-a & pancreas & primary & nuclei\\\\\n",
       "\tAPSE-control-pancreas-01-a\\_CTTGAGATCTAGCCAA-1 & 4093 & 2130 & 53 & F & fibrotic-panc & Endothel\\_venous    & fibrosis & 0.004642072 & head\\_PPI & Liebig & Endothelial cells & Mesen & APSE & APSE-control-pancreas-01-a & pancreas & primary & nuclei\\\\\n",
       "\tAPSE-control-pancreas-01-a\\_GGGACCTTCTACCACC-1 & 4068 & 1842 & 53 & F & fibrotic-panc & Endothel\\_arterial  & fibrosis & 0.005653884 & head\\_PPI & Liebig & Endothelial cells & Mesen & APSE & APSE-control-pancreas-01-a & pancreas & primary & nuclei\\\\\n",
       "\tAPSE-control-pancreas-01-a\\_AGTTCCCGTACTTCCC-1 & 4040 & 1893 & 53 & F & fibrotic-panc & Blood\\_vessel       & fibrosis & 0.003712871 & head\\_PPI & Liebig & Endothelial cells & Mesen & APSE & APSE-control-pancreas-01-a & pancreas & primary & nuclei\\\\\n",
       "\t⋮ & ⋮ & ⋮ & ⋮ & ⋮ & ⋮ & ⋮ & ⋮ & ⋮ & ⋮ & ⋮ & ⋮ & ⋮ & ⋮ & ⋮ & ⋮ & ⋮ & ⋮\\\\\n",
       "\tFIWA-control-pancreas-01-d\\_CATGGATGTAACGGTG-1 & 5265 & 2488 & 51 & F & control & Fibroblast         & normal & 0.006457740 & tail & Liebig & Fibroblasts    & Mesen & FIWA & FIWA-control-pancreas-01-d & pancreas & primary & nuclei\\\\\n",
       "\tFIWA-control-pancreas-01-d\\_TCCTCGAGTCGCTTAA-1 & 5250 & 2332 & 51 & F & control & Activated\\_Stellate & normal & 0.006857143 & tail & Liebig & Stellate cells & Neu   & FIWA & FIWA-control-pancreas-01-d & pancreas & primary & nuclei\\\\\n",
       "\tFIWA-control-pancreas-01-d\\_CTCCTTTCATTCTCTA-1 & 5107 & 2610 & 51 & F & control & Fibroblast         & normal & 0.002349716 & tail & Liebig & Fibroblasts    & Mesen & FIWA & FIWA-control-pancreas-01-d & pancreas & primary & nuclei\\\\\n",
       "\tFIWA-control-pancreas-01-d\\_AGACACTTCCCAAGCG-1 & 4695 & 2301 & 51 & F & control & Activated\\_Stellate & normal & 0.007028754 & tail & Liebig & Stellate cells & Neu   & FIWA & FIWA-control-pancreas-01-d & pancreas & primary & nuclei\\\\\n",
       "\tFIWA-control-pancreas-01-d\\_CTTCCGAGTGCGAACA-1 & 4618 & 2332 & 51 & F & control & Activated\\_Stellate & normal & 0.004547423 & tail & Liebig & Stellate cells & Neu   & FIWA & FIWA-control-pancreas-01-d & pancreas & primary & nuclei\\\\\n",
       "\tFIWA-control-pancreas-01-d\\_GCATGATGTGAGTTTC-1 & 4550 & 2386 & 51 & F & control & Fibroblast         & normal & 0.005494505 & tail & Liebig & Fibroblasts    & Mesen & FIWA & FIWA-control-pancreas-01-d & pancreas & primary & nuclei\\\\\n",
       "\tFIWA-control-pancreas-01-d\\_CTGAGGCCACAACGCC-1 & 4411 & 2061 & 51 & F & control & Pericyte           & normal & 0.003627295 & tail & Liebig & Pericytes      & Mesen & FIWA & FIWA-control-pancreas-01-d & pancreas & primary & nuclei\\\\\n",
       "\tFIWA-control-pancreas-01-d\\_TGGAGGACACCATTCC-1 & 4242 & 2102 & 51 & F & control & Activated\\_Stellate & normal & 0.004243281 & tail & Liebig & Stellate cells & Neu   & FIWA & FIWA-control-pancreas-01-d & pancreas & primary & nuclei\\\\\n",
       "\tFIWA-control-pancreas-01-d\\_CATACTTGTTGGCCTG-1 & 4141 & 2278 & 51 & F & control & Activated\\_Stellate & normal & 0.003863801 & tail & Liebig & Stellate cells & Neu   & FIWA & FIWA-control-pancreas-01-d & pancreas & primary & nuclei\\\\\n",
       "\tFIWA-control-pancreas-01-d\\_CTAGACATCGTCGATA-1 & 3185 & 1868 & 51 & F & control & Activated\\_Stellate & normal & 0.003453689 & tail & Liebig & Stellate cells & Neu   & FIWA & FIWA-control-pancreas-01-d & pancreas & primary & nuclei\\\\\n",
       "\tFIWA-control-pancreas-01-d\\_AGCGCTGGTTGGAGGT-1 & 2747 & 1479 & 51 & F & control & Quiescent\\_Stellate & normal & 0.021477976 & tail & Liebig & Stellate cells & Neu   & FIWA & FIWA-control-pancreas-01-d & pancreas & primary & nuclei\\\\\n",
       "\tFIWA-control-pancreas-01-d\\_CTCATCGAGAATGTTG-1 & 2409 & 1421 & 51 & F & control & Pericyte           & normal & 0.003735990 & tail & Liebig & Pericytes      & Mesen & FIWA & FIWA-control-pancreas-01-d & pancreas & primary & nuclei\\\\\n",
       "\tFIWA-control-pancreas-01-d\\_TTTGACTCATACATCG-1 & 2181 & 1198 & 51 & F & control & Fibroblast         & normal & 0.010087116 & tail & Liebig & Fibroblasts    & Mesen & FIWA & FIWA-control-pancreas-01-d & pancreas & primary & nuclei\\\\\n",
       "\tFIWA-control-pancreas-01-d\\_GGTGAAGAGGTTGGTG-1 & 2156 & 1249 & 51 & F & control & Quiescent\\_Stellate & normal & 0.009276438 & tail & Liebig & Stellate cells & Neu   & FIWA & FIWA-control-pancreas-01-d & pancreas & primary & nuclei\\\\\n",
       "\tFIWA-control-pancreas-01-d\\_TACTTACCACCAGTTA-1 & 1956 & 1069 & 51 & F & control & Glia               & normal & 0.008691207 & tail & Liebig & Glial cells    & Neu   & FIWA & FIWA-control-pancreas-01-d & pancreas & primary & nuclei\\\\\n",
       "\tFIWA-control-pancreas-01-d\\_TTTCCTCTCACAAGGG-1 & 1901 & 1062 & 51 & F & control & Quiescent\\_Stellate & normal & 0.012098895 & tail & Liebig & Stellate cells & Neu   & FIWA & FIWA-control-pancreas-01-d & pancreas & primary & nuclei\\\\\n",
       "\tFIWA-control-pancreas-01-d\\_CTAACCCAGCGCCTCA-1 & 1709 &  892 & 51 & F & control & Glia               & normal & 0.012873025 & tail & Liebig & Glial cells    & Neu   & FIWA & FIWA-control-pancreas-01-d & pancreas & primary & nuclei\\\\\n",
       "\tFIWA-control-pancreas-01-d\\_ACTACGAGTGCGAGTA-1 & 1681 & 1125 & 51 & F & control & Pericyte           & normal & 0.004759072 & tail & Liebig & Pericytes      & Mesen & FIWA & FIWA-control-pancreas-01-d & pancreas & primary & nuclei\\\\\n",
       "\tFIWA-control-pancreas-01-d\\_ACGATCAGTTAAACCC-1 & 1562 &  840 & 51 & F & control & Quiescent\\_Stellate & normal & 0.007042254 & tail & Liebig & Stellate cells & Neu   & FIWA & FIWA-control-pancreas-01-d & pancreas & primary & nuclei\\\\\n",
       "\tFIWA-control-pancreas-01-d\\_AGGGCCTGTTTCCAAG-1 & 1527 & 1133 & 51 & F & control & Glia               & normal & 0.011787819 & tail & Liebig & Glial cells    & Neu   & FIWA & FIWA-control-pancreas-01-d & pancreas & primary & nuclei\\\\\n",
       "\tFIWA-control-pancreas-01-d\\_TTACGTTTCGGCATAT-1 & 1420 &  850 & 51 & F & control & Quiescent\\_Stellate & normal & 0.030985915 & tail & Liebig & Stellate cells & Neu   & FIWA & FIWA-control-pancreas-01-d & pancreas & primary & nuclei\\\\\n",
       "\tFIWA-control-pancreas-01-d\\_TACCGGGGTATCCCTC-1 & 1393 &  755 & 51 & F & control & Quiescent\\_Stellate & normal & 0.027997128 & tail & Liebig & Stellate cells & Neu   & FIWA & FIWA-control-pancreas-01-d & pancreas & primary & nuclei\\\\\n",
       "\tFIWA-control-pancreas-01-d\\_GTCATCCTCCTTGACC-1 & 1346 &  790 & 51 & F & control & Quiescent\\_Stellate & normal & 0.017830609 & tail & Liebig & Stellate cells & Neu   & FIWA & FIWA-control-pancreas-01-d & pancreas & primary & nuclei\\\\\n",
       "\tFIWA-control-pancreas-01-d\\_GCCCGAAAGGCGTTAG-1 & 1254 &  769 & 51 & F & control & Quiescent\\_Stellate & normal & 0.020733652 & tail & Liebig & Stellate cells & Neu   & FIWA & FIWA-control-pancreas-01-d & pancreas & primary & nuclei\\\\\n",
       "\tFIWA-control-pancreas-01-d\\_ATCCGTCCAGGCACAA-1 & 1196 &  718 & 51 & F & control & Quiescent\\_Stellate & normal & 0.008361204 & tail & Liebig & Stellate cells & Neu   & FIWA & FIWA-control-pancreas-01-d & pancreas & primary & nuclei\\\\\n",
       "\tFIWA-control-pancreas-01-d\\_GTCATTTAGTCTAGCT-1 & 1181 &  679 & 51 & F & control & Quiescent\\_Stellate & normal & 0.020321761 & tail & Liebig & Stellate cells & Neu   & FIWA & FIWA-control-pancreas-01-d & pancreas & primary & nuclei\\\\\n",
       "\tFIWA-control-pancreas-01-d\\_GGTTAACTCCGAGATT-1 & 1137 &  655 & 51 & F & control & Quiescent\\_Stellate & normal & 0.025505717 & tail & Liebig & Stellate cells & Neu   & FIWA & FIWA-control-pancreas-01-d & pancreas & primary & nuclei\\\\\n",
       "\tFIWA-control-pancreas-01-d\\_AAACGCTAGAGCGACT-1 & 1119 &  669 & 51 & F & control & Quiescent\\_Stellate & normal & 0.015192136 & tail & Liebig & Stellate cells & Neu   & FIWA & FIWA-control-pancreas-01-d & pancreas & primary & nuclei\\\\\n",
       "\tFIWA-control-pancreas-01-d\\_CTACCCAGTTCCACGG-1 & 1100 &  646 & 51 & F & control & Quiescent\\_Stellate & normal & 0.014545455 & tail & Liebig & Stellate cells & Neu   & FIWA & FIWA-control-pancreas-01-d & pancreas & primary & nuclei\\\\\n",
       "\tFIWA-control-pancreas-01-d\\_CTACAGACATAATGCC-1 & 1038 &  638 & 51 & F & control & Quiescent\\_Stellate & normal & 0.012524085 & tail & Liebig & Stellate cells & Neu   & FIWA & FIWA-control-pancreas-01-d & pancreas & primary & nuclei\\\\\n",
       "\\end{tabular}\n"
      ],
      "text/markdown": [
       "\n",
       "A data.frame: 191694 × 17\n",
       "\n",
       "| <!--/--> | nCount_RNA &lt;dbl&gt; | nFeature_RNA &lt;dbl&gt; | age &lt;dbl&gt; | sex &lt;chr&gt; | condition &lt;chr&gt; | subclass &lt;chr&gt; | aetiology &lt;chr&gt; | percent.mt &lt;dbl&gt; | location &lt;chr&gt; | study &lt;chr&gt; | cells &lt;chr&gt; | lineage &lt;chr&gt; | patientID &lt;chr&gt; | fileID &lt;chr&gt; | tissue &lt;chr&gt; | primary_or_cultured &lt;chr&gt; | cells_or_nuclei &lt;chr&gt; |\n",
       "|---|---|---|---|---|---|---|---|---|---|---|---|---|---|---|---|---|---|\n",
       "| APSE-control-pancreas-01-a_ATACCTTTCGTGCACG-1 | 6826 | 2958 | 53 | F | fibrotic-panc | Endothel_venous    | fibrosis | 0.003808966 | head_PPI | Liebig | Endothelial cells | Mesen | APSE | APSE-control-pancreas-01-a | pancreas | primary | nuclei |\n",
       "| APSE-control-pancreas-01-a_CTCCCTCTCGCCCAGA-1 | 5712 | 2098 | 53 | F | fibrotic-panc | Endothel_venous    | fibrosis | 0.004201681 | head_PPI | Liebig | Endothelial cells | Mesen | APSE | APSE-control-pancreas-01-a | pancreas | primary | nuclei |\n",
       "| APSE-control-pancreas-01-a_CAATACGTCCACTGGG-1 | 5540 | 2388 | 53 | F | fibrotic-panc | Endothel_lymphatic | fibrosis | 0.006859206 | head_PPI | Liebig | Endothelial cells | Mesen | APSE | APSE-control-pancreas-01-a | pancreas | primary | nuclei |\n",
       "| APSE-control-pancreas-01-a_AGGGCCTTCTTTGCTA-1 | 5392 | 2514 | 53 | F | fibrotic-panc | Endothel_venous    | fibrosis | 0.007418398 | head_PPI | Liebig | Endothelial cells | Mesen | APSE | APSE-control-pancreas-01-a | pancreas | primary | nuclei |\n",
       "| APSE-control-pancreas-01-a_TTACTGTTCCAAGCTA-1 | 5290 | 2213 | 53 | F | fibrotic-panc | Endothel_lymphatic | fibrosis | 0.005671078 | head_PPI | Liebig | Endothelial cells | Mesen | APSE | APSE-control-pancreas-01-a | pancreas | primary | nuclei |\n",
       "| APSE-control-pancreas-01-a_TGCGATACAGTTGTCA-1 | 5081 | 2396 | 53 | F | fibrotic-panc | Endothel_lymphatic | fibrosis | 0.003936233 | head_PPI | Liebig | Endothelial cells | Mesen | APSE | APSE-control-pancreas-01-a | pancreas | primary | nuclei |\n",
       "| APSE-control-pancreas-01-a_CTGGTCTGTCTTGGTA-1 | 5063 | 2353 | 53 | F | fibrotic-panc | Endothel_arterial  | fibrosis | 0.002765159 | head_PPI | Liebig | Endothelial cells | Mesen | APSE | APSE-control-pancreas-01-a | pancreas | primary | nuclei |\n",
       "| APSE-control-pancreas-01-a_CGAGTTATCGCCACTT-1 | 5000 | 2268 | 53 | F | fibrotic-panc | Endothel_lymphatic | fibrosis | 0.003800000 | head_PPI | Liebig | Endothelial cells | Mesen | APSE | APSE-control-pancreas-01-a | pancreas | primary | nuclei |\n",
       "| APSE-control-pancreas-01-a_GGACGTCTCCTTCGAC-1 | 4919 | 2206 | 53 | F | fibrotic-panc | Endothel_lymphatic | fibrosis | 0.005082334 | head_PPI | Liebig | Endothelial cells | Mesen | APSE | APSE-control-pancreas-01-a | pancreas | primary | nuclei |\n",
       "| APSE-control-pancreas-01-a_GATCACATCCGTCACT-1 | 4819 | 2324 | 53 | F | fibrotic-panc | Blood_vessel       | fibrosis | 0.004772774 | head_PPI | Liebig | Endothelial cells | Mesen | APSE | APSE-control-pancreas-01-a | pancreas | primary | nuclei |\n",
       "| APSE-control-pancreas-01-a_TCTGGCTTCTGCGGAC-1 | 4790 | 2214 | 53 | F | fibrotic-panc | Endothel_lymphatic | fibrosis | 0.003549061 | head_PPI | Liebig | Endothelial cells | Mesen | APSE | APSE-control-pancreas-01-a | pancreas | primary | nuclei |\n",
       "| APSE-control-pancreas-01-a_GCAACATAGAAACACT-1 | 4771 | 2218 | 53 | F | fibrotic-panc | Endothel_venous    | fibrosis | 0.003772794 | head_PPI | Liebig | Endothelial cells | Mesen | APSE | APSE-control-pancreas-01-a | pancreas | primary | nuclei |\n",
       "| APSE-control-pancreas-01-a_TACGGGCCATCCAACA-1 | 4650 | 2271 | 53 | F | fibrotic-panc | Endothel_venous    | fibrosis | 0.004516129 | head_PPI | Liebig | Endothelial cells | Mesen | APSE | APSE-control-pancreas-01-a | pancreas | primary | nuclei |\n",
       "| APSE-control-pancreas-01-a_CGATGGCAGTACGAGC-1 | 4463 | 2111 | 53 | F | fibrotic-panc | Endothel_lymphatic | fibrosis | 0.004705355 | head_PPI | Liebig | Endothelial cells | Mesen | APSE | APSE-control-pancreas-01-a | pancreas | primary | nuclei |\n",
       "| APSE-control-pancreas-01-a_GGCGTCAGTCATCGCG-1 | 4453 | 2403 | 53 | F | fibrotic-panc | Endothel_lymphatic | fibrosis | 0.003817651 | head_PPI | Liebig | Endothelial cells | Mesen | APSE | APSE-control-pancreas-01-a | pancreas | primary | nuclei |\n",
       "| APSE-control-pancreas-01-a_CGCAGGTGTACTGAGG-1 | 4426 | 1945 | 53 | F | fibrotic-panc | Endothel_lymphatic | fibrosis | 0.002937189 | head_PPI | Liebig | Endothelial cells | Mesen | APSE | APSE-control-pancreas-01-a | pancreas | primary | nuclei |\n",
       "| APSE-control-pancreas-01-a_CCAAGCGCAATCCTTT-1 | 4424 | 2049 | 53 | F | fibrotic-panc | Blood_vessel       | fibrosis | 0.007233273 | head_PPI | Liebig | Endothelial cells | Mesen | APSE | APSE-control-pancreas-01-a | pancreas | primary | nuclei |\n",
       "| APSE-control-pancreas-01-a_AGGTAGGTCCAGCTCT-1 | 4411 | 2134 | 53 | F | fibrotic-panc | Endothel_lymphatic | fibrosis | 0.002720472 | head_PPI | Liebig | Endothelial cells | Mesen | APSE | APSE-control-pancreas-01-a | pancreas | primary | nuclei |\n",
       "| APSE-control-pancreas-01-a_CCCTTAGGTGTCTTGA-1 | 4350 | 1946 | 53 | F | fibrotic-panc | Endothel_arterial  | fibrosis | 0.004367816 | head_PPI | Liebig | Endothelial cells | Mesen | APSE | APSE-control-pancreas-01-a | pancreas | primary | nuclei |\n",
       "| APSE-control-pancreas-01-a_GTAACCATCGCTCTAC-1 | 4345 | 2040 | 53 | F | fibrotic-panc | Endothel_arterial  | fibrosis | 0.013118527 | head_PPI | Liebig | Endothelial cells | Mesen | APSE | APSE-control-pancreas-01-a | pancreas | primary | nuclei |\n",
       "| APSE-control-pancreas-01-a_TGGAGGATCCGATAGT-1 | 4267 | 2119 | 53 | F | fibrotic-panc | Endothel_venous    | fibrosis | 0.007499414 | head_PPI | Liebig | Endothelial cells | Mesen | APSE | APSE-control-pancreas-01-a | pancreas | primary | nuclei |\n",
       "| APSE-control-pancreas-01-a_TATCAGGGTCTGCAAT-1 | 4244 | 2175 | 53 | F | fibrotic-panc | Endothel_arterial  | fibrosis | 0.004476909 | head_PPI | Liebig | Endothelial cells | Mesen | APSE | APSE-control-pancreas-01-a | pancreas | primary | nuclei |\n",
       "| APSE-control-pancreas-01-a_CTCAATTTCGCAGATT-1 | 4176 | 1973 | 53 | F | fibrotic-panc | Endothel_lymphatic | fibrosis | 0.002394636 | head_PPI | Liebig | Endothelial cells | Mesen | APSE | APSE-control-pancreas-01-a | pancreas | primary | nuclei |\n",
       "| APSE-control-pancreas-01-a_AGCCACGTCCGCTGTT-1 | 4149 | 1816 | 53 | F | fibrotic-panc | Endothel_lymphatic | fibrosis | 0.006989636 | head_PPI | Liebig | Endothelial cells | Mesen | APSE | APSE-control-pancreas-01-a | pancreas | primary | nuclei |\n",
       "| APSE-control-pancreas-01-a_GGCAGTCTCCGCATAA-1 | 4133 | 2052 | 53 | F | fibrotic-panc | Endothel_capillary | fibrosis | 0.007016695 | head_PPI | Liebig | Endothelial cells | Mesen | APSE | APSE-control-pancreas-01-a | pancreas | primary | nuclei |\n",
       "| APSE-control-pancreas-01-a_CCCTCAATCTTGGTCC-1 | 4124 | 2060 | 53 | F | fibrotic-panc | Endothel_capillary | fibrosis | 0.004122211 | head_PPI | Liebig | Endothelial cells | Mesen | APSE | APSE-control-pancreas-01-a | pancreas | primary | nuclei |\n",
       "| APSE-control-pancreas-01-a_GAGACCCTCAGGGATG-1 | 4122 | 2099 | 53 | F | fibrotic-panc | Endothel_venous    | fibrosis | 0.004609413 | head_PPI | Liebig | Endothelial cells | Mesen | APSE | APSE-control-pancreas-01-a | pancreas | primary | nuclei |\n",
       "| APSE-control-pancreas-01-a_CTTGAGATCTAGCCAA-1 | 4093 | 2130 | 53 | F | fibrotic-panc | Endothel_venous    | fibrosis | 0.004642072 | head_PPI | Liebig | Endothelial cells | Mesen | APSE | APSE-control-pancreas-01-a | pancreas | primary | nuclei |\n",
       "| APSE-control-pancreas-01-a_GGGACCTTCTACCACC-1 | 4068 | 1842 | 53 | F | fibrotic-panc | Endothel_arterial  | fibrosis | 0.005653884 | head_PPI | Liebig | Endothelial cells | Mesen | APSE | APSE-control-pancreas-01-a | pancreas | primary | nuclei |\n",
       "| APSE-control-pancreas-01-a_AGTTCCCGTACTTCCC-1 | 4040 | 1893 | 53 | F | fibrotic-panc | Blood_vessel       | fibrosis | 0.003712871 | head_PPI | Liebig | Endothelial cells | Mesen | APSE | APSE-control-pancreas-01-a | pancreas | primary | nuclei |\n",
       "| ⋮ | ⋮ | ⋮ | ⋮ | ⋮ | ⋮ | ⋮ | ⋮ | ⋮ | ⋮ | ⋮ | ⋮ | ⋮ | ⋮ | ⋮ | ⋮ | ⋮ | ⋮ |\n",
       "| FIWA-control-pancreas-01-d_CATGGATGTAACGGTG-1 | 5265 | 2488 | 51 | F | control | Fibroblast         | normal | 0.006457740 | tail | Liebig | Fibroblasts    | Mesen | FIWA | FIWA-control-pancreas-01-d | pancreas | primary | nuclei |\n",
       "| FIWA-control-pancreas-01-d_TCCTCGAGTCGCTTAA-1 | 5250 | 2332 | 51 | F | control | Activated_Stellate | normal | 0.006857143 | tail | Liebig | Stellate cells | Neu   | FIWA | FIWA-control-pancreas-01-d | pancreas | primary | nuclei |\n",
       "| FIWA-control-pancreas-01-d_CTCCTTTCATTCTCTA-1 | 5107 | 2610 | 51 | F | control | Fibroblast         | normal | 0.002349716 | tail | Liebig | Fibroblasts    | Mesen | FIWA | FIWA-control-pancreas-01-d | pancreas | primary | nuclei |\n",
       "| FIWA-control-pancreas-01-d_AGACACTTCCCAAGCG-1 | 4695 | 2301 | 51 | F | control | Activated_Stellate | normal | 0.007028754 | tail | Liebig | Stellate cells | Neu   | FIWA | FIWA-control-pancreas-01-d | pancreas | primary | nuclei |\n",
       "| FIWA-control-pancreas-01-d_CTTCCGAGTGCGAACA-1 | 4618 | 2332 | 51 | F | control | Activated_Stellate | normal | 0.004547423 | tail | Liebig | Stellate cells | Neu   | FIWA | FIWA-control-pancreas-01-d | pancreas | primary | nuclei |\n",
       "| FIWA-control-pancreas-01-d_GCATGATGTGAGTTTC-1 | 4550 | 2386 | 51 | F | control | Fibroblast         | normal | 0.005494505 | tail | Liebig | Fibroblasts    | Mesen | FIWA | FIWA-control-pancreas-01-d | pancreas | primary | nuclei |\n",
       "| FIWA-control-pancreas-01-d_CTGAGGCCACAACGCC-1 | 4411 | 2061 | 51 | F | control | Pericyte           | normal | 0.003627295 | tail | Liebig | Pericytes      | Mesen | FIWA | FIWA-control-pancreas-01-d | pancreas | primary | nuclei |\n",
       "| FIWA-control-pancreas-01-d_TGGAGGACACCATTCC-1 | 4242 | 2102 | 51 | F | control | Activated_Stellate | normal | 0.004243281 | tail | Liebig | Stellate cells | Neu   | FIWA | FIWA-control-pancreas-01-d | pancreas | primary | nuclei |\n",
       "| FIWA-control-pancreas-01-d_CATACTTGTTGGCCTG-1 | 4141 | 2278 | 51 | F | control | Activated_Stellate | normal | 0.003863801 | tail | Liebig | Stellate cells | Neu   | FIWA | FIWA-control-pancreas-01-d | pancreas | primary | nuclei |\n",
       "| FIWA-control-pancreas-01-d_CTAGACATCGTCGATA-1 | 3185 | 1868 | 51 | F | control | Activated_Stellate | normal | 0.003453689 | tail | Liebig | Stellate cells | Neu   | FIWA | FIWA-control-pancreas-01-d | pancreas | primary | nuclei |\n",
       "| FIWA-control-pancreas-01-d_AGCGCTGGTTGGAGGT-1 | 2747 | 1479 | 51 | F | control | Quiescent_Stellate | normal | 0.021477976 | tail | Liebig | Stellate cells | Neu   | FIWA | FIWA-control-pancreas-01-d | pancreas | primary | nuclei |\n",
       "| FIWA-control-pancreas-01-d_CTCATCGAGAATGTTG-1 | 2409 | 1421 | 51 | F | control | Pericyte           | normal | 0.003735990 | tail | Liebig | Pericytes      | Mesen | FIWA | FIWA-control-pancreas-01-d | pancreas | primary | nuclei |\n",
       "| FIWA-control-pancreas-01-d_TTTGACTCATACATCG-1 | 2181 | 1198 | 51 | F | control | Fibroblast         | normal | 0.010087116 | tail | Liebig | Fibroblasts    | Mesen | FIWA | FIWA-control-pancreas-01-d | pancreas | primary | nuclei |\n",
       "| FIWA-control-pancreas-01-d_GGTGAAGAGGTTGGTG-1 | 2156 | 1249 | 51 | F | control | Quiescent_Stellate | normal | 0.009276438 | tail | Liebig | Stellate cells | Neu   | FIWA | FIWA-control-pancreas-01-d | pancreas | primary | nuclei |\n",
       "| FIWA-control-pancreas-01-d_TACTTACCACCAGTTA-1 | 1956 | 1069 | 51 | F | control | Glia               | normal | 0.008691207 | tail | Liebig | Glial cells    | Neu   | FIWA | FIWA-control-pancreas-01-d | pancreas | primary | nuclei |\n",
       "| FIWA-control-pancreas-01-d_TTTCCTCTCACAAGGG-1 | 1901 | 1062 | 51 | F | control | Quiescent_Stellate | normal | 0.012098895 | tail | Liebig | Stellate cells | Neu   | FIWA | FIWA-control-pancreas-01-d | pancreas | primary | nuclei |\n",
       "| FIWA-control-pancreas-01-d_CTAACCCAGCGCCTCA-1 | 1709 |  892 | 51 | F | control | Glia               | normal | 0.012873025 | tail | Liebig | Glial cells    | Neu   | FIWA | FIWA-control-pancreas-01-d | pancreas | primary | nuclei |\n",
       "| FIWA-control-pancreas-01-d_ACTACGAGTGCGAGTA-1 | 1681 | 1125 | 51 | F | control | Pericyte           | normal | 0.004759072 | tail | Liebig | Pericytes      | Mesen | FIWA | FIWA-control-pancreas-01-d | pancreas | primary | nuclei |\n",
       "| FIWA-control-pancreas-01-d_ACGATCAGTTAAACCC-1 | 1562 |  840 | 51 | F | control | Quiescent_Stellate | normal | 0.007042254 | tail | Liebig | Stellate cells | Neu   | FIWA | FIWA-control-pancreas-01-d | pancreas | primary | nuclei |\n",
       "| FIWA-control-pancreas-01-d_AGGGCCTGTTTCCAAG-1 | 1527 | 1133 | 51 | F | control | Glia               | normal | 0.011787819 | tail | Liebig | Glial cells    | Neu   | FIWA | FIWA-control-pancreas-01-d | pancreas | primary | nuclei |\n",
       "| FIWA-control-pancreas-01-d_TTACGTTTCGGCATAT-1 | 1420 |  850 | 51 | F | control | Quiescent_Stellate | normal | 0.030985915 | tail | Liebig | Stellate cells | Neu   | FIWA | FIWA-control-pancreas-01-d | pancreas | primary | nuclei |\n",
       "| FIWA-control-pancreas-01-d_TACCGGGGTATCCCTC-1 | 1393 |  755 | 51 | F | control | Quiescent_Stellate | normal | 0.027997128 | tail | Liebig | Stellate cells | Neu   | FIWA | FIWA-control-pancreas-01-d | pancreas | primary | nuclei |\n",
       "| FIWA-control-pancreas-01-d_GTCATCCTCCTTGACC-1 | 1346 |  790 | 51 | F | control | Quiescent_Stellate | normal | 0.017830609 | tail | Liebig | Stellate cells | Neu   | FIWA | FIWA-control-pancreas-01-d | pancreas | primary | nuclei |\n",
       "| FIWA-control-pancreas-01-d_GCCCGAAAGGCGTTAG-1 | 1254 |  769 | 51 | F | control | Quiescent_Stellate | normal | 0.020733652 | tail | Liebig | Stellate cells | Neu   | FIWA | FIWA-control-pancreas-01-d | pancreas | primary | nuclei |\n",
       "| FIWA-control-pancreas-01-d_ATCCGTCCAGGCACAA-1 | 1196 |  718 | 51 | F | control | Quiescent_Stellate | normal | 0.008361204 | tail | Liebig | Stellate cells | Neu   | FIWA | FIWA-control-pancreas-01-d | pancreas | primary | nuclei |\n",
       "| FIWA-control-pancreas-01-d_GTCATTTAGTCTAGCT-1 | 1181 |  679 | 51 | F | control | Quiescent_Stellate | normal | 0.020321761 | tail | Liebig | Stellate cells | Neu   | FIWA | FIWA-control-pancreas-01-d | pancreas | primary | nuclei |\n",
       "| FIWA-control-pancreas-01-d_GGTTAACTCCGAGATT-1 | 1137 |  655 | 51 | F | control | Quiescent_Stellate | normal | 0.025505717 | tail | Liebig | Stellate cells | Neu   | FIWA | FIWA-control-pancreas-01-d | pancreas | primary | nuclei |\n",
       "| FIWA-control-pancreas-01-d_AAACGCTAGAGCGACT-1 | 1119 |  669 | 51 | F | control | Quiescent_Stellate | normal | 0.015192136 | tail | Liebig | Stellate cells | Neu   | FIWA | FIWA-control-pancreas-01-d | pancreas | primary | nuclei |\n",
       "| FIWA-control-pancreas-01-d_CTACCCAGTTCCACGG-1 | 1100 |  646 | 51 | F | control | Quiescent_Stellate | normal | 0.014545455 | tail | Liebig | Stellate cells | Neu   | FIWA | FIWA-control-pancreas-01-d | pancreas | primary | nuclei |\n",
       "| FIWA-control-pancreas-01-d_CTACAGACATAATGCC-1 | 1038 |  638 | 51 | F | control | Quiescent_Stellate | normal | 0.012524085 | tail | Liebig | Stellate cells | Neu   | FIWA | FIWA-control-pancreas-01-d | pancreas | primary | nuclei |\n",
       "\n"
      ],
      "text/plain": [
       "                                              nCount_RNA nFeature_RNA age sex\n",
       "APSE-control-pancreas-01-a_ATACCTTTCGTGCACG-1 6826       2958         53  F  \n",
       "APSE-control-pancreas-01-a_CTCCCTCTCGCCCAGA-1 5712       2098         53  F  \n",
       "APSE-control-pancreas-01-a_CAATACGTCCACTGGG-1 5540       2388         53  F  \n",
       "APSE-control-pancreas-01-a_AGGGCCTTCTTTGCTA-1 5392       2514         53  F  \n",
       "APSE-control-pancreas-01-a_TTACTGTTCCAAGCTA-1 5290       2213         53  F  \n",
       "APSE-control-pancreas-01-a_TGCGATACAGTTGTCA-1 5081       2396         53  F  \n",
       "APSE-control-pancreas-01-a_CTGGTCTGTCTTGGTA-1 5063       2353         53  F  \n",
       "APSE-control-pancreas-01-a_CGAGTTATCGCCACTT-1 5000       2268         53  F  \n",
       "APSE-control-pancreas-01-a_GGACGTCTCCTTCGAC-1 4919       2206         53  F  \n",
       "APSE-control-pancreas-01-a_GATCACATCCGTCACT-1 4819       2324         53  F  \n",
       "APSE-control-pancreas-01-a_TCTGGCTTCTGCGGAC-1 4790       2214         53  F  \n",
       "APSE-control-pancreas-01-a_GCAACATAGAAACACT-1 4771       2218         53  F  \n",
       "APSE-control-pancreas-01-a_TACGGGCCATCCAACA-1 4650       2271         53  F  \n",
       "APSE-control-pancreas-01-a_CGATGGCAGTACGAGC-1 4463       2111         53  F  \n",
       "APSE-control-pancreas-01-a_GGCGTCAGTCATCGCG-1 4453       2403         53  F  \n",
       "APSE-control-pancreas-01-a_CGCAGGTGTACTGAGG-1 4426       1945         53  F  \n",
       "APSE-control-pancreas-01-a_CCAAGCGCAATCCTTT-1 4424       2049         53  F  \n",
       "APSE-control-pancreas-01-a_AGGTAGGTCCAGCTCT-1 4411       2134         53  F  \n",
       "APSE-control-pancreas-01-a_CCCTTAGGTGTCTTGA-1 4350       1946         53  F  \n",
       "APSE-control-pancreas-01-a_GTAACCATCGCTCTAC-1 4345       2040         53  F  \n",
       "APSE-control-pancreas-01-a_TGGAGGATCCGATAGT-1 4267       2119         53  F  \n",
       "APSE-control-pancreas-01-a_TATCAGGGTCTGCAAT-1 4244       2175         53  F  \n",
       "APSE-control-pancreas-01-a_CTCAATTTCGCAGATT-1 4176       1973         53  F  \n",
       "APSE-control-pancreas-01-a_AGCCACGTCCGCTGTT-1 4149       1816         53  F  \n",
       "APSE-control-pancreas-01-a_GGCAGTCTCCGCATAA-1 4133       2052         53  F  \n",
       "APSE-control-pancreas-01-a_CCCTCAATCTTGGTCC-1 4124       2060         53  F  \n",
       "APSE-control-pancreas-01-a_GAGACCCTCAGGGATG-1 4122       2099         53  F  \n",
       "APSE-control-pancreas-01-a_CTTGAGATCTAGCCAA-1 4093       2130         53  F  \n",
       "APSE-control-pancreas-01-a_GGGACCTTCTACCACC-1 4068       1842         53  F  \n",
       "APSE-control-pancreas-01-a_AGTTCCCGTACTTCCC-1 4040       1893         53  F  \n",
       "⋮                                             ⋮          ⋮            ⋮   ⋮  \n",
       "FIWA-control-pancreas-01-d_CATGGATGTAACGGTG-1 5265       2488         51  F  \n",
       "FIWA-control-pancreas-01-d_TCCTCGAGTCGCTTAA-1 5250       2332         51  F  \n",
       "FIWA-control-pancreas-01-d_CTCCTTTCATTCTCTA-1 5107       2610         51  F  \n",
       "FIWA-control-pancreas-01-d_AGACACTTCCCAAGCG-1 4695       2301         51  F  \n",
       "FIWA-control-pancreas-01-d_CTTCCGAGTGCGAACA-1 4618       2332         51  F  \n",
       "FIWA-control-pancreas-01-d_GCATGATGTGAGTTTC-1 4550       2386         51  F  \n",
       "FIWA-control-pancreas-01-d_CTGAGGCCACAACGCC-1 4411       2061         51  F  \n",
       "FIWA-control-pancreas-01-d_TGGAGGACACCATTCC-1 4242       2102         51  F  \n",
       "FIWA-control-pancreas-01-d_CATACTTGTTGGCCTG-1 4141       2278         51  F  \n",
       "FIWA-control-pancreas-01-d_CTAGACATCGTCGATA-1 3185       1868         51  F  \n",
       "FIWA-control-pancreas-01-d_AGCGCTGGTTGGAGGT-1 2747       1479         51  F  \n",
       "FIWA-control-pancreas-01-d_CTCATCGAGAATGTTG-1 2409       1421         51  F  \n",
       "FIWA-control-pancreas-01-d_TTTGACTCATACATCG-1 2181       1198         51  F  \n",
       "FIWA-control-pancreas-01-d_GGTGAAGAGGTTGGTG-1 2156       1249         51  F  \n",
       "FIWA-control-pancreas-01-d_TACTTACCACCAGTTA-1 1956       1069         51  F  \n",
       "FIWA-control-pancreas-01-d_TTTCCTCTCACAAGGG-1 1901       1062         51  F  \n",
       "FIWA-control-pancreas-01-d_CTAACCCAGCGCCTCA-1 1709        892         51  F  \n",
       "FIWA-control-pancreas-01-d_ACTACGAGTGCGAGTA-1 1681       1125         51  F  \n",
       "FIWA-control-pancreas-01-d_ACGATCAGTTAAACCC-1 1562        840         51  F  \n",
       "FIWA-control-pancreas-01-d_AGGGCCTGTTTCCAAG-1 1527       1133         51  F  \n",
       "FIWA-control-pancreas-01-d_TTACGTTTCGGCATAT-1 1420        850         51  F  \n",
       "FIWA-control-pancreas-01-d_TACCGGGGTATCCCTC-1 1393        755         51  F  \n",
       "FIWA-control-pancreas-01-d_GTCATCCTCCTTGACC-1 1346        790         51  F  \n",
       "FIWA-control-pancreas-01-d_GCCCGAAAGGCGTTAG-1 1254        769         51  F  \n",
       "FIWA-control-pancreas-01-d_ATCCGTCCAGGCACAA-1 1196        718         51  F  \n",
       "FIWA-control-pancreas-01-d_GTCATTTAGTCTAGCT-1 1181        679         51  F  \n",
       "FIWA-control-pancreas-01-d_GGTTAACTCCGAGATT-1 1137        655         51  F  \n",
       "FIWA-control-pancreas-01-d_AAACGCTAGAGCGACT-1 1119        669         51  F  \n",
       "FIWA-control-pancreas-01-d_CTACCCAGTTCCACGG-1 1100        646         51  F  \n",
       "FIWA-control-pancreas-01-d_CTACAGACATAATGCC-1 1038        638         51  F  \n",
       "                                              condition     subclass          \n",
       "APSE-control-pancreas-01-a_ATACCTTTCGTGCACG-1 fibrotic-panc Endothel_venous   \n",
       "APSE-control-pancreas-01-a_CTCCCTCTCGCCCAGA-1 fibrotic-panc Endothel_venous   \n",
       "APSE-control-pancreas-01-a_CAATACGTCCACTGGG-1 fibrotic-panc Endothel_lymphatic\n",
       "APSE-control-pancreas-01-a_AGGGCCTTCTTTGCTA-1 fibrotic-panc Endothel_venous   \n",
       "APSE-control-pancreas-01-a_TTACTGTTCCAAGCTA-1 fibrotic-panc Endothel_lymphatic\n",
       "APSE-control-pancreas-01-a_TGCGATACAGTTGTCA-1 fibrotic-panc Endothel_lymphatic\n",
       "APSE-control-pancreas-01-a_CTGGTCTGTCTTGGTA-1 fibrotic-panc Endothel_arterial \n",
       "APSE-control-pancreas-01-a_CGAGTTATCGCCACTT-1 fibrotic-panc Endothel_lymphatic\n",
       "APSE-control-pancreas-01-a_GGACGTCTCCTTCGAC-1 fibrotic-panc Endothel_lymphatic\n",
       "APSE-control-pancreas-01-a_GATCACATCCGTCACT-1 fibrotic-panc Blood_vessel      \n",
       "APSE-control-pancreas-01-a_TCTGGCTTCTGCGGAC-1 fibrotic-panc Endothel_lymphatic\n",
       "APSE-control-pancreas-01-a_GCAACATAGAAACACT-1 fibrotic-panc Endothel_venous   \n",
       "APSE-control-pancreas-01-a_TACGGGCCATCCAACA-1 fibrotic-panc Endothel_venous   \n",
       "APSE-control-pancreas-01-a_CGATGGCAGTACGAGC-1 fibrotic-panc Endothel_lymphatic\n",
       "APSE-control-pancreas-01-a_GGCGTCAGTCATCGCG-1 fibrotic-panc Endothel_lymphatic\n",
       "APSE-control-pancreas-01-a_CGCAGGTGTACTGAGG-1 fibrotic-panc Endothel_lymphatic\n",
       "APSE-control-pancreas-01-a_CCAAGCGCAATCCTTT-1 fibrotic-panc Blood_vessel      \n",
       "APSE-control-pancreas-01-a_AGGTAGGTCCAGCTCT-1 fibrotic-panc Endothel_lymphatic\n",
       "APSE-control-pancreas-01-a_CCCTTAGGTGTCTTGA-1 fibrotic-panc Endothel_arterial \n",
       "APSE-control-pancreas-01-a_GTAACCATCGCTCTAC-1 fibrotic-panc Endothel_arterial \n",
       "APSE-control-pancreas-01-a_TGGAGGATCCGATAGT-1 fibrotic-panc Endothel_venous   \n",
       "APSE-control-pancreas-01-a_TATCAGGGTCTGCAAT-1 fibrotic-panc Endothel_arterial \n",
       "APSE-control-pancreas-01-a_CTCAATTTCGCAGATT-1 fibrotic-panc Endothel_lymphatic\n",
       "APSE-control-pancreas-01-a_AGCCACGTCCGCTGTT-1 fibrotic-panc Endothel_lymphatic\n",
       "APSE-control-pancreas-01-a_GGCAGTCTCCGCATAA-1 fibrotic-panc Endothel_capillary\n",
       "APSE-control-pancreas-01-a_CCCTCAATCTTGGTCC-1 fibrotic-panc Endothel_capillary\n",
       "APSE-control-pancreas-01-a_GAGACCCTCAGGGATG-1 fibrotic-panc Endothel_venous   \n",
       "APSE-control-pancreas-01-a_CTTGAGATCTAGCCAA-1 fibrotic-panc Endothel_venous   \n",
       "APSE-control-pancreas-01-a_GGGACCTTCTACCACC-1 fibrotic-panc Endothel_arterial \n",
       "APSE-control-pancreas-01-a_AGTTCCCGTACTTCCC-1 fibrotic-panc Blood_vessel      \n",
       "⋮                                             ⋮             ⋮                 \n",
       "FIWA-control-pancreas-01-d_CATGGATGTAACGGTG-1 control       Fibroblast        \n",
       "FIWA-control-pancreas-01-d_TCCTCGAGTCGCTTAA-1 control       Activated_Stellate\n",
       "FIWA-control-pancreas-01-d_CTCCTTTCATTCTCTA-1 control       Fibroblast        \n",
       "FIWA-control-pancreas-01-d_AGACACTTCCCAAGCG-1 control       Activated_Stellate\n",
       "FIWA-control-pancreas-01-d_CTTCCGAGTGCGAACA-1 control       Activated_Stellate\n",
       "FIWA-control-pancreas-01-d_GCATGATGTGAGTTTC-1 control       Fibroblast        \n",
       "FIWA-control-pancreas-01-d_CTGAGGCCACAACGCC-1 control       Pericyte          \n",
       "FIWA-control-pancreas-01-d_TGGAGGACACCATTCC-1 control       Activated_Stellate\n",
       "FIWA-control-pancreas-01-d_CATACTTGTTGGCCTG-1 control       Activated_Stellate\n",
       "FIWA-control-pancreas-01-d_CTAGACATCGTCGATA-1 control       Activated_Stellate\n",
       "FIWA-control-pancreas-01-d_AGCGCTGGTTGGAGGT-1 control       Quiescent_Stellate\n",
       "FIWA-control-pancreas-01-d_CTCATCGAGAATGTTG-1 control       Pericyte          \n",
       "FIWA-control-pancreas-01-d_TTTGACTCATACATCG-1 control       Fibroblast        \n",
       "FIWA-control-pancreas-01-d_GGTGAAGAGGTTGGTG-1 control       Quiescent_Stellate\n",
       "FIWA-control-pancreas-01-d_TACTTACCACCAGTTA-1 control       Glia              \n",
       "FIWA-control-pancreas-01-d_TTTCCTCTCACAAGGG-1 control       Quiescent_Stellate\n",
       "FIWA-control-pancreas-01-d_CTAACCCAGCGCCTCA-1 control       Glia              \n",
       "FIWA-control-pancreas-01-d_ACTACGAGTGCGAGTA-1 control       Pericyte          \n",
       "FIWA-control-pancreas-01-d_ACGATCAGTTAAACCC-1 control       Quiescent_Stellate\n",
       "FIWA-control-pancreas-01-d_AGGGCCTGTTTCCAAG-1 control       Glia              \n",
       "FIWA-control-pancreas-01-d_TTACGTTTCGGCATAT-1 control       Quiescent_Stellate\n",
       "FIWA-control-pancreas-01-d_TACCGGGGTATCCCTC-1 control       Quiescent_Stellate\n",
       "FIWA-control-pancreas-01-d_GTCATCCTCCTTGACC-1 control       Quiescent_Stellate\n",
       "FIWA-control-pancreas-01-d_GCCCGAAAGGCGTTAG-1 control       Quiescent_Stellate\n",
       "FIWA-control-pancreas-01-d_ATCCGTCCAGGCACAA-1 control       Quiescent_Stellate\n",
       "FIWA-control-pancreas-01-d_GTCATTTAGTCTAGCT-1 control       Quiescent_Stellate\n",
       "FIWA-control-pancreas-01-d_GGTTAACTCCGAGATT-1 control       Quiescent_Stellate\n",
       "FIWA-control-pancreas-01-d_AAACGCTAGAGCGACT-1 control       Quiescent_Stellate\n",
       "FIWA-control-pancreas-01-d_CTACCCAGTTCCACGG-1 control       Quiescent_Stellate\n",
       "FIWA-control-pancreas-01-d_CTACAGACATAATGCC-1 control       Quiescent_Stellate\n",
       "                                              aetiology percent.mt  location\n",
       "APSE-control-pancreas-01-a_ATACCTTTCGTGCACG-1 fibrosis  0.003808966 head_PPI\n",
       "APSE-control-pancreas-01-a_CTCCCTCTCGCCCAGA-1 fibrosis  0.004201681 head_PPI\n",
       "APSE-control-pancreas-01-a_CAATACGTCCACTGGG-1 fibrosis  0.006859206 head_PPI\n",
       "APSE-control-pancreas-01-a_AGGGCCTTCTTTGCTA-1 fibrosis  0.007418398 head_PPI\n",
       "APSE-control-pancreas-01-a_TTACTGTTCCAAGCTA-1 fibrosis  0.005671078 head_PPI\n",
       "APSE-control-pancreas-01-a_TGCGATACAGTTGTCA-1 fibrosis  0.003936233 head_PPI\n",
       "APSE-control-pancreas-01-a_CTGGTCTGTCTTGGTA-1 fibrosis  0.002765159 head_PPI\n",
       "APSE-control-pancreas-01-a_CGAGTTATCGCCACTT-1 fibrosis  0.003800000 head_PPI\n",
       "APSE-control-pancreas-01-a_GGACGTCTCCTTCGAC-1 fibrosis  0.005082334 head_PPI\n",
       "APSE-control-pancreas-01-a_GATCACATCCGTCACT-1 fibrosis  0.004772774 head_PPI\n",
       "APSE-control-pancreas-01-a_TCTGGCTTCTGCGGAC-1 fibrosis  0.003549061 head_PPI\n",
       "APSE-control-pancreas-01-a_GCAACATAGAAACACT-1 fibrosis  0.003772794 head_PPI\n",
       "APSE-control-pancreas-01-a_TACGGGCCATCCAACA-1 fibrosis  0.004516129 head_PPI\n",
       "APSE-control-pancreas-01-a_CGATGGCAGTACGAGC-1 fibrosis  0.004705355 head_PPI\n",
       "APSE-control-pancreas-01-a_GGCGTCAGTCATCGCG-1 fibrosis  0.003817651 head_PPI\n",
       "APSE-control-pancreas-01-a_CGCAGGTGTACTGAGG-1 fibrosis  0.002937189 head_PPI\n",
       "APSE-control-pancreas-01-a_CCAAGCGCAATCCTTT-1 fibrosis  0.007233273 head_PPI\n",
       "APSE-control-pancreas-01-a_AGGTAGGTCCAGCTCT-1 fibrosis  0.002720472 head_PPI\n",
       "APSE-control-pancreas-01-a_CCCTTAGGTGTCTTGA-1 fibrosis  0.004367816 head_PPI\n",
       "APSE-control-pancreas-01-a_GTAACCATCGCTCTAC-1 fibrosis  0.013118527 head_PPI\n",
       "APSE-control-pancreas-01-a_TGGAGGATCCGATAGT-1 fibrosis  0.007499414 head_PPI\n",
       "APSE-control-pancreas-01-a_TATCAGGGTCTGCAAT-1 fibrosis  0.004476909 head_PPI\n",
       "APSE-control-pancreas-01-a_CTCAATTTCGCAGATT-1 fibrosis  0.002394636 head_PPI\n",
       "APSE-control-pancreas-01-a_AGCCACGTCCGCTGTT-1 fibrosis  0.006989636 head_PPI\n",
       "APSE-control-pancreas-01-a_GGCAGTCTCCGCATAA-1 fibrosis  0.007016695 head_PPI\n",
       "APSE-control-pancreas-01-a_CCCTCAATCTTGGTCC-1 fibrosis  0.004122211 head_PPI\n",
       "APSE-control-pancreas-01-a_GAGACCCTCAGGGATG-1 fibrosis  0.004609413 head_PPI\n",
       "APSE-control-pancreas-01-a_CTTGAGATCTAGCCAA-1 fibrosis  0.004642072 head_PPI\n",
       "APSE-control-pancreas-01-a_GGGACCTTCTACCACC-1 fibrosis  0.005653884 head_PPI\n",
       "APSE-control-pancreas-01-a_AGTTCCCGTACTTCCC-1 fibrosis  0.003712871 head_PPI\n",
       "⋮                                             ⋮         ⋮           ⋮       \n",
       "FIWA-control-pancreas-01-d_CATGGATGTAACGGTG-1 normal    0.006457740 tail    \n",
       "FIWA-control-pancreas-01-d_TCCTCGAGTCGCTTAA-1 normal    0.006857143 tail    \n",
       "FIWA-control-pancreas-01-d_CTCCTTTCATTCTCTA-1 normal    0.002349716 tail    \n",
       "FIWA-control-pancreas-01-d_AGACACTTCCCAAGCG-1 normal    0.007028754 tail    \n",
       "FIWA-control-pancreas-01-d_CTTCCGAGTGCGAACA-1 normal    0.004547423 tail    \n",
       "FIWA-control-pancreas-01-d_GCATGATGTGAGTTTC-1 normal    0.005494505 tail    \n",
       "FIWA-control-pancreas-01-d_CTGAGGCCACAACGCC-1 normal    0.003627295 tail    \n",
       "FIWA-control-pancreas-01-d_TGGAGGACACCATTCC-1 normal    0.004243281 tail    \n",
       "FIWA-control-pancreas-01-d_CATACTTGTTGGCCTG-1 normal    0.003863801 tail    \n",
       "FIWA-control-pancreas-01-d_CTAGACATCGTCGATA-1 normal    0.003453689 tail    \n",
       "FIWA-control-pancreas-01-d_AGCGCTGGTTGGAGGT-1 normal    0.021477976 tail    \n",
       "FIWA-control-pancreas-01-d_CTCATCGAGAATGTTG-1 normal    0.003735990 tail    \n",
       "FIWA-control-pancreas-01-d_TTTGACTCATACATCG-1 normal    0.010087116 tail    \n",
       "FIWA-control-pancreas-01-d_GGTGAAGAGGTTGGTG-1 normal    0.009276438 tail    \n",
       "FIWA-control-pancreas-01-d_TACTTACCACCAGTTA-1 normal    0.008691207 tail    \n",
       "FIWA-control-pancreas-01-d_TTTCCTCTCACAAGGG-1 normal    0.012098895 tail    \n",
       "FIWA-control-pancreas-01-d_CTAACCCAGCGCCTCA-1 normal    0.012873025 tail    \n",
       "FIWA-control-pancreas-01-d_ACTACGAGTGCGAGTA-1 normal    0.004759072 tail    \n",
       "FIWA-control-pancreas-01-d_ACGATCAGTTAAACCC-1 normal    0.007042254 tail    \n",
       "FIWA-control-pancreas-01-d_AGGGCCTGTTTCCAAG-1 normal    0.011787819 tail    \n",
       "FIWA-control-pancreas-01-d_TTACGTTTCGGCATAT-1 normal    0.030985915 tail    \n",
       "FIWA-control-pancreas-01-d_TACCGGGGTATCCCTC-1 normal    0.027997128 tail    \n",
       "FIWA-control-pancreas-01-d_GTCATCCTCCTTGACC-1 normal    0.017830609 tail    \n",
       "FIWA-control-pancreas-01-d_GCCCGAAAGGCGTTAG-1 normal    0.020733652 tail    \n",
       "FIWA-control-pancreas-01-d_ATCCGTCCAGGCACAA-1 normal    0.008361204 tail    \n",
       "FIWA-control-pancreas-01-d_GTCATTTAGTCTAGCT-1 normal    0.020321761 tail    \n",
       "FIWA-control-pancreas-01-d_GGTTAACTCCGAGATT-1 normal    0.025505717 tail    \n",
       "FIWA-control-pancreas-01-d_AAACGCTAGAGCGACT-1 normal    0.015192136 tail    \n",
       "FIWA-control-pancreas-01-d_CTACCCAGTTCCACGG-1 normal    0.014545455 tail    \n",
       "FIWA-control-pancreas-01-d_CTACAGACATAATGCC-1 normal    0.012524085 tail    \n",
       "                                              study  cells             lineage\n",
       "APSE-control-pancreas-01-a_ATACCTTTCGTGCACG-1 Liebig Endothelial cells Mesen  \n",
       "APSE-control-pancreas-01-a_CTCCCTCTCGCCCAGA-1 Liebig Endothelial cells Mesen  \n",
       "APSE-control-pancreas-01-a_CAATACGTCCACTGGG-1 Liebig Endothelial cells Mesen  \n",
       "APSE-control-pancreas-01-a_AGGGCCTTCTTTGCTA-1 Liebig Endothelial cells Mesen  \n",
       "APSE-control-pancreas-01-a_TTACTGTTCCAAGCTA-1 Liebig Endothelial cells Mesen  \n",
       "APSE-control-pancreas-01-a_TGCGATACAGTTGTCA-1 Liebig Endothelial cells Mesen  \n",
       "APSE-control-pancreas-01-a_CTGGTCTGTCTTGGTA-1 Liebig Endothelial cells Mesen  \n",
       "APSE-control-pancreas-01-a_CGAGTTATCGCCACTT-1 Liebig Endothelial cells Mesen  \n",
       "APSE-control-pancreas-01-a_GGACGTCTCCTTCGAC-1 Liebig Endothelial cells Mesen  \n",
       "APSE-control-pancreas-01-a_GATCACATCCGTCACT-1 Liebig Endothelial cells Mesen  \n",
       "APSE-control-pancreas-01-a_TCTGGCTTCTGCGGAC-1 Liebig Endothelial cells Mesen  \n",
       "APSE-control-pancreas-01-a_GCAACATAGAAACACT-1 Liebig Endothelial cells Mesen  \n",
       "APSE-control-pancreas-01-a_TACGGGCCATCCAACA-1 Liebig Endothelial cells Mesen  \n",
       "APSE-control-pancreas-01-a_CGATGGCAGTACGAGC-1 Liebig Endothelial cells Mesen  \n",
       "APSE-control-pancreas-01-a_GGCGTCAGTCATCGCG-1 Liebig Endothelial cells Mesen  \n",
       "APSE-control-pancreas-01-a_CGCAGGTGTACTGAGG-1 Liebig Endothelial cells Mesen  \n",
       "APSE-control-pancreas-01-a_CCAAGCGCAATCCTTT-1 Liebig Endothelial cells Mesen  \n",
       "APSE-control-pancreas-01-a_AGGTAGGTCCAGCTCT-1 Liebig Endothelial cells Mesen  \n",
       "APSE-control-pancreas-01-a_CCCTTAGGTGTCTTGA-1 Liebig Endothelial cells Mesen  \n",
       "APSE-control-pancreas-01-a_GTAACCATCGCTCTAC-1 Liebig Endothelial cells Mesen  \n",
       "APSE-control-pancreas-01-a_TGGAGGATCCGATAGT-1 Liebig Endothelial cells Mesen  \n",
       "APSE-control-pancreas-01-a_TATCAGGGTCTGCAAT-1 Liebig Endothelial cells Mesen  \n",
       "APSE-control-pancreas-01-a_CTCAATTTCGCAGATT-1 Liebig Endothelial cells Mesen  \n",
       "APSE-control-pancreas-01-a_AGCCACGTCCGCTGTT-1 Liebig Endothelial cells Mesen  \n",
       "APSE-control-pancreas-01-a_GGCAGTCTCCGCATAA-1 Liebig Endothelial cells Mesen  \n",
       "APSE-control-pancreas-01-a_CCCTCAATCTTGGTCC-1 Liebig Endothelial cells Mesen  \n",
       "APSE-control-pancreas-01-a_GAGACCCTCAGGGATG-1 Liebig Endothelial cells Mesen  \n",
       "APSE-control-pancreas-01-a_CTTGAGATCTAGCCAA-1 Liebig Endothelial cells Mesen  \n",
       "APSE-control-pancreas-01-a_GGGACCTTCTACCACC-1 Liebig Endothelial cells Mesen  \n",
       "APSE-control-pancreas-01-a_AGTTCCCGTACTTCCC-1 Liebig Endothelial cells Mesen  \n",
       "⋮                                             ⋮      ⋮                 ⋮      \n",
       "FIWA-control-pancreas-01-d_CATGGATGTAACGGTG-1 Liebig Fibroblasts       Mesen  \n",
       "FIWA-control-pancreas-01-d_TCCTCGAGTCGCTTAA-1 Liebig Stellate cells    Neu    \n",
       "FIWA-control-pancreas-01-d_CTCCTTTCATTCTCTA-1 Liebig Fibroblasts       Mesen  \n",
       "FIWA-control-pancreas-01-d_AGACACTTCCCAAGCG-1 Liebig Stellate cells    Neu    \n",
       "FIWA-control-pancreas-01-d_CTTCCGAGTGCGAACA-1 Liebig Stellate cells    Neu    \n",
       "FIWA-control-pancreas-01-d_GCATGATGTGAGTTTC-1 Liebig Fibroblasts       Mesen  \n",
       "FIWA-control-pancreas-01-d_CTGAGGCCACAACGCC-1 Liebig Pericytes         Mesen  \n",
       "FIWA-control-pancreas-01-d_TGGAGGACACCATTCC-1 Liebig Stellate cells    Neu    \n",
       "FIWA-control-pancreas-01-d_CATACTTGTTGGCCTG-1 Liebig Stellate cells    Neu    \n",
       "FIWA-control-pancreas-01-d_CTAGACATCGTCGATA-1 Liebig Stellate cells    Neu    \n",
       "FIWA-control-pancreas-01-d_AGCGCTGGTTGGAGGT-1 Liebig Stellate cells    Neu    \n",
       "FIWA-control-pancreas-01-d_CTCATCGAGAATGTTG-1 Liebig Pericytes         Mesen  \n",
       "FIWA-control-pancreas-01-d_TTTGACTCATACATCG-1 Liebig Fibroblasts       Mesen  \n",
       "FIWA-control-pancreas-01-d_GGTGAAGAGGTTGGTG-1 Liebig Stellate cells    Neu    \n",
       "FIWA-control-pancreas-01-d_TACTTACCACCAGTTA-1 Liebig Glial cells       Neu    \n",
       "FIWA-control-pancreas-01-d_TTTCCTCTCACAAGGG-1 Liebig Stellate cells    Neu    \n",
       "FIWA-control-pancreas-01-d_CTAACCCAGCGCCTCA-1 Liebig Glial cells       Neu    \n",
       "FIWA-control-pancreas-01-d_ACTACGAGTGCGAGTA-1 Liebig Pericytes         Mesen  \n",
       "FIWA-control-pancreas-01-d_ACGATCAGTTAAACCC-1 Liebig Stellate cells    Neu    \n",
       "FIWA-control-pancreas-01-d_AGGGCCTGTTTCCAAG-1 Liebig Glial cells       Neu    \n",
       "FIWA-control-pancreas-01-d_TTACGTTTCGGCATAT-1 Liebig Stellate cells    Neu    \n",
       "FIWA-control-pancreas-01-d_TACCGGGGTATCCCTC-1 Liebig Stellate cells    Neu    \n",
       "FIWA-control-pancreas-01-d_GTCATCCTCCTTGACC-1 Liebig Stellate cells    Neu    \n",
       "FIWA-control-pancreas-01-d_GCCCGAAAGGCGTTAG-1 Liebig Stellate cells    Neu    \n",
       "FIWA-control-pancreas-01-d_ATCCGTCCAGGCACAA-1 Liebig Stellate cells    Neu    \n",
       "FIWA-control-pancreas-01-d_GTCATTTAGTCTAGCT-1 Liebig Stellate cells    Neu    \n",
       "FIWA-control-pancreas-01-d_GGTTAACTCCGAGATT-1 Liebig Stellate cells    Neu    \n",
       "FIWA-control-pancreas-01-d_AAACGCTAGAGCGACT-1 Liebig Stellate cells    Neu    \n",
       "FIWA-control-pancreas-01-d_CTACCCAGTTCCACGG-1 Liebig Stellate cells    Neu    \n",
       "FIWA-control-pancreas-01-d_CTACAGACATAATGCC-1 Liebig Stellate cells    Neu    \n",
       "                                              patientID\n",
       "APSE-control-pancreas-01-a_ATACCTTTCGTGCACG-1 APSE     \n",
       "APSE-control-pancreas-01-a_CTCCCTCTCGCCCAGA-1 APSE     \n",
       "APSE-control-pancreas-01-a_CAATACGTCCACTGGG-1 APSE     \n",
       "APSE-control-pancreas-01-a_AGGGCCTTCTTTGCTA-1 APSE     \n",
       "APSE-control-pancreas-01-a_TTACTGTTCCAAGCTA-1 APSE     \n",
       "APSE-control-pancreas-01-a_TGCGATACAGTTGTCA-1 APSE     \n",
       "APSE-control-pancreas-01-a_CTGGTCTGTCTTGGTA-1 APSE     \n",
       "APSE-control-pancreas-01-a_CGAGTTATCGCCACTT-1 APSE     \n",
       "APSE-control-pancreas-01-a_GGACGTCTCCTTCGAC-1 APSE     \n",
       "APSE-control-pancreas-01-a_GATCACATCCGTCACT-1 APSE     \n",
       "APSE-control-pancreas-01-a_TCTGGCTTCTGCGGAC-1 APSE     \n",
       "APSE-control-pancreas-01-a_GCAACATAGAAACACT-1 APSE     \n",
       "APSE-control-pancreas-01-a_TACGGGCCATCCAACA-1 APSE     \n",
       "APSE-control-pancreas-01-a_CGATGGCAGTACGAGC-1 APSE     \n",
       "APSE-control-pancreas-01-a_GGCGTCAGTCATCGCG-1 APSE     \n",
       "APSE-control-pancreas-01-a_CGCAGGTGTACTGAGG-1 APSE     \n",
       "APSE-control-pancreas-01-a_CCAAGCGCAATCCTTT-1 APSE     \n",
       "APSE-control-pancreas-01-a_AGGTAGGTCCAGCTCT-1 APSE     \n",
       "APSE-control-pancreas-01-a_CCCTTAGGTGTCTTGA-1 APSE     \n",
       "APSE-control-pancreas-01-a_GTAACCATCGCTCTAC-1 APSE     \n",
       "APSE-control-pancreas-01-a_TGGAGGATCCGATAGT-1 APSE     \n",
       "APSE-control-pancreas-01-a_TATCAGGGTCTGCAAT-1 APSE     \n",
       "APSE-control-pancreas-01-a_CTCAATTTCGCAGATT-1 APSE     \n",
       "APSE-control-pancreas-01-a_AGCCACGTCCGCTGTT-1 APSE     \n",
       "APSE-control-pancreas-01-a_GGCAGTCTCCGCATAA-1 APSE     \n",
       "APSE-control-pancreas-01-a_CCCTCAATCTTGGTCC-1 APSE     \n",
       "APSE-control-pancreas-01-a_GAGACCCTCAGGGATG-1 APSE     \n",
       "APSE-control-pancreas-01-a_CTTGAGATCTAGCCAA-1 APSE     \n",
       "APSE-control-pancreas-01-a_GGGACCTTCTACCACC-1 APSE     \n",
       "APSE-control-pancreas-01-a_AGTTCCCGTACTTCCC-1 APSE     \n",
       "⋮                                             ⋮        \n",
       "FIWA-control-pancreas-01-d_CATGGATGTAACGGTG-1 FIWA     \n",
       "FIWA-control-pancreas-01-d_TCCTCGAGTCGCTTAA-1 FIWA     \n",
       "FIWA-control-pancreas-01-d_CTCCTTTCATTCTCTA-1 FIWA     \n",
       "FIWA-control-pancreas-01-d_AGACACTTCCCAAGCG-1 FIWA     \n",
       "FIWA-control-pancreas-01-d_CTTCCGAGTGCGAACA-1 FIWA     \n",
       "FIWA-control-pancreas-01-d_GCATGATGTGAGTTTC-1 FIWA     \n",
       "FIWA-control-pancreas-01-d_CTGAGGCCACAACGCC-1 FIWA     \n",
       "FIWA-control-pancreas-01-d_TGGAGGACACCATTCC-1 FIWA     \n",
       "FIWA-control-pancreas-01-d_CATACTTGTTGGCCTG-1 FIWA     \n",
       "FIWA-control-pancreas-01-d_CTAGACATCGTCGATA-1 FIWA     \n",
       "FIWA-control-pancreas-01-d_AGCGCTGGTTGGAGGT-1 FIWA     \n",
       "FIWA-control-pancreas-01-d_CTCATCGAGAATGTTG-1 FIWA     \n",
       "FIWA-control-pancreas-01-d_TTTGACTCATACATCG-1 FIWA     \n",
       "FIWA-control-pancreas-01-d_GGTGAAGAGGTTGGTG-1 FIWA     \n",
       "FIWA-control-pancreas-01-d_TACTTACCACCAGTTA-1 FIWA     \n",
       "FIWA-control-pancreas-01-d_TTTCCTCTCACAAGGG-1 FIWA     \n",
       "FIWA-control-pancreas-01-d_CTAACCCAGCGCCTCA-1 FIWA     \n",
       "FIWA-control-pancreas-01-d_ACTACGAGTGCGAGTA-1 FIWA     \n",
       "FIWA-control-pancreas-01-d_ACGATCAGTTAAACCC-1 FIWA     \n",
       "FIWA-control-pancreas-01-d_AGGGCCTGTTTCCAAG-1 FIWA     \n",
       "FIWA-control-pancreas-01-d_TTACGTTTCGGCATAT-1 FIWA     \n",
       "FIWA-control-pancreas-01-d_TACCGGGGTATCCCTC-1 FIWA     \n",
       "FIWA-control-pancreas-01-d_GTCATCCTCCTTGACC-1 FIWA     \n",
       "FIWA-control-pancreas-01-d_GCCCGAAAGGCGTTAG-1 FIWA     \n",
       "FIWA-control-pancreas-01-d_ATCCGTCCAGGCACAA-1 FIWA     \n",
       "FIWA-control-pancreas-01-d_GTCATTTAGTCTAGCT-1 FIWA     \n",
       "FIWA-control-pancreas-01-d_GGTTAACTCCGAGATT-1 FIWA     \n",
       "FIWA-control-pancreas-01-d_AAACGCTAGAGCGACT-1 FIWA     \n",
       "FIWA-control-pancreas-01-d_CTACCCAGTTCCACGG-1 FIWA     \n",
       "FIWA-control-pancreas-01-d_CTACAGACATAATGCC-1 FIWA     \n",
       "                                              fileID                    \n",
       "APSE-control-pancreas-01-a_ATACCTTTCGTGCACG-1 APSE-control-pancreas-01-a\n",
       "APSE-control-pancreas-01-a_CTCCCTCTCGCCCAGA-1 APSE-control-pancreas-01-a\n",
       "APSE-control-pancreas-01-a_CAATACGTCCACTGGG-1 APSE-control-pancreas-01-a\n",
       "APSE-control-pancreas-01-a_AGGGCCTTCTTTGCTA-1 APSE-control-pancreas-01-a\n",
       "APSE-control-pancreas-01-a_TTACTGTTCCAAGCTA-1 APSE-control-pancreas-01-a\n",
       "APSE-control-pancreas-01-a_TGCGATACAGTTGTCA-1 APSE-control-pancreas-01-a\n",
       "APSE-control-pancreas-01-a_CTGGTCTGTCTTGGTA-1 APSE-control-pancreas-01-a\n",
       "APSE-control-pancreas-01-a_CGAGTTATCGCCACTT-1 APSE-control-pancreas-01-a\n",
       "APSE-control-pancreas-01-a_GGACGTCTCCTTCGAC-1 APSE-control-pancreas-01-a\n",
       "APSE-control-pancreas-01-a_GATCACATCCGTCACT-1 APSE-control-pancreas-01-a\n",
       "APSE-control-pancreas-01-a_TCTGGCTTCTGCGGAC-1 APSE-control-pancreas-01-a\n",
       "APSE-control-pancreas-01-a_GCAACATAGAAACACT-1 APSE-control-pancreas-01-a\n",
       "APSE-control-pancreas-01-a_TACGGGCCATCCAACA-1 APSE-control-pancreas-01-a\n",
       "APSE-control-pancreas-01-a_CGATGGCAGTACGAGC-1 APSE-control-pancreas-01-a\n",
       "APSE-control-pancreas-01-a_GGCGTCAGTCATCGCG-1 APSE-control-pancreas-01-a\n",
       "APSE-control-pancreas-01-a_CGCAGGTGTACTGAGG-1 APSE-control-pancreas-01-a\n",
       "APSE-control-pancreas-01-a_CCAAGCGCAATCCTTT-1 APSE-control-pancreas-01-a\n",
       "APSE-control-pancreas-01-a_AGGTAGGTCCAGCTCT-1 APSE-control-pancreas-01-a\n",
       "APSE-control-pancreas-01-a_CCCTTAGGTGTCTTGA-1 APSE-control-pancreas-01-a\n",
       "APSE-control-pancreas-01-a_GTAACCATCGCTCTAC-1 APSE-control-pancreas-01-a\n",
       "APSE-control-pancreas-01-a_TGGAGGATCCGATAGT-1 APSE-control-pancreas-01-a\n",
       "APSE-control-pancreas-01-a_TATCAGGGTCTGCAAT-1 APSE-control-pancreas-01-a\n",
       "APSE-control-pancreas-01-a_CTCAATTTCGCAGATT-1 APSE-control-pancreas-01-a\n",
       "APSE-control-pancreas-01-a_AGCCACGTCCGCTGTT-1 APSE-control-pancreas-01-a\n",
       "APSE-control-pancreas-01-a_GGCAGTCTCCGCATAA-1 APSE-control-pancreas-01-a\n",
       "APSE-control-pancreas-01-a_CCCTCAATCTTGGTCC-1 APSE-control-pancreas-01-a\n",
       "APSE-control-pancreas-01-a_GAGACCCTCAGGGATG-1 APSE-control-pancreas-01-a\n",
       "APSE-control-pancreas-01-a_CTTGAGATCTAGCCAA-1 APSE-control-pancreas-01-a\n",
       "APSE-control-pancreas-01-a_GGGACCTTCTACCACC-1 APSE-control-pancreas-01-a\n",
       "APSE-control-pancreas-01-a_AGTTCCCGTACTTCCC-1 APSE-control-pancreas-01-a\n",
       "⋮                                             ⋮                         \n",
       "FIWA-control-pancreas-01-d_CATGGATGTAACGGTG-1 FIWA-control-pancreas-01-d\n",
       "FIWA-control-pancreas-01-d_TCCTCGAGTCGCTTAA-1 FIWA-control-pancreas-01-d\n",
       "FIWA-control-pancreas-01-d_CTCCTTTCATTCTCTA-1 FIWA-control-pancreas-01-d\n",
       "FIWA-control-pancreas-01-d_AGACACTTCCCAAGCG-1 FIWA-control-pancreas-01-d\n",
       "FIWA-control-pancreas-01-d_CTTCCGAGTGCGAACA-1 FIWA-control-pancreas-01-d\n",
       "FIWA-control-pancreas-01-d_GCATGATGTGAGTTTC-1 FIWA-control-pancreas-01-d\n",
       "FIWA-control-pancreas-01-d_CTGAGGCCACAACGCC-1 FIWA-control-pancreas-01-d\n",
       "FIWA-control-pancreas-01-d_TGGAGGACACCATTCC-1 FIWA-control-pancreas-01-d\n",
       "FIWA-control-pancreas-01-d_CATACTTGTTGGCCTG-1 FIWA-control-pancreas-01-d\n",
       "FIWA-control-pancreas-01-d_CTAGACATCGTCGATA-1 FIWA-control-pancreas-01-d\n",
       "FIWA-control-pancreas-01-d_AGCGCTGGTTGGAGGT-1 FIWA-control-pancreas-01-d\n",
       "FIWA-control-pancreas-01-d_CTCATCGAGAATGTTG-1 FIWA-control-pancreas-01-d\n",
       "FIWA-control-pancreas-01-d_TTTGACTCATACATCG-1 FIWA-control-pancreas-01-d\n",
       "FIWA-control-pancreas-01-d_GGTGAAGAGGTTGGTG-1 FIWA-control-pancreas-01-d\n",
       "FIWA-control-pancreas-01-d_TACTTACCACCAGTTA-1 FIWA-control-pancreas-01-d\n",
       "FIWA-control-pancreas-01-d_TTTCCTCTCACAAGGG-1 FIWA-control-pancreas-01-d\n",
       "FIWA-control-pancreas-01-d_CTAACCCAGCGCCTCA-1 FIWA-control-pancreas-01-d\n",
       "FIWA-control-pancreas-01-d_ACTACGAGTGCGAGTA-1 FIWA-control-pancreas-01-d\n",
       "FIWA-control-pancreas-01-d_ACGATCAGTTAAACCC-1 FIWA-control-pancreas-01-d\n",
       "FIWA-control-pancreas-01-d_AGGGCCTGTTTCCAAG-1 FIWA-control-pancreas-01-d\n",
       "FIWA-control-pancreas-01-d_TTACGTTTCGGCATAT-1 FIWA-control-pancreas-01-d\n",
       "FIWA-control-pancreas-01-d_TACCGGGGTATCCCTC-1 FIWA-control-pancreas-01-d\n",
       "FIWA-control-pancreas-01-d_GTCATCCTCCTTGACC-1 FIWA-control-pancreas-01-d\n",
       "FIWA-control-pancreas-01-d_GCCCGAAAGGCGTTAG-1 FIWA-control-pancreas-01-d\n",
       "FIWA-control-pancreas-01-d_ATCCGTCCAGGCACAA-1 FIWA-control-pancreas-01-d\n",
       "FIWA-control-pancreas-01-d_GTCATTTAGTCTAGCT-1 FIWA-control-pancreas-01-d\n",
       "FIWA-control-pancreas-01-d_GGTTAACTCCGAGATT-1 FIWA-control-pancreas-01-d\n",
       "FIWA-control-pancreas-01-d_AAACGCTAGAGCGACT-1 FIWA-control-pancreas-01-d\n",
       "FIWA-control-pancreas-01-d_CTACCCAGTTCCACGG-1 FIWA-control-pancreas-01-d\n",
       "FIWA-control-pancreas-01-d_CTACAGACATAATGCC-1 FIWA-control-pancreas-01-d\n",
       "                                              tissue   primary_or_cultured\n",
       "APSE-control-pancreas-01-a_ATACCTTTCGTGCACG-1 pancreas primary            \n",
       "APSE-control-pancreas-01-a_CTCCCTCTCGCCCAGA-1 pancreas primary            \n",
       "APSE-control-pancreas-01-a_CAATACGTCCACTGGG-1 pancreas primary            \n",
       "APSE-control-pancreas-01-a_AGGGCCTTCTTTGCTA-1 pancreas primary            \n",
       "APSE-control-pancreas-01-a_TTACTGTTCCAAGCTA-1 pancreas primary            \n",
       "APSE-control-pancreas-01-a_TGCGATACAGTTGTCA-1 pancreas primary            \n",
       "APSE-control-pancreas-01-a_CTGGTCTGTCTTGGTA-1 pancreas primary            \n",
       "APSE-control-pancreas-01-a_CGAGTTATCGCCACTT-1 pancreas primary            \n",
       "APSE-control-pancreas-01-a_GGACGTCTCCTTCGAC-1 pancreas primary            \n",
       "APSE-control-pancreas-01-a_GATCACATCCGTCACT-1 pancreas primary            \n",
       "APSE-control-pancreas-01-a_TCTGGCTTCTGCGGAC-1 pancreas primary            \n",
       "APSE-control-pancreas-01-a_GCAACATAGAAACACT-1 pancreas primary            \n",
       "APSE-control-pancreas-01-a_TACGGGCCATCCAACA-1 pancreas primary            \n",
       "APSE-control-pancreas-01-a_CGATGGCAGTACGAGC-1 pancreas primary            \n",
       "APSE-control-pancreas-01-a_GGCGTCAGTCATCGCG-1 pancreas primary            \n",
       "APSE-control-pancreas-01-a_CGCAGGTGTACTGAGG-1 pancreas primary            \n",
       "APSE-control-pancreas-01-a_CCAAGCGCAATCCTTT-1 pancreas primary            \n",
       "APSE-control-pancreas-01-a_AGGTAGGTCCAGCTCT-1 pancreas primary            \n",
       "APSE-control-pancreas-01-a_CCCTTAGGTGTCTTGA-1 pancreas primary            \n",
       "APSE-control-pancreas-01-a_GTAACCATCGCTCTAC-1 pancreas primary            \n",
       "APSE-control-pancreas-01-a_TGGAGGATCCGATAGT-1 pancreas primary            \n",
       "APSE-control-pancreas-01-a_TATCAGGGTCTGCAAT-1 pancreas primary            \n",
       "APSE-control-pancreas-01-a_CTCAATTTCGCAGATT-1 pancreas primary            \n",
       "APSE-control-pancreas-01-a_AGCCACGTCCGCTGTT-1 pancreas primary            \n",
       "APSE-control-pancreas-01-a_GGCAGTCTCCGCATAA-1 pancreas primary            \n",
       "APSE-control-pancreas-01-a_CCCTCAATCTTGGTCC-1 pancreas primary            \n",
       "APSE-control-pancreas-01-a_GAGACCCTCAGGGATG-1 pancreas primary            \n",
       "APSE-control-pancreas-01-a_CTTGAGATCTAGCCAA-1 pancreas primary            \n",
       "APSE-control-pancreas-01-a_GGGACCTTCTACCACC-1 pancreas primary            \n",
       "APSE-control-pancreas-01-a_AGTTCCCGTACTTCCC-1 pancreas primary            \n",
       "⋮                                             ⋮        ⋮                  \n",
       "FIWA-control-pancreas-01-d_CATGGATGTAACGGTG-1 pancreas primary            \n",
       "FIWA-control-pancreas-01-d_TCCTCGAGTCGCTTAA-1 pancreas primary            \n",
       "FIWA-control-pancreas-01-d_CTCCTTTCATTCTCTA-1 pancreas primary            \n",
       "FIWA-control-pancreas-01-d_AGACACTTCCCAAGCG-1 pancreas primary            \n",
       "FIWA-control-pancreas-01-d_CTTCCGAGTGCGAACA-1 pancreas primary            \n",
       "FIWA-control-pancreas-01-d_GCATGATGTGAGTTTC-1 pancreas primary            \n",
       "FIWA-control-pancreas-01-d_CTGAGGCCACAACGCC-1 pancreas primary            \n",
       "FIWA-control-pancreas-01-d_TGGAGGACACCATTCC-1 pancreas primary            \n",
       "FIWA-control-pancreas-01-d_CATACTTGTTGGCCTG-1 pancreas primary            \n",
       "FIWA-control-pancreas-01-d_CTAGACATCGTCGATA-1 pancreas primary            \n",
       "FIWA-control-pancreas-01-d_AGCGCTGGTTGGAGGT-1 pancreas primary            \n",
       "FIWA-control-pancreas-01-d_CTCATCGAGAATGTTG-1 pancreas primary            \n",
       "FIWA-control-pancreas-01-d_TTTGACTCATACATCG-1 pancreas primary            \n",
       "FIWA-control-pancreas-01-d_GGTGAAGAGGTTGGTG-1 pancreas primary            \n",
       "FIWA-control-pancreas-01-d_TACTTACCACCAGTTA-1 pancreas primary            \n",
       "FIWA-control-pancreas-01-d_TTTCCTCTCACAAGGG-1 pancreas primary            \n",
       "FIWA-control-pancreas-01-d_CTAACCCAGCGCCTCA-1 pancreas primary            \n",
       "FIWA-control-pancreas-01-d_ACTACGAGTGCGAGTA-1 pancreas primary            \n",
       "FIWA-control-pancreas-01-d_ACGATCAGTTAAACCC-1 pancreas primary            \n",
       "FIWA-control-pancreas-01-d_AGGGCCTGTTTCCAAG-1 pancreas primary            \n",
       "FIWA-control-pancreas-01-d_TTACGTTTCGGCATAT-1 pancreas primary            \n",
       "FIWA-control-pancreas-01-d_TACCGGGGTATCCCTC-1 pancreas primary            \n",
       "FIWA-control-pancreas-01-d_GTCATCCTCCTTGACC-1 pancreas primary            \n",
       "FIWA-control-pancreas-01-d_GCCCGAAAGGCGTTAG-1 pancreas primary            \n",
       "FIWA-control-pancreas-01-d_ATCCGTCCAGGCACAA-1 pancreas primary            \n",
       "FIWA-control-pancreas-01-d_GTCATTTAGTCTAGCT-1 pancreas primary            \n",
       "FIWA-control-pancreas-01-d_GGTTAACTCCGAGATT-1 pancreas primary            \n",
       "FIWA-control-pancreas-01-d_AAACGCTAGAGCGACT-1 pancreas primary            \n",
       "FIWA-control-pancreas-01-d_CTACCCAGTTCCACGG-1 pancreas primary            \n",
       "FIWA-control-pancreas-01-d_CTACAGACATAATGCC-1 pancreas primary            \n",
       "                                              cells_or_nuclei\n",
       "APSE-control-pancreas-01-a_ATACCTTTCGTGCACG-1 nuclei         \n",
       "APSE-control-pancreas-01-a_CTCCCTCTCGCCCAGA-1 nuclei         \n",
       "APSE-control-pancreas-01-a_CAATACGTCCACTGGG-1 nuclei         \n",
       "APSE-control-pancreas-01-a_AGGGCCTTCTTTGCTA-1 nuclei         \n",
       "APSE-control-pancreas-01-a_TTACTGTTCCAAGCTA-1 nuclei         \n",
       "APSE-control-pancreas-01-a_TGCGATACAGTTGTCA-1 nuclei         \n",
       "APSE-control-pancreas-01-a_CTGGTCTGTCTTGGTA-1 nuclei         \n",
       "APSE-control-pancreas-01-a_CGAGTTATCGCCACTT-1 nuclei         \n",
       "APSE-control-pancreas-01-a_GGACGTCTCCTTCGAC-1 nuclei         \n",
       "APSE-control-pancreas-01-a_GATCACATCCGTCACT-1 nuclei         \n",
       "APSE-control-pancreas-01-a_TCTGGCTTCTGCGGAC-1 nuclei         \n",
       "APSE-control-pancreas-01-a_GCAACATAGAAACACT-1 nuclei         \n",
       "APSE-control-pancreas-01-a_TACGGGCCATCCAACA-1 nuclei         \n",
       "APSE-control-pancreas-01-a_CGATGGCAGTACGAGC-1 nuclei         \n",
       "APSE-control-pancreas-01-a_GGCGTCAGTCATCGCG-1 nuclei         \n",
       "APSE-control-pancreas-01-a_CGCAGGTGTACTGAGG-1 nuclei         \n",
       "APSE-control-pancreas-01-a_CCAAGCGCAATCCTTT-1 nuclei         \n",
       "APSE-control-pancreas-01-a_AGGTAGGTCCAGCTCT-1 nuclei         \n",
       "APSE-control-pancreas-01-a_CCCTTAGGTGTCTTGA-1 nuclei         \n",
       "APSE-control-pancreas-01-a_GTAACCATCGCTCTAC-1 nuclei         \n",
       "APSE-control-pancreas-01-a_TGGAGGATCCGATAGT-1 nuclei         \n",
       "APSE-control-pancreas-01-a_TATCAGGGTCTGCAAT-1 nuclei         \n",
       "APSE-control-pancreas-01-a_CTCAATTTCGCAGATT-1 nuclei         \n",
       "APSE-control-pancreas-01-a_AGCCACGTCCGCTGTT-1 nuclei         \n",
       "APSE-control-pancreas-01-a_GGCAGTCTCCGCATAA-1 nuclei         \n",
       "APSE-control-pancreas-01-a_CCCTCAATCTTGGTCC-1 nuclei         \n",
       "APSE-control-pancreas-01-a_GAGACCCTCAGGGATG-1 nuclei         \n",
       "APSE-control-pancreas-01-a_CTTGAGATCTAGCCAA-1 nuclei         \n",
       "APSE-control-pancreas-01-a_GGGACCTTCTACCACC-1 nuclei         \n",
       "APSE-control-pancreas-01-a_AGTTCCCGTACTTCCC-1 nuclei         \n",
       "⋮                                             ⋮              \n",
       "FIWA-control-pancreas-01-d_CATGGATGTAACGGTG-1 nuclei         \n",
       "FIWA-control-pancreas-01-d_TCCTCGAGTCGCTTAA-1 nuclei         \n",
       "FIWA-control-pancreas-01-d_CTCCTTTCATTCTCTA-1 nuclei         \n",
       "FIWA-control-pancreas-01-d_AGACACTTCCCAAGCG-1 nuclei         \n",
       "FIWA-control-pancreas-01-d_CTTCCGAGTGCGAACA-1 nuclei         \n",
       "FIWA-control-pancreas-01-d_GCATGATGTGAGTTTC-1 nuclei         \n",
       "FIWA-control-pancreas-01-d_CTGAGGCCACAACGCC-1 nuclei         \n",
       "FIWA-control-pancreas-01-d_TGGAGGACACCATTCC-1 nuclei         \n",
       "FIWA-control-pancreas-01-d_CATACTTGTTGGCCTG-1 nuclei         \n",
       "FIWA-control-pancreas-01-d_CTAGACATCGTCGATA-1 nuclei         \n",
       "FIWA-control-pancreas-01-d_AGCGCTGGTTGGAGGT-1 nuclei         \n",
       "FIWA-control-pancreas-01-d_CTCATCGAGAATGTTG-1 nuclei         \n",
       "FIWA-control-pancreas-01-d_TTTGACTCATACATCG-1 nuclei         \n",
       "FIWA-control-pancreas-01-d_GGTGAAGAGGTTGGTG-1 nuclei         \n",
       "FIWA-control-pancreas-01-d_TACTTACCACCAGTTA-1 nuclei         \n",
       "FIWA-control-pancreas-01-d_TTTCCTCTCACAAGGG-1 nuclei         \n",
       "FIWA-control-pancreas-01-d_CTAACCCAGCGCCTCA-1 nuclei         \n",
       "FIWA-control-pancreas-01-d_ACTACGAGTGCGAGTA-1 nuclei         \n",
       "FIWA-control-pancreas-01-d_ACGATCAGTTAAACCC-1 nuclei         \n",
       "FIWA-control-pancreas-01-d_AGGGCCTGTTTCCAAG-1 nuclei         \n",
       "FIWA-control-pancreas-01-d_TTACGTTTCGGCATAT-1 nuclei         \n",
       "FIWA-control-pancreas-01-d_TACCGGGGTATCCCTC-1 nuclei         \n",
       "FIWA-control-pancreas-01-d_GTCATCCTCCTTGACC-1 nuclei         \n",
       "FIWA-control-pancreas-01-d_GCCCGAAAGGCGTTAG-1 nuclei         \n",
       "FIWA-control-pancreas-01-d_ATCCGTCCAGGCACAA-1 nuclei         \n",
       "FIWA-control-pancreas-01-d_GTCATTTAGTCTAGCT-1 nuclei         \n",
       "FIWA-control-pancreas-01-d_GGTTAACTCCGAGATT-1 nuclei         \n",
       "FIWA-control-pancreas-01-d_AAACGCTAGAGCGACT-1 nuclei         \n",
       "FIWA-control-pancreas-01-d_CTACCCAGTTCCACGG-1 nuclei         \n",
       "FIWA-control-pancreas-01-d_CTACAGACATAATGCC-1 nuclei         "
      ]
     },
     "metadata": {},
     "output_type": "display_data"
    }
   ],
   "source": [
    "data_espace_metadata"
   ]
  },
  {
   "cell_type": "code",
   "execution_count": 48,
   "id": "5210aeb5-361a-4919-a263-577c3f734836",
   "metadata": {
    "vscode": {
     "languageId": "r"
    }
   },
   "outputs": [
    {
     "name": "stderr",
     "output_type": "stream",
     "text": [
      "Warning message:\n",
      "“Data is of class matrix. Coercing to dgCMatrix.”\n"
     ]
    }
   ],
   "source": [
    "data_espace_seurat <- CreateSeuratObject(counts = aggregated_counts, meta.data = data_espace_metadata)"
   ]
  },
  {
   "cell_type": "code",
   "execution_count": 49,
   "id": "abe183b5-095f-479d-a894-e4abf51ee85b",
   "metadata": {
    "vscode": {
     "languageId": "r"
    }
   },
   "outputs": [],
   "source": [
    "save(data_espace_seurat, file = \"data_espace_seurat.RData\")"
   ]
  }
 ],
 "metadata": {
  "kernelspec": {
   "display_name": "R [conda env:panfib] *",
   "language": "R",
   "name": "conda-env-panfib-r"
  },
  "language_info": {
   "codemirror_mode": "r",
   "file_extension": ".r",
   "mimetype": "text/x-r-source",
   "name": "R",
   "pygments_lexer": "r",
   "version": "4.3.3"
  }
 },
 "nbformat": 4,
 "nbformat_minor": 5
}
