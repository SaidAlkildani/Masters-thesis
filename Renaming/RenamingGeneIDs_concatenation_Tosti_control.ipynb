{
 "cells": [
  {
   "cell_type": "code",
   "execution_count": 1,
   "id": "ae54cf04-faff-46d7-a241-0e11f79ca386",
   "metadata": {},
   "outputs": [
    {
     "name": "stderr",
     "output_type": "stream",
     "text": [
      "Loading required package: SeuratObject\n",
      "\n",
      "Loading required package: sp\n",
      "\n",
      "‘SeuratObject’ was built under R 4.3.2 but the current version is\n",
      "4.3.3; it is recomended that you reinstall ‘SeuratObject’ as the ABI\n",
      "for R may have changed\n",
      "\n",
      "‘SeuratObject’ was built with package ‘Matrix’ 1.6.3 but the current\n",
      "version is 1.6.5; it is recomended that you reinstall ‘SeuratObject’ as\n",
      "the ABI for ‘Matrix’ may have changed\n",
      "\n",
      "\n",
      "Attaching package: ‘SeuratObject’\n",
      "\n",
      "\n",
      "The following object is masked from ‘package:base’:\n",
      "\n",
      "    intersect\n",
      "\n",
      "\n"
     ]
    }
   ],
   "source": [
    "library(Seurat)\n",
    "library(openxlsx)\n",
    "library(readxl)\n",
    "library(Matrix)\n",
    "library(readr)"
   ]
  },
  {
   "cell_type": "code",
   "execution_count": null,
   "id": "3c1b1884-7a28-4598-b2a4-cdc50d07a1d1",
   "metadata": {},
   "outputs": [],
   "source": [
    "#Need to find out if all duplicates are nonzeros\n",
    "#Tostipanc\n",
    "setwd(\"/dh-projects/ag-conrad/analysis/saal11/panfib/Renaming/Tostipanc\")\n",
    "#Upload matrices\n",
    "data_tosti_panc_matrix <- readMM(\"data_tosti_panc_matrix.mtx\")\n",
    "#Upload original gene list\n",
    "data_tosti_panc_genes <- read.xlsx(\"data_tosti_panc_geneIDs_int_removed_manualedit.xlsx\")\n",
    "data_tosti_panc_genes <- data_tosti_panc_genes$New\n",
    "data_tosti_panc_cellIDs <- read.delim(\"data_tosti_panc_cellIDs.tsv\")\n",
    "rownames(data_tosti_panc_matrix) <- data_tosti_panc_genes\n",
    "colnames(data_tosti_panc_matrix) <- data_tosti_panc_cellIDs$cellIDs"
   ]
  },
  {
   "cell_type": "code",
   "execution_count": 10,
   "id": "4b70090b-b420-45f9-91c1-7c9ac24e8f8c",
   "metadata": {},
   "outputs": [],
   "source": [
    "data_tosti_panc_genes_dup <- read.xlsx(\"data_tosti_panc_geneIDs_forcount.xlsx\")"
   ]
  },
  {
   "cell_type": "code",
   "execution_count": 11,
   "id": "dc83d867-51b9-4338-b350-77a58de874cc",
   "metadata": {},
   "outputs": [],
   "source": [
    "#Find the zeros of these duplicates\n",
    "#Initialize an empty list to store the sums\n",
    "sums_list <- list()\n",
    "\n",
    "#Iterate over each gene in your list\n",
    "for (gene in data_tosti_panc_genes_dup$Old) {\n",
    "  #Subset the count matrix for the current gene and calculate the sum\n",
    "  gene_sum <- sum(data_tosti_panc_matrix[rownames(data_tosti_panc_matrix) == gene, ])\n",
    "  \n",
    "  #Add the sum to the sums_list with the gene name as the key\n",
    "  sums_list[[gene]] <- gene_sum\n",
    "}"
   ]
  },
  {
   "cell_type": "code",
   "execution_count": null,
   "id": "880dace7-f04e-4948-b9ad-4f6d50b662e8",
   "metadata": {},
   "outputs": [],
   "source": [
    "sums_list"
   ]
  },
  {
   "cell_type": "code",
   "execution_count": 13,
   "id": "fcdbca97-a1e7-48e3-b6fc-dc940b84f0c6",
   "metadata": {},
   "outputs": [],
   "source": [
    "dup_sum <- do.call(rbind, lapply(sums_list, as.data.frame))"
   ]
  },
  {
   "cell_type": "code",
   "execution_count": 15,
   "id": "fb7a3649-4d0c-4b54-a347-6ce64fe9549a",
   "metadata": {},
   "outputs": [],
   "source": [
    "dup_sum$genes <- rownames(dup_sum)"
   ]
  },
  {
   "cell_type": "code",
   "execution_count": 19,
   "id": "19abb316-d192-443d-a26e-efe97dff6714",
   "metadata": {},
   "outputs": [],
   "source": [
    "write.xlsx(list(dup_sum), \"data_tosti_panc_geneIDs_dup_sum.xlsx\")"
   ]
  },
  {
   "cell_type": "code",
   "execution_count": 21,
   "id": "76f39d58-4e17-4d9f-bea0-01cafd878641",
   "metadata": {},
   "outputs": [],
   "source": [
    "data_tosti_panc_genes <- read.xlsx(\"data_tosti_panc_geneIDs_int_removed_manualedit.xlsx\")\n",
    "data_tosti_panc_genes <- data_tosti_panc_genes$New"
   ]
  },
  {
   "cell_type": "code",
   "execution_count": 22,
   "id": "14efb69e-e7cc-4d74-a606-3936aceac30d",
   "metadata": {},
   "outputs": [],
   "source": [
    "rownames(data_tosti_panc_matrix) <- data_tosti_panc_genes"
   ]
  },
  {
   "cell_type": "code",
   "execution_count": null,
   "id": "ff4cf08a-40db-4a70-9d3e-2a38478170f4",
   "metadata": {},
   "outputs": [],
   "source": [
    "rownames(data_tosti_panc_matrix)"
   ]
  },
  {
   "cell_type": "code",
   "execution_count": 26,
   "id": "e2ffb717-110d-4726-b258-dce1fb4a42f2",
   "metadata": {},
   "outputs": [
    {
     "data": {
      "text/html": [
       "16074"
      ],
      "text/latex": [
       "16074"
      ],
      "text/markdown": [
       "16074"
      ],
      "text/plain": [
       "[1] 16074"
      ]
     },
     "metadata": {},
     "output_type": "display_data"
    }
   ],
   "source": [
    "#Remove zeros\n",
    "row_sums <- rowSums(data_tosti_panc_matrix)\n",
    "names_with_zeros <- names(row_sums[row_sums == 0])\n",
    "length(names_with_zeros)"
   ]
  },
  {
   "cell_type": "code",
   "execution_count": 28,
   "id": "36e46af8-851b-4064-b58a-17773dcf9dd1",
   "metadata": {},
   "outputs": [],
   "source": [
    "filtered_data_tosti_panc_matrix <- data_tosti_panc_matrix[row_sums != 0, ]"
   ]
  },
  {
   "cell_type": "code",
   "execution_count": 29,
   "id": "149c5c59-696b-4e90-b94c-077981762b00",
   "metadata": {},
   "outputs": [
    {
     "name": "stdout",
     "output_type": "stream",
     "text": [
      "Formal class 'dgTMatrix' [package \"Matrix\"] with 6 slots\n",
      "  ..@ i       : int [1:33014383] 17 26 30 85 94 117 122 127 197 200 ...\n",
      "  ..@ j       : int [1:33014383] 0 0 0 0 0 0 0 0 0 0 ...\n",
      "  ..@ Dim     : int [1:2] 27741 56455\n",
      "  ..@ Dimnames:List of 2\n",
      "  .. ..$ : chr [1:27741] \"A1BG-AS1\" \"A1BG\" \"A1CF\" \"A2M-AS1\" ...\n",
      "  .. ..$ : chr [1:56455] \"AAACCTGAGAAGGTGA_6\" \"AAACCTGAGATGTAAC_6\" \"AAACCTGAGCACCGTC_6\" \"AAACCTGAGCGCTTAT_6\" ...\n",
      "  ..@ x       : num [1:33014383] 1 1 1 1 1 1 1 1 1 1 ...\n",
      "  ..@ factors : list()\n",
      "Formal class 'dgTMatrix' [package \"Matrix\"] with 6 slots\n",
      "  ..@ i       : int [1:33014383] 19 29 33 96 105 130 135 140 214 217 ...\n",
      "  ..@ j       : int [1:33014383] 0 0 0 0 0 0 0 0 0 0 ...\n",
      "  ..@ Dim     : int [1:2] 43815 56455\n",
      "  ..@ Dimnames:List of 2\n",
      "  .. ..$ : chr [1:43815] \"A1BG-AS1\" \"A1BG\" \"A1CF\" \"A2M-AS1\" ...\n",
      "  .. ..$ : chr [1:56455] \"AAACCTGAGAAGGTGA_6\" \"AAACCTGAGATGTAAC_6\" \"AAACCTGAGCACCGTC_6\" \"AAACCTGAGCGCTTAT_6\" ...\n",
      "  ..@ x       : num [1:33014383] 1 1 1 1 1 1 1 1 1 1 ...\n",
      "  ..@ factors : list()\n"
     ]
    }
   ],
   "source": [
    "str(filtered_data_tosti_panc_matrix)\n",
    "str(data_tosti_panc_matrix)"
   ]
  },
  {
   "cell_type": "code",
   "execution_count": 30,
   "id": "511abdcc-3200-4e5f-99c5-bed48b0308e0",
   "metadata": {},
   "outputs": [
    {
     "name": "stdout",
     "output_type": "stream",
     "text": [
      "Duplicate gene IDs:\n"
     ]
    },
    {
     "data": {
      "text/html": [
       "61"
      ],
      "text/latex": [
       "61"
      ],
      "text/markdown": [
       "61"
      ],
      "text/plain": [
       "[1] 61"
      ]
     },
     "metadata": {},
     "output_type": "display_data"
    }
   ],
   "source": [
    "#Check duplicates\n",
    "#Find sums of duplicate genes (from manual edit)\n",
    "duplicate_genes <- duplicated(rownames(filtered_data_tosti_panc_matrix))\n",
    "cat(\"Duplicate gene IDs:\\n\")\n",
    "#print(rownames(data_fons_matrix)[duplicate_genes])\n",
    "duplicated <- rownames(filtered_data_tosti_panc_matrix)[duplicate_genes]\n",
    "length(duplicated)\n",
    "#matches excel!"
   ]
  },
  {
   "cell_type": "code",
   "execution_count": 31,
   "id": "9cbab3b7-baff-42cb-adbe-2c5ff4e33212",
   "metadata": {},
   "outputs": [
    {
     "data": {
      "text/html": [
       "<style>\n",
       ".list-inline {list-style: none; margin:0; padding: 0}\n",
       ".list-inline>li {display: inline-block}\n",
       ".list-inline>li:not(:last-child)::after {content: \"\\00b7\"; padding: 0 .5ex}\n",
       "</style>\n",
       "<ol class=list-inline><li>'AGAP4'</li><li>'CFAP47'</li><li>'DLGAP2'</li><li>'ETF1'</li><li>'WASHC2A'</li><li>'GJD3'</li><li>'GRIK5'</li><li>'HNRNPU'</li><li>'BTBD8'</li><li>'KLKB1'</li><li>'LCOR'</li><li>'LHFPL3'</li><li>'MCM2'</li><li>'MIA2'</li><li>'MICAL2'</li><li>'MMP25'</li><li>'NAA38'</li><li>'NBPF15'</li><li>'PLEKHG7'</li><li>'PSG9'</li><li>'CRABP1'</li><li>'RPS17'</li><li>'S1PR3'</li><li>'SGK3'</li><li>'SIGLEC12'</li><li>'SLC6A2'</li><li>'SOCS4'</li><li>'ARHGAP42'</li><li>'SLITRK2'</li><li>'TRPM2'</li><li>'SLC18A1'</li><li>'CFAP47'</li><li>'MMRN2'</li><li>'GPR89B'</li><li>'NBPF11'</li><li>'SYNE3'</li><li>'RRM2'</li><li>'GALNTL5'</li><li>'C10orf67'</li><li>'ZFHX3'</li><li>'LINC00499'</li><li>'ZNG1F'</li><li>'PRAMEF20'</li><li>'AREG'</li><li>'TRAF3IP2-AS1'</li><li>'CASTOR2'</li><li>'TSPAN7'</li><li>'AGO2'</li><li>'FAM27E2'</li><li>'MRC1'</li><li>'NSUN6'</li><li>'CCDC7'</li><li>'PTPN20'</li><li>'ASAH2B'</li><li>'GRAMD1B'</li><li>'SUCLA2'</li><li>'GOLGA6L10'</li><li>'GOLGA6L9'</li><li>'LRRC3'</li><li>'FAM25EP'</li><li>'LINC00383'</li></ol>\n"
      ],
      "text/latex": [
       "\\begin{enumerate*}\n",
       "\\item 'AGAP4'\n",
       "\\item 'CFAP47'\n",
       "\\item 'DLGAP2'\n",
       "\\item 'ETF1'\n",
       "\\item 'WASHC2A'\n",
       "\\item 'GJD3'\n",
       "\\item 'GRIK5'\n",
       "\\item 'HNRNPU'\n",
       "\\item 'BTBD8'\n",
       "\\item 'KLKB1'\n",
       "\\item 'LCOR'\n",
       "\\item 'LHFPL3'\n",
       "\\item 'MCM2'\n",
       "\\item 'MIA2'\n",
       "\\item 'MICAL2'\n",
       "\\item 'MMP25'\n",
       "\\item 'NAA38'\n",
       "\\item 'NBPF15'\n",
       "\\item 'PLEKHG7'\n",
       "\\item 'PSG9'\n",
       "\\item 'CRABP1'\n",
       "\\item 'RPS17'\n",
       "\\item 'S1PR3'\n",
       "\\item 'SGK3'\n",
       "\\item 'SIGLEC12'\n",
       "\\item 'SLC6A2'\n",
       "\\item 'SOCS4'\n",
       "\\item 'ARHGAP42'\n",
       "\\item 'SLITRK2'\n",
       "\\item 'TRPM2'\n",
       "\\item 'SLC18A1'\n",
       "\\item 'CFAP47'\n",
       "\\item 'MMRN2'\n",
       "\\item 'GPR89B'\n",
       "\\item 'NBPF11'\n",
       "\\item 'SYNE3'\n",
       "\\item 'RRM2'\n",
       "\\item 'GALNTL5'\n",
       "\\item 'C10orf67'\n",
       "\\item 'ZFHX3'\n",
       "\\item 'LINC00499'\n",
       "\\item 'ZNG1F'\n",
       "\\item 'PRAMEF20'\n",
       "\\item 'AREG'\n",
       "\\item 'TRAF3IP2-AS1'\n",
       "\\item 'CASTOR2'\n",
       "\\item 'TSPAN7'\n",
       "\\item 'AGO2'\n",
       "\\item 'FAM27E2'\n",
       "\\item 'MRC1'\n",
       "\\item 'NSUN6'\n",
       "\\item 'CCDC7'\n",
       "\\item 'PTPN20'\n",
       "\\item 'ASAH2B'\n",
       "\\item 'GRAMD1B'\n",
       "\\item 'SUCLA2'\n",
       "\\item 'GOLGA6L10'\n",
       "\\item 'GOLGA6L9'\n",
       "\\item 'LRRC3'\n",
       "\\item 'FAM25EP'\n",
       "\\item 'LINC00383'\n",
       "\\end{enumerate*}\n"
      ],
      "text/markdown": [
       "1. 'AGAP4'\n",
       "2. 'CFAP47'\n",
       "3. 'DLGAP2'\n",
       "4. 'ETF1'\n",
       "5. 'WASHC2A'\n",
       "6. 'GJD3'\n",
       "7. 'GRIK5'\n",
       "8. 'HNRNPU'\n",
       "9. 'BTBD8'\n",
       "10. 'KLKB1'\n",
       "11. 'LCOR'\n",
       "12. 'LHFPL3'\n",
       "13. 'MCM2'\n",
       "14. 'MIA2'\n",
       "15. 'MICAL2'\n",
       "16. 'MMP25'\n",
       "17. 'NAA38'\n",
       "18. 'NBPF15'\n",
       "19. 'PLEKHG7'\n",
       "20. 'PSG9'\n",
       "21. 'CRABP1'\n",
       "22. 'RPS17'\n",
       "23. 'S1PR3'\n",
       "24. 'SGK3'\n",
       "25. 'SIGLEC12'\n",
       "26. 'SLC6A2'\n",
       "27. 'SOCS4'\n",
       "28. 'ARHGAP42'\n",
       "29. 'SLITRK2'\n",
       "30. 'TRPM2'\n",
       "31. 'SLC18A1'\n",
       "32. 'CFAP47'\n",
       "33. 'MMRN2'\n",
       "34. 'GPR89B'\n",
       "35. 'NBPF11'\n",
       "36. 'SYNE3'\n",
       "37. 'RRM2'\n",
       "38. 'GALNTL5'\n",
       "39. 'C10orf67'\n",
       "40. 'ZFHX3'\n",
       "41. 'LINC00499'\n",
       "42. 'ZNG1F'\n",
       "43. 'PRAMEF20'\n",
       "44. 'AREG'\n",
       "45. 'TRAF3IP2-AS1'\n",
       "46. 'CASTOR2'\n",
       "47. 'TSPAN7'\n",
       "48. 'AGO2'\n",
       "49. 'FAM27E2'\n",
       "50. 'MRC1'\n",
       "51. 'NSUN6'\n",
       "52. 'CCDC7'\n",
       "53. 'PTPN20'\n",
       "54. 'ASAH2B'\n",
       "55. 'GRAMD1B'\n",
       "56. 'SUCLA2'\n",
       "57. 'GOLGA6L10'\n",
       "58. 'GOLGA6L9'\n",
       "59. 'LRRC3'\n",
       "60. 'FAM25EP'\n",
       "61. 'LINC00383'\n",
       "\n",
       "\n"
      ],
      "text/plain": [
       " [1] \"AGAP4\"        \"CFAP47\"       \"DLGAP2\"       \"ETF1\"         \"WASHC2A\"     \n",
       " [6] \"GJD3\"         \"GRIK5\"        \"HNRNPU\"       \"BTBD8\"        \"KLKB1\"       \n",
       "[11] \"LCOR\"         \"LHFPL3\"       \"MCM2\"         \"MIA2\"         \"MICAL2\"      \n",
       "[16] \"MMP25\"        \"NAA38\"        \"NBPF15\"       \"PLEKHG7\"      \"PSG9\"        \n",
       "[21] \"CRABP1\"       \"RPS17\"        \"S1PR3\"        \"SGK3\"         \"SIGLEC12\"    \n",
       "[26] \"SLC6A2\"       \"SOCS4\"        \"ARHGAP42\"     \"SLITRK2\"      \"TRPM2\"       \n",
       "[31] \"SLC18A1\"      \"CFAP47\"       \"MMRN2\"        \"GPR89B\"       \"NBPF11\"      \n",
       "[36] \"SYNE3\"        \"RRM2\"         \"GALNTL5\"      \"C10orf67\"     \"ZFHX3\"       \n",
       "[41] \"LINC00499\"    \"ZNG1F\"        \"PRAMEF20\"     \"AREG\"         \"TRAF3IP2-AS1\"\n",
       "[46] \"CASTOR2\"      \"TSPAN7\"       \"AGO2\"         \"FAM27E2\"      \"MRC1\"        \n",
       "[51] \"NSUN6\"        \"CCDC7\"        \"PTPN20\"       \"ASAH2B\"       \"GRAMD1B\"     \n",
       "[56] \"SUCLA2\"       \"GOLGA6L10\"    \"GOLGA6L9\"     \"LRRC3\"        \"FAM25EP\"     \n",
       "[61] \"LINC00383\"   "
      ]
     },
     "metadata": {},
     "output_type": "display_data"
    }
   ],
   "source": [
    "duplicated"
   ]
  },
  {
   "cell_type": "code",
   "execution_count": null,
   "id": "e1c53eef-0c64-493f-b7ae-68a365e4914b",
   "metadata": {},
   "outputs": [],
   "source": [
    "#The number of duplicates does not match the number of genes to concatenate but after a check, it seems like these duplicates have zeros that did not filter out"
   ]
  },
  {
   "cell_type": "code",
   "execution_count": 32,
   "id": "c9be7aae-a165-49b1-bc50-a46246a1091a",
   "metadata": {},
   "outputs": [
    {
     "name": "stderr",
     "output_type": "stream",
     "text": [
      "'as(<dgTMatrix>, \"dgCMatrix\")' is deprecated.\n",
      "Use 'as(., \"CsparseMatrix\")' instead.\n",
      "See help(\"Deprecated\") and help(\"Matrix-deprecated\").\n",
      "\n"
     ]
    }
   ],
   "source": [
    "#Concatenating replicates\n",
    "filtered_data_tosti_panc_matrix <- as(filtered_data_tosti_panc_matrix, \"dgCMatrix\")"
   ]
  },
  {
   "cell_type": "code",
   "execution_count": 33,
   "id": "85df75ca-3660-4303-81a9-e0718219ee37",
   "metadata": {},
   "outputs": [],
   "source": [
    "gene_names <- rownames(filtered_data_tosti_panc_matrix)\n",
    "unique_gene_names <- unique(gene_names)\n",
    "gene_factors <- factor(gene_names, levels = unique_gene_names)"
   ]
  },
  {
   "cell_type": "code",
   "execution_count": 34,
   "id": "e344d4bc-7cdd-4607-918c-a3d6d1def243",
   "metadata": {},
   "outputs": [
    {
     "name": "stderr",
     "output_type": "stream",
     "text": [
      "Warning message in asMethod(object):\n",
      "“sparse->dense coercion: allocating vector of size 11.7 GiB”\n"
     ]
    }
   ],
   "source": [
    "aggregated_counts <- rowsum(as.matrix(filtered_data_tosti_panc_matrix), group = gene_factors)"
   ]
  },
  {
   "cell_type": "code",
   "execution_count": 35,
   "id": "2a060caa-3c88-499c-8554-0736a6d528bb",
   "metadata": {},
   "outputs": [
    {
     "name": "stderr",
     "output_type": "stream",
     "text": [
      "\u001b[1m\u001b[22mNew names:\n",
      "\u001b[36m•\u001b[39m `` -> `...1`\n",
      "\u001b[36m•\u001b[39m `...1` -> `...2`\n",
      "\u001b[1mRows: \u001b[22m\u001b[34m56455\u001b[39m \u001b[1mColumns: \u001b[22m\u001b[34m19\u001b[39m\n",
      "\u001b[36m──\u001b[39m \u001b[1mColumn specification\u001b[22m \u001b[36m────────────────────────────────────────────────────────\u001b[39m\n",
      "\u001b[1mDelimiter:\u001b[22m \",\"\n",
      "\u001b[31mchr\u001b[39m (13): ...2, sex, location, condition, study, subclass, cells, lineage, f...\n",
      "\u001b[32mdbl\u001b[39m  (5): ...1, nCount_RNA, nFeature_RNA, age, percent.mt\n",
      "\u001b[33mlgl\u001b[39m  (1): smoking\n",
      "\n",
      "\u001b[36mℹ\u001b[39m Use `spec()` to retrieve the full column specification for this data.\n",
      "\u001b[36mℹ\u001b[39m Specify the column types or set `show_col_types = FALSE` to quiet this message.\n"
     ]
    }
   ],
   "source": [
    "#Creating a seurat object\n",
    "data_tosti_panc_metadata <- read_csv(\"data_tosti_panc_metadata_final.csv\")"
   ]
  },
  {
   "cell_type": "code",
   "execution_count": 36,
   "id": "d5322b2e-951a-4681-ac66-0e0ea42e7eeb",
   "metadata": {},
   "outputs": [],
   "source": [
    "data_tosti_panc_metadata <- as.data.frame(data_tosti_panc_metadata)"
   ]
  },
  {
   "cell_type": "code",
   "execution_count": 38,
   "id": "02902627-f72d-40a4-838f-aae29556f821",
   "metadata": {},
   "outputs": [],
   "source": [
    "rownames(data_tosti_panc_metadata) <- data_tosti_panc_metadata$`...2`"
   ]
  },
  {
   "cell_type": "code",
   "execution_count": 39,
   "id": "2d761ae2-e957-4cef-8e54-a0f87874997e",
   "metadata": {},
   "outputs": [],
   "source": [
    "data_tosti_panc_metadata$`...2` <- NULL\n",
    "data_tosti_panc_metadata$`...1` <- NULL"
   ]
  },
  {
   "cell_type": "code",
   "execution_count": 41,
   "id": "4d2d9153-96ea-4abc-9240-da894dc0220f",
   "metadata": {},
   "outputs": [
    {
     "name": "stderr",
     "output_type": "stream",
     "text": [
      "Warning message:\n",
      "“Data is of class matrix. Coercing to dgCMatrix.”\n"
     ]
    }
   ],
   "source": [
    "data_tosti_panc_seurat <- CreateSeuratObject(counts = aggregated_counts, meta.data = data_tosti_panc_metadata)"
   ]
  },
  {
   "cell_type": "code",
   "execution_count": 44,
   "id": "8f479204-deb2-4a50-8256-f9e65afa33ff",
   "metadata": {},
   "outputs": [
    {
     "name": "stdout",
     "output_type": "stream",
     "text": [
      " num [1:27680, 1:56455] 0 0 0 0 0 0 0 0 0 0 ...\n",
      " - attr(*, \"dimnames\")=List of 2\n",
      "  ..$ : chr [1:27680] \"A1BG-AS1\" \"A1BG\" \"A1CF\" \"A2M-AS1\" ...\n",
      "  ..$ : chr [1:56455] \"AAACCTGAGAAGGTGA_6\" \"AAACCTGAGATGTAAC_6\" \"AAACCTGAGCACCGTC_6\" \"AAACCTGAGCGCTTAT_6\" ...\n"
     ]
    }
   ],
   "source": [
    "str(aggregated_counts)"
   ]
  },
  {
   "cell_type": "code",
   "execution_count": 42,
   "id": "f61a63f0-50b7-4fae-a6d2-456fe5564e2d",
   "metadata": {},
   "outputs": [
    {
     "data": {
      "text/plain": [
       "An object of class Seurat \n",
       "27680 features across 56455 samples within 1 assay \n",
       "Active assay: RNA (27680 features, 0 variable features)\n",
       " 1 layer present: counts"
      ]
     },
     "metadata": {},
     "output_type": "display_data"
    }
   ],
   "source": [
    "data_tosti_panc_seurat"
   ]
  },
  {
   "cell_type": "code",
   "execution_count": 45,
   "id": "4ab8c6da-ae6d-4c63-a288-8e680a5e57f8",
   "metadata": {},
   "outputs": [],
   "source": [
    "save(data_tosti_panc_seurat, file = \"data_tosti_panc_seurat_final.RData\")"
   ]
  }
 ],
 "metadata": {
  "kernelspec": {
   "display_name": "R [conda env:panfib] *",
   "language": "R",
   "name": "conda-env-panfib-r"
  },
  "language_info": {
   "codemirror_mode": "r",
   "file_extension": ".r",
   "mimetype": "text/x-r-source",
   "name": "R",
   "pygments_lexer": "r",
   "version": "4.3.3"
  }
 },
 "nbformat": 4,
 "nbformat_minor": 5
}
