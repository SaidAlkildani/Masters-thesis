{
 "cells": [
  {
   "cell_type": "code",
   "execution_count": null,
   "id": "51300049-b03c-4b72-bca7-7e4fc6132bb3",
   "metadata": {
    "vscode": {
     "languageId": "r"
    }
   },
   "outputs": [
    {
     "name": "stderr",
     "output_type": "stream",
     "text": [
      "Loading required package: SeuratObject\n",
      "\n",
      "Loading required package: sp\n",
      "\n",
      "‘SeuratObject’ was built under R 4.3.2 but the current version is\n",
      "4.3.3; it is recomended that you reinstall ‘SeuratObject’ as the ABI\n",
      "for R may have changed\n",
      "\n",
      "‘SeuratObject’ was built with package ‘Matrix’ 1.6.3 but the current\n",
      "version is 1.6.5; it is recomended that you reinstall ‘SeuratObject’ as\n",
      "the ABI for ‘Matrix’ may have changed\n",
      "\n",
      "\n",
      "Attaching package: ‘SeuratObject’\n",
      "\n",
      "\n",
      "The following object is masked from ‘package:base’:\n",
      "\n",
      "    intersect\n",
      "\n",
      "\n"
     ]
    }
   ],
   "source": [
    "library(Seurat)\n",
    "library(openxlsx)\n",
    "library(readxl)\n",
    "library(Matrix)\n",
    "library(readr)\n"
   ]
  },
  {
   "cell_type": "code",
   "execution_count": null,
   "id": "d6e8f9f8-8d6b-4f99-9543-827f870cc57e",
   "metadata": {
    "vscode": {
     "languageId": "r"
    }
   },
   "outputs": [],
   "source": [
    "#Need to find out if all duplicates are nonzeros\n",
    "#Haber\n",
    "setwd(\"/dh-projects/ag-conrad/analysis/saal11/panfib/Renaming/Haber\")\n",
    "#Upload matrices\n",
    "data_haber_matrix <- readMM(\"data_haber_matrix.mtx\")\n",
    "#Upload original gene list\n",
    "data_haber_genes <- read.xlsx(\"data_haber_genes.xlsx\")\n",
    "data_haber_genes <- data_haber_genes$genes\n",
    "data_haber_cellIDs <- read.delim(\"data_haber_barcodes.tsv\")\n",
    "rownames(data_haber_matrix) <- data_haber_genes\n",
    "colnames(data_haber_matrix) <- data_haber_cellIDs$cellIDs"
   ]
  },
  {
   "cell_type": "code",
   "execution_count": 19,
   "id": "f1bb64e1-0206-46f4-bdbc-28ee3847e924",
   "metadata": {
    "vscode": {
     "languageId": "r"
    }
   },
   "outputs": [],
   "source": [
    "#Upload genes of interest (duplicates)\n",
    "data_haber_genes_dup <- read.xlsx(\"data_haber_geneIDs_duplicates_forsum.xlsx\")"
   ]
  },
  {
   "cell_type": "code",
   "execution_count": 20,
   "id": "c7403047-628f-41a2-8544-6b3599d8ade4",
   "metadata": {
    "vscode": {
     "languageId": "r"
    }
   },
   "outputs": [],
   "source": [
    "#Find the zeros of these duplicates\n",
    "#Initialize an empty list to store the sums\n",
    "sums_list <- list()\n",
    "\n",
    "#Iterate over each gene in your list\n",
    "for (gene in data_haber_genes_dup$Old) {\n",
    "  #Subset the count matrix for the current gene and calculate the sum\n",
    "  gene_sum <- sum(data_haber_matrix[rownames(data_haber_matrix) == gene, ])\n",
    "  \n",
    "  #Add the sum to the sums_list with the gene name as the key\n",
    "  sums_list[[gene]] <- gene_sum\n",
    "}"
   ]
  },
  {
   "cell_type": "code",
   "execution_count": null,
   "id": "b4771e22-d82c-4206-a366-351e9efb441e",
   "metadata": {
    "vscode": {
     "languageId": "r"
    }
   },
   "outputs": [],
   "source": [
    "sums_list"
   ]
  },
  {
   "cell_type": "code",
   "execution_count": 3,
   "id": "9ba3e1fe-052c-494d-ace0-6e1a96971c1b",
   "metadata": {
    "vscode": {
     "languageId": "r"
    }
   },
   "outputs": [],
   "source": [
    "#Intermediate box\n",
    "setwd(\"/dh-projects/ag-conrad/analysis/saal11/panfib/Renaming/Haber\")\n",
    "data_haber_matrix <- readMM(\"data_haber_matrix.mtx\")\n",
    "data_haber_cellIDs <- read.delim(\"data_haber_barcodes.tsv\")\n",
    "colnames(data_haber_matrix) <- data_haber_cellIDs$cellIDs\n",
    "data_haber_genes_manual <- read.xlsx(\"data_haber_geneIDs_int_removed_manualedit.xlsx\")\n",
    "rownames(data_haber_matrix) <- data_haber_genes_manual$New"
   ]
  },
  {
   "cell_type": "code",
   "execution_count": 11,
   "id": "0c2a9f6e-5895-4899-93e1-97533ff6d711",
   "metadata": {
    "vscode": {
     "languageId": "r"
    }
   },
   "outputs": [
    {
     "name": "stdout",
     "output_type": "stream",
     "text": [
      "Duplicate gene IDs:\n",
      " [1] \"BTBD8\"        \"HNRNPU\"       \"RRM2\"         \"LINC01291\"    \"ROPN1L\"      \n",
      " [6] \"GCNT4\"        \"TRAF3IP2-AS1\" \"LINC00632\"    \"DLGAP2\"       \"UBE2R2-AS1\"  \n",
      "[11] \"TMEM8B\"       \"S1PR3\"        \"TTLL11\"       \"MICAL2\"       \"NEBL\"        \n",
      "[16] \"C10orf67\"     \"CC2D2B\"       \"LCOR\"         \"CCND2-AS1\"    \"KRT6A\"       \n",
      "[21] \"PLEKHG7\"      \"SUCLA2\"       \"MIA2\"         \"MEG8\"         \"MEG8\"        \n",
      "[26] \"ZFHX3\"        \"MYO18A\"       \"SOCS4\"        \"SEPTIN4\"      \"IGFLR1\"      \n",
      "[31] \"KLKB1\"        \"SIGLEC12\"    \n"
     ]
    }
   ],
   "source": [
    "#Duplicates\n",
    "duplicate_genes <- duplicated(rownames(data_haber_matrix))\n",
    "cat(\"Duplicate gene IDs:\\n\")\n",
    "print(rownames(data_haber_matrix)[duplicate_genes])\n",
    "duplicated <- rownames(data_haber_matrix)[duplicate_genes]"
   ]
  },
  {
   "cell_type": "code",
   "execution_count": 12,
   "id": "0181d4cb-cba3-4742-b3dd-df591652887f",
   "metadata": {
    "vscode": {
     "languageId": "r"
    }
   },
   "outputs": [
    {
     "data": {
      "text/html": [
       "<style>\n",
       ".list-inline {list-style: none; margin:0; padding: 0}\n",
       ".list-inline>li {display: inline-block}\n",
       ".list-inline>li:not(:last-child)::after {content: \"\\00b7\"; padding: 0 .5ex}\n",
       "</style>\n",
       "<ol class=list-inline><li>'BTBD8'</li><li>'HNRNPU'</li><li>'RRM2'</li><li>'LINC01291'</li><li>'ROPN1L'</li><li>'GCNT4'</li><li>'TRAF3IP2-AS1'</li><li>'LINC00632'</li><li>'DLGAP2'</li><li>'UBE2R2-AS1'</li><li>'TMEM8B'</li><li>'S1PR3'</li><li>'TTLL11'</li><li>'MICAL2'</li><li>'NEBL'</li><li>'C10orf67'</li><li>'CC2D2B'</li><li>'LCOR'</li><li>'CCND2-AS1'</li><li>'KRT6A'</li><li>'PLEKHG7'</li><li>'SUCLA2'</li><li>'MIA2'</li><li>'MEG8'</li><li>'MEG8'</li><li>'ZFHX3'</li><li>'MYO18A'</li><li>'SOCS4'</li><li>'SEPTIN4'</li><li>'IGFLR1'</li><li>'KLKB1'</li><li>'SIGLEC12'</li></ol>\n"
      ],
      "text/latex": [
       "\\begin{enumerate*}\n",
       "\\item 'BTBD8'\n",
       "\\item 'HNRNPU'\n",
       "\\item 'RRM2'\n",
       "\\item 'LINC01291'\n",
       "\\item 'ROPN1L'\n",
       "\\item 'GCNT4'\n",
       "\\item 'TRAF3IP2-AS1'\n",
       "\\item 'LINC00632'\n",
       "\\item 'DLGAP2'\n",
       "\\item 'UBE2R2-AS1'\n",
       "\\item 'TMEM8B'\n",
       "\\item 'S1PR3'\n",
       "\\item 'TTLL11'\n",
       "\\item 'MICAL2'\n",
       "\\item 'NEBL'\n",
       "\\item 'C10orf67'\n",
       "\\item 'CC2D2B'\n",
       "\\item 'LCOR'\n",
       "\\item 'CCND2-AS1'\n",
       "\\item 'KRT6A'\n",
       "\\item 'PLEKHG7'\n",
       "\\item 'SUCLA2'\n",
       "\\item 'MIA2'\n",
       "\\item 'MEG8'\n",
       "\\item 'MEG8'\n",
       "\\item 'ZFHX3'\n",
       "\\item 'MYO18A'\n",
       "\\item 'SOCS4'\n",
       "\\item 'SEPTIN4'\n",
       "\\item 'IGFLR1'\n",
       "\\item 'KLKB1'\n",
       "\\item 'SIGLEC12'\n",
       "\\end{enumerate*}\n"
      ],
      "text/markdown": [
       "1. 'BTBD8'\n",
       "2. 'HNRNPU'\n",
       "3. 'RRM2'\n",
       "4. 'LINC01291'\n",
       "5. 'ROPN1L'\n",
       "6. 'GCNT4'\n",
       "7. 'TRAF3IP2-AS1'\n",
       "8. 'LINC00632'\n",
       "9. 'DLGAP2'\n",
       "10. 'UBE2R2-AS1'\n",
       "11. 'TMEM8B'\n",
       "12. 'S1PR3'\n",
       "13. 'TTLL11'\n",
       "14. 'MICAL2'\n",
       "15. 'NEBL'\n",
       "16. 'C10orf67'\n",
       "17. 'CC2D2B'\n",
       "18. 'LCOR'\n",
       "19. 'CCND2-AS1'\n",
       "20. 'KRT6A'\n",
       "21. 'PLEKHG7'\n",
       "22. 'SUCLA2'\n",
       "23. 'MIA2'\n",
       "24. 'MEG8'\n",
       "25. 'MEG8'\n",
       "26. 'ZFHX3'\n",
       "27. 'MYO18A'\n",
       "28. 'SOCS4'\n",
       "29. 'SEPTIN4'\n",
       "30. 'IGFLR1'\n",
       "31. 'KLKB1'\n",
       "32. 'SIGLEC12'\n",
       "\n",
       "\n"
      ],
      "text/plain": [
       " [1] \"BTBD8\"        \"HNRNPU\"       \"RRM2\"         \"LINC01291\"    \"ROPN1L\"      \n",
       " [6] \"GCNT4\"        \"TRAF3IP2-AS1\" \"LINC00632\"    \"DLGAP2\"       \"UBE2R2-AS1\"  \n",
       "[11] \"TMEM8B\"       \"S1PR3\"        \"TTLL11\"       \"MICAL2\"       \"NEBL\"        \n",
       "[16] \"C10orf67\"     \"CC2D2B\"       \"LCOR\"         \"CCND2-AS1\"    \"KRT6A\"       \n",
       "[21] \"PLEKHG7\"      \"SUCLA2\"       \"MIA2\"         \"MEG8\"         \"MEG8\"        \n",
       "[26] \"ZFHX3\"        \"MYO18A\"       \"SOCS4\"        \"SEPTIN4\"      \"IGFLR1\"      \n",
       "[31] \"KLKB1\"        \"SIGLEC12\"    "
      ]
     },
     "metadata": {},
     "output_type": "display_data"
    }
   ],
   "source": [
    "duplicated"
   ]
  },
  {
   "cell_type": "code",
   "execution_count": 13,
   "id": "696d98d4-6a62-4cf6-a75d-5094c9962c62",
   "metadata": {
    "vscode": {
     "languageId": "r"
    }
   },
   "outputs": [],
   "source": [
    "subset_matrix_dup <- data_haber_matrix[rownames(data_haber_matrix) %in% duplicated, ]"
   ]
  },
  {
   "cell_type": "code",
   "execution_count": 14,
   "id": "e4b5d8d2-664f-4a73-a8dc-2fae48c06f52",
   "metadata": {
    "vscode": {
     "languageId": "r"
    }
   },
   "outputs": [],
   "source": [
    "genes_to_keep <- setdiff(rownames(data_haber_matrix), duplicated)\n",
    "subset_matrix_main <- data_haber_matrix[rownames(data_haber_matrix) %in% genes_to_keep, ]"
   ]
  },
  {
   "cell_type": "code",
   "execution_count": 63,
   "id": "fa97ef77-8b27-40e7-abc7-a9ea99ca2dff",
   "metadata": {
    "vscode": {
     "languageId": "r"
    }
   },
   "outputs": [
    {
     "name": "stdout",
     "output_type": "stream",
     "text": [
      " num [1:63, 1:114396] 0 0 0 1 0 0 0 0 0 0 ...\n",
      " - attr(*, \"dimnames\")=List of 2\n",
      "  ..$ : chr [1:63] \"BTBD8\" \"BTBD8\" \"HNRNPU\" \"HNRNPU\" ...\n",
      "  ..$ : chr [1:114396] \"F00431_AGAGCTTGTAGAGGAA\" \"F01380_GATCTAGTCTTGCCGT\" \"F01391_AGTCTTTAGGTTACCT\" \"F01391_ATCCACCAGGAGTCTG\" ...\n"
     ]
    }
   ],
   "source": [
    "str(subset_matrix_dup)"
   ]
  },
  {
   "cell_type": "code",
   "execution_count": 65,
   "id": "b7b0b70d-d113-4e94-b3c0-bd4e84765d8b",
   "metadata": {
    "vscode": {
     "languageId": "r"
    }
   },
   "outputs": [
    {
     "name": "stdout",
     "output_type": "stream",
     "text": [
      " num [1:26314, 1:114396] 0 0 0 0 0 0 0 0 0 0 ...\n",
      " - attr(*, \"dimnames\")=List of 2\n",
      "  ..$ : chr [1:26314] \"RP11-34P13.3\" \"RP11-34P13.7\" \"RP11-34P13.14\" \"FO538757.3\" ...\n",
      "  ..$ : chr [1:114396] \"F00431_AGAGCTTGTAGAGGAA\" \"F01380_GATCTAGTCTTGCCGT\" \"F01391_AGTCTTTAGGTTACCT\" \"F01391_ATCCACCAGGAGTCTG\" ...\n"
     ]
    }
   ],
   "source": [
    "str(subset_matrix_main)"
   ]
  },
  {
   "cell_type": "code",
   "execution_count": 15,
   "id": "cf5b4ff2-a7cd-4eb0-b72a-9a4193fd1999",
   "metadata": {
    "vscode": {
     "languageId": "r"
    }
   },
   "outputs": [],
   "source": [
    "#Aggregate using Matrix package\n",
    "subset_matrix_dup <- as(subset_matrix_dup, \"dgCMatrix\")\n",
    "gene_names <- rownames(subset_matrix_dup)\n",
    "unique_gene_names <- unique(gene_names)\n",
    "gene_factors <- factor(gene_names, levels = unique_gene_names)\n",
    "aggregated_counts <- rowsum(as.matrix(subset_matrix_dup), group = gene_factors)"
   ]
  },
  {
   "cell_type": "code",
   "execution_count": 16,
   "id": "b64071a1-7009-4d19-8a56-54b512a75321",
   "metadata": {
    "vscode": {
     "languageId": "r"
    }
   },
   "outputs": [
    {
     "data": {
      "text/html": [
       "<table class=\"dataframe\">\n",
       "<caption>A matrix: 31 × 114396 of type dbl</caption>\n",
       "<thead>\n",
       "\t<tr><th></th><th scope=col>F00431_AGAGCTTGTAGAGGAA</th><th scope=col>F01380_GATCTAGTCTTGCCGT</th><th scope=col>F01391_AGTCTTTAGGTTACCT</th><th scope=col>F01391_ATCCACCAGGAGTCTG</th><th scope=col>F01391_CTCGTCATCATCTGCC</th><th scope=col>F01391_CTGATAGCAGACGCCT</th><th scope=col>F01391_CTGGTCTCACAGAGGT</th><th scope=col>F01391_GAACATCAGCTGATAA</th><th scope=col>F01391_TACTCATCATAGAAAC</th><th scope=col>F01391_TCAGGATTCGGTGTTA</th><th scope=col>⋯</th><th scope=col>ILD62-1_AACTGGTAGAAACCAT</th><th scope=col>ILD62-1_AGTAGTCGTGCAGGTA</th><th scope=col>ILD62-1_CATTATCGTAGCAAAT</th><th scope=col>ILD62-1_TCAGCTCGTAGAAAGG</th><th scope=col>ILD62-1_TTAGTTCCAGCTCGAC</th><th scope=col>ILD62-2_ACGAGGATCTGCCAGG</th><th scope=col>ILD63_AACTCTTCAGACTCGC</th><th scope=col>ILD63_CAGAATCTCCACGTTC</th><th scope=col>ILD63_CTGAAACAGAAGGTGA</th><th scope=col>ILD63_GGCCGATAGCTGTTCA</th></tr>\n",
       "</thead>\n",
       "<tbody>\n",
       "\t<tr><th scope=row>BTBD8</th><td>0</td><td>0</td><td>0</td><td>0</td><td>0</td><td>0</td><td>0</td><td>0</td><td>0</td><td>0</td><td>⋯</td><td>0</td><td>0</td><td>0</td><td>0</td><td>0</td><td>0</td><td>0</td><td>0</td><td>0</td><td>0</td></tr>\n",
       "\t<tr><th scope=row>HNRNPU</th><td>1</td><td>1</td><td>1</td><td>1</td><td>1</td><td>1</td><td>1</td><td>0</td><td>0</td><td>1</td><td>⋯</td><td>1</td><td>0</td><td>6</td><td>1</td><td>1</td><td>0</td><td>3</td><td>0</td><td>0</td><td>0</td></tr>\n",
       "\t<tr><th scope=row>RRM2</th><td>0</td><td>0</td><td>0</td><td>0</td><td>0</td><td>0</td><td>0</td><td>0</td><td>0</td><td>0</td><td>⋯</td><td>0</td><td>0</td><td>0</td><td>0</td><td>0</td><td>0</td><td>0</td><td>0</td><td>0</td><td>0</td></tr>\n",
       "\t<tr><th scope=row>LINC01291</th><td>0</td><td>0</td><td>0</td><td>0</td><td>0</td><td>0</td><td>0</td><td>0</td><td>0</td><td>0</td><td>⋯</td><td>0</td><td>0</td><td>0</td><td>0</td><td>0</td><td>0</td><td>0</td><td>0</td><td>0</td><td>0</td></tr>\n",
       "\t<tr><th scope=row>KLKB1</th><td>0</td><td>0</td><td>0</td><td>0</td><td>0</td><td>0</td><td>0</td><td>0</td><td>0</td><td>0</td><td>⋯</td><td>0</td><td>0</td><td>0</td><td>0</td><td>0</td><td>0</td><td>0</td><td>0</td><td>0</td><td>0</td></tr>\n",
       "\t<tr><th scope=row>ROPN1L</th><td>0</td><td>0</td><td>0</td><td>0</td><td>0</td><td>0</td><td>0</td><td>0</td><td>0</td><td>0</td><td>⋯</td><td>0</td><td>0</td><td>0</td><td>0</td><td>0</td><td>0</td><td>0</td><td>0</td><td>0</td><td>0</td></tr>\n",
       "\t<tr><th scope=row>GCNT4</th><td>0</td><td>0</td><td>0</td><td>0</td><td>0</td><td>0</td><td>0</td><td>0</td><td>0</td><td>0</td><td>⋯</td><td>0</td><td>0</td><td>0</td><td>0</td><td>0</td><td>0</td><td>0</td><td>0</td><td>0</td><td>0</td></tr>\n",
       "\t<tr><th scope=row>TRAF3IP2-AS1</th><td>0</td><td>0</td><td>0</td><td>0</td><td>0</td><td>0</td><td>0</td><td>0</td><td>0</td><td>0</td><td>⋯</td><td>0</td><td>0</td><td>0</td><td>0</td><td>0</td><td>0</td><td>0</td><td>0</td><td>0</td><td>0</td></tr>\n",
       "\t<tr><th scope=row>LINC00632</th><td>0</td><td>0</td><td>0</td><td>0</td><td>0</td><td>0</td><td>0</td><td>0</td><td>0</td><td>0</td><td>⋯</td><td>1</td><td>0</td><td>3</td><td>0</td><td>0</td><td>0</td><td>0</td><td>0</td><td>0</td><td>0</td></tr>\n",
       "\t<tr><th scope=row>DLGAP2</th><td>0</td><td>0</td><td>0</td><td>0</td><td>0</td><td>0</td><td>0</td><td>0</td><td>0</td><td>0</td><td>⋯</td><td>0</td><td>0</td><td>0</td><td>0</td><td>0</td><td>0</td><td>0</td><td>0</td><td>0</td><td>0</td></tr>\n",
       "\t<tr><th scope=row>UBE2R2-AS1</th><td>0</td><td>0</td><td>0</td><td>0</td><td>0</td><td>0</td><td>0</td><td>0</td><td>0</td><td>0</td><td>⋯</td><td>0</td><td>0</td><td>0</td><td>0</td><td>0</td><td>0</td><td>0</td><td>0</td><td>0</td><td>0</td></tr>\n",
       "\t<tr><th scope=row>TMEM8B</th><td>0</td><td>0</td><td>0</td><td>0</td><td>0</td><td>0</td><td>0</td><td>0</td><td>0</td><td>1</td><td>⋯</td><td>0</td><td>0</td><td>1</td><td>0</td><td>0</td><td>0</td><td>0</td><td>0</td><td>0</td><td>0</td></tr>\n",
       "\t<tr><th scope=row>S1PR3</th><td>1</td><td>0</td><td>0</td><td>0</td><td>0</td><td>0</td><td>0</td><td>0</td><td>0</td><td>0</td><td>⋯</td><td>0</td><td>0</td><td>0</td><td>0</td><td>0</td><td>0</td><td>0</td><td>3</td><td>0</td><td>0</td></tr>\n",
       "\t<tr><th scope=row>TTLL11</th><td>0</td><td>0</td><td>0</td><td>0</td><td>0</td><td>0</td><td>0</td><td>0</td><td>0</td><td>0</td><td>⋯</td><td>0</td><td>0</td><td>0</td><td>0</td><td>0</td><td>0</td><td>0</td><td>0</td><td>0</td><td>0</td></tr>\n",
       "\t<tr><th scope=row>MICAL2</th><td>0</td><td>0</td><td>0</td><td>0</td><td>0</td><td>0</td><td>0</td><td>0</td><td>0</td><td>0</td><td>⋯</td><td>0</td><td>0</td><td>0</td><td>0</td><td>0</td><td>1</td><td>0</td><td>0</td><td>0</td><td>0</td></tr>\n",
       "\t<tr><th scope=row>NEBL</th><td>1</td><td>1</td><td>0</td><td>1</td><td>1</td><td>1</td><td>0</td><td>0</td><td>1</td><td>0</td><td>⋯</td><td>0</td><td>0</td><td>0</td><td>0</td><td>0</td><td>0</td><td>0</td><td>0</td><td>0</td><td>0</td></tr>\n",
       "\t<tr><th scope=row>C10orf67</th><td>0</td><td>0</td><td>0</td><td>0</td><td>0</td><td>0</td><td>0</td><td>0</td><td>0</td><td>0</td><td>⋯</td><td>0</td><td>0</td><td>0</td><td>0</td><td>0</td><td>0</td><td>0</td><td>0</td><td>0</td><td>0</td></tr>\n",
       "\t<tr><th scope=row>CC2D2B</th><td>0</td><td>0</td><td>0</td><td>0</td><td>0</td><td>0</td><td>0</td><td>0</td><td>0</td><td>0</td><td>⋯</td><td>0</td><td>0</td><td>0</td><td>0</td><td>0</td><td>0</td><td>0</td><td>0</td><td>0</td><td>0</td></tr>\n",
       "\t<tr><th scope=row>LCOR</th><td>1</td><td>0</td><td>0</td><td>0</td><td>0</td><td>0</td><td>0</td><td>1</td><td>0</td><td>1</td><td>⋯</td><td>0</td><td>0</td><td>0</td><td>0</td><td>0</td><td>0</td><td>0</td><td>0</td><td>0</td><td>0</td></tr>\n",
       "\t<tr><th scope=row>CCND2-AS1</th><td>0</td><td>0</td><td>0</td><td>0</td><td>0</td><td>0</td><td>0</td><td>0</td><td>0</td><td>0</td><td>⋯</td><td>0</td><td>0</td><td>0</td><td>0</td><td>0</td><td>0</td><td>0</td><td>0</td><td>0</td><td>0</td></tr>\n",
       "\t<tr><th scope=row>KRT6A</th><td>0</td><td>0</td><td>0</td><td>0</td><td>0</td><td>0</td><td>0</td><td>0</td><td>0</td><td>0</td><td>⋯</td><td>0</td><td>0</td><td>0</td><td>0</td><td>0</td><td>0</td><td>0</td><td>0</td><td>0</td><td>0</td></tr>\n",
       "\t<tr><th scope=row>PLEKHG7</th><td>0</td><td>0</td><td>0</td><td>0</td><td>0</td><td>1</td><td>0</td><td>0</td><td>0</td><td>1</td><td>⋯</td><td>0</td><td>0</td><td>0</td><td>0</td><td>0</td><td>0</td><td>0</td><td>0</td><td>0</td><td>0</td></tr>\n",
       "\t<tr><th scope=row>SUCLA2</th><td>0</td><td>0</td><td>0</td><td>0</td><td>1</td><td>0</td><td>0</td><td>0</td><td>0</td><td>1</td><td>⋯</td><td>0</td><td>0</td><td>0</td><td>0</td><td>2</td><td>0</td><td>0</td><td>0</td><td>1</td><td>0</td></tr>\n",
       "\t<tr><th scope=row>MIA2</th><td>0</td><td>0</td><td>0</td><td>1</td><td>0</td><td>0</td><td>1</td><td>0</td><td>1</td><td>0</td><td>⋯</td><td>0</td><td>0</td><td>0</td><td>0</td><td>0</td><td>0</td><td>0</td><td>0</td><td>0</td><td>0</td></tr>\n",
       "\t<tr><th scope=row>SOCS4</th><td>0</td><td>0</td><td>0</td><td>1</td><td>0</td><td>0</td><td>0</td><td>0</td><td>1</td><td>0</td><td>⋯</td><td>0</td><td>0</td><td>0</td><td>0</td><td>0</td><td>0</td><td>0</td><td>2</td><td>0</td><td>0</td></tr>\n",
       "\t<tr><th scope=row>MEG8</th><td>0</td><td>0</td><td>0</td><td>0</td><td>0</td><td>0</td><td>0</td><td>0</td><td>0</td><td>0</td><td>⋯</td><td>0</td><td>0</td><td>0</td><td>0</td><td>2</td><td>0</td><td>0</td><td>0</td><td>0</td><td>0</td></tr>\n",
       "\t<tr><th scope=row>ZFHX3</th><td>1</td><td>0</td><td>0</td><td>0</td><td>0</td><td>0</td><td>0</td><td>0</td><td>0</td><td>0</td><td>⋯</td><td>1</td><td>0</td><td>0</td><td>1</td><td>0</td><td>0</td><td>1</td><td>0</td><td>0</td><td>0</td></tr>\n",
       "\t<tr><th scope=row>MYO18A</th><td>0</td><td>0</td><td>0</td><td>0</td><td>0</td><td>0</td><td>0</td><td>0</td><td>0</td><td>0</td><td>⋯</td><td>0</td><td>0</td><td>0</td><td>0</td><td>0</td><td>0</td><td>0</td><td>2</td><td>0</td><td>0</td></tr>\n",
       "\t<tr><th scope=row>SEPTIN4</th><td>0</td><td>0</td><td>0</td><td>0</td><td>0</td><td>0</td><td>0</td><td>0</td><td>0</td><td>0</td><td>⋯</td><td>0</td><td>0</td><td>0</td><td>3</td><td>0</td><td>0</td><td>1</td><td>0</td><td>1</td><td>2</td></tr>\n",
       "\t<tr><th scope=row>IGFLR1</th><td>1</td><td>0</td><td>0</td><td>0</td><td>1</td><td>0</td><td>0</td><td>0</td><td>0</td><td>0</td><td>⋯</td><td>0</td><td>0</td><td>0</td><td>0</td><td>0</td><td>0</td><td>0</td><td>0</td><td>0</td><td>2</td></tr>\n",
       "\t<tr><th scope=row>SIGLEC12</th><td>0</td><td>0</td><td>0</td><td>0</td><td>0</td><td>0</td><td>0</td><td>0</td><td>0</td><td>0</td><td>⋯</td><td>0</td><td>0</td><td>0</td><td>0</td><td>0</td><td>0</td><td>0</td><td>0</td><td>0</td><td>0</td></tr>\n",
       "</tbody>\n",
       "</table>\n"
      ],
      "text/latex": [
       "A matrix: 31 × 114396 of type dbl\n",
       "\\begin{tabular}{r|lllllllllllllllllllll}\n",
       "  & F00431\\_AGAGCTTGTAGAGGAA & F01380\\_GATCTAGTCTTGCCGT & F01391\\_AGTCTTTAGGTTACCT & F01391\\_ATCCACCAGGAGTCTG & F01391\\_CTCGTCATCATCTGCC & F01391\\_CTGATAGCAGACGCCT & F01391\\_CTGGTCTCACAGAGGT & F01391\\_GAACATCAGCTGATAA & F01391\\_TACTCATCATAGAAAC & F01391\\_TCAGGATTCGGTGTTA & ⋯ & ILD62-1\\_AACTGGTAGAAACCAT & ILD62-1\\_AGTAGTCGTGCAGGTA & ILD62-1\\_CATTATCGTAGCAAAT & ILD62-1\\_TCAGCTCGTAGAAAGG & ILD62-1\\_TTAGTTCCAGCTCGAC & ILD62-2\\_ACGAGGATCTGCCAGG & ILD63\\_AACTCTTCAGACTCGC & ILD63\\_CAGAATCTCCACGTTC & ILD63\\_CTGAAACAGAAGGTGA & ILD63\\_GGCCGATAGCTGTTCA\\\\\n",
       "\\hline\n",
       "\tBTBD8 & 0 & 0 & 0 & 0 & 0 & 0 & 0 & 0 & 0 & 0 & ⋯ & 0 & 0 & 0 & 0 & 0 & 0 & 0 & 0 & 0 & 0\\\\\n",
       "\tHNRNPU & 1 & 1 & 1 & 1 & 1 & 1 & 1 & 0 & 0 & 1 & ⋯ & 1 & 0 & 6 & 1 & 1 & 0 & 3 & 0 & 0 & 0\\\\\n",
       "\tRRM2 & 0 & 0 & 0 & 0 & 0 & 0 & 0 & 0 & 0 & 0 & ⋯ & 0 & 0 & 0 & 0 & 0 & 0 & 0 & 0 & 0 & 0\\\\\n",
       "\tLINC01291 & 0 & 0 & 0 & 0 & 0 & 0 & 0 & 0 & 0 & 0 & ⋯ & 0 & 0 & 0 & 0 & 0 & 0 & 0 & 0 & 0 & 0\\\\\n",
       "\tKLKB1 & 0 & 0 & 0 & 0 & 0 & 0 & 0 & 0 & 0 & 0 & ⋯ & 0 & 0 & 0 & 0 & 0 & 0 & 0 & 0 & 0 & 0\\\\\n",
       "\tROPN1L & 0 & 0 & 0 & 0 & 0 & 0 & 0 & 0 & 0 & 0 & ⋯ & 0 & 0 & 0 & 0 & 0 & 0 & 0 & 0 & 0 & 0\\\\\n",
       "\tGCNT4 & 0 & 0 & 0 & 0 & 0 & 0 & 0 & 0 & 0 & 0 & ⋯ & 0 & 0 & 0 & 0 & 0 & 0 & 0 & 0 & 0 & 0\\\\\n",
       "\tTRAF3IP2-AS1 & 0 & 0 & 0 & 0 & 0 & 0 & 0 & 0 & 0 & 0 & ⋯ & 0 & 0 & 0 & 0 & 0 & 0 & 0 & 0 & 0 & 0\\\\\n",
       "\tLINC00632 & 0 & 0 & 0 & 0 & 0 & 0 & 0 & 0 & 0 & 0 & ⋯ & 1 & 0 & 3 & 0 & 0 & 0 & 0 & 0 & 0 & 0\\\\\n",
       "\tDLGAP2 & 0 & 0 & 0 & 0 & 0 & 0 & 0 & 0 & 0 & 0 & ⋯ & 0 & 0 & 0 & 0 & 0 & 0 & 0 & 0 & 0 & 0\\\\\n",
       "\tUBE2R2-AS1 & 0 & 0 & 0 & 0 & 0 & 0 & 0 & 0 & 0 & 0 & ⋯ & 0 & 0 & 0 & 0 & 0 & 0 & 0 & 0 & 0 & 0\\\\\n",
       "\tTMEM8B & 0 & 0 & 0 & 0 & 0 & 0 & 0 & 0 & 0 & 1 & ⋯ & 0 & 0 & 1 & 0 & 0 & 0 & 0 & 0 & 0 & 0\\\\\n",
       "\tS1PR3 & 1 & 0 & 0 & 0 & 0 & 0 & 0 & 0 & 0 & 0 & ⋯ & 0 & 0 & 0 & 0 & 0 & 0 & 0 & 3 & 0 & 0\\\\\n",
       "\tTTLL11 & 0 & 0 & 0 & 0 & 0 & 0 & 0 & 0 & 0 & 0 & ⋯ & 0 & 0 & 0 & 0 & 0 & 0 & 0 & 0 & 0 & 0\\\\\n",
       "\tMICAL2 & 0 & 0 & 0 & 0 & 0 & 0 & 0 & 0 & 0 & 0 & ⋯ & 0 & 0 & 0 & 0 & 0 & 1 & 0 & 0 & 0 & 0\\\\\n",
       "\tNEBL & 1 & 1 & 0 & 1 & 1 & 1 & 0 & 0 & 1 & 0 & ⋯ & 0 & 0 & 0 & 0 & 0 & 0 & 0 & 0 & 0 & 0\\\\\n",
       "\tC10orf67 & 0 & 0 & 0 & 0 & 0 & 0 & 0 & 0 & 0 & 0 & ⋯ & 0 & 0 & 0 & 0 & 0 & 0 & 0 & 0 & 0 & 0\\\\\n",
       "\tCC2D2B & 0 & 0 & 0 & 0 & 0 & 0 & 0 & 0 & 0 & 0 & ⋯ & 0 & 0 & 0 & 0 & 0 & 0 & 0 & 0 & 0 & 0\\\\\n",
       "\tLCOR & 1 & 0 & 0 & 0 & 0 & 0 & 0 & 1 & 0 & 1 & ⋯ & 0 & 0 & 0 & 0 & 0 & 0 & 0 & 0 & 0 & 0\\\\\n",
       "\tCCND2-AS1 & 0 & 0 & 0 & 0 & 0 & 0 & 0 & 0 & 0 & 0 & ⋯ & 0 & 0 & 0 & 0 & 0 & 0 & 0 & 0 & 0 & 0\\\\\n",
       "\tKRT6A & 0 & 0 & 0 & 0 & 0 & 0 & 0 & 0 & 0 & 0 & ⋯ & 0 & 0 & 0 & 0 & 0 & 0 & 0 & 0 & 0 & 0\\\\\n",
       "\tPLEKHG7 & 0 & 0 & 0 & 0 & 0 & 1 & 0 & 0 & 0 & 1 & ⋯ & 0 & 0 & 0 & 0 & 0 & 0 & 0 & 0 & 0 & 0\\\\\n",
       "\tSUCLA2 & 0 & 0 & 0 & 0 & 1 & 0 & 0 & 0 & 0 & 1 & ⋯ & 0 & 0 & 0 & 0 & 2 & 0 & 0 & 0 & 1 & 0\\\\\n",
       "\tMIA2 & 0 & 0 & 0 & 1 & 0 & 0 & 1 & 0 & 1 & 0 & ⋯ & 0 & 0 & 0 & 0 & 0 & 0 & 0 & 0 & 0 & 0\\\\\n",
       "\tSOCS4 & 0 & 0 & 0 & 1 & 0 & 0 & 0 & 0 & 1 & 0 & ⋯ & 0 & 0 & 0 & 0 & 0 & 0 & 0 & 2 & 0 & 0\\\\\n",
       "\tMEG8 & 0 & 0 & 0 & 0 & 0 & 0 & 0 & 0 & 0 & 0 & ⋯ & 0 & 0 & 0 & 0 & 2 & 0 & 0 & 0 & 0 & 0\\\\\n",
       "\tZFHX3 & 1 & 0 & 0 & 0 & 0 & 0 & 0 & 0 & 0 & 0 & ⋯ & 1 & 0 & 0 & 1 & 0 & 0 & 1 & 0 & 0 & 0\\\\\n",
       "\tMYO18A & 0 & 0 & 0 & 0 & 0 & 0 & 0 & 0 & 0 & 0 & ⋯ & 0 & 0 & 0 & 0 & 0 & 0 & 0 & 2 & 0 & 0\\\\\n",
       "\tSEPTIN4 & 0 & 0 & 0 & 0 & 0 & 0 & 0 & 0 & 0 & 0 & ⋯ & 0 & 0 & 0 & 3 & 0 & 0 & 1 & 0 & 1 & 2\\\\\n",
       "\tIGFLR1 & 1 & 0 & 0 & 0 & 1 & 0 & 0 & 0 & 0 & 0 & ⋯ & 0 & 0 & 0 & 0 & 0 & 0 & 0 & 0 & 0 & 2\\\\\n",
       "\tSIGLEC12 & 0 & 0 & 0 & 0 & 0 & 0 & 0 & 0 & 0 & 0 & ⋯ & 0 & 0 & 0 & 0 & 0 & 0 & 0 & 0 & 0 & 0\\\\\n",
       "\\end{tabular}\n"
      ],
      "text/markdown": [
       "\n",
       "A matrix: 31 × 114396 of type dbl\n",
       "\n",
       "| <!--/--> | F00431_AGAGCTTGTAGAGGAA | F01380_GATCTAGTCTTGCCGT | F01391_AGTCTTTAGGTTACCT | F01391_ATCCACCAGGAGTCTG | F01391_CTCGTCATCATCTGCC | F01391_CTGATAGCAGACGCCT | F01391_CTGGTCTCACAGAGGT | F01391_GAACATCAGCTGATAA | F01391_TACTCATCATAGAAAC | F01391_TCAGGATTCGGTGTTA | ⋯ | ILD62-1_AACTGGTAGAAACCAT | ILD62-1_AGTAGTCGTGCAGGTA | ILD62-1_CATTATCGTAGCAAAT | ILD62-1_TCAGCTCGTAGAAAGG | ILD62-1_TTAGTTCCAGCTCGAC | ILD62-2_ACGAGGATCTGCCAGG | ILD63_AACTCTTCAGACTCGC | ILD63_CAGAATCTCCACGTTC | ILD63_CTGAAACAGAAGGTGA | ILD63_GGCCGATAGCTGTTCA |\n",
       "|---|---|---|---|---|---|---|---|---|---|---|---|---|---|---|---|---|---|---|---|---|---|\n",
       "| BTBD8 | 0 | 0 | 0 | 0 | 0 | 0 | 0 | 0 | 0 | 0 | ⋯ | 0 | 0 | 0 | 0 | 0 | 0 | 0 | 0 | 0 | 0 |\n",
       "| HNRNPU | 1 | 1 | 1 | 1 | 1 | 1 | 1 | 0 | 0 | 1 | ⋯ | 1 | 0 | 6 | 1 | 1 | 0 | 3 | 0 | 0 | 0 |\n",
       "| RRM2 | 0 | 0 | 0 | 0 | 0 | 0 | 0 | 0 | 0 | 0 | ⋯ | 0 | 0 | 0 | 0 | 0 | 0 | 0 | 0 | 0 | 0 |\n",
       "| LINC01291 | 0 | 0 | 0 | 0 | 0 | 0 | 0 | 0 | 0 | 0 | ⋯ | 0 | 0 | 0 | 0 | 0 | 0 | 0 | 0 | 0 | 0 |\n",
       "| KLKB1 | 0 | 0 | 0 | 0 | 0 | 0 | 0 | 0 | 0 | 0 | ⋯ | 0 | 0 | 0 | 0 | 0 | 0 | 0 | 0 | 0 | 0 |\n",
       "| ROPN1L | 0 | 0 | 0 | 0 | 0 | 0 | 0 | 0 | 0 | 0 | ⋯ | 0 | 0 | 0 | 0 | 0 | 0 | 0 | 0 | 0 | 0 |\n",
       "| GCNT4 | 0 | 0 | 0 | 0 | 0 | 0 | 0 | 0 | 0 | 0 | ⋯ | 0 | 0 | 0 | 0 | 0 | 0 | 0 | 0 | 0 | 0 |\n",
       "| TRAF3IP2-AS1 | 0 | 0 | 0 | 0 | 0 | 0 | 0 | 0 | 0 | 0 | ⋯ | 0 | 0 | 0 | 0 | 0 | 0 | 0 | 0 | 0 | 0 |\n",
       "| LINC00632 | 0 | 0 | 0 | 0 | 0 | 0 | 0 | 0 | 0 | 0 | ⋯ | 1 | 0 | 3 | 0 | 0 | 0 | 0 | 0 | 0 | 0 |\n",
       "| DLGAP2 | 0 | 0 | 0 | 0 | 0 | 0 | 0 | 0 | 0 | 0 | ⋯ | 0 | 0 | 0 | 0 | 0 | 0 | 0 | 0 | 0 | 0 |\n",
       "| UBE2R2-AS1 | 0 | 0 | 0 | 0 | 0 | 0 | 0 | 0 | 0 | 0 | ⋯ | 0 | 0 | 0 | 0 | 0 | 0 | 0 | 0 | 0 | 0 |\n",
       "| TMEM8B | 0 | 0 | 0 | 0 | 0 | 0 | 0 | 0 | 0 | 1 | ⋯ | 0 | 0 | 1 | 0 | 0 | 0 | 0 | 0 | 0 | 0 |\n",
       "| S1PR3 | 1 | 0 | 0 | 0 | 0 | 0 | 0 | 0 | 0 | 0 | ⋯ | 0 | 0 | 0 | 0 | 0 | 0 | 0 | 3 | 0 | 0 |\n",
       "| TTLL11 | 0 | 0 | 0 | 0 | 0 | 0 | 0 | 0 | 0 | 0 | ⋯ | 0 | 0 | 0 | 0 | 0 | 0 | 0 | 0 | 0 | 0 |\n",
       "| MICAL2 | 0 | 0 | 0 | 0 | 0 | 0 | 0 | 0 | 0 | 0 | ⋯ | 0 | 0 | 0 | 0 | 0 | 1 | 0 | 0 | 0 | 0 |\n",
       "| NEBL | 1 | 1 | 0 | 1 | 1 | 1 | 0 | 0 | 1 | 0 | ⋯ | 0 | 0 | 0 | 0 | 0 | 0 | 0 | 0 | 0 | 0 |\n",
       "| C10orf67 | 0 | 0 | 0 | 0 | 0 | 0 | 0 | 0 | 0 | 0 | ⋯ | 0 | 0 | 0 | 0 | 0 | 0 | 0 | 0 | 0 | 0 |\n",
       "| CC2D2B | 0 | 0 | 0 | 0 | 0 | 0 | 0 | 0 | 0 | 0 | ⋯ | 0 | 0 | 0 | 0 | 0 | 0 | 0 | 0 | 0 | 0 |\n",
       "| LCOR | 1 | 0 | 0 | 0 | 0 | 0 | 0 | 1 | 0 | 1 | ⋯ | 0 | 0 | 0 | 0 | 0 | 0 | 0 | 0 | 0 | 0 |\n",
       "| CCND2-AS1 | 0 | 0 | 0 | 0 | 0 | 0 | 0 | 0 | 0 | 0 | ⋯ | 0 | 0 | 0 | 0 | 0 | 0 | 0 | 0 | 0 | 0 |\n",
       "| KRT6A | 0 | 0 | 0 | 0 | 0 | 0 | 0 | 0 | 0 | 0 | ⋯ | 0 | 0 | 0 | 0 | 0 | 0 | 0 | 0 | 0 | 0 |\n",
       "| PLEKHG7 | 0 | 0 | 0 | 0 | 0 | 1 | 0 | 0 | 0 | 1 | ⋯ | 0 | 0 | 0 | 0 | 0 | 0 | 0 | 0 | 0 | 0 |\n",
       "| SUCLA2 | 0 | 0 | 0 | 0 | 1 | 0 | 0 | 0 | 0 | 1 | ⋯ | 0 | 0 | 0 | 0 | 2 | 0 | 0 | 0 | 1 | 0 |\n",
       "| MIA2 | 0 | 0 | 0 | 1 | 0 | 0 | 1 | 0 | 1 | 0 | ⋯ | 0 | 0 | 0 | 0 | 0 | 0 | 0 | 0 | 0 | 0 |\n",
       "| SOCS4 | 0 | 0 | 0 | 1 | 0 | 0 | 0 | 0 | 1 | 0 | ⋯ | 0 | 0 | 0 | 0 | 0 | 0 | 0 | 2 | 0 | 0 |\n",
       "| MEG8 | 0 | 0 | 0 | 0 | 0 | 0 | 0 | 0 | 0 | 0 | ⋯ | 0 | 0 | 0 | 0 | 2 | 0 | 0 | 0 | 0 | 0 |\n",
       "| ZFHX3 | 1 | 0 | 0 | 0 | 0 | 0 | 0 | 0 | 0 | 0 | ⋯ | 1 | 0 | 0 | 1 | 0 | 0 | 1 | 0 | 0 | 0 |\n",
       "| MYO18A | 0 | 0 | 0 | 0 | 0 | 0 | 0 | 0 | 0 | 0 | ⋯ | 0 | 0 | 0 | 0 | 0 | 0 | 0 | 2 | 0 | 0 |\n",
       "| SEPTIN4 | 0 | 0 | 0 | 0 | 0 | 0 | 0 | 0 | 0 | 0 | ⋯ | 0 | 0 | 0 | 3 | 0 | 0 | 1 | 0 | 1 | 2 |\n",
       "| IGFLR1 | 1 | 0 | 0 | 0 | 1 | 0 | 0 | 0 | 0 | 0 | ⋯ | 0 | 0 | 0 | 0 | 0 | 0 | 0 | 0 | 0 | 2 |\n",
       "| SIGLEC12 | 0 | 0 | 0 | 0 | 0 | 0 | 0 | 0 | 0 | 0 | ⋯ | 0 | 0 | 0 | 0 | 0 | 0 | 0 | 0 | 0 | 0 |\n",
       "\n"
      ],
      "text/plain": [
       "             F00431_AGAGCTTGTAGAGGAA F01380_GATCTAGTCTTGCCGT\n",
       "BTBD8        0                       0                      \n",
       "HNRNPU       1                       1                      \n",
       "RRM2         0                       0                      \n",
       "LINC01291    0                       0                      \n",
       "KLKB1        0                       0                      \n",
       "ROPN1L       0                       0                      \n",
       "GCNT4        0                       0                      \n",
       "TRAF3IP2-AS1 0                       0                      \n",
       "LINC00632    0                       0                      \n",
       "DLGAP2       0                       0                      \n",
       "UBE2R2-AS1   0                       0                      \n",
       "TMEM8B       0                       0                      \n",
       "S1PR3        1                       0                      \n",
       "TTLL11       0                       0                      \n",
       "MICAL2       0                       0                      \n",
       "NEBL         1                       1                      \n",
       "C10orf67     0                       0                      \n",
       "CC2D2B       0                       0                      \n",
       "LCOR         1                       0                      \n",
       "CCND2-AS1    0                       0                      \n",
       "KRT6A        0                       0                      \n",
       "PLEKHG7      0                       0                      \n",
       "SUCLA2       0                       0                      \n",
       "MIA2         0                       0                      \n",
       "SOCS4        0                       0                      \n",
       "MEG8         0                       0                      \n",
       "ZFHX3        1                       0                      \n",
       "MYO18A       0                       0                      \n",
       "SEPTIN4      0                       0                      \n",
       "IGFLR1       1                       0                      \n",
       "SIGLEC12     0                       0                      \n",
       "             F01391_AGTCTTTAGGTTACCT F01391_ATCCACCAGGAGTCTG\n",
       "BTBD8        0                       0                      \n",
       "HNRNPU       1                       1                      \n",
       "RRM2         0                       0                      \n",
       "LINC01291    0                       0                      \n",
       "KLKB1        0                       0                      \n",
       "ROPN1L       0                       0                      \n",
       "GCNT4        0                       0                      \n",
       "TRAF3IP2-AS1 0                       0                      \n",
       "LINC00632    0                       0                      \n",
       "DLGAP2       0                       0                      \n",
       "UBE2R2-AS1   0                       0                      \n",
       "TMEM8B       0                       0                      \n",
       "S1PR3        0                       0                      \n",
       "TTLL11       0                       0                      \n",
       "MICAL2       0                       0                      \n",
       "NEBL         0                       1                      \n",
       "C10orf67     0                       0                      \n",
       "CC2D2B       0                       0                      \n",
       "LCOR         0                       0                      \n",
       "CCND2-AS1    0                       0                      \n",
       "KRT6A        0                       0                      \n",
       "PLEKHG7      0                       0                      \n",
       "SUCLA2       0                       0                      \n",
       "MIA2         0                       1                      \n",
       "SOCS4        0                       1                      \n",
       "MEG8         0                       0                      \n",
       "ZFHX3        0                       0                      \n",
       "MYO18A       0                       0                      \n",
       "SEPTIN4      0                       0                      \n",
       "IGFLR1       0                       0                      \n",
       "SIGLEC12     0                       0                      \n",
       "             F01391_CTCGTCATCATCTGCC F01391_CTGATAGCAGACGCCT\n",
       "BTBD8        0                       0                      \n",
       "HNRNPU       1                       1                      \n",
       "RRM2         0                       0                      \n",
       "LINC01291    0                       0                      \n",
       "KLKB1        0                       0                      \n",
       "ROPN1L       0                       0                      \n",
       "GCNT4        0                       0                      \n",
       "TRAF3IP2-AS1 0                       0                      \n",
       "LINC00632    0                       0                      \n",
       "DLGAP2       0                       0                      \n",
       "UBE2R2-AS1   0                       0                      \n",
       "TMEM8B       0                       0                      \n",
       "S1PR3        0                       0                      \n",
       "TTLL11       0                       0                      \n",
       "MICAL2       0                       0                      \n",
       "NEBL         1                       1                      \n",
       "C10orf67     0                       0                      \n",
       "CC2D2B       0                       0                      \n",
       "LCOR         0                       0                      \n",
       "CCND2-AS1    0                       0                      \n",
       "KRT6A        0                       0                      \n",
       "PLEKHG7      0                       1                      \n",
       "SUCLA2       1                       0                      \n",
       "MIA2         0                       0                      \n",
       "SOCS4        0                       0                      \n",
       "MEG8         0                       0                      \n",
       "ZFHX3        0                       0                      \n",
       "MYO18A       0                       0                      \n",
       "SEPTIN4      0                       0                      \n",
       "IGFLR1       1                       0                      \n",
       "SIGLEC12     0                       0                      \n",
       "             F01391_CTGGTCTCACAGAGGT F01391_GAACATCAGCTGATAA\n",
       "BTBD8        0                       0                      \n",
       "HNRNPU       1                       0                      \n",
       "RRM2         0                       0                      \n",
       "LINC01291    0                       0                      \n",
       "KLKB1        0                       0                      \n",
       "ROPN1L       0                       0                      \n",
       "GCNT4        0                       0                      \n",
       "TRAF3IP2-AS1 0                       0                      \n",
       "LINC00632    0                       0                      \n",
       "DLGAP2       0                       0                      \n",
       "UBE2R2-AS1   0                       0                      \n",
       "TMEM8B       0                       0                      \n",
       "S1PR3        0                       0                      \n",
       "TTLL11       0                       0                      \n",
       "MICAL2       0                       0                      \n",
       "NEBL         0                       0                      \n",
       "C10orf67     0                       0                      \n",
       "CC2D2B       0                       0                      \n",
       "LCOR         0                       1                      \n",
       "CCND2-AS1    0                       0                      \n",
       "KRT6A        0                       0                      \n",
       "PLEKHG7      0                       0                      \n",
       "SUCLA2       0                       0                      \n",
       "MIA2         1                       0                      \n",
       "SOCS4        0                       0                      \n",
       "MEG8         0                       0                      \n",
       "ZFHX3        0                       0                      \n",
       "MYO18A       0                       0                      \n",
       "SEPTIN4      0                       0                      \n",
       "IGFLR1       0                       0                      \n",
       "SIGLEC12     0                       0                      \n",
       "             F01391_TACTCATCATAGAAAC F01391_TCAGGATTCGGTGTTA ⋯\n",
       "BTBD8        0                       0                       ⋯\n",
       "HNRNPU       0                       1                       ⋯\n",
       "RRM2         0                       0                       ⋯\n",
       "LINC01291    0                       0                       ⋯\n",
       "KLKB1        0                       0                       ⋯\n",
       "ROPN1L       0                       0                       ⋯\n",
       "GCNT4        0                       0                       ⋯\n",
       "TRAF3IP2-AS1 0                       0                       ⋯\n",
       "LINC00632    0                       0                       ⋯\n",
       "DLGAP2       0                       0                       ⋯\n",
       "UBE2R2-AS1   0                       0                       ⋯\n",
       "TMEM8B       0                       1                       ⋯\n",
       "S1PR3        0                       0                       ⋯\n",
       "TTLL11       0                       0                       ⋯\n",
       "MICAL2       0                       0                       ⋯\n",
       "NEBL         1                       0                       ⋯\n",
       "C10orf67     0                       0                       ⋯\n",
       "CC2D2B       0                       0                       ⋯\n",
       "LCOR         0                       1                       ⋯\n",
       "CCND2-AS1    0                       0                       ⋯\n",
       "KRT6A        0                       0                       ⋯\n",
       "PLEKHG7      0                       1                       ⋯\n",
       "SUCLA2       0                       1                       ⋯\n",
       "MIA2         1                       0                       ⋯\n",
       "SOCS4        1                       0                       ⋯\n",
       "MEG8         0                       0                       ⋯\n",
       "ZFHX3        0                       0                       ⋯\n",
       "MYO18A       0                       0                       ⋯\n",
       "SEPTIN4      0                       0                       ⋯\n",
       "IGFLR1       0                       0                       ⋯\n",
       "SIGLEC12     0                       0                       ⋯\n",
       "             ILD62-1_AACTGGTAGAAACCAT ILD62-1_AGTAGTCGTGCAGGTA\n",
       "BTBD8        0                        0                       \n",
       "HNRNPU       1                        0                       \n",
       "RRM2         0                        0                       \n",
       "LINC01291    0                        0                       \n",
       "KLKB1        0                        0                       \n",
       "ROPN1L       0                        0                       \n",
       "GCNT4        0                        0                       \n",
       "TRAF3IP2-AS1 0                        0                       \n",
       "LINC00632    1                        0                       \n",
       "DLGAP2       0                        0                       \n",
       "UBE2R2-AS1   0                        0                       \n",
       "TMEM8B       0                        0                       \n",
       "S1PR3        0                        0                       \n",
       "TTLL11       0                        0                       \n",
       "MICAL2       0                        0                       \n",
       "NEBL         0                        0                       \n",
       "C10orf67     0                        0                       \n",
       "CC2D2B       0                        0                       \n",
       "LCOR         0                        0                       \n",
       "CCND2-AS1    0                        0                       \n",
       "KRT6A        0                        0                       \n",
       "PLEKHG7      0                        0                       \n",
       "SUCLA2       0                        0                       \n",
       "MIA2         0                        0                       \n",
       "SOCS4        0                        0                       \n",
       "MEG8         0                        0                       \n",
       "ZFHX3        1                        0                       \n",
       "MYO18A       0                        0                       \n",
       "SEPTIN4      0                        0                       \n",
       "IGFLR1       0                        0                       \n",
       "SIGLEC12     0                        0                       \n",
       "             ILD62-1_CATTATCGTAGCAAAT ILD62-1_TCAGCTCGTAGAAAGG\n",
       "BTBD8        0                        0                       \n",
       "HNRNPU       6                        1                       \n",
       "RRM2         0                        0                       \n",
       "LINC01291    0                        0                       \n",
       "KLKB1        0                        0                       \n",
       "ROPN1L       0                        0                       \n",
       "GCNT4        0                        0                       \n",
       "TRAF3IP2-AS1 0                        0                       \n",
       "LINC00632    3                        0                       \n",
       "DLGAP2       0                        0                       \n",
       "UBE2R2-AS1   0                        0                       \n",
       "TMEM8B       1                        0                       \n",
       "S1PR3        0                        0                       \n",
       "TTLL11       0                        0                       \n",
       "MICAL2       0                        0                       \n",
       "NEBL         0                        0                       \n",
       "C10orf67     0                        0                       \n",
       "CC2D2B       0                        0                       \n",
       "LCOR         0                        0                       \n",
       "CCND2-AS1    0                        0                       \n",
       "KRT6A        0                        0                       \n",
       "PLEKHG7      0                        0                       \n",
       "SUCLA2       0                        0                       \n",
       "MIA2         0                        0                       \n",
       "SOCS4        0                        0                       \n",
       "MEG8         0                        0                       \n",
       "ZFHX3        0                        1                       \n",
       "MYO18A       0                        0                       \n",
       "SEPTIN4      0                        3                       \n",
       "IGFLR1       0                        0                       \n",
       "SIGLEC12     0                        0                       \n",
       "             ILD62-1_TTAGTTCCAGCTCGAC ILD62-2_ACGAGGATCTGCCAGG\n",
       "BTBD8        0                        0                       \n",
       "HNRNPU       1                        0                       \n",
       "RRM2         0                        0                       \n",
       "LINC01291    0                        0                       \n",
       "KLKB1        0                        0                       \n",
       "ROPN1L       0                        0                       \n",
       "GCNT4        0                        0                       \n",
       "TRAF3IP2-AS1 0                        0                       \n",
       "LINC00632    0                        0                       \n",
       "DLGAP2       0                        0                       \n",
       "UBE2R2-AS1   0                        0                       \n",
       "TMEM8B       0                        0                       \n",
       "S1PR3        0                        0                       \n",
       "TTLL11       0                        0                       \n",
       "MICAL2       0                        1                       \n",
       "NEBL         0                        0                       \n",
       "C10orf67     0                        0                       \n",
       "CC2D2B       0                        0                       \n",
       "LCOR         0                        0                       \n",
       "CCND2-AS1    0                        0                       \n",
       "KRT6A        0                        0                       \n",
       "PLEKHG7      0                        0                       \n",
       "SUCLA2       2                        0                       \n",
       "MIA2         0                        0                       \n",
       "SOCS4        0                        0                       \n",
       "MEG8         2                        0                       \n",
       "ZFHX3        0                        0                       \n",
       "MYO18A       0                        0                       \n",
       "SEPTIN4      0                        0                       \n",
       "IGFLR1       0                        0                       \n",
       "SIGLEC12     0                        0                       \n",
       "             ILD63_AACTCTTCAGACTCGC ILD63_CAGAATCTCCACGTTC\n",
       "BTBD8        0                      0                     \n",
       "HNRNPU       3                      0                     \n",
       "RRM2         0                      0                     \n",
       "LINC01291    0                      0                     \n",
       "KLKB1        0                      0                     \n",
       "ROPN1L       0                      0                     \n",
       "GCNT4        0                      0                     \n",
       "TRAF3IP2-AS1 0                      0                     \n",
       "LINC00632    0                      0                     \n",
       "DLGAP2       0                      0                     \n",
       "UBE2R2-AS1   0                      0                     \n",
       "TMEM8B       0                      0                     \n",
       "S1PR3        0                      3                     \n",
       "TTLL11       0                      0                     \n",
       "MICAL2       0                      0                     \n",
       "NEBL         0                      0                     \n",
       "C10orf67     0                      0                     \n",
       "CC2D2B       0                      0                     \n",
       "LCOR         0                      0                     \n",
       "CCND2-AS1    0                      0                     \n",
       "KRT6A        0                      0                     \n",
       "PLEKHG7      0                      0                     \n",
       "SUCLA2       0                      0                     \n",
       "MIA2         0                      0                     \n",
       "SOCS4        0                      2                     \n",
       "MEG8         0                      0                     \n",
       "ZFHX3        1                      0                     \n",
       "MYO18A       0                      2                     \n",
       "SEPTIN4      1                      0                     \n",
       "IGFLR1       0                      0                     \n",
       "SIGLEC12     0                      0                     \n",
       "             ILD63_CTGAAACAGAAGGTGA ILD63_GGCCGATAGCTGTTCA\n",
       "BTBD8        0                      0                     \n",
       "HNRNPU       0                      0                     \n",
       "RRM2         0                      0                     \n",
       "LINC01291    0                      0                     \n",
       "KLKB1        0                      0                     \n",
       "ROPN1L       0                      0                     \n",
       "GCNT4        0                      0                     \n",
       "TRAF3IP2-AS1 0                      0                     \n",
       "LINC00632    0                      0                     \n",
       "DLGAP2       0                      0                     \n",
       "UBE2R2-AS1   0                      0                     \n",
       "TMEM8B       0                      0                     \n",
       "S1PR3        0                      0                     \n",
       "TTLL11       0                      0                     \n",
       "MICAL2       0                      0                     \n",
       "NEBL         0                      0                     \n",
       "C10orf67     0                      0                     \n",
       "CC2D2B       0                      0                     \n",
       "LCOR         0                      0                     \n",
       "CCND2-AS1    0                      0                     \n",
       "KRT6A        0                      0                     \n",
       "PLEKHG7      0                      0                     \n",
       "SUCLA2       1                      0                     \n",
       "MIA2         0                      0                     \n",
       "SOCS4        0                      0                     \n",
       "MEG8         0                      0                     \n",
       "ZFHX3        0                      0                     \n",
       "MYO18A       0                      0                     \n",
       "SEPTIN4      1                      2                     \n",
       "IGFLR1       0                      2                     \n",
       "SIGLEC12     0                      0                     "
      ]
     },
     "metadata": {},
     "output_type": "display_data"
    }
   ],
   "source": [
    "aggregated_counts"
   ]
  },
  {
   "cell_type": "code",
   "execution_count": 68,
   "id": "e176824a-8dd4-43a8-8a56-0d584ae39f47",
   "metadata": {
    "vscode": {
     "languageId": "r"
    }
   },
   "outputs": [
    {
     "name": "stdout",
     "output_type": "stream",
     "text": [
      " num [1:31, 1:114396] 0 1 0 0 0 0 0 0 0 0 ...\n",
      " - attr(*, \"dimnames\")=List of 2\n",
      "  ..$ : chr [1:31] \"BTBD8\" \"HNRNPU\" \"RRM2\" \"LINC01291\" ...\n",
      "  ..$ : chr [1:114396] \"F00431_AGAGCTTGTAGAGGAA\" \"F01380_GATCTAGTCTTGCCGT\" \"F01391_AGTCTTTAGGTTACCT\" \"F01391_ATCCACCAGGAGTCTG\" ...\n"
     ]
    }
   ],
   "source": [
    "str(aggregated_counts)"
   ]
  },
  {
   "cell_type": "code",
   "execution_count": 17,
   "id": "17528227-f961-4244-bce3-47adc41369e1",
   "metadata": {
    "vscode": {
     "languageId": "r"
    }
   },
   "outputs": [],
   "source": [
    "combined_matrix <- rbind(subset_matrix_main, aggregated_counts)"
   ]
  },
  {
   "cell_type": "code",
   "execution_count": 20,
   "id": "5d93f1f0-387f-478b-98c9-c9d9473a9fda",
   "metadata": {
    "vscode": {
     "languageId": "r"
    }
   },
   "outputs": [],
   "source": [
    "# Initialize an empty list to store the sums\n",
    "sums_list <- list()\n",
    "\n",
    "# Iterate over each gene in your list\n",
    "for (gene in duplicated) {\n",
    "  # Subset the count matrix for the current gene and calculate the sum\n",
    "  gene_sum <- sum(combined_matrix[rownames(combined_matrix) == gene, ])\n",
    "  \n",
    "  # Add the sum to the sums_list with the gene name as the key\n",
    "  sums_list[[gene]] <- gene_sum\n",
    "}"
   ]
  },
  {
   "cell_type": "code",
   "execution_count": 21,
   "id": "822c6f8c-ff88-4b53-b837-513f35091740",
   "metadata": {
    "vscode": {
     "languageId": "r"
    }
   },
   "outputs": [
    {
     "data": {
      "text/html": [
       "<dl>\n",
       "\t<dt>$BTBD8</dt>\n",
       "\t\t<dd>3399</dd>\n",
       "\t<dt>$HNRNPU</dt>\n",
       "\t\t<dd>166463</dd>\n",
       "\t<dt>$RRM2</dt>\n",
       "\t\t<dd>8302</dd>\n",
       "\t<dt>$LINC01291</dt>\n",
       "\t\t<dd>187</dd>\n",
       "\t<dt>$ROPN1L</dt>\n",
       "\t\t<dd>69841</dd>\n",
       "\t<dt>$GCNT4</dt>\n",
       "\t\t<dd>1854</dd>\n",
       "\t<dt>$`TRAF3IP2-AS1`</dt>\n",
       "\t\t<dd>4557</dd>\n",
       "\t<dt>$LINC00632</dt>\n",
       "\t\t<dd>1887</dd>\n",
       "\t<dt>$DLGAP2</dt>\n",
       "\t\t<dd>379</dd>\n",
       "\t<dt>$`UBE2R2-AS1`</dt>\n",
       "\t\t<dd>49</dd>\n",
       "\t<dt>$TMEM8B</dt>\n",
       "\t\t<dd>4709</dd>\n",
       "\t<dt>$S1PR3</dt>\n",
       "\t\t<dd>2540</dd>\n",
       "\t<dt>$TTLL11</dt>\n",
       "\t\t<dd>1928</dd>\n",
       "\t<dt>$MICAL2</dt>\n",
       "\t\t<dd>16270</dd>\n",
       "\t<dt>$NEBL</dt>\n",
       "\t\t<dd>15638</dd>\n",
       "\t<dt>$C10orf67</dt>\n",
       "\t\t<dd>7785</dd>\n",
       "\t<dt>$CC2D2B</dt>\n",
       "\t\t<dd>170</dd>\n",
       "\t<dt>$LCOR</dt>\n",
       "\t\t<dd>19391</dd>\n",
       "\t<dt>$`CCND2-AS1`</dt>\n",
       "\t\t<dd>276</dd>\n",
       "\t<dt>$KRT6A</dt>\n",
       "\t\t<dd>4609</dd>\n",
       "\t<dt>$PLEKHG7</dt>\n",
       "\t\t<dd>8103</dd>\n",
       "\t<dt>$SUCLA2</dt>\n",
       "\t\t<dd>16494</dd>\n",
       "\t<dt>$MIA2</dt>\n",
       "\t\t<dd>21652</dd>\n",
       "\t<dt>$MEG8</dt>\n",
       "\t\t<dd>560</dd>\n",
       "\t<dt>$ZFHX3</dt>\n",
       "\t\t<dd>26466</dd>\n",
       "\t<dt>$MYO18A</dt>\n",
       "\t\t<dd>5057</dd>\n",
       "\t<dt>$SOCS4</dt>\n",
       "\t\t<dd>17796</dd>\n",
       "\t<dt>$SEPTIN4</dt>\n",
       "\t\t<dd>5426</dd>\n",
       "\t<dt>$IGFLR1</dt>\n",
       "\t\t<dd>30365</dd>\n",
       "\t<dt>$KLKB1</dt>\n",
       "\t\t<dd>386</dd>\n",
       "\t<dt>$SIGLEC12</dt>\n",
       "\t\t<dd>2107</dd>\n",
       "</dl>\n"
      ],
      "text/latex": [
       "\\begin{description}\n",
       "\\item[\\$BTBD8] 3399\n",
       "\\item[\\$HNRNPU] 166463\n",
       "\\item[\\$RRM2] 8302\n",
       "\\item[\\$LINC01291] 187\n",
       "\\item[\\$ROPN1L] 69841\n",
       "\\item[\\$GCNT4] 1854\n",
       "\\item[\\$`TRAF3IP2-AS1`] 4557\n",
       "\\item[\\$LINC00632] 1887\n",
       "\\item[\\$DLGAP2] 379\n",
       "\\item[\\$`UBE2R2-AS1`] 49\n",
       "\\item[\\$TMEM8B] 4709\n",
       "\\item[\\$S1PR3] 2540\n",
       "\\item[\\$TTLL11] 1928\n",
       "\\item[\\$MICAL2] 16270\n",
       "\\item[\\$NEBL] 15638\n",
       "\\item[\\$C10orf67] 7785\n",
       "\\item[\\$CC2D2B] 170\n",
       "\\item[\\$LCOR] 19391\n",
       "\\item[\\$`CCND2-AS1`] 276\n",
       "\\item[\\$KRT6A] 4609\n",
       "\\item[\\$PLEKHG7] 8103\n",
       "\\item[\\$SUCLA2] 16494\n",
       "\\item[\\$MIA2] 21652\n",
       "\\item[\\$MEG8] 560\n",
       "\\item[\\$ZFHX3] 26466\n",
       "\\item[\\$MYO18A] 5057\n",
       "\\item[\\$SOCS4] 17796\n",
       "\\item[\\$SEPTIN4] 5426\n",
       "\\item[\\$IGFLR1] 30365\n",
       "\\item[\\$KLKB1] 386\n",
       "\\item[\\$SIGLEC12] 2107\n",
       "\\end{description}\n"
      ],
      "text/markdown": [
       "$BTBD8\n",
       ":   3399\n",
       "$HNRNPU\n",
       ":   166463\n",
       "$RRM2\n",
       ":   8302\n",
       "$LINC01291\n",
       ":   187\n",
       "$ROPN1L\n",
       ":   69841\n",
       "$GCNT4\n",
       ":   1854\n",
       "$`TRAF3IP2-AS1`\n",
       ":   4557\n",
       "$LINC00632\n",
       ":   1887\n",
       "$DLGAP2\n",
       ":   379\n",
       "$`UBE2R2-AS1`\n",
       ":   49\n",
       "$TMEM8B\n",
       ":   4709\n",
       "$S1PR3\n",
       ":   2540\n",
       "$TTLL11\n",
       ":   1928\n",
       "$MICAL2\n",
       ":   16270\n",
       "$NEBL\n",
       ":   15638\n",
       "$C10orf67\n",
       ":   7785\n",
       "$CC2D2B\n",
       ":   170\n",
       "$LCOR\n",
       ":   19391\n",
       "$`CCND2-AS1`\n",
       ":   276\n",
       "$KRT6A\n",
       ":   4609\n",
       "$PLEKHG7\n",
       ":   8103\n",
       "$SUCLA2\n",
       ":   16494\n",
       "$MIA2\n",
       ":   21652\n",
       "$MEG8\n",
       ":   560\n",
       "$ZFHX3\n",
       ":   26466\n",
       "$MYO18A\n",
       ":   5057\n",
       "$SOCS4\n",
       ":   17796\n",
       "$SEPTIN4\n",
       ":   5426\n",
       "$IGFLR1\n",
       ":   30365\n",
       "$KLKB1\n",
       ":   386\n",
       "$SIGLEC12\n",
       ":   2107\n",
       "\n",
       "\n"
      ],
      "text/plain": [
       "$BTBD8\n",
       "[1] 3399\n",
       "\n",
       "$HNRNPU\n",
       "[1] 166463\n",
       "\n",
       "$RRM2\n",
       "[1] 8302\n",
       "\n",
       "$LINC01291\n",
       "[1] 187\n",
       "\n",
       "$ROPN1L\n",
       "[1] 69841\n",
       "\n",
       "$GCNT4\n",
       "[1] 1854\n",
       "\n",
       "$`TRAF3IP2-AS1`\n",
       "[1] 4557\n",
       "\n",
       "$LINC00632\n",
       "[1] 1887\n",
       "\n",
       "$DLGAP2\n",
       "[1] 379\n",
       "\n",
       "$`UBE2R2-AS1`\n",
       "[1] 49\n",
       "\n",
       "$TMEM8B\n",
       "[1] 4709\n",
       "\n",
       "$S1PR3\n",
       "[1] 2540\n",
       "\n",
       "$TTLL11\n",
       "[1] 1928\n",
       "\n",
       "$MICAL2\n",
       "[1] 16270\n",
       "\n",
       "$NEBL\n",
       "[1] 15638\n",
       "\n",
       "$C10orf67\n",
       "[1] 7785\n",
       "\n",
       "$CC2D2B\n",
       "[1] 170\n",
       "\n",
       "$LCOR\n",
       "[1] 19391\n",
       "\n",
       "$`CCND2-AS1`\n",
       "[1] 276\n",
       "\n",
       "$KRT6A\n",
       "[1] 4609\n",
       "\n",
       "$PLEKHG7\n",
       "[1] 8103\n",
       "\n",
       "$SUCLA2\n",
       "[1] 16494\n",
       "\n",
       "$MIA2\n",
       "[1] 21652\n",
       "\n",
       "$MEG8\n",
       "[1] 560\n",
       "\n",
       "$ZFHX3\n",
       "[1] 26466\n",
       "\n",
       "$MYO18A\n",
       "[1] 5057\n",
       "\n",
       "$SOCS4\n",
       "[1] 17796\n",
       "\n",
       "$SEPTIN4\n",
       "[1] 5426\n",
       "\n",
       "$IGFLR1\n",
       "[1] 30365\n",
       "\n",
       "$KLKB1\n",
       "[1] 386\n",
       "\n",
       "$SIGLEC12\n",
       "[1] 2107\n"
      ]
     },
     "metadata": {},
     "output_type": "display_data"
    }
   ],
   "source": [
    "sums_list"
   ]
  },
  {
   "cell_type": "code",
   "execution_count": 18,
   "id": "17e28c47-db25-4811-9917-24a2ffc254b7",
   "metadata": {
    "vscode": {
     "languageId": "r"
    }
   },
   "outputs": [
    {
     "name": "stderr",
     "output_type": "stream",
     "text": [
      "  [[ suppressing 34 column names ‘F00431_AGAGCTTGTAGAGGAA’, ‘F01380_GATCTAGTCTTGCCGT’, ‘F01391_AGTCTTTAGGTTACCT’ ... ]]\n",
      "\n"
     ]
    },
    {
     "data": {
      "text/plain": [
       "6 x 114396 sparse Matrix of class \"dgCMatrix\"\n",
       "                                                                               \n",
       "RP11-34P13.3  . . . . . . . . . . . . . . . . . . . . . . . . . . . . . . . . .\n",
       "RP11-34P13.7  . . . . . . . . . . . . . . . . . . . . . . . . . . . . . . . . .\n",
       "RP11-34P13.14 . . . . . . . . . . . . . . . . . . . . . . . . . . . . . . . . .\n",
       "FO538757.3    . . . . . . . . . . . . . . . . . . . . . . . . . . . . . . . . .\n",
       "FO538757.2    . . . . . . . . 1 . . . . 1 . . 1 . 1 . . . . 1 2 . . . . . 1 . .\n",
       "AP006222.2    . . . . . . . . . . . . . . . . . . . . . . . . . . . . . . . . .\n",
       "                      \n",
       "RP11-34P13.3  . ......\n",
       "RP11-34P13.7  . ......\n",
       "RP11-34P13.14 . ......\n",
       "FO538757.3    . ......\n",
       "FO538757.2    1 ......\n",
       "AP006222.2    . ......\n",
       "\n",
       " .....suppressing 114362 columns in show(); maybe adjust options(max.print=, width=)\n",
       " .............................."
      ]
     },
     "metadata": {},
     "output_type": "display_data"
    }
   ],
   "source": [
    "head(combined_matrix)"
   ]
  },
  {
   "cell_type": "code",
   "execution_count": 70,
   "id": "ee69cabc-7a82-41d2-a47c-9836d12889b4",
   "metadata": {
    "vscode": {
     "languageId": "r"
    }
   },
   "outputs": [
    {
     "name": "stdout",
     "output_type": "stream",
     "text": [
      " num [1:26345, 1:114396] 0 0 0 0 0 0 0 0 0 0 ...\n",
      " - attr(*, \"dimnames\")=List of 2\n",
      "  ..$ : chr [1:26345] \"RP11-34P13.3\" \"RP11-34P13.7\" \"RP11-34P13.14\" \"FO538757.3\" ...\n",
      "  ..$ : chr [1:114396] \"F00431_AGAGCTTGTAGAGGAA\" \"F01380_GATCTAGTCTTGCCGT\" \"F01391_AGTCTTTAGGTTACCT\" \"F01391_ATCCACCAGGAGTCTG\" ...\n"
     ]
    }
   ],
   "source": [
    "str(combined_matrix)"
   ]
  },
  {
   "cell_type": "code",
   "execution_count": 71,
   "id": "5474d8f3-77ec-49b0-b83a-f414e19efe02",
   "metadata": {
    "vscode": {
     "languageId": "r"
    }
   },
   "outputs": [
    {
     "name": "stderr",
     "output_type": "stream",
     "text": [
      "\u001b[1m\u001b[22mNew names:\n",
      "\u001b[36m•\u001b[39m `` -> `...1`\n",
      "\u001b[36m•\u001b[39m `...1` -> `...2`\n",
      "\u001b[1mRows: \u001b[22m\u001b[34m114396\u001b[39m \u001b[1mColumns: \u001b[22m\u001b[34m18\u001b[39m\n",
      "\u001b[36m──\u001b[39m \u001b[1mColumn specification\u001b[22m \u001b[36m────────────────────────────────────────────────────────\u001b[39m\n",
      "\u001b[1mDelimiter:\u001b[22m \",\"\n",
      "\u001b[31mchr\u001b[39m (13): ...2, subclass, cells, lineage, condition, aetiology, study, tissu...\n",
      "\u001b[32mdbl\u001b[39m  (5): ...1, nCount_RNA, nFeature_RNA, percent.mt, age\n",
      "\n",
      "\u001b[36mℹ\u001b[39m Use `spec()` to retrieve the full column specification for this data.\n",
      "\u001b[36mℹ\u001b[39m Specify the column types or set `show_col_types = FALSE` to quiet this message.\n"
     ]
    }
   ],
   "source": [
    "#Load metadata and dim reductions\n",
    "data_haber_metadata <- read_csv(\"data_haber_metadata_final.csv\")"
   ]
  },
  {
   "cell_type": "code",
   "execution_count": 72,
   "id": "f2007a82-166c-4e8d-98cf-af414bf3a4fc",
   "metadata": {
    "vscode": {
     "languageId": "r"
    }
   },
   "outputs": [],
   "source": [
    "data_haber_metadata <- as.data.frame(data_haber_metadata)"
   ]
  },
  {
   "cell_type": "code",
   "execution_count": 74,
   "id": "d397a558-b8b5-41a4-a089-ec2f604cf284",
   "metadata": {
    "vscode": {
     "languageId": "r"
    }
   },
   "outputs": [],
   "source": [
    "rownames(data_haber_metadata) <- data_haber_metadata$`...2`"
   ]
  },
  {
   "cell_type": "code",
   "execution_count": 75,
   "id": "985529d1-f5b7-469a-8336-d77365a0a516",
   "metadata": {
    "vscode": {
     "languageId": "r"
    }
   },
   "outputs": [],
   "source": [
    "data_haber_metadata$`...2` <- NULL\n",
    "data_haber_metadata$`...1` <- NULL"
   ]
  },
  {
   "cell_type": "code",
   "execution_count": 77,
   "id": "9406ca21-6be6-47a4-8d3d-748750f9f190",
   "metadata": {
    "vscode": {
     "languageId": "r"
    }
   },
   "outputs": [
    {
     "name": "stderr",
     "output_type": "stream",
     "text": [
      "Warning message:\n",
      "“Data is of class matrix. Coercing to dgCMatrix.”\n"
     ]
    }
   ],
   "source": [
    "#Create Seurat\n",
    "data_haber_seurat <- CreateSeuratObject(counts = combined_matrix, meta.data = data_haber_metadata)"
   ]
  },
  {
   "cell_type": "code",
   "execution_count": 78,
   "id": "d2b7a758-bccd-4cfb-89e5-141a96b045b7",
   "metadata": {
    "vscode": {
     "languageId": "r"
    }
   },
   "outputs": [
    {
     "data": {
      "text/plain": [
       "An object of class Seurat \n",
       "26345 features across 114396 samples within 1 assay \n",
       "Active assay: RNA (26345 features, 0 variable features)\n",
       " 1 layer present: counts"
      ]
     },
     "metadata": {},
     "output_type": "display_data"
    }
   ],
   "source": [
    "data_haber_seurat"
   ]
  },
  {
   "cell_type": "code",
   "execution_count": 79,
   "id": "8d4d1f91-e16e-494b-8c5a-873bb2971328",
   "metadata": {
    "vscode": {
     "languageId": "r"
    }
   },
   "outputs": [],
   "source": [
    "setwd(\"/dh-projects/ag-conrad/analysis/saal11/panfib/Renaming/Haber\")\n",
    "save(data_haber_seurat, file = \"data_haber_seurat_final.RData\")"
   ]
  },
  {
   "cell_type": "code",
   "execution_count": 40,
   "id": "a9f2267b-4da3-44cf-ae6a-36139da9d7be",
   "metadata": {
    "vscode": {
     "languageId": "r"
    }
   },
   "outputs": [],
   "source": [
    "#Sparsity\n",
    "\n",
    "total_elements <- length(data_haber_matrix)\n",
    "# Calculate the number of zero elements in the matrix\n",
    "zero_elements <- sum(data_haber_matrix == 0)\n",
    "\n",
    "# Calculate the sparsity\n",
    "sparsity <- zero_elements / total_elements"
   ]
  },
  {
   "cell_type": "code",
   "execution_count": 41,
   "id": "86f519c7-a114-4a17-96a2-777dd15f379e",
   "metadata": {
    "vscode": {
     "languageId": "r"
    }
   },
   "outputs": [
    {
     "data": {
      "text/html": [
       "0.919275446157721"
      ],
      "text/latex": [
       "0.919275446157721"
      ],
      "text/markdown": [
       "0.919275446157721"
      ],
      "text/plain": [
       "[1] 0.9192754"
      ]
     },
     "metadata": {},
     "output_type": "display_data"
    }
   ],
   "source": [
    "sparsity"
   ]
  }
 ],
 "metadata": {
  "kernelspec": {
   "display_name": "R [conda env:panfib]",
   "language": "R",
   "name": "conda-env-panfib-r"
  },
  "language_info": {
   "codemirror_mode": "r",
   "file_extension": ".r",
   "mimetype": "text/x-r-source",
   "name": "R",
   "pygments_lexer": "r",
   "version": "4.3.3"
  }
 },
 "nbformat": 4,
 "nbformat_minor": 5
}
