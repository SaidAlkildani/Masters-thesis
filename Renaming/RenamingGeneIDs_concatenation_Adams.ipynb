{
 "cells": [
  {
   "cell_type": "code",
   "execution_count": 25,
   "id": "7b6226c0-9ea3-4dd9-8245-dbfe9c9b8a6f",
   "metadata": {},
   "outputs": [],
   "source": [
    "library(Seurat)\n",
    "library(openxlsx)\n",
    "library(readxl)\n",
    "library(Matrix)\n",
    "library(readr)"
   ]
  },
  {
   "cell_type": "code",
   "execution_count": 3,
   "id": "e5484aae-1117-482f-b0fb-c67cf4acabb9",
   "metadata": {},
   "outputs": [],
   "source": [
    "#Need to find out if all duplicates are nonzeros\n",
    "#Adams\n",
    "setwd(\"/dh-projects/ag-conrad/analysis/saal11/panfib/Renaming/Adams\")\n",
    "#Upload matrices\n",
    "data_adams_matrix <- readMM(\"data_adams_matrix.mtx\")\n",
    "#Upload original gene list\n",
    "data_adams_genes <- read.xlsx(\"data_adams_geneIDs_int_removed_manualedit.xlsx\")\n",
    "data_adams_cellIDs <- read.delim(\"data_adams_cellIDs.tsv\")\n",
    "rownames(data_adams_matrix) <- data_adams_genes$New\n",
    "colnames(data_adams_matrix) <- data_adams_cellIDs$cellIDs"
   ]
  },
  {
   "cell_type": "code",
   "execution_count": 4,
   "id": "78ad9d7f-8ea9-4b9f-9833-b4430145642a",
   "metadata": {},
   "outputs": [
    {
     "name": "stdout",
     "output_type": "stream",
     "text": [
      "Duplicate gene IDs:\n",
      " [1] \"GABPB1\"         \"RRM2\"           \"TMC6\"           \"MT-TP\"         \n",
      " [5] \"LYPLAL1-DT\"     \"SIMALR\"         \"LINC01291\"      \"FAM27C\"        \n",
      " [9] \"UBE2R2-AS1\"     \"ROPN1L\"         \"TNPO1-DT\"       \"KHDRBS2\"       \n",
      "[13] \"GCNT4\"          \"SIGLEC12\"       \"CFAP298-TCP10L\" \"SIGLEC5\"       \n",
      "[17] \"GPR89B\"         \"TBC1D3B\"        \"PMS2P10\"        \"CCDC92B\"       \n",
      "[21] \"IGSF9B\"         \"ZNF724\"         \"NBPF13P\"        \"BCRP3\"         \n",
      "[25] \"TSTD3\"          \"LINC01819\"      \"LINC00499\"      \"MILIP\"         \n",
      "[29] \"KRT6A\"          \"SEPTIN4\"        \"SPTBN1-AS1\"     \"LINC02814\"     \n",
      "[33] \"LINC02149\"      \"LINC01115\"      \"PSG9\"           \"PKNOX2-DT\"     \n"
     ]
    }
   ],
   "source": [
    "#Check and extract duplicates\n",
    "#Find sums of duplicate genes (from manual edit)\n",
    "duplicate_genes <- duplicated(rownames(data_adams_matrix))\n",
    "cat(\"Duplicate gene IDs:\\n\")\n",
    "print(rownames(data_adams_matrix)[duplicate_genes])\n",
    "duplicated <- rownames(data_adams_matrix)[duplicate_genes]"
   ]
  },
  {
   "cell_type": "code",
   "execution_count": 10,
   "id": "aa085e16-eb18-41af-827c-225a66ae61f2",
   "metadata": {},
   "outputs": [
    {
     "data": {
      "text/html": [
       "20"
      ],
      "text/latex": [
       "20"
      ],
      "text/markdown": [
       "20"
      ],
      "text/plain": [
       "[1] 20"
      ]
     },
     "metadata": {},
     "output_type": "display_data"
    }
   ],
   "source": [
    "#Filter zeros\n",
    "row_sums <- rowSums(data_adams_matrix)\n",
    "names_with_zeros <- names(row_sums[row_sums == 0])\n",
    "length(names_with_zeros)"
   ]
  },
  {
   "cell_type": "code",
   "execution_count": 11,
   "id": "b0efd9da-ac2d-419d-befc-4ddc6fd94f62",
   "metadata": {},
   "outputs": [
    {
     "data": {
      "text/html": [
       "<style>\n",
       ".list-inline {list-style: none; margin:0; padding: 0}\n",
       ".list-inline>li {display: inline-block}\n",
       ".list-inline>li:not(:last-child)::after {content: \"\\00b7\"; padding: 0 .5ex}\n",
       "</style>\n",
       "<ol class=list-inline><li>'ENSG00000225570'</li><li>'ENSG00000197476'</li><li>'IGHV3-62'</li><li>'ENSG00000257994'</li><li>'ENSG00000279657'</li><li>'RPSAP62'</li><li>'IGHV1OR16-4'</li><li>'IGLJ2'</li><li>'RNU6-1135P'</li><li>'ENSG00000279042'</li><li>'OR4A21P'</li><li>'ENSG00000248137'</li><li>'ENSG00000267400'</li><li>'GAGE12H'</li><li>'ENSG00000266196'</li><li>'RN7SL445P'</li><li>'ENSG00000275480'</li><li>'ENSG00000207243'</li><li>'ENSG00000250243'</li><li>'OR13C7'</li></ol>\n"
      ],
      "text/latex": [
       "\\begin{enumerate*}\n",
       "\\item 'ENSG00000225570'\n",
       "\\item 'ENSG00000197476'\n",
       "\\item 'IGHV3-62'\n",
       "\\item 'ENSG00000257994'\n",
       "\\item 'ENSG00000279657'\n",
       "\\item 'RPSAP62'\n",
       "\\item 'IGHV1OR16-4'\n",
       "\\item 'IGLJ2'\n",
       "\\item 'RNU6-1135P'\n",
       "\\item 'ENSG00000279042'\n",
       "\\item 'OR4A21P'\n",
       "\\item 'ENSG00000248137'\n",
       "\\item 'ENSG00000267400'\n",
       "\\item 'GAGE12H'\n",
       "\\item 'ENSG00000266196'\n",
       "\\item 'RN7SL445P'\n",
       "\\item 'ENSG00000275480'\n",
       "\\item 'ENSG00000207243'\n",
       "\\item 'ENSG00000250243'\n",
       "\\item 'OR13C7'\n",
       "\\end{enumerate*}\n"
      ],
      "text/markdown": [
       "1. 'ENSG00000225570'\n",
       "2. 'ENSG00000197476'\n",
       "3. 'IGHV3-62'\n",
       "4. 'ENSG00000257994'\n",
       "5. 'ENSG00000279657'\n",
       "6. 'RPSAP62'\n",
       "7. 'IGHV1OR16-4'\n",
       "8. 'IGLJ2'\n",
       "9. 'RNU6-1135P'\n",
       "10. 'ENSG00000279042'\n",
       "11. 'OR4A21P'\n",
       "12. 'ENSG00000248137'\n",
       "13. 'ENSG00000267400'\n",
       "14. 'GAGE12H'\n",
       "15. 'ENSG00000266196'\n",
       "16. 'RN7SL445P'\n",
       "17. 'ENSG00000275480'\n",
       "18. 'ENSG00000207243'\n",
       "19. 'ENSG00000250243'\n",
       "20. 'OR13C7'\n",
       "\n",
       "\n"
      ],
      "text/plain": [
       " [1] \"ENSG00000225570\" \"ENSG00000197476\" \"IGHV3-62\"        \"ENSG00000257994\"\n",
       " [5] \"ENSG00000279657\" \"RPSAP62\"         \"IGHV1OR16-4\"     \"IGLJ2\"          \n",
       " [9] \"RNU6-1135P\"      \"ENSG00000279042\" \"OR4A21P\"         \"ENSG00000248137\"\n",
       "[13] \"ENSG00000267400\" \"GAGE12H\"         \"ENSG00000266196\" \"RN7SL445P\"      \n",
       "[17] \"ENSG00000275480\" \"ENSG00000207243\" \"ENSG00000250243\" \"OR13C7\"         "
      ]
     },
     "metadata": {},
     "output_type": "display_data"
    }
   ],
   "source": [
    "names_with_zeros"
   ]
  },
  {
   "cell_type": "code",
   "execution_count": 12,
   "id": "13252652-a24d-4e3c-85a3-76fa4c7a82d4",
   "metadata": {},
   "outputs": [],
   "source": [
    "filtered_data_adams_matrix <- data_adams_matrix[row_sums != 0, ]"
   ]
  },
  {
   "cell_type": "code",
   "execution_count": 19,
   "id": "b71d71fb-8ae7-4476-a1a8-84dcaa30c6df",
   "metadata": {},
   "outputs": [
    {
     "name": "stdout",
     "output_type": "stream",
     "text": [
      "Formal class 'dgTMatrix' [package \"Matrix\"] with 6 slots\n",
      "  ..@ i       : int [1:548760947] 5 16 29 32 47 53 71 72 73 75 ...\n",
      "  ..@ j       : int [1:548760947] 0 0 0 0 0 0 0 0 0 0 ...\n",
      "  ..@ Dim     : int [1:2] 42608 239705\n",
      "  ..@ Dimnames:List of 2\n",
      "  .. ..$ : chr [1:42608] \"TSPAN6\" \"TNMD\" \"DPM1\" \"SCYL3\" ...\n",
      "  .. ..$ : chr [1:239705] \"001C_AAACCTGCATCGGGTC\" \"001C_AAACCTGTCAACACCA\" \"001C_AAACCTGTCACAGTAC\" \"001C_AAACCTGTCTGTCTAT\" ...\n",
      "  ..@ x       : num [1:548760947] 2 2 1 1 1 1 1 1 3 1 ...\n",
      "  ..@ factors : list()\n",
      "Formal class 'dgTMatrix' [package \"Matrix\"] with 6 slots\n",
      "  ..@ i       : int [1:548760947] 5 16 29 32 47 53 71 72 73 75 ...\n",
      "  ..@ j       : int [1:548760947] 0 0 0 0 0 0 0 0 0 0 ...\n",
      "  ..@ Dim     : int [1:2] 42628 239705\n",
      "  ..@ Dimnames:List of 2\n",
      "  .. ..$ : chr [1:42628] \"TSPAN6\" \"TNMD\" \"DPM1\" \"SCYL3\" ...\n",
      "  .. ..$ : chr [1:239705] \"001C_AAACCTGCATCGGGTC\" \"001C_AAACCTGTCAACACCA\" \"001C_AAACCTGTCACAGTAC\" \"001C_AAACCTGTCTGTCTAT\" ...\n",
      "  ..@ x       : num [1:548760947] 2 2 1 1 1 1 1 1 3 1 ...\n",
      "  ..@ factors : list()\n"
     ]
    }
   ],
   "source": [
    "str(filtered_data_adams_matrix)\n",
    "str(data_adams_matrix)"
   ]
  },
  {
   "cell_type": "code",
   "execution_count": 13,
   "id": "5a9711c5-2cdf-467a-9291-dff54b271861",
   "metadata": {},
   "outputs": [
    {
     "name": "stderr",
     "output_type": "stream",
     "text": [
      "'as(<dgTMatrix>, \"dgCMatrix\")' is deprecated.\n",
      "Use 'as(., \"CsparseMatrix\")' instead.\n",
      "See help(\"Deprecated\") and help(\"Matrix-deprecated\").\n",
      "\n"
     ]
    }
   ],
   "source": [
    "#Concatenating replicates\n",
    "filtered_data_adams_matrix <- as(filtered_data_adams_matrix, \"dgCMatrix\")"
   ]
  },
  {
   "cell_type": "code",
   "execution_count": 14,
   "id": "7b15523d-0a07-4378-9199-e346b7c9c1a0",
   "metadata": {},
   "outputs": [],
   "source": [
    "gene_names <- rownames(filtered_data_adams_matrix)\n",
    "unique_gene_names <- unique(gene_names)\n",
    "gene_factors <- factor(gene_names, levels = unique_gene_names)"
   ]
  },
  {
   "cell_type": "code",
   "execution_count": 15,
   "id": "d3f86849-52f2-43dd-a820-f4254bed7565",
   "metadata": {},
   "outputs": [
    {
     "name": "stderr",
     "output_type": "stream",
     "text": [
      "Warning message in asMethod(object):\n",
      "“sparse->dense coercion: allocating vector of size 76.1 GiB”\n"
     ]
    }
   ],
   "source": [
    "aggregated_counts <- rowsum(as.matrix(filtered_data_adams_matrix), group = gene_factors)"
   ]
  },
  {
   "cell_type": "code",
   "execution_count": 16,
   "id": "ff5128cd-a62c-4e99-89a8-3b409e05ef1a",
   "metadata": {},
   "outputs": [
    {
     "name": "stdout",
     "output_type": "stream",
     "text": [
      " num [1:42572, 1:239705] 0 0 0 0 0 2 0 0 0 0 ...\n",
      " - attr(*, \"dimnames\")=List of 2\n",
      "  ..$ : chr [1:42572] \"TSPAN6\" \"TNMD\" \"DPM1\" \"SCYL3\" ...\n",
      "  ..$ : chr [1:239705] \"001C_AAACCTGCATCGGGTC\" \"001C_AAACCTGTCAACACCA\" \"001C_AAACCTGTCACAGTAC\" \"001C_AAACCTGTCTGTCTAT\" ...\n"
     ]
    }
   ],
   "source": [
    "str(aggregated_counts)"
   ]
  },
  {
   "cell_type": "code",
   "execution_count": 19,
   "id": "3e4ff94c-575f-4fb3-b5c1-1eb5eae756c5",
   "metadata": {},
   "outputs": [
    {
     "name": "stderr",
     "output_type": "stream",
     "text": [
      "\u001b[1m\u001b[22mNew names:\n",
      "\u001b[36m•\u001b[39m `` -> `...1`\n",
      "\u001b[36m•\u001b[39m `...1` -> `...2`\n",
      "\u001b[1mRows: \u001b[22m\u001b[34m239705\u001b[39m \u001b[1mColumns: \u001b[22m\u001b[34m18\u001b[39m\n",
      "\u001b[36m──\u001b[39m \u001b[1mColumn specification\u001b[22m \u001b[36m────────────────────────────────────────────────────────\u001b[39m\n",
      "\u001b[1mDelimiter:\u001b[22m \",\"\n",
      "\u001b[31mchr\u001b[39m (13): ...2, cells, lineage, aetiology, condition, subclass, study, tissu...\n",
      "\u001b[32mdbl\u001b[39m  (5): ...1, nCount_RNA, nFeature_RNA, percent.mt, age\n",
      "\n",
      "\u001b[36mℹ\u001b[39m Use `spec()` to retrieve the full column specification for this data.\n",
      "\u001b[36mℹ\u001b[39m Specify the column types or set `show_col_types = FALSE` to quiet this message.\n"
     ]
    }
   ],
   "source": [
    "#Load metadata and dim reductions\n",
    "data_adams_metadata <- read_csv(\"data_adams_metadata_final.csv\")"
   ]
  },
  {
   "cell_type": "code",
   "execution_count": 20,
   "id": "16188b4b-ca4a-4d98-bf2c-4161c04f7c83",
   "metadata": {},
   "outputs": [],
   "source": [
    "data_adams_metadata <- as.data.frame(data_adams_metadata)"
   ]
  },
  {
   "cell_type": "code",
   "execution_count": 21,
   "id": "6af53b98-4dbf-44a8-8631-c12306eda8f9",
   "metadata": {},
   "outputs": [],
   "source": [
    "rownames(data_adams_metadata) <- data_adams_metadata$`...2`"
   ]
  },
  {
   "cell_type": "code",
   "execution_count": 22,
   "id": "e9f67a3a-3457-4cbd-9f71-40dd810c31fe",
   "metadata": {},
   "outputs": [],
   "source": [
    "data_adams_metadata$`...2` <- NULL\n",
    "data_adams_metadata$`...1` <- NULL"
   ]
  },
  {
   "cell_type": "code",
   "execution_count": 27,
   "id": "ac89cf6f-f2aa-43a4-b53b-7dc011b06f0b",
   "metadata": {},
   "outputs": [
    {
     "data": {
      "text/html": [
       "<style>\n",
       ".list-inline {list-style: none; margin:0; padding: 0}\n",
       ".list-inline>li {display: inline-block}\n",
       ".list-inline>li:not(:last-child)::after {content: \"\\00b7\"; padding: 0 .5ex}\n",
       "</style>\n",
       "<ol class=list-inline><li>'matrix'</li><li>'array'</li></ol>\n"
      ],
      "text/latex": [
       "\\begin{enumerate*}\n",
       "\\item 'matrix'\n",
       "\\item 'array'\n",
       "\\end{enumerate*}\n"
      ],
      "text/markdown": [
       "1. 'matrix'\n",
       "2. 'array'\n",
       "\n",
       "\n"
      ],
      "text/plain": [
       "[1] \"matrix\" \"array\" "
      ]
     },
     "metadata": {},
     "output_type": "display_data"
    }
   ],
   "source": [
    "class(aggregated_counts)"
   ]
  },
  {
   "cell_type": "code",
   "execution_count": 28,
   "id": "7df8890f-2661-4e0c-8915-4cfb87ce1e1e",
   "metadata": {},
   "outputs": [],
   "source": [
    "aggregated_counts <- as(aggregated_counts, \"dgCMatrix\")"
   ]
  },
  {
   "cell_type": "code",
   "execution_count": 31,
   "id": "079157bf-9bf8-4d8c-9eab-8c8bbca9e1af",
   "metadata": {},
   "outputs": [
    {
     "data": {
      "text/html": [
       "'dgCMatrix'"
      ],
      "text/latex": [
       "'dgCMatrix'"
      ],
      "text/markdown": [
       "'dgCMatrix'"
      ],
      "text/plain": [
       "[1] \"dgCMatrix\"\n",
       "attr(,\"package\")\n",
       "[1] \"Matrix\""
      ]
     },
     "metadata": {},
     "output_type": "display_data"
    }
   ],
   "source": [
    "class(aggregated_counts)"
   ]
  },
  {
   "cell_type": "code",
   "execution_count": 29,
   "id": "61d744e9-d68d-47f8-92da-36093ca2e1cf",
   "metadata": {},
   "outputs": [
    {
     "data": {
      "text/plain": [
       "NULL"
      ]
     },
     "metadata": {},
     "output_type": "display_data"
    }
   ],
   "source": [
    "writeMM(aggregated_counts,file='data_adams_aggregated_counts.mtx')"
   ]
  },
  {
   "cell_type": "code",
   "execution_count": 32,
   "id": "11c3d1ac-40e7-4f4d-9aa1-563f52d2b7a5",
   "metadata": {},
   "outputs": [
    {
     "name": "stderr",
     "output_type": "stream",
     "text": [
      "Warning message:\n",
      "“Feature names cannot have underscores ('_'), replacing with dashes ('-')”\n"
     ]
    }
   ],
   "source": [
    "#The process resulted in correct aggregation (refer to excel sheet)\n",
    "#Create Seurat Object with the new gene list\n",
    "data_adams_seurat <- CreateSeuratObject(counts = aggregated_counts, meta.data = data_adams_metadata)"
   ]
  },
  {
   "cell_type": "code",
   "execution_count": 33,
   "id": "ee4f9ce2-83ec-4ab8-96cd-e7616652e0ec",
   "metadata": {},
   "outputs": [
    {
     "data": {
      "text/plain": [
       "An object of class Seurat \n",
       "42572 features across 239705 samples within 1 assay \n",
       "Active assay: RNA (42572 features, 0 variable features)\n",
       " 1 layer present: counts"
      ]
     },
     "metadata": {},
     "output_type": "display_data"
    }
   ],
   "source": [
    "data_adams_seurat"
   ]
  },
  {
   "cell_type": "code",
   "execution_count": 34,
   "id": "26199195-030b-4434-907d-5d36ce8af549",
   "metadata": {},
   "outputs": [],
   "source": [
    "save(data_adams_seurat, file = \"data_adams_seurat_final.RData\")"
   ]
  }
 ],
 "metadata": {
  "kernelspec": {
   "display_name": "R [conda env:panfib]",
   "language": "R",
   "name": "conda-env-panfib-r"
  },
  "language_info": {
   "codemirror_mode": "r",
   "file_extension": ".r",
   "mimetype": "text/x-r-source",
   "name": "R",
   "pygments_lexer": "r",
   "version": "4.3.3"
  }
 },
 "nbformat": 4,
 "nbformat_minor": 5
}
