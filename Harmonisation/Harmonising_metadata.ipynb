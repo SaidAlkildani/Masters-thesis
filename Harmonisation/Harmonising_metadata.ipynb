{
 "cells": [
  {
   "cell_type": "code",
   "execution_count": null,
   "id": "2b34c1c1-6d2d-4fab-9845-c856aa105b9f",
   "metadata": {
    "vscode": {
     "languageId": "r"
    }
   },
   "outputs": [],
   "source": [
    "# This notebook is quite messy but basically adjust the metadata so that the datasets match before integration.\n",
    "# I mostly use if statements (if x = \"unwanted name\", change to \"wanted name\")"
   ]
  },
  {
   "cell_type": "code",
   "execution_count": null,
   "id": "1d66cf54-1e0a-4cf0-8bfe-52e1249aa2bd",
   "metadata": {
    "vscode": {
     "languageId": "r"
    }
   },
   "outputs": [
    {
     "name": "stderr",
     "output_type": "stream",
     "text": [
      "Loading required package: SeuratObject\n",
      "\n",
      "Loading required package: sp\n",
      "\n",
      "‘SeuratObject’ was built under R 4.3.2 but the current version is\n",
      "4.3.3; it is recomended that you reinstall ‘SeuratObject’ as the ABI\n",
      "for R may have changed\n",
      "\n",
      "‘SeuratObject’ was built with package ‘Matrix’ 1.6.3 but the current\n",
      "version is 1.6.5; it is recomended that you reinstall ‘SeuratObject’ as\n",
      "the ABI for ‘Matrix’ may have changed\n",
      "\n",
      "\n",
      "Attaching package: ‘SeuratObject’\n",
      "\n",
      "\n",
      "The following object is masked from ‘package:base’:\n",
      "\n",
      "    intersect\n",
      "\n",
      "\n",
      "Loading required package: Rcpp\n",
      "\n"
     ]
    }
   ],
   "source": [
    "library(Seurat)\n",
    "library(harmony)\n",
    "library(ggplot2)\n",
    "library(openxlsx)\n",
    "library(readxl)\n",
    "library(Matrix)\n",
    "library(readr)"
   ]
  },
  {
   "cell_type": "code",
   "execution_count": 4,
   "id": "259c7842-7e99-4492-b7ec-884eaf1a6041",
   "metadata": {
    "vscode": {
     "languageId": "r"
    }
   },
   "outputs": [
    {
     "name": "stderr",
     "output_type": "stream",
     "text": [
      "\u001b[1mRows: \u001b[22m\u001b[34m57695\u001b[39m \u001b[1mColumns: \u001b[22m\u001b[34m18\u001b[39m\n",
      "\u001b[36m──\u001b[39m \u001b[1mColumn specification\u001b[22m \u001b[36m────────────────────────────────────────────────────────\u001b[39m\n",
      "\u001b[1mDelimiter:\u001b[22m \",\"\n",
      "\u001b[31mchr\u001b[39m (11): ...2, orig.ident, lineage, condition, study, tissue, primary_or_cu...\n",
      "\u001b[32mdbl\u001b[39m  (5): ...1, nCount_RNA, nFeature_RNA, percent.mt, age\n",
      "\u001b[33mlgl\u001b[39m  (2): subclass, aetiology\n",
      "\n",
      "\u001b[36mℹ\u001b[39m Use `spec()` to retrieve the full column specification for this data.\n",
      "\u001b[36mℹ\u001b[39m Specify the column types or set `show_col_types = FALSE` to quiet this message.\n"
     ]
    }
   ],
   "source": [
    "#--Harmonising data, Reyfman--#\n",
    "setwd(\"/dh-projects/ag-conrad/analysis/saal11/panfib/Renaming/Reyf\")\n",
    "data_reyf_metadata <- read_csv(\"data_reyf_metadata.csv\")"
   ]
  },
  {
   "cell_type": "code",
   "execution_count": 7,
   "id": "1876c43a-06c4-446e-84f1-cda044c8079f",
   "metadata": {
    "vscode": {
     "languageId": "r"
    }
   },
   "outputs": [],
   "source": [
    "data_reyf_metadata <- as.data.frame(data_reyf_metadata)"
   ]
  },
  {
   "cell_type": "code",
   "execution_count": 8,
   "id": "65b892d9-33e0-4c0e-ad6e-79ace2dbf921",
   "metadata": {
    "vscode": {
     "languageId": "r"
    }
   },
   "outputs": [],
   "source": [
    "rownames(data_reyf_metadata) <- data_reyf_metadata$`...2`"
   ]
  },
  {
   "cell_type": "code",
   "execution_count": null,
   "id": "91496be7-da2a-48b6-ae86-1da617acdf97",
   "metadata": {
    "vscode": {
     "languageId": "r"
    }
   },
   "outputs": [],
   "source": [
    "data_reyf_metadata$`...1` <- NULL\n",
    "data_reyf_metadata$`...2` <- NULL"
   ]
  },
  {
   "cell_type": "code",
   "execution_count": 11,
   "id": "091b1431-c8aa-4d63-b353-3ae2f2f3c288",
   "metadata": {
    "vscode": {
     "languageId": "r"
    }
   },
   "outputs": [],
   "source": [
    "data_reyf_metadata$patientID <- data_reyf_metadata$orig.ident"
   ]
  },
  {
   "cell_type": "code",
   "execution_count": 12,
   "id": "6a0c39f0-9275-4eb1-a140-92d337024a1b",
   "metadata": {
    "vscode": {
     "languageId": "r"
    }
   },
   "outputs": [],
   "source": [
    "data_reyf_metadata$orig.ident <- NULL"
   ]
  },
  {
   "cell_type": "code",
   "execution_count": 35,
   "id": "44f7991f-6ec3-4de1-8d00-415600698c9d",
   "metadata": {
    "vscode": {
     "languageId": "r"
    }
   },
   "outputs": [],
   "source": [
    "data_reyf_metadata$tissue <- \"lung\""
   ]
  },
  {
   "cell_type": "code",
   "execution_count": 25,
   "id": "491266f4-8da2-4729-b559-091e00024381",
   "metadata": {
    "vscode": {
     "languageId": "r"
    }
   },
   "outputs": [],
   "source": [
    "data_reyf_metadata$tissue <- \"lung\"\n",
    "data_reyf_metadata$primary_or_cultured <- \"primary\""
   ]
  },
  {
   "cell_type": "code",
   "execution_count": 19,
   "id": "4ba49aa3-9eee-4f87-b725-ea6dbafa34aa",
   "metadata": {
    "vscode": {
     "languageId": "r"
    }
   },
   "outputs": [],
   "source": [
    "data_reyf_metadata$cells <- ifelse(data_reyf_metadata$cells == \"Endothelial cells\", \"Lymph. endo. cells\", data_reyf_metadata$cells) "
   ]
  },
  {
   "cell_type": "code",
   "execution_count": null,
   "id": "74b77ee8-73f2-4d55-a8ca-96738a2f1d3d",
   "metadata": {
    "vscode": {
     "languageId": "r"
    }
   },
   "outputs": [],
   "source": [
    "data_reyf_metadata"
   ]
  },
  {
   "cell_type": "code",
   "execution_count": 38,
   "id": "663a019e-df52-4916-a59c-94edf115e05b",
   "metadata": {
    "vscode": {
     "languageId": "r"
    }
   },
   "outputs": [],
   "source": [
    "#Export metadata as csv\n",
    "setwd(\"/dh-projects/ag-conrad/analysis/saal11/panfib/Metadata\")\n",
    "write.csv(data.frame(data_reyf_metadata), file = \"data_reyf_metadata_final.csv\")"
   ]
  },
  {
   "cell_type": "code",
   "execution_count": 56,
   "id": "8a57cd50-864e-4fcd-8a65-3604f41a702d",
   "metadata": {
    "vscode": {
     "languageId": "r"
    }
   },
   "outputs": [
    {
     "name": "stderr",
     "output_type": "stream",
     "text": [
      "\u001b[1m\u001b[22mNew names:\n",
      "\u001b[36m•\u001b[39m `` -> `...1`\n",
      "\u001b[1mRows: \u001b[22m\u001b[34m58358\u001b[39m \u001b[1mColumns: \u001b[22m\u001b[34m19\u001b[39m\n",
      "\u001b[36m──\u001b[39m \u001b[1mColumn specification\u001b[22m \u001b[36m────────────────────────────────────────────────────────\u001b[39m\n",
      "\u001b[1mDelimiter:\u001b[22m \",\"\n",
      "\u001b[31mchr\u001b[39m (12): ...1, condition, aetiology, cells, lineage, orig.idents, subclass,...\n",
      "\u001b[32mdbl\u001b[39m  (6): nGene, nUMI, nCount_RNA, nFeature_RNA, percent.mt, age\n",
      "\u001b[33mlgl\u001b[39m  (1): smoking\n",
      "\n",
      "\u001b[36mℹ\u001b[39m Use `spec()` to retrieve the full column specification for this data.\n",
      "\u001b[36mℹ\u001b[39m Specify the column types or set `show_col_types = FALSE` to quiet this message.\n"
     ]
    }
   ],
   "source": [
    "#--Harmonising data, Ramachandran--#\n",
    "setwd(\"/dh-projects/ag-conrad/analysis/saal11/panfib/Renaming/Rama\")\n",
    "data_rama_metadata <- read_csv(\"data_rama_metadata.csv\")"
   ]
  },
  {
   "cell_type": "code",
   "execution_count": 45,
   "id": "cebfb500-df70-4082-b4f9-5f34da1331e6",
   "metadata": {
    "vscode": {
     "languageId": "r"
    }
   },
   "outputs": [
    {
     "data": {
      "text/html": [
       "<style>\n",
       ".list-inline {list-style: none; margin:0; padding: 0}\n",
       ".list-inline>li {display: inline-block}\n",
       ".list-inline>li:not(:last-child)::after {content: \"\\00b7\"; padding: 0 .5ex}\n",
       "</style>\n",
       "<ol class=list-inline><li>'control'</li><li>'NAFLD'</li><li>'PBC'</li><li>'ALD'</li></ol>\n"
      ],
      "text/latex": [
       "\\begin{enumerate*}\n",
       "\\item 'control'\n",
       "\\item 'NAFLD'\n",
       "\\item 'PBC'\n",
       "\\item 'ALD'\n",
       "\\end{enumerate*}\n"
      ],
      "text/markdown": [
       "1. 'control'\n",
       "2. 'NAFLD'\n",
       "3. 'PBC'\n",
       "4. 'ALD'\n",
       "\n",
       "\n"
      ],
      "text/plain": [
       "[1] \"control\" \"NAFLD\"   \"PBC\"     \"ALD\"    "
      ]
     },
     "metadata": {},
     "output_type": "display_data"
    }
   ],
   "source": [
    "unique(data_rama_metadata$aetiology)"
   ]
  },
  {
   "cell_type": "code",
   "execution_count": 57,
   "id": "3ffd5a86-9fba-4f9a-a8a2-b2049e76d930",
   "metadata": {
    "vscode": {
     "languageId": "r"
    }
   },
   "outputs": [],
   "source": [
    "data_rama_metadata$aetiology <- ifelse(data_rama_metadata$aetiology == \"Uninjured\", \"control\",data_rama_metadata$aetiology)"
   ]
  },
  {
   "cell_type": "code",
   "execution_count": 58,
   "id": "0364910b-f4c7-4fe4-adca-74e6ca02c830",
   "metadata": {
    "vscode": {
     "languageId": "r"
    }
   },
   "outputs": [],
   "source": [
    "data_rama_metadata$patientID <- data_rama_metadata$orig.idents"
   ]
  },
  {
   "cell_type": "code",
   "execution_count": 59,
   "id": "24a5ef8d-f25b-48cf-986f-10dfaae15e49",
   "metadata": {
    "vscode": {
     "languageId": "r"
    }
   },
   "outputs": [],
   "source": [
    "data_rama_metadata$orig.idents <- NULL\n",
    "data_rama_metadata$nGene <- NULL\n",
    "data_rama_metadata$nUMI <- NULL"
   ]
  },
  {
   "cell_type": "code",
   "execution_count": 61,
   "id": "c873e739-7e82-45b7-a17c-3ebefc64ec00",
   "metadata": {
    "vscode": {
     "languageId": "r"
    }
   },
   "outputs": [
    {
     "data": {
      "text/html": [
       "<style>\n",
       ".list-inline {list-style: none; margin:0; padding: 0}\n",
       ".list-inline>li {display: inline-block}\n",
       ".list-inline>li:not(:last-child)::after {content: \"\\00b7\"; padding: 0 .5ex}\n",
       "</style>\n",
       "<ol class=list-inline><li>'Macrophages'</li><li>'T cells'</li><li>'ILCs'</li><li>'Endothelial cells'</li><li>'B cells'</li><li>'pDCs'</li><li>'Plasma cells'</li><li>'Mast cells'</li><li>'Mesenchymal cells'</li><li>'Myofibroblasts'</li><li>'Cholangiocytes'</li><li>'Hepatocytes'</li><li>'Mesothelial cells'</li></ol>\n"
      ],
      "text/latex": [
       "\\begin{enumerate*}\n",
       "\\item 'Macrophages'\n",
       "\\item 'T cells'\n",
       "\\item 'ILCs'\n",
       "\\item 'Endothelial cells'\n",
       "\\item 'B cells'\n",
       "\\item 'pDCs'\n",
       "\\item 'Plasma cells'\n",
       "\\item 'Mast cells'\n",
       "\\item 'Mesenchymal cells'\n",
       "\\item 'Myofibroblasts'\n",
       "\\item 'Cholangiocytes'\n",
       "\\item 'Hepatocytes'\n",
       "\\item 'Mesothelial cells'\n",
       "\\end{enumerate*}\n"
      ],
      "text/markdown": [
       "1. 'Macrophages'\n",
       "2. 'T cells'\n",
       "3. 'ILCs'\n",
       "4. 'Endothelial cells'\n",
       "5. 'B cells'\n",
       "6. 'pDCs'\n",
       "7. 'Plasma cells'\n",
       "8. 'Mast cells'\n",
       "9. 'Mesenchymal cells'\n",
       "10. 'Myofibroblasts'\n",
       "11. 'Cholangiocytes'\n",
       "12. 'Hepatocytes'\n",
       "13. 'Mesothelial cells'\n",
       "\n",
       "\n"
      ],
      "text/plain": [
       " [1] \"Macrophages\"       \"T cells\"           \"ILCs\"             \n",
       " [4] \"Endothelial cells\" \"B cells\"           \"pDCs\"             \n",
       " [7] \"Plasma cells\"      \"Mast cells\"        \"Mesenchymal cells\"\n",
       "[10] \"Myofibroblasts\"    \"Cholangiocytes\"    \"Hepatocytes\"      \n",
       "[13] \"Mesothelial cells\""
      ]
     },
     "metadata": {},
     "output_type": "display_data"
    }
   ],
   "source": [
    "unique(data_rama_metadata$cells)"
   ]
  },
  {
   "cell_type": "code",
   "execution_count": 60,
   "id": "b279f857-ecbc-473b-9efc-99a35fe26d42",
   "metadata": {
    "vscode": {
     "languageId": "r"
    }
   },
   "outputs": [],
   "source": [
    "data_rama_metadata$cells <- ifelse(data_rama_metadata$subclass %in% c(\"MPs (1)\",\t\"MPs (2)\",\t\"MPs (3)\",\t\"MPs (4)\", \"MPs (5)\",\t\"MPs (6)\",\n",
    "                                                                      \"MPs (7)\",\t\"MPs (8)\",\t\"MPs (9)\",\t\"Cycling MPs (1)\",\n",
    "                                                                      \"Cycling MPs (2)\",\t\"Cycling MPs (3)\",\t\"Cycling MPs (4)\"), \n",
    "                                  \"Macrophages\", \n",
    "ifelse(data_rama_metadata$subclass == \"pDCs\", \"pDCs\",\n",
    "ifelse(data_rama_metadata$subclass %in% c(\"ILCs (1)\",\t\"ILCs (2)\",\t\"ILCs (3)\",\t\"Cycling ILCs (1)\",\t\"Cycling ILCs (2)\"), \"ILCs\",\n",
    "ifelse(data_rama_metadata$subclass %in% c(\"Tcells (1)\",\t\"Tcells (2)\",\t\"Tcells (3)\",\t\"Tcells (4)\",\t\"Tcells (5)\",\t\"Cycling Tcells\"), \"T cells\",\n",
    "ifelse(data_rama_metadata$subclass %in% c(\"Bcells (1)\",\t\"Bcells (2)\"), \"B cells\",\n",
    "ifelse(data_rama_metadata$subclass %in% c(\"Plasma Bcells (1)\",\t\"Plasma Bcells (2)\"), \"Plasma cells\",\n",
    "ifelse(data_rama_metadata$subclass %in% c(\"Mast cells\"), \"Mast cells\",\n",
    "ifelse(data_rama_metadata$subclass %in% c(\"Endothelia (1)\",\t\"Endothelia (2)\",\t\"Endothelia (3)\",\n",
    "                                          \"Endothelia (4)\",\t\"Endothelia (5)\",\t\"Endothelia (6)\",\t\"Endothelia (7)\"), \"Endothelial cells\",\n",
    "ifelse(data_rama_metadata$subclass %in% c(\"Mesenchyme (1)\", \"Mesenchyme (2)\"), \"Mesenchymal cells\",\n",
    "ifelse(data_rama_metadata$subclass %in% c(\"Myofibroblasts\"), \"Myofibroblasts\",\n",
    "ifelse(data_rama_metadata$subclass %in% c(\"Mesothelia\"), \"Mesothelial cells\", \n",
    "ifelse(data_rama_metadata$subclass %in% c(\"Hepatocytes\"), \"Hepatocytes\",\n",
    "ifelse(data_rama_metadata$subclass %in% c(\"Cholangiocytes (1)\", \"Cholangiocytes (2)\", \"Cholangiocytes (3)\"),\n",
    "       \"Cholangiocytes\",   \"ERROR\")))))))))))))     "
   ]
  },
  {
   "cell_type": "code",
   "execution_count": 62,
   "id": "91460f70-4183-4048-be17-09be2efb39d5",
   "metadata": {
    "vscode": {
     "languageId": "r"
    }
   },
   "outputs": [
    {
     "data": {
      "text/html": [
       "<style>\n",
       ".list-inline {list-style: none; margin:0; padding: 0}\n",
       ".list-inline>li {display: inline-block}\n",
       ".list-inline>li:not(:last-child)::after {content: \"\\00b7\"; padding: 0 .5ex}\n",
       "</style>\n",
       "<ol class=list-inline><li>'Imm'</li><li>'Mesen'</li><li>'Epi'</li></ol>\n"
      ],
      "text/latex": [
       "\\begin{enumerate*}\n",
       "\\item 'Imm'\n",
       "\\item 'Mesen'\n",
       "\\item 'Epi'\n",
       "\\end{enumerate*}\n"
      ],
      "text/markdown": [
       "1. 'Imm'\n",
       "2. 'Mesen'\n",
       "3. 'Epi'\n",
       "\n",
       "\n"
      ],
      "text/plain": [
       "[1] \"Imm\"   \"Mesen\" \"Epi\"  "
      ]
     },
     "metadata": {},
     "output_type": "display_data"
    }
   ],
   "source": [
    "unique(data_rama_metadata$lineage)"
   ]
  },
  {
   "cell_type": "code",
   "execution_count": 63,
   "id": "27c7d221-f4a5-448a-b972-ebac4c608447",
   "metadata": {
    "vscode": {
     "languageId": "r"
    }
   },
   "outputs": [
    {
     "name": "stderr",
     "output_type": "stream",
     "text": [
      "Warning message:\n",
      "“Setting row names on a tibble is deprecated.”\n"
     ]
    }
   ],
   "source": [
    "rownames(data_rama_metadata) <- data_rama_metadata$`...1`"
   ]
  },
  {
   "cell_type": "code",
   "execution_count": null,
   "id": "247a5343-8f43-4ca3-91cd-81c8aad90a7b",
   "metadata": {
    "vscode": {
     "languageId": "r"
    }
   },
   "outputs": [],
   "source": [
    "data_rama_metadata"
   ]
  },
  {
   "cell_type": "code",
   "execution_count": 65,
   "id": "ff9a35ac-301d-49b5-b9ab-39ce3736f1e6",
   "metadata": {
    "vscode": {
     "languageId": "r"
    }
   },
   "outputs": [],
   "source": [
    "#Export metadata as csv\n",
    "setwd(\"/dh-projects/ag-conrad/analysis/saal11/panfib/Metadata\")\n",
    "write.csv(data.frame(data_rama_metadata), file = \"data_rama_metadata_final.csv\")"
   ]
  },
  {
   "cell_type": "code",
   "execution_count": 67,
   "id": "7d872e3a-4937-420b-896c-8ad55ac620c7",
   "metadata": {
    "vscode": {
     "languageId": "r"
    }
   },
   "outputs": [
    {
     "name": "stderr",
     "output_type": "stream",
     "text": [
      "\u001b[1m\u001b[22mNew names:\n",
      "\u001b[36m•\u001b[39m `` -> `...1`\n",
      "\u001b[1mRows: \u001b[22m\u001b[34m239705\u001b[39m \u001b[1mColumns: \u001b[22m\u001b[34m17\u001b[39m\n",
      "\u001b[36m──\u001b[39m \u001b[1mColumn specification\u001b[22m \u001b[36m────────────────────────────────────────────────────────\u001b[39m\n",
      "\u001b[1mDelimiter:\u001b[22m \",\"\n",
      "\u001b[31mchr\u001b[39m (13): ...1, orig.ident, cells, lineage, aetiology, condition, subclass, ...\n",
      "\u001b[32mdbl\u001b[39m  (4): nCount_RNA, nFeature_RNA, percent.mt, age\n",
      "\n",
      "\u001b[36mℹ\u001b[39m Use `spec()` to retrieve the full column specification for this data.\n",
      "\u001b[36mℹ\u001b[39m Specify the column types or set `show_col_types = FALSE` to quiet this message.\n"
     ]
    }
   ],
   "source": [
    "#--Harmonising data, Adams--#\n",
    "setwd(\"/dh-projects/ag-conrad/analysis/saal11/panfib/Renaming/Adams\")\n",
    "data_adams_metadata <- read_csv(\"data_adams_metadata.csv\")"
   ]
  },
  {
   "cell_type": "code",
   "execution_count": 73,
   "id": "a74b25d7-e8b2-4c85-bf35-0b2827281333",
   "metadata": {
    "vscode": {
     "languageId": "r"
    }
   },
   "outputs": [
    {
     "data": {
      "text/html": [
       "<style>\n",
       ".list-inline {list-style: none; margin:0; padding: 0}\n",
       ".list-inline>li {display: inline-block}\n",
       ".list-inline>li:not(:last-child)::after {content: \"\\00b7\"; padding: 0 .5ex}\n",
       "</style>\n",
       "<ol class=list-inline><li>'control'</li><li>'IPF'</li></ol>\n"
      ],
      "text/latex": [
       "\\begin{enumerate*}\n",
       "\\item 'control'\n",
       "\\item 'IPF'\n",
       "\\end{enumerate*}\n"
      ],
      "text/markdown": [
       "1. 'control'\n",
       "2. 'IPF'\n",
       "\n",
       "\n"
      ],
      "text/plain": [
       "[1] \"control\" \"IPF\"    "
      ]
     },
     "metadata": {},
     "output_type": "display_data"
    }
   ],
   "source": [
    "unique(data_adams_metadata$aetiology)"
   ]
  },
  {
   "cell_type": "code",
   "execution_count": 72,
   "id": "0716cb47-ff1c-496d-b03a-7f4412225f0f",
   "metadata": {
    "vscode": {
     "languageId": "r"
    }
   },
   "outputs": [],
   "source": [
    "data_adams_metadata$aetiology <- ifelse(data_adams_metadata$aetiology == \"Control\", \"control\", data_adams_metadata$aetiology)"
   ]
  },
  {
   "cell_type": "code",
   "execution_count": 80,
   "id": "c4cb031f-7870-4f06-b42c-2a18e506acd2",
   "metadata": {
    "vscode": {
     "languageId": "r"
    }
   },
   "outputs": [],
   "source": [
    "data_adams_metadata$patientID <- data_adams_metadata$orig.ident "
   ]
  },
  {
   "cell_type": "code",
   "execution_count": 81,
   "id": "d4750f9b-8356-49f6-9569-8e27303a4736",
   "metadata": {
    "vscode": {
     "languageId": "r"
    }
   },
   "outputs": [],
   "source": [
    "data_adams_metadata$orig.ident <- NULL"
   ]
  },
  {
   "cell_type": "code",
   "execution_count": 87,
   "id": "951bed78-1864-4c54-8cf2-3ffb6b16c1df",
   "metadata": {
    "vscode": {
     "languageId": "r"
    }
   },
   "outputs": [
    {
     "data": {
      "text/html": [
       "'lung'"
      ],
      "text/latex": [
       "'lung'"
      ],
      "text/markdown": [
       "'lung'"
      ],
      "text/plain": [
       "[1] \"lung\""
      ]
     },
     "metadata": {},
     "output_type": "display_data"
    }
   ],
   "source": [
    "unique(data_adams_metadata$tissue)"
   ]
  },
  {
   "cell_type": "code",
   "execution_count": 90,
   "id": "bfdc906e-1750-4f79-99d7-6fdf9d9f0ec9",
   "metadata": {
    "vscode": {
     "languageId": "r"
    }
   },
   "outputs": [],
   "source": [
    "data_adams_metadata$cells <- data_adams_metadata$subclass\n",
    "data_adams_metadata$cells <- \n",
    "ifelse(data_adams_metadata$subclass %in% c(\"cDC1\",\t\"cDC2\",\t\"DC_Langerhans\",\t\"DC_Mature\"), \"DCs\",\n",
    "ifelse(data_adams_metadata$subclass %in% c(\"Macrophages\",\t\"Macrophage_Alveolar\",\t\"cMonocytes\",\t\"ncMonocytes\"), \"Macrophages\",\n",
    "ifelse(data_adams_metadata$subclass %in% c(\"pDC\"), \"pDCs\",       \n",
    "ifelse(data_adams_metadata$subclass %in% c(\"T cells\",\t\"Tc cells\",\t\"Treg cells\"), \"T cells\",\n",
    "ifelse(data_adams_metadata$subclass %in% c(\"Club cells\",\t\"Goblet cells\"), \"Secretory cells\",\n",
    "ifelse(data_adams_metadata$subclass %in% c(\"VE_Arterial\",\t\"VE_Capillary_A\",\t\"VE_Capillary_B\",\t\"VE_Peribronchial\",\t\"VE_Venous\"), \"Endothelial cells\",\n",
    "ifelse(data_adams_metadata$subclass %in% c(\"ILC_A\",\t\"ILC_B\"), \"ILCs\",\n",
    "                     data_adams_metadata$cells\n",
    "       )))))))"
   ]
  },
  {
   "cell_type": "code",
   "execution_count": 93,
   "id": "b28f8f40-d21a-42fa-bcb0-d8720a5378a0",
   "metadata": {
    "vscode": {
     "languageId": "r"
    }
   },
   "outputs": [
    {
     "data": {
      "text/html": [
       "<style>\n",
       ".list-inline {list-style: none; margin:0; padding: 0}\n",
       ".list-inline>li {display: inline-block}\n",
       ".list-inline>li:not(:last-child)::after {content: \"\\00b7\"; padding: 0 .5ex}\n",
       "</style>\n",
       "<ol class=list-inline><li>'Macrophages'</li><li>'NK cells'</li><li>'Lymph. endo. cells'</li><li>'Fibroblasts'</li><li>'Basal cells'</li><li>'Myofibroblasts'</li><li>'DCs'</li><li>'B cells'</li><li>'Endothelial cells'</li><li>'T cells'</li><li>'AT2'</li><li>'AT1'</li><li>'Ciliated cells'</li><li>'Secretory cells'</li><li>'Plasma cells'</li><li>'ILCs'</li><li>'Mesothelial cells'</li><li>'SMCs'</li><li>'Mast cells'</li><li>'pDCs'</li><li>'Pericytes'</li><li>'Aberrant_Basaloid'</li><li>'Ionocytes'</li><li>'PNECs'</li></ol>\n"
      ],
      "text/latex": [
       "\\begin{enumerate*}\n",
       "\\item 'Macrophages'\n",
       "\\item 'NK cells'\n",
       "\\item 'Lymph. endo. cells'\n",
       "\\item 'Fibroblasts'\n",
       "\\item 'Basal cells'\n",
       "\\item 'Myofibroblasts'\n",
       "\\item 'DCs'\n",
       "\\item 'B cells'\n",
       "\\item 'Endothelial cells'\n",
       "\\item 'T cells'\n",
       "\\item 'AT2'\n",
       "\\item 'AT1'\n",
       "\\item 'Ciliated cells'\n",
       "\\item 'Secretory cells'\n",
       "\\item 'Plasma cells'\n",
       "\\item 'ILCs'\n",
       "\\item 'Mesothelial cells'\n",
       "\\item 'SMCs'\n",
       "\\item 'Mast cells'\n",
       "\\item 'pDCs'\n",
       "\\item 'Pericytes'\n",
       "\\item 'Aberrant\\_Basaloid'\n",
       "\\item 'Ionocytes'\n",
       "\\item 'PNECs'\n",
       "\\end{enumerate*}\n"
      ],
      "text/markdown": [
       "1. 'Macrophages'\n",
       "2. 'NK cells'\n",
       "3. 'Lymph. endo. cells'\n",
       "4. 'Fibroblasts'\n",
       "5. 'Basal cells'\n",
       "6. 'Myofibroblasts'\n",
       "7. 'DCs'\n",
       "8. 'B cells'\n",
       "9. 'Endothelial cells'\n",
       "10. 'T cells'\n",
       "11. 'AT2'\n",
       "12. 'AT1'\n",
       "13. 'Ciliated cells'\n",
       "14. 'Secretory cells'\n",
       "15. 'Plasma cells'\n",
       "16. 'ILCs'\n",
       "17. 'Mesothelial cells'\n",
       "18. 'SMCs'\n",
       "19. 'Mast cells'\n",
       "20. 'pDCs'\n",
       "21. 'Pericytes'\n",
       "22. 'Aberrant_Basaloid'\n",
       "23. 'Ionocytes'\n",
       "24. 'PNECs'\n",
       "\n",
       "\n"
      ],
      "text/plain": [
       " [1] \"Macrophages\"        \"NK cells\"           \"Lymph. endo. cells\"\n",
       " [4] \"Fibroblasts\"        \"Basal cells\"        \"Myofibroblasts\"    \n",
       " [7] \"DCs\"                \"B cells\"            \"Endothelial cells\" \n",
       "[10] \"T cells\"            \"AT2\"                \"AT1\"               \n",
       "[13] \"Ciliated cells\"     \"Secretory cells\"    \"Plasma cells\"      \n",
       "[16] \"ILCs\"               \"Mesothelial cells\"  \"SMCs\"              \n",
       "[19] \"Mast cells\"         \"pDCs\"               \"Pericytes\"         \n",
       "[22] \"Aberrant_Basaloid\"  \"Ionocytes\"          \"PNECs\"             "
      ]
     },
     "metadata": {},
     "output_type": "display_data"
    }
   ],
   "source": [
    "unique(data_adams_metadata$cells)"
   ]
  },
  {
   "cell_type": "code",
   "execution_count": 92,
   "id": "37881858-a627-4f6b-9004-eeedcf9cfb7c",
   "metadata": {
    "vscode": {
     "languageId": "r"
    }
   },
   "outputs": [],
   "source": [
    "data_adams_metadata$cells <- \n",
    "ifelse(data_adams_metadata$subclass == \"Basal\", \"Basal cells\",data_adams_metadata$cells)"
   ]
  },
  {
   "cell_type": "code",
   "execution_count": 97,
   "id": "5187cc33-a6bb-43b9-8ea9-f1abda98f134",
   "metadata": {
    "vscode": {
     "languageId": "r"
    }
   },
   "outputs": [
    {
     "data": {
      "text/html": [
       "<style>\n",
       ".list-inline {list-style: none; margin:0; padding: 0}\n",
       ".list-inline>li {display: inline-block}\n",
       ".list-inline>li:not(:last-child)::after {content: \"\\00b7\"; padding: 0 .5ex}\n",
       "</style>\n",
       "<ol class=list-inline><li>'M'</li><li>'F'</li></ol>\n"
      ],
      "text/latex": [
       "\\begin{enumerate*}\n",
       "\\item 'M'\n",
       "\\item 'F'\n",
       "\\end{enumerate*}\n"
      ],
      "text/markdown": [
       "1. 'M'\n",
       "2. 'F'\n",
       "\n",
       "\n"
      ],
      "text/plain": [
       "[1] \"M\" \"F\""
      ]
     },
     "metadata": {},
     "output_type": "display_data"
    }
   ],
   "source": [
    "unique(data_adams_metadata$sex)"
   ]
  },
  {
   "cell_type": "code",
   "execution_count": 99,
   "id": "ef6c9439-0fdc-4db9-b277-3de05c36af11",
   "metadata": {
    "vscode": {
     "languageId": "r"
    }
   },
   "outputs": [
    {
     "name": "stderr",
     "output_type": "stream",
     "text": [
      "Warning message:\n",
      "“Setting row names on a tibble is deprecated.”\n"
     ]
    }
   ],
   "source": [
    "rownames(data_adams_metadata) <- data_adams_metadata$`...1`"
   ]
  },
  {
   "cell_type": "code",
   "execution_count": 101,
   "id": "e09ea31e-6cb3-441b-b55e-7cdadedc1526",
   "metadata": {
    "vscode": {
     "languageId": "r"
    }
   },
   "outputs": [],
   "source": [
    "#Export metadata as csv\n",
    "setwd(\"/dh-projects/ag-conrad/analysis/saal11/panfib/Metadata\")\n",
    "write.csv(data.frame(data_adams_metadata), file = \"data_adams_metadata_final.csv\")"
   ]
  },
  {
   "cell_type": "code",
   "execution_count": 4,
   "id": "46c1c025-4c2f-4e01-a3f4-3d7cf0b178dd",
   "metadata": {
    "vscode": {
     "languageId": "r"
    }
   },
   "outputs": [],
   "source": [
    "setwd(\"/dh-projects/ag-conrad/analysis/saal11/panfib/Metadata\")"
   ]
  },
  {
   "cell_type": "code",
   "execution_count": 6,
   "id": "a67a5229-2844-435d-8e3c-8d9329b3c6fb",
   "metadata": {
    "vscode": {
     "languageId": "r"
    }
   },
   "outputs": [
    {
     "name": "stderr",
     "output_type": "stream",
     "text": [
      "\u001b[1m\u001b[22mNew names:\n",
      "\u001b[36m•\u001b[39m `` -> `...1`\n",
      "\u001b[36m•\u001b[39m `...1` -> `...2`\n",
      "\u001b[1mRows: \u001b[22m\u001b[34m239705\u001b[39m \u001b[1mColumns: \u001b[22m\u001b[34m18\u001b[39m\n",
      "\u001b[36m──\u001b[39m \u001b[1mColumn specification\u001b[22m \u001b[36m────────────────────────────────────────────────────────\u001b[39m\n",
      "\u001b[1mDelimiter:\u001b[22m \",\"\n",
      "\u001b[31mchr\u001b[39m (13): ...2, cells, lineage, aetiology, condition, subclass, study, tissu...\n",
      "\u001b[32mdbl\u001b[39m  (5): ...1, nCount_RNA, nFeature_RNA, percent.mt, age\n",
      "\n",
      "\u001b[36mℹ\u001b[39m Use `spec()` to retrieve the full column specification for this data.\n",
      "\u001b[36mℹ\u001b[39m Specify the column types or set `show_col_types = FALSE` to quiet this message.\n"
     ]
    }
   ],
   "source": [
    "data_adams_metadata <- read_csv(\"data_adams_metadata_final.csv\")"
   ]
  },
  {
   "cell_type": "code",
   "execution_count": 12,
   "id": "efd73c9b-efc7-4a35-9046-b36fbcc15b3a",
   "metadata": {
    "vscode": {
     "languageId": "r"
    }
   },
   "outputs": [
    {
     "data": {
      "text/html": [
       "<style>\n",
       ".list-inline {list-style: none; margin:0; padding: 0}\n",
       ".list-inline>li {display: inline-block}\n",
       ".list-inline>li:not(:last-child)::after {content: \"\\00b7\"; padding: 0 .5ex}\n",
       "</style>\n",
       "<ol class=list-inline><li>'Macrophages'</li><li>'NK cells'</li><li>'Lymph. endo. cells'</li><li>'Fibroblasts'</li><li>'Basal cells'</li><li>'Myofibroblasts'</li><li>'DCs'</li><li>'B cells'</li><li>'Endothelial cells'</li><li>'T cells'</li><li>'AT2'</li><li>'AT1'</li><li>'Ciliated cells'</li><li>'Secretory cells'</li><li>'Plasma cells'</li><li>'ILCs'</li><li>'Mesothelial cells'</li><li>'SMCs'</li><li>'Mast cells'</li><li>'pDCs'</li><li>'Pericytes'</li><li>'Aberrant_Basaloid'</li><li>'Ionocytes'</li><li>'PNECs'</li></ol>\n"
      ],
      "text/latex": [
       "\\begin{enumerate*}\n",
       "\\item 'Macrophages'\n",
       "\\item 'NK cells'\n",
       "\\item 'Lymph. endo. cells'\n",
       "\\item 'Fibroblasts'\n",
       "\\item 'Basal cells'\n",
       "\\item 'Myofibroblasts'\n",
       "\\item 'DCs'\n",
       "\\item 'B cells'\n",
       "\\item 'Endothelial cells'\n",
       "\\item 'T cells'\n",
       "\\item 'AT2'\n",
       "\\item 'AT1'\n",
       "\\item 'Ciliated cells'\n",
       "\\item 'Secretory cells'\n",
       "\\item 'Plasma cells'\n",
       "\\item 'ILCs'\n",
       "\\item 'Mesothelial cells'\n",
       "\\item 'SMCs'\n",
       "\\item 'Mast cells'\n",
       "\\item 'pDCs'\n",
       "\\item 'Pericytes'\n",
       "\\item 'Aberrant\\_Basaloid'\n",
       "\\item 'Ionocytes'\n",
       "\\item 'PNECs'\n",
       "\\end{enumerate*}\n"
      ],
      "text/markdown": [
       "1. 'Macrophages'\n",
       "2. 'NK cells'\n",
       "3. 'Lymph. endo. cells'\n",
       "4. 'Fibroblasts'\n",
       "5. 'Basal cells'\n",
       "6. 'Myofibroblasts'\n",
       "7. 'DCs'\n",
       "8. 'B cells'\n",
       "9. 'Endothelial cells'\n",
       "10. 'T cells'\n",
       "11. 'AT2'\n",
       "12. 'AT1'\n",
       "13. 'Ciliated cells'\n",
       "14. 'Secretory cells'\n",
       "15. 'Plasma cells'\n",
       "16. 'ILCs'\n",
       "17. 'Mesothelial cells'\n",
       "18. 'SMCs'\n",
       "19. 'Mast cells'\n",
       "20. 'pDCs'\n",
       "21. 'Pericytes'\n",
       "22. 'Aberrant_Basaloid'\n",
       "23. 'Ionocytes'\n",
       "24. 'PNECs'\n",
       "\n",
       "\n"
      ],
      "text/plain": [
       " [1] \"Macrophages\"        \"NK cells\"           \"Lymph. endo. cells\"\n",
       " [4] \"Fibroblasts\"        \"Basal cells\"        \"Myofibroblasts\"    \n",
       " [7] \"DCs\"                \"B cells\"            \"Endothelial cells\" \n",
       "[10] \"T cells\"            \"AT2\"                \"AT1\"               \n",
       "[13] \"Ciliated cells\"     \"Secretory cells\"    \"Plasma cells\"      \n",
       "[16] \"ILCs\"               \"Mesothelial cells\"  \"SMCs\"              \n",
       "[19] \"Mast cells\"         \"pDCs\"               \"Pericytes\"         \n",
       "[22] \"Aberrant_Basaloid\"  \"Ionocytes\"          \"PNECs\"             "
      ]
     },
     "metadata": {},
     "output_type": "display_data"
    }
   ],
   "source": [
    "unique(data_adams_metadata$cells)"
   ]
  },
  {
   "cell_type": "code",
   "execution_count": 13,
   "id": "7e9ff411-8e19-4f68-a1c7-b3c2ddbc6301",
   "metadata": {
    "vscode": {
     "languageId": "r"
    }
   },
   "outputs": [
    {
     "name": "stderr",
     "output_type": "stream",
     "text": [
      "\u001b[1m\u001b[22mNew names:\n",
      "\u001b[36m•\u001b[39m `` -> `...1`\n",
      "\u001b[1mRows: \u001b[22m\u001b[34m114396\u001b[39m \u001b[1mColumns: \u001b[22m\u001b[34m17\u001b[39m\n",
      "\u001b[36m──\u001b[39m \u001b[1mColumn specification\u001b[22m \u001b[36m────────────────────────────────────────────────────────\u001b[39m\n",
      "\u001b[1mDelimiter:\u001b[22m \",\"\n",
      "\u001b[31mchr\u001b[39m (13): ...1, orig.ident, subclass, cells, lineage, condition, aetiology, ...\n",
      "\u001b[32mdbl\u001b[39m  (4): nCount_RNA, nFeature_RNA, percent.mt, age\n",
      "\n",
      "\u001b[36mℹ\u001b[39m Use `spec()` to retrieve the full column specification for this data.\n",
      "\u001b[36mℹ\u001b[39m Specify the column types or set `show_col_types = FALSE` to quiet this message.\n"
     ]
    }
   ],
   "source": [
    "#--Harmonising data, Habermann--#\n",
    "setwd(\"/dh-projects/ag-conrad/analysis/saal11/panfib/Renaming/Haber\")\n",
    "data_haber_metadata <- read_csv(\"data_haber_metadata.csv\")"
   ]
  },
  {
   "cell_type": "code",
   "execution_count": 16,
   "id": "86d0a5be-7938-4370-9c69-980485783eab",
   "metadata": {
    "vscode": {
     "languageId": "r"
    }
   },
   "outputs": [],
   "source": [
    "data_haber_metadata$patientID <- data_haber_metadata$orig.ident"
   ]
  },
  {
   "cell_type": "code",
   "execution_count": 17,
   "id": "1f0b0f46-b46e-4e9a-9c29-e6eed5a35b0a",
   "metadata": {
    "vscode": {
     "languageId": "r"
    }
   },
   "outputs": [],
   "source": [
    "data_haber_metadata$orig.ident <- NULL"
   ]
  },
  {
   "cell_type": "code",
   "execution_count": 22,
   "id": "1f2063e3-5571-420e-a3e8-443d203b2511",
   "metadata": {
    "vscode": {
     "languageId": "r"
    }
   },
   "outputs": [
    {
     "data": {
      "text/html": [
       "<style>\n",
       ".list-inline {list-style: none; margin:0; padding: 0}\n",
       ".list-inline>li {display: inline-block}\n",
       ".list-inline>li:not(:last-child)::after {content: \"\\00b7\"; padding: 0 .5ex}\n",
       "</style>\n",
       "<ol class=list-inline><li>'IPF'</li><li>'control'</li><li>'NSIP'</li><li>'cHP'</li><li>'Unclassifiable ILD'</li><li>'sacroidosis'</li></ol>\n"
      ],
      "text/latex": [
       "\\begin{enumerate*}\n",
       "\\item 'IPF'\n",
       "\\item 'control'\n",
       "\\item 'NSIP'\n",
       "\\item 'cHP'\n",
       "\\item 'Unclassifiable ILD'\n",
       "\\item 'sacroidosis'\n",
       "\\end{enumerate*}\n"
      ],
      "text/markdown": [
       "1. 'IPF'\n",
       "2. 'control'\n",
       "3. 'NSIP'\n",
       "4. 'cHP'\n",
       "5. 'Unclassifiable ILD'\n",
       "6. 'sacroidosis'\n",
       "\n",
       "\n"
      ],
      "text/plain": [
       "[1] \"IPF\"                \"control\"            \"NSIP\"              \n",
       "[4] \"cHP\"                \"Unclassifiable ILD\" \"sacroidosis\"       "
      ]
     },
     "metadata": {},
     "output_type": "display_data"
    }
   ],
   "source": [
    "unique(data_haber_metadata$aetiology)"
   ]
  },
  {
   "cell_type": "code",
   "execution_count": 21,
   "id": "ba1631c5-adcc-4bc9-bde5-7ebe1dfadeec",
   "metadata": {
    "vscode": {
     "languageId": "r"
    }
   },
   "outputs": [],
   "source": [
    "data_haber_metadata$aetiology <- ifelse(data_haber_metadata$aetiology == \"Control\", \"control\", data_haber_metadata$aetiology)"
   ]
  },
  {
   "cell_type": "code",
   "execution_count": 23,
   "id": "ddbdddb5-58a5-4091-b351-ad51be02fbf3",
   "metadata": {
    "vscode": {
     "languageId": "r"
    }
   },
   "outputs": [
    {
     "data": {
      "text/html": [
       "<style>\n",
       ".list-inline {list-style: none; margin:0; padding: 0}\n",
       ".list-inline>li {display: inline-block}\n",
       ".list-inline>li:not(:last-child)::after {content: \"\\00b7\"; padding: 0 .5ex}\n",
       "</style>\n",
       "<ol class=list-inline><li>'fibrotic-ILD'</li><li>'control'</li></ol>\n"
      ],
      "text/latex": [
       "\\begin{enumerate*}\n",
       "\\item 'fibrotic-ILD'\n",
       "\\item 'control'\n",
       "\\end{enumerate*}\n"
      ],
      "text/markdown": [
       "1. 'fibrotic-ILD'\n",
       "2. 'control'\n",
       "\n",
       "\n"
      ],
      "text/plain": [
       "[1] \"fibrotic-ILD\" \"control\"     "
      ]
     },
     "metadata": {},
     "output_type": "display_data"
    }
   ],
   "source": [
    "unique(data_haber_metadata$condition)"
   ]
  },
  {
   "cell_type": "code",
   "execution_count": 30,
   "id": "c900579b-5626-4ded-aba8-36c2642c6489",
   "metadata": {
    "vscode": {
     "languageId": "r"
    }
   },
   "outputs": [
    {
     "data": {
      "text/html": [
       "<style>\n",
       ".list-inline {list-style: none; margin:0; padding: 0}\n",
       ".list-inline>li {display: inline-block}\n",
       ".list-inline>li:not(:last-child)::after {content: \"\\00b7\"; padding: 0 .5ex}\n",
       "</style>\n",
       "<ol class=list-inline><li>'MUC5AC+ High'</li><li>'Basal'</li><li>'Proliferating epithelial cells'</li><li>'Diff. ciliated cells'</li><li>'Ciliated cells'</li><li>'SCGB3A2+ SCGB1A1+'</li><li>'SCGB3A2+'</li><li>'MUC5B+'</li><li>'Aberrant_Basaloid'</li><li>'Transitional AT2'</li><li>'AT2'</li><li>'AT1'</li><li>'Lymph. endo. cells'</li><li>'Endothelial cells'</li><li>'Proliferating macrophages'</li><li>'Proliferating T cells'</li><li>'NK cells'</li><li>'pDCs'</li><li>'cDCs'</li><li>'Mast cells'</li><li>'Plasma cells'</li><li>'B cells'</li><li>'Monocytes'</li><li>'T cells'</li><li>'Macrophages'</li><li>'PLIN2+ Fibroblasts'</li><li>'Fibroblasts'</li><li>'HAS1 High Fibroblasts'</li><li>'Myofibroblasts'</li><li>'Mesothelial cells'</li><li>'SMCs'</li></ol>\n"
      ],
      "text/latex": [
       "\\begin{enumerate*}\n",
       "\\item 'MUC5AC+ High'\n",
       "\\item 'Basal'\n",
       "\\item 'Proliferating epithelial cells'\n",
       "\\item 'Diff. ciliated cells'\n",
       "\\item 'Ciliated cells'\n",
       "\\item 'SCGB3A2+ SCGB1A1+'\n",
       "\\item 'SCGB3A2+'\n",
       "\\item 'MUC5B+'\n",
       "\\item 'Aberrant\\_Basaloid'\n",
       "\\item 'Transitional AT2'\n",
       "\\item 'AT2'\n",
       "\\item 'AT1'\n",
       "\\item 'Lymph. endo. cells'\n",
       "\\item 'Endothelial cells'\n",
       "\\item 'Proliferating macrophages'\n",
       "\\item 'Proliferating T cells'\n",
       "\\item 'NK cells'\n",
       "\\item 'pDCs'\n",
       "\\item 'cDCs'\n",
       "\\item 'Mast cells'\n",
       "\\item 'Plasma cells'\n",
       "\\item 'B cells'\n",
       "\\item 'Monocytes'\n",
       "\\item 'T cells'\n",
       "\\item 'Macrophages'\n",
       "\\item 'PLIN2+ Fibroblasts'\n",
       "\\item 'Fibroblasts'\n",
       "\\item 'HAS1 High Fibroblasts'\n",
       "\\item 'Myofibroblasts'\n",
       "\\item 'Mesothelial cells'\n",
       "\\item 'SMCs'\n",
       "\\end{enumerate*}\n"
      ],
      "text/markdown": [
       "1. 'MUC5AC+ High'\n",
       "2. 'Basal'\n",
       "3. 'Proliferating epithelial cells'\n",
       "4. 'Diff. ciliated cells'\n",
       "5. 'Ciliated cells'\n",
       "6. 'SCGB3A2+ SCGB1A1+'\n",
       "7. 'SCGB3A2+'\n",
       "8. 'MUC5B+'\n",
       "9. 'Aberrant_Basaloid'\n",
       "10. 'Transitional AT2'\n",
       "11. 'AT2'\n",
       "12. 'AT1'\n",
       "13. 'Lymph. endo. cells'\n",
       "14. 'Endothelial cells'\n",
       "15. 'Proliferating macrophages'\n",
       "16. 'Proliferating T cells'\n",
       "17. 'NK cells'\n",
       "18. 'pDCs'\n",
       "19. 'cDCs'\n",
       "20. 'Mast cells'\n",
       "21. 'Plasma cells'\n",
       "22. 'B cells'\n",
       "23. 'Monocytes'\n",
       "24. 'T cells'\n",
       "25. 'Macrophages'\n",
       "26. 'PLIN2+ Fibroblasts'\n",
       "27. 'Fibroblasts'\n",
       "28. 'HAS1 High Fibroblasts'\n",
       "29. 'Myofibroblasts'\n",
       "30. 'Mesothelial cells'\n",
       "31. 'SMCs'\n",
       "\n",
       "\n"
      ],
      "text/plain": [
       " [1] \"MUC5AC+ High\"                   \"Basal\"                         \n",
       " [3] \"Proliferating epithelial cells\" \"Diff. ciliated cells\"          \n",
       " [5] \"Ciliated cells\"                 \"SCGB3A2+ SCGB1A1+\"             \n",
       " [7] \"SCGB3A2+\"                       \"MUC5B+\"                        \n",
       " [9] \"Aberrant_Basaloid\"              \"Transitional AT2\"              \n",
       "[11] \"AT2\"                            \"AT1\"                           \n",
       "[13] \"Lymph. endo. cells\"             \"Endothelial cells\"             \n",
       "[15] \"Proliferating macrophages\"      \"Proliferating T cells\"         \n",
       "[17] \"NK cells\"                       \"pDCs\"                          \n",
       "[19] \"cDCs\"                           \"Mast cells\"                    \n",
       "[21] \"Plasma cells\"                   \"B cells\"                       \n",
       "[23] \"Monocytes\"                      \"T cells\"                       \n",
       "[25] \"Macrophages\"                    \"PLIN2+ Fibroblasts\"            \n",
       "[27] \"Fibroblasts\"                    \"HAS1 High Fibroblasts\"         \n",
       "[29] \"Myofibroblasts\"                 \"Mesothelial cells\"             \n",
       "[31] \"SMCs\"                          "
      ]
     },
     "metadata": {},
     "output_type": "display_data"
    }
   ],
   "source": [
    "unique(data_haber_metadata$subclass)"
   ]
  },
  {
   "cell_type": "code",
   "execution_count": 27,
   "id": "497e86e0-e9a0-4278-9943-57dad70aa44e",
   "metadata": {
    "vscode": {
     "languageId": "r"
    }
   },
   "outputs": [],
   "source": [
    "data_haber_metadata$cells <- ifelse(data_haber_metadata$cells == \"Secretory\", \"Secretory cells\",\n",
    "ifelse(data_haber_metadata$cells == \"Basal\", \"Basal cells\",\n",
    "ifelse(data_haber_metadata$cells == \"MPs\", \"Macrophages\",   data_haber_metadata$cells)))\n"
   ]
  },
  {
   "cell_type": "code",
   "execution_count": 29,
   "id": "f688ea51-4791-42a4-9c93-ecc9757d92a7",
   "metadata": {
    "vscode": {
     "languageId": "r"
    }
   },
   "outputs": [
    {
     "data": {
      "text/html": [
       "<style>\n",
       ".list-inline {list-style: none; margin:0; padding: 0}\n",
       ".list-inline>li {display: inline-block}\n",
       ".list-inline>li:not(:last-child)::after {content: \"\\00b7\"; padding: 0 .5ex}\n",
       "</style>\n",
       "<ol class=list-inline><li>'Epi'</li><li>'Mesen'</li><li>'Imm'</li></ol>\n"
      ],
      "text/latex": [
       "\\begin{enumerate*}\n",
       "\\item 'Epi'\n",
       "\\item 'Mesen'\n",
       "\\item 'Imm'\n",
       "\\end{enumerate*}\n"
      ],
      "text/markdown": [
       "1. 'Epi'\n",
       "2. 'Mesen'\n",
       "3. 'Imm'\n",
       "\n",
       "\n"
      ],
      "text/plain": [
       "[1] \"Epi\"   \"Mesen\" \"Imm\"  "
      ]
     },
     "metadata": {},
     "output_type": "display_data"
    }
   ],
   "source": [
    "unique(data_haber_metadata$lineage)"
   ]
  },
  {
   "cell_type": "code",
   "execution_count": 130,
   "id": "a77d0f4d-a8c0-4798-ad37-fb4b94526d26",
   "metadata": {
    "vscode": {
     "languageId": "r"
    }
   },
   "outputs": [
    {
     "data": {
      "text/html": [
       "<table class=\"dataframe\">\n",
       "<caption>A spec_tbl_df: 114396 × 17</caption>\n",
       "<thead>\n",
       "\t<tr><th scope=col>...1</th><th scope=col>nCount_RNA</th><th scope=col>nFeature_RNA</th><th scope=col>percent.mt</th><th scope=col>subclass</th><th scope=col>cells</th><th scope=col>lineage</th><th scope=col>condition</th><th scope=col>aetiology</th><th scope=col>study</th><th scope=col>tissue</th><th scope=col>cells_or_nuclei</th><th scope=col>primary_or_cultured</th><th scope=col>smoking</th><th scope=col>age</th><th scope=col>sex</th><th scope=col>patientID</th></tr>\n",
       "\t<tr><th scope=col>&lt;chr&gt;</th><th scope=col>&lt;dbl&gt;</th><th scope=col>&lt;dbl&gt;</th><th scope=col>&lt;dbl&gt;</th><th scope=col>&lt;chr&gt;</th><th scope=col>&lt;chr&gt;</th><th scope=col>&lt;chr&gt;</th><th scope=col>&lt;chr&gt;</th><th scope=col>&lt;chr&gt;</th><th scope=col>&lt;chr&gt;</th><th scope=col>&lt;chr&gt;</th><th scope=col>&lt;chr&gt;</th><th scope=col>&lt;chr&gt;</th><th scope=col>&lt;chr&gt;</th><th scope=col>&lt;dbl&gt;</th><th scope=col>&lt;chr&gt;</th><th scope=col>&lt;chr&gt;</th></tr>\n",
       "</thead>\n",
       "<tbody>\n",
       "\t<tr><td>F00431_AGAGCTTGTAGAGGAA</td><td>15703</td><td>4231</td><td> 5.483029</td><td>MUC5AC+ High</td><td>Secretory cells</td><td>Epi</td><td>fibrotic-ILD</td><td>IPF    </td><td>Habermann</td><td>lung</td><td>cells</td><td>primary</td><td>No </td><td>65</td><td>M</td><td>F00431</td></tr>\n",
       "\t<tr><td>F01380_GATCTAGTCTTGCCGT</td><td>18128</td><td>3411</td><td> 4.082083</td><td>MUC5AC+ High</td><td>Secretory cells</td><td>Epi</td><td>fibrotic-ILD</td><td>IPF    </td><td>Habermann</td><td>lung</td><td>cells</td><td>primary</td><td>Yes</td><td>54</td><td>F</td><td>F01380</td></tr>\n",
       "\t<tr><td>F01391_AGTCTTTAGGTTACCT</td><td>41380</td><td>6802</td><td> 3.339778</td><td>MUC5AC+ High</td><td>Secretory cells</td><td>Epi</td><td>fibrotic-ILD</td><td>IPF    </td><td>Habermann</td><td>lung</td><td>cells</td><td>primary</td><td>No </td><td>68</td><td>M</td><td>F01391</td></tr>\n",
       "\t<tr><td>F01391_ATCCACCAGGAGTCTG</td><td>37524</td><td>5003</td><td> 3.528408</td><td>MUC5AC+ High</td><td>Secretory cells</td><td>Epi</td><td>fibrotic-ILD</td><td>IPF    </td><td>Habermann</td><td>lung</td><td>cells</td><td>primary</td><td>No </td><td>68</td><td>M</td><td>F01391</td></tr>\n",
       "\t<tr><td>F01391_CTCGTCATCATCTGCC</td><td>17885</td><td>4341</td><td> 5.065698</td><td>MUC5AC+ High</td><td>Secretory cells</td><td>Epi</td><td>fibrotic-ILD</td><td>IPF    </td><td>Habermann</td><td>lung</td><td>cells</td><td>primary</td><td>No </td><td>68</td><td>M</td><td>F01391</td></tr>\n",
       "\t<tr><td>F01391_CTGATAGCAGACGCCT</td><td>55057</td><td>6871</td><td> 3.632599</td><td>MUC5AC+ High</td><td>Secretory cells</td><td>Epi</td><td>fibrotic-ILD</td><td>IPF    </td><td>Habermann</td><td>lung</td><td>cells</td><td>primary</td><td>No </td><td>68</td><td>M</td><td>F01391</td></tr>\n",
       "\t<tr><td>F01391_CTGGTCTCACAGAGGT</td><td>33359</td><td>4628</td><td> 2.928745</td><td>MUC5AC+ High</td><td>Secretory cells</td><td>Epi</td><td>fibrotic-ILD</td><td>IPF    </td><td>Habermann</td><td>lung</td><td>cells</td><td>primary</td><td>No </td><td>68</td><td>M</td><td>F01391</td></tr>\n",
       "\t<tr><td>F01391_GAACATCAGCTGATAA</td><td>37427</td><td>4814</td><td> 4.002458</td><td>MUC5AC+ High</td><td>Secretory cells</td><td>Epi</td><td>fibrotic-ILD</td><td>IPF    </td><td>Habermann</td><td>lung</td><td>cells</td><td>primary</td><td>No </td><td>68</td><td>M</td><td>F01391</td></tr>\n",
       "\t<tr><td>F01391_TACTCATCATAGAAAC</td><td>22361</td><td>4322</td><td> 6.327982</td><td>MUC5AC+ High</td><td>Secretory cells</td><td>Epi</td><td>fibrotic-ILD</td><td>IPF    </td><td>Habermann</td><td>lung</td><td>cells</td><td>primary</td><td>No </td><td>68</td><td>M</td><td>F01391</td></tr>\n",
       "\t<tr><td>F01391_TCAGGATTCGGTGTTA</td><td>19137</td><td>4030</td><td> 2.900141</td><td>MUC5AC+ High</td><td>Secretory cells</td><td>Epi</td><td>fibrotic-ILD</td><td>IPF    </td><td>Habermann</td><td>lung</td><td>cells</td><td>primary</td><td>No </td><td>68</td><td>M</td><td>F01391</td></tr>\n",
       "\t<tr><td>F01392_AAAGTAGCAAACTGCT</td><td>22157</td><td>4707</td><td> 6.720224</td><td>MUC5AC+ High</td><td>Secretory cells</td><td>Epi</td><td>fibrotic-ILD</td><td>IPF    </td><td>Habermann</td><td>lung</td><td>cells</td><td>primary</td><td>No </td><td>63</td><td>M</td><td>F01392</td></tr>\n",
       "\t<tr><td>F01392_ACCGTAATCACATGCA</td><td>10886</td><td>2880</td><td> 4.859453</td><td>MUC5AC+ High</td><td>Secretory cells</td><td>Epi</td><td>fibrotic-ILD</td><td>IPF    </td><td>Habermann</td><td>lung</td><td>cells</td><td>primary</td><td>No </td><td>63</td><td>M</td><td>F01392</td></tr>\n",
       "\t<tr><td>F01392_ACGATGTAGAAACCGC</td><td>11184</td><td>2845</td><td> 4.864092</td><td>MUC5AC+ High</td><td>Secretory cells</td><td>Epi</td><td>fibrotic-ILD</td><td>IPF    </td><td>Habermann</td><td>lung</td><td>cells</td><td>primary</td><td>No </td><td>63</td><td>M</td><td>F01392</td></tr>\n",
       "\t<tr><td>F01392_ACGGAGATCACTCCTG</td><td>13851</td><td>3583</td><td> 5.580824</td><td>MUC5AC+ High</td><td>Secretory cells</td><td>Epi</td><td>fibrotic-ILD</td><td>IPF    </td><td>Habermann</td><td>lung</td><td>cells</td><td>primary</td><td>No </td><td>63</td><td>M</td><td>F01392</td></tr>\n",
       "\t<tr><td>F01392_ACTATCTTCAGGTAAA</td><td>16386</td><td>3629</td><td> 5.547419</td><td>MUC5AC+ High</td><td>Secretory cells</td><td>Epi</td><td>fibrotic-ILD</td><td>IPF    </td><td>Habermann</td><td>lung</td><td>cells</td><td>primary</td><td>No </td><td>63</td><td>M</td><td>F01392</td></tr>\n",
       "\t<tr><td>F01392_AGCTTGACAGATGGGT</td><td>10024</td><td>2935</td><td> 8.739026</td><td>MUC5AC+ High</td><td>Secretory cells</td><td>Epi</td><td>fibrotic-ILD</td><td>IPF    </td><td>Habermann</td><td>lung</td><td>cells</td><td>primary</td><td>No </td><td>63</td><td>M</td><td>F01392</td></tr>\n",
       "\t<tr><td>F01392_ATCATCTCACTTCGAA</td><td>15507</td><td>3610</td><td> 6.390662</td><td>MUC5AC+ High</td><td>Secretory cells</td><td>Epi</td><td>fibrotic-ILD</td><td>IPF    </td><td>Habermann</td><td>lung</td><td>cells</td><td>primary</td><td>No </td><td>63</td><td>M</td><td>F01392</td></tr>\n",
       "\t<tr><td>F01392_CATCAAGCAAGTAGTA</td><td>11222</td><td>3354</td><td> 8.055605</td><td>MUC5AC+ High</td><td>Secretory cells</td><td>Epi</td><td>fibrotic-ILD</td><td>IPF    </td><td>Habermann</td><td>lung</td><td>cells</td><td>primary</td><td>No </td><td>63</td><td>M</td><td>F01392</td></tr>\n",
       "\t<tr><td>F01392_CCGTACTTCCTATTCA</td><td>10520</td><td>3181</td><td> 7.433460</td><td>MUC5AC+ High</td><td>Secretory cells</td><td>Epi</td><td>fibrotic-ILD</td><td>IPF    </td><td>Habermann</td><td>lung</td><td>cells</td><td>primary</td><td>No </td><td>63</td><td>M</td><td>F01392</td></tr>\n",
       "\t<tr><td>F01392_CTACGTCAGAACTCGG</td><td> 9403</td><td>2741</td><td> 7.593321</td><td>MUC5AC+ High</td><td>Secretory cells</td><td>Epi</td><td>fibrotic-ILD</td><td>IPF    </td><td>Habermann</td><td>lung</td><td>cells</td><td>primary</td><td>No </td><td>63</td><td>M</td><td>F01392</td></tr>\n",
       "\t<tr><td>F01392_GGAAAGCGTTCAGTAC</td><td>14061</td><td>4061</td><td> 7.595477</td><td>MUC5AC+ High</td><td>Secretory cells</td><td>Epi</td><td>fibrotic-ILD</td><td>IPF    </td><td>Habermann</td><td>lung</td><td>cells</td><td>primary</td><td>No </td><td>63</td><td>M</td><td>F01392</td></tr>\n",
       "\t<tr><td>F01392_GTAACTGGTGTTCGAT</td><td>11374</td><td>3141</td><td> 6.646738</td><td>MUC5AC+ High</td><td>Secretory cells</td><td>Epi</td><td>fibrotic-ILD</td><td>IPF    </td><td>Habermann</td><td>lung</td><td>cells</td><td>primary</td><td>No </td><td>63</td><td>M</td><td>F01392</td></tr>\n",
       "\t<tr><td>F01392_TAAACCGTCAGCTCTC</td><td>16807</td><td>3775</td><td> 4.402927</td><td>MUC5AC+ High</td><td>Secretory cells</td><td>Epi</td><td>fibrotic-ILD</td><td>IPF    </td><td>Habermann</td><td>lung</td><td>cells</td><td>primary</td><td>No </td><td>63</td><td>M</td><td>F01392</td></tr>\n",
       "\t<tr><td>F01392_TAGGCATTCAGCATGT</td><td>14949</td><td>3466</td><td> 5.766272</td><td>MUC5AC+ High</td><td>Secretory cells</td><td>Epi</td><td>fibrotic-ILD</td><td>IPF    </td><td>Habermann</td><td>lung</td><td>cells</td><td>primary</td><td>No </td><td>63</td><td>M</td><td>F01392</td></tr>\n",
       "\t<tr><td>F01392_TGAAAGAGTACCGCTG</td><td>22920</td><td>4910</td><td> 4.249564</td><td>MUC5AC+ High</td><td>Secretory cells</td><td>Epi</td><td>fibrotic-ILD</td><td>IPF    </td><td>Habermann</td><td>lung</td><td>cells</td><td>primary</td><td>No </td><td>63</td><td>M</td><td>F01392</td></tr>\n",
       "\t<tr><td>F01392_TTTGTCACACCCAGTG</td><td>14250</td><td>3713</td><td> 7.452632</td><td>MUC5AC+ High</td><td>Secretory cells</td><td>Epi</td><td>fibrotic-ILD</td><td>IPF    </td><td>Habermann</td><td>lung</td><td>cells</td><td>primary</td><td>No </td><td>63</td><td>M</td><td>F01392</td></tr>\n",
       "\t<tr><td>HD65_ATCATGGCAAGTTGTC  </td><td>33415</td><td>4343</td><td> 4.725423</td><td>MUC5AC+ High</td><td>Secretory cells</td><td>Epi</td><td>control     </td><td>control</td><td>Habermann</td><td>lung</td><td>cells</td><td>primary</td><td>Yes</td><td>17</td><td>M</td><td>HD65  </td></tr>\n",
       "\t<tr><td>HD65_ATTATCCAGACTACAA  </td><td>22899</td><td>4798</td><td>11.773440</td><td>MUC5AC+ High</td><td>Secretory cells</td><td>Epi</td><td>control     </td><td>control</td><td>Habermann</td><td>lung</td><td>cells</td><td>primary</td><td>Yes</td><td>17</td><td>M</td><td>HD65  </td></tr>\n",
       "\t<tr><td>HD65_CACAAACTCCTAGAAC  </td><td>20865</td><td>3563</td><td> 3.939612</td><td>MUC5AC+ High</td><td>Secretory cells</td><td>Epi</td><td>control     </td><td>control</td><td>Habermann</td><td>lung</td><td>cells</td><td>primary</td><td>Yes</td><td>17</td><td>M</td><td>HD65  </td></tr>\n",
       "\t<tr><td>HD65_CATCCACTCCACGAAT  </td><td>39772</td><td>5474</td><td> 3.728754</td><td>MUC5AC+ High</td><td>Secretory cells</td><td>Epi</td><td>control     </td><td>control</td><td>Habermann</td><td>lung</td><td>cells</td><td>primary</td><td>Yes</td><td>17</td><td>M</td><td>HD65  </td></tr>\n",
       "\t<tr><td>⋮</td><td>⋮</td><td>⋮</td><td>⋮</td><td>⋮</td><td>⋮</td><td>⋮</td><td>⋮</td><td>⋮</td><td>⋮</td><td>⋮</td><td>⋮</td><td>⋮</td><td>⋮</td><td>⋮</td><td>⋮</td><td>⋮</td></tr>\n",
       "\t<tr><td>ILD60-2_ATCTGCCGTCATATGC</td><td>2817</td><td>1174</td><td>10.259141</td><td>SMCs</td><td>SMCs</td><td>Mesen</td><td>fibrotic-ILD</td><td>IPF </td><td>Habermann</td><td>lung</td><td>cells</td><td>primary</td><td>Yes</td><td>59</td><td>M</td><td>ILD60-2</td></tr>\n",
       "\t<tr><td>ILD60-2_CAACCTCTCACCCGAG</td><td>1779</td><td>1038</td><td> 5.171445</td><td>SMCs</td><td>SMCs</td><td>Mesen</td><td>fibrotic-ILD</td><td>IPF </td><td>Habermann</td><td>lung</td><td>cells</td><td>primary</td><td>Yes</td><td>59</td><td>M</td><td>ILD60-2</td></tr>\n",
       "\t<tr><td>ILD60-2_CACAAACTCACCGTAA</td><td>2266</td><td>1213</td><td> 6.796117</td><td>SMCs</td><td>SMCs</td><td>Mesen</td><td>fibrotic-ILD</td><td>IPF </td><td>Habermann</td><td>lung</td><td>cells</td><td>primary</td><td>Yes</td><td>59</td><td>M</td><td>ILD60-2</td></tr>\n",
       "\t<tr><td>ILD60-2_CCTTCGACATGAAGTA</td><td>2452</td><td>1207</td><td> 8.034258</td><td>SMCs</td><td>SMCs</td><td>Mesen</td><td>fibrotic-ILD</td><td>IPF </td><td>Habermann</td><td>lung</td><td>cells</td><td>primary</td><td>Yes</td><td>59</td><td>M</td><td>ILD60-2</td></tr>\n",
       "\t<tr><td>ILD60-2_CGAGAAGAGGACTGGT</td><td>1862</td><td>1006</td><td>10.687433</td><td>SMCs</td><td>SMCs</td><td>Mesen</td><td>fibrotic-ILD</td><td>IPF </td><td>Habermann</td><td>lung</td><td>cells</td><td>primary</td><td>Yes</td><td>59</td><td>M</td><td>ILD60-2</td></tr>\n",
       "\t<tr><td>ILD60-2_GCGGGTTCAGCTCCGA</td><td>2550</td><td>1224</td><td> 9.882353</td><td>SMCs</td><td>SMCs</td><td>Mesen</td><td>fibrotic-ILD</td><td>IPF </td><td>Habermann</td><td>lung</td><td>cells</td><td>primary</td><td>Yes</td><td>59</td><td>M</td><td>ILD60-2</td></tr>\n",
       "\t<tr><td>ILD60-2_TCACAAGTCATTATCC</td><td>1918</td><td>1093</td><td> 7.768509</td><td>SMCs</td><td>SMCs</td><td>Mesen</td><td>fibrotic-ILD</td><td>IPF </td><td>Habermann</td><td>lung</td><td>cells</td><td>primary</td><td>Yes</td><td>59</td><td>M</td><td>ILD60-2</td></tr>\n",
       "\t<tr><td>ILD61-2_AGACGTTTCTACTATC</td><td>5376</td><td>2287</td><td> 5.636161</td><td>SMCs</td><td>SMCs</td><td>Mesen</td><td>fibrotic-ILD</td><td>IPF </td><td>Habermann</td><td>lung</td><td>cells</td><td>primary</td><td>Yes</td><td>66</td><td>M</td><td>ILD61-2</td></tr>\n",
       "\t<tr><td>ILD61-2_AGCGGTCGTAGCCTAT</td><td>2205</td><td>1209</td><td> 2.811791</td><td>SMCs</td><td>SMCs</td><td>Mesen</td><td>fibrotic-ILD</td><td>IPF </td><td>Habermann</td><td>lung</td><td>cells</td><td>primary</td><td>Yes</td><td>66</td><td>M</td><td>ILD61-2</td></tr>\n",
       "\t<tr><td>ILD61-2_CACACTCCATGAACCT</td><td>2564</td><td>1063</td><td> 2.418097</td><td>SMCs</td><td>SMCs</td><td>Mesen</td><td>fibrotic-ILD</td><td>IPF </td><td>Habermann</td><td>lung</td><td>cells</td><td>primary</td><td>Yes</td><td>66</td><td>M</td><td>ILD61-2</td></tr>\n",
       "\t<tr><td>ILD61-2_CATCGGGCAATGGATA</td><td>5498</td><td>2227</td><td> 8.384867</td><td>SMCs</td><td>SMCs</td><td>Mesen</td><td>fibrotic-ILD</td><td>IPF </td><td>Habermann</td><td>lung</td><td>cells</td><td>primary</td><td>Yes</td><td>66</td><td>M</td><td>ILD61-2</td></tr>\n",
       "\t<tr><td>ILD61-2_CCGTACTGTCCCTTGT</td><td>2426</td><td>1213</td><td> 3.050289</td><td>SMCs</td><td>SMCs</td><td>Mesen</td><td>fibrotic-ILD</td><td>IPF </td><td>Habermann</td><td>lung</td><td>cells</td><td>primary</td><td>Yes</td><td>66</td><td>M</td><td>ILD61-2</td></tr>\n",
       "\t<tr><td>ILD61-2_CCTTCGAGTATATGGA</td><td>2877</td><td>1376</td><td> 4.935697</td><td>SMCs</td><td>SMCs</td><td>Mesen</td><td>fibrotic-ILD</td><td>IPF </td><td>Habermann</td><td>lung</td><td>cells</td><td>primary</td><td>Yes</td><td>66</td><td>M</td><td>ILD61-2</td></tr>\n",
       "\t<tr><td>ILD61-2_CTAGTGAAGATCCGAG</td><td>3374</td><td>1592</td><td> 5.068168</td><td>SMCs</td><td>SMCs</td><td>Mesen</td><td>fibrotic-ILD</td><td>IPF </td><td>Habermann</td><td>lung</td><td>cells</td><td>primary</td><td>Yes</td><td>66</td><td>M</td><td>ILD61-2</td></tr>\n",
       "\t<tr><td>ILD61-2_GGACGTCGTTACGCGC</td><td>2816</td><td>1302</td><td> 4.190341</td><td>SMCs</td><td>SMCs</td><td>Mesen</td><td>fibrotic-ILD</td><td>IPF </td><td>Habermann</td><td>lung</td><td>cells</td><td>primary</td><td>Yes</td><td>66</td><td>M</td><td>ILD61-2</td></tr>\n",
       "\t<tr><td>ILD61-2_GGGAGATTCCGCGGTA</td><td>3645</td><td>1449</td><td> 5.733882</td><td>SMCs</td><td>SMCs</td><td>Mesen</td><td>fibrotic-ILD</td><td>IPF </td><td>Habermann</td><td>lung</td><td>cells</td><td>primary</td><td>Yes</td><td>66</td><td>M</td><td>ILD61-2</td></tr>\n",
       "\t<tr><td>ILD61-2_GGTATTGAGTCTTGCA</td><td>4346</td><td>1745</td><td> 4.716981</td><td>SMCs</td><td>SMCs</td><td>Mesen</td><td>fibrotic-ILD</td><td>IPF </td><td>Habermann</td><td>lung</td><td>cells</td><td>primary</td><td>Yes</td><td>66</td><td>M</td><td>ILD61-2</td></tr>\n",
       "\t<tr><td>ILD61-2_GTACGTACATGCCACG</td><td>1687</td><td>1002</td><td> 6.757558</td><td>SMCs</td><td>SMCs</td><td>Mesen</td><td>fibrotic-ILD</td><td>IPF </td><td>Habermann</td><td>lung</td><td>cells</td><td>primary</td><td>Yes</td><td>66</td><td>M</td><td>ILD61-2</td></tr>\n",
       "\t<tr><td>ILD61-2_TCCACACAGCCACTAT</td><td>3616</td><td>1648</td><td> 5.420354</td><td>SMCs</td><td>SMCs</td><td>Mesen</td><td>fibrotic-ILD</td><td>IPF </td><td>Habermann</td><td>lung</td><td>cells</td><td>primary</td><td>Yes</td><td>66</td><td>M</td><td>ILD61-2</td></tr>\n",
       "\t<tr><td>ILD61-2_TGTGTTTCAAGTAGTA</td><td>2752</td><td>1488</td><td> 4.905523</td><td>SMCs</td><td>SMCs</td><td>Mesen</td><td>fibrotic-ILD</td><td>IPF </td><td>Habermann</td><td>lung</td><td>cells</td><td>primary</td><td>Yes</td><td>66</td><td>M</td><td>ILD61-2</td></tr>\n",
       "\t<tr><td>ILD62-1_AACTGGTAGAAACCAT</td><td>4901</td><td>2130</td><td> 4.448072</td><td>SMCs</td><td>SMCs</td><td>Mesen</td><td>fibrotic-ILD</td><td>NSIP</td><td>Habermann</td><td>lung</td><td>cells</td><td>primary</td><td>No </td><td>55</td><td>F</td><td>ILD62-1</td></tr>\n",
       "\t<tr><td>ILD62-1_AGTAGTCGTGCAGGTA</td><td>2670</td><td>1205</td><td> 5.730337</td><td>SMCs</td><td>SMCs</td><td>Mesen</td><td>fibrotic-ILD</td><td>NSIP</td><td>Habermann</td><td>lung</td><td>cells</td><td>primary</td><td>No </td><td>55</td><td>F</td><td>ILD62-1</td></tr>\n",
       "\t<tr><td>ILD62-1_CATTATCGTAGCAAAT</td><td>2359</td><td>1424</td><td> 4.620602</td><td>SMCs</td><td>SMCs</td><td>Mesen</td><td>fibrotic-ILD</td><td>NSIP</td><td>Habermann</td><td>lung</td><td>cells</td><td>primary</td><td>No </td><td>55</td><td>F</td><td>ILD62-1</td></tr>\n",
       "\t<tr><td>ILD62-1_TCAGCTCGTAGAAAGG</td><td>6045</td><td>2364</td><td> 2.762614</td><td>SMCs</td><td>SMCs</td><td>Mesen</td><td>fibrotic-ILD</td><td>NSIP</td><td>Habermann</td><td>lung</td><td>cells</td><td>primary</td><td>No </td><td>55</td><td>F</td><td>ILD62-1</td></tr>\n",
       "\t<tr><td>ILD62-1_TTAGTTCCAGCTCGAC</td><td>1680</td><td>1143</td><td> 5.000000</td><td>SMCs</td><td>SMCs</td><td>Mesen</td><td>fibrotic-ILD</td><td>NSIP</td><td>Habermann</td><td>lung</td><td>cells</td><td>primary</td><td>No </td><td>55</td><td>F</td><td>ILD62-1</td></tr>\n",
       "\t<tr><td>ILD62-2_ACGAGGATCTGCCAGG</td><td>3296</td><td>1768</td><td> 6.401699</td><td>SMCs</td><td>SMCs</td><td>Mesen</td><td>fibrotic-ILD</td><td>NSIP</td><td>Habermann</td><td>lung</td><td>cells</td><td>primary</td><td>No </td><td>55</td><td>F</td><td>ILD62-2</td></tr>\n",
       "\t<tr><td>ILD63_AACTCTTCAGACTCGC  </td><td>3661</td><td>1756</td><td> 7.183830</td><td>SMCs</td><td>SMCs</td><td>Mesen</td><td>fibrotic-ILD</td><td>IPF </td><td>Habermann</td><td>lung</td><td>cells</td><td>primary</td><td>No </td><td>64</td><td>F</td><td>ILD63  </td></tr>\n",
       "\t<tr><td>ILD63_CAGAATCTCCACGTTC  </td><td>1951</td><td>1075</td><td> 7.739621</td><td>SMCs</td><td>SMCs</td><td>Mesen</td><td>fibrotic-ILD</td><td>IPF </td><td>Habermann</td><td>lung</td><td>cells</td><td>primary</td><td>No </td><td>64</td><td>F</td><td>ILD63  </td></tr>\n",
       "\t<tr><td>ILD63_CTGAAACAGAAGGTGA  </td><td>2978</td><td>1603</td><td> 5.977166</td><td>SMCs</td><td>SMCs</td><td>Mesen</td><td>fibrotic-ILD</td><td>IPF </td><td>Habermann</td><td>lung</td><td>cells</td><td>primary</td><td>No </td><td>64</td><td>F</td><td>ILD63  </td></tr>\n",
       "\t<tr><td>ILD63_GGCCGATAGCTGTTCA  </td><td>1777</td><td>1023</td><td> 3.657850</td><td>SMCs</td><td>SMCs</td><td>Mesen</td><td>fibrotic-ILD</td><td>IPF </td><td>Habermann</td><td>lung</td><td>cells</td><td>primary</td><td>No </td><td>64</td><td>F</td><td>ILD63  </td></tr>\n",
       "</tbody>\n",
       "</table>\n"
      ],
      "text/latex": [
       "A spec\\_tbl\\_df: 114396 × 17\n",
       "\\begin{tabular}{lllllllllllllllll}\n",
       " ...1 & nCount\\_RNA & nFeature\\_RNA & percent.mt & subclass & cells & lineage & condition & aetiology & study & tissue & cells\\_or\\_nuclei & primary\\_or\\_cultured & smoking & age & sex & patientID\\\\\n",
       " <chr> & <dbl> & <dbl> & <dbl> & <chr> & <chr> & <chr> & <chr> & <chr> & <chr> & <chr> & <chr> & <chr> & <chr> & <dbl> & <chr> & <chr>\\\\\n",
       "\\hline\n",
       "\t F00431\\_AGAGCTTGTAGAGGAA & 15703 & 4231 &  5.483029 & MUC5AC+ High & Secretory cells & Epi & fibrotic-ILD & IPF     & Habermann & lung & cells & primary & No  & 65 & M & F00431\\\\\n",
       "\t F01380\\_GATCTAGTCTTGCCGT & 18128 & 3411 &  4.082083 & MUC5AC+ High & Secretory cells & Epi & fibrotic-ILD & IPF     & Habermann & lung & cells & primary & Yes & 54 & F & F01380\\\\\n",
       "\t F01391\\_AGTCTTTAGGTTACCT & 41380 & 6802 &  3.339778 & MUC5AC+ High & Secretory cells & Epi & fibrotic-ILD & IPF     & Habermann & lung & cells & primary & No  & 68 & M & F01391\\\\\n",
       "\t F01391\\_ATCCACCAGGAGTCTG & 37524 & 5003 &  3.528408 & MUC5AC+ High & Secretory cells & Epi & fibrotic-ILD & IPF     & Habermann & lung & cells & primary & No  & 68 & M & F01391\\\\\n",
       "\t F01391\\_CTCGTCATCATCTGCC & 17885 & 4341 &  5.065698 & MUC5AC+ High & Secretory cells & Epi & fibrotic-ILD & IPF     & Habermann & lung & cells & primary & No  & 68 & M & F01391\\\\\n",
       "\t F01391\\_CTGATAGCAGACGCCT & 55057 & 6871 &  3.632599 & MUC5AC+ High & Secretory cells & Epi & fibrotic-ILD & IPF     & Habermann & lung & cells & primary & No  & 68 & M & F01391\\\\\n",
       "\t F01391\\_CTGGTCTCACAGAGGT & 33359 & 4628 &  2.928745 & MUC5AC+ High & Secretory cells & Epi & fibrotic-ILD & IPF     & Habermann & lung & cells & primary & No  & 68 & M & F01391\\\\\n",
       "\t F01391\\_GAACATCAGCTGATAA & 37427 & 4814 &  4.002458 & MUC5AC+ High & Secretory cells & Epi & fibrotic-ILD & IPF     & Habermann & lung & cells & primary & No  & 68 & M & F01391\\\\\n",
       "\t F01391\\_TACTCATCATAGAAAC & 22361 & 4322 &  6.327982 & MUC5AC+ High & Secretory cells & Epi & fibrotic-ILD & IPF     & Habermann & lung & cells & primary & No  & 68 & M & F01391\\\\\n",
       "\t F01391\\_TCAGGATTCGGTGTTA & 19137 & 4030 &  2.900141 & MUC5AC+ High & Secretory cells & Epi & fibrotic-ILD & IPF     & Habermann & lung & cells & primary & No  & 68 & M & F01391\\\\\n",
       "\t F01392\\_AAAGTAGCAAACTGCT & 22157 & 4707 &  6.720224 & MUC5AC+ High & Secretory cells & Epi & fibrotic-ILD & IPF     & Habermann & lung & cells & primary & No  & 63 & M & F01392\\\\\n",
       "\t F01392\\_ACCGTAATCACATGCA & 10886 & 2880 &  4.859453 & MUC5AC+ High & Secretory cells & Epi & fibrotic-ILD & IPF     & Habermann & lung & cells & primary & No  & 63 & M & F01392\\\\\n",
       "\t F01392\\_ACGATGTAGAAACCGC & 11184 & 2845 &  4.864092 & MUC5AC+ High & Secretory cells & Epi & fibrotic-ILD & IPF     & Habermann & lung & cells & primary & No  & 63 & M & F01392\\\\\n",
       "\t F01392\\_ACGGAGATCACTCCTG & 13851 & 3583 &  5.580824 & MUC5AC+ High & Secretory cells & Epi & fibrotic-ILD & IPF     & Habermann & lung & cells & primary & No  & 63 & M & F01392\\\\\n",
       "\t F01392\\_ACTATCTTCAGGTAAA & 16386 & 3629 &  5.547419 & MUC5AC+ High & Secretory cells & Epi & fibrotic-ILD & IPF     & Habermann & lung & cells & primary & No  & 63 & M & F01392\\\\\n",
       "\t F01392\\_AGCTTGACAGATGGGT & 10024 & 2935 &  8.739026 & MUC5AC+ High & Secretory cells & Epi & fibrotic-ILD & IPF     & Habermann & lung & cells & primary & No  & 63 & M & F01392\\\\\n",
       "\t F01392\\_ATCATCTCACTTCGAA & 15507 & 3610 &  6.390662 & MUC5AC+ High & Secretory cells & Epi & fibrotic-ILD & IPF     & Habermann & lung & cells & primary & No  & 63 & M & F01392\\\\\n",
       "\t F01392\\_CATCAAGCAAGTAGTA & 11222 & 3354 &  8.055605 & MUC5AC+ High & Secretory cells & Epi & fibrotic-ILD & IPF     & Habermann & lung & cells & primary & No  & 63 & M & F01392\\\\\n",
       "\t F01392\\_CCGTACTTCCTATTCA & 10520 & 3181 &  7.433460 & MUC5AC+ High & Secretory cells & Epi & fibrotic-ILD & IPF     & Habermann & lung & cells & primary & No  & 63 & M & F01392\\\\\n",
       "\t F01392\\_CTACGTCAGAACTCGG &  9403 & 2741 &  7.593321 & MUC5AC+ High & Secretory cells & Epi & fibrotic-ILD & IPF     & Habermann & lung & cells & primary & No  & 63 & M & F01392\\\\\n",
       "\t F01392\\_GGAAAGCGTTCAGTAC & 14061 & 4061 &  7.595477 & MUC5AC+ High & Secretory cells & Epi & fibrotic-ILD & IPF     & Habermann & lung & cells & primary & No  & 63 & M & F01392\\\\\n",
       "\t F01392\\_GTAACTGGTGTTCGAT & 11374 & 3141 &  6.646738 & MUC5AC+ High & Secretory cells & Epi & fibrotic-ILD & IPF     & Habermann & lung & cells & primary & No  & 63 & M & F01392\\\\\n",
       "\t F01392\\_TAAACCGTCAGCTCTC & 16807 & 3775 &  4.402927 & MUC5AC+ High & Secretory cells & Epi & fibrotic-ILD & IPF     & Habermann & lung & cells & primary & No  & 63 & M & F01392\\\\\n",
       "\t F01392\\_TAGGCATTCAGCATGT & 14949 & 3466 &  5.766272 & MUC5AC+ High & Secretory cells & Epi & fibrotic-ILD & IPF     & Habermann & lung & cells & primary & No  & 63 & M & F01392\\\\\n",
       "\t F01392\\_TGAAAGAGTACCGCTG & 22920 & 4910 &  4.249564 & MUC5AC+ High & Secretory cells & Epi & fibrotic-ILD & IPF     & Habermann & lung & cells & primary & No  & 63 & M & F01392\\\\\n",
       "\t F01392\\_TTTGTCACACCCAGTG & 14250 & 3713 &  7.452632 & MUC5AC+ High & Secretory cells & Epi & fibrotic-ILD & IPF     & Habermann & lung & cells & primary & No  & 63 & M & F01392\\\\\n",
       "\t HD65\\_ATCATGGCAAGTTGTC   & 33415 & 4343 &  4.725423 & MUC5AC+ High & Secretory cells & Epi & control      & control & Habermann & lung & cells & primary & Yes & 17 & M & HD65  \\\\\n",
       "\t HD65\\_ATTATCCAGACTACAA   & 22899 & 4798 & 11.773440 & MUC5AC+ High & Secretory cells & Epi & control      & control & Habermann & lung & cells & primary & Yes & 17 & M & HD65  \\\\\n",
       "\t HD65\\_CACAAACTCCTAGAAC   & 20865 & 3563 &  3.939612 & MUC5AC+ High & Secretory cells & Epi & control      & control & Habermann & lung & cells & primary & Yes & 17 & M & HD65  \\\\\n",
       "\t HD65\\_CATCCACTCCACGAAT   & 39772 & 5474 &  3.728754 & MUC5AC+ High & Secretory cells & Epi & control      & control & Habermann & lung & cells & primary & Yes & 17 & M & HD65  \\\\\n",
       "\t ⋮ & ⋮ & ⋮ & ⋮ & ⋮ & ⋮ & ⋮ & ⋮ & ⋮ & ⋮ & ⋮ & ⋮ & ⋮ & ⋮ & ⋮ & ⋮ & ⋮\\\\\n",
       "\t ILD60-2\\_ATCTGCCGTCATATGC & 2817 & 1174 & 10.259141 & SMCs & SMCs & Mesen & fibrotic-ILD & IPF  & Habermann & lung & cells & primary & Yes & 59 & M & ILD60-2\\\\\n",
       "\t ILD60-2\\_CAACCTCTCACCCGAG & 1779 & 1038 &  5.171445 & SMCs & SMCs & Mesen & fibrotic-ILD & IPF  & Habermann & lung & cells & primary & Yes & 59 & M & ILD60-2\\\\\n",
       "\t ILD60-2\\_CACAAACTCACCGTAA & 2266 & 1213 &  6.796117 & SMCs & SMCs & Mesen & fibrotic-ILD & IPF  & Habermann & lung & cells & primary & Yes & 59 & M & ILD60-2\\\\\n",
       "\t ILD60-2\\_CCTTCGACATGAAGTA & 2452 & 1207 &  8.034258 & SMCs & SMCs & Mesen & fibrotic-ILD & IPF  & Habermann & lung & cells & primary & Yes & 59 & M & ILD60-2\\\\\n",
       "\t ILD60-2\\_CGAGAAGAGGACTGGT & 1862 & 1006 & 10.687433 & SMCs & SMCs & Mesen & fibrotic-ILD & IPF  & Habermann & lung & cells & primary & Yes & 59 & M & ILD60-2\\\\\n",
       "\t ILD60-2\\_GCGGGTTCAGCTCCGA & 2550 & 1224 &  9.882353 & SMCs & SMCs & Mesen & fibrotic-ILD & IPF  & Habermann & lung & cells & primary & Yes & 59 & M & ILD60-2\\\\\n",
       "\t ILD60-2\\_TCACAAGTCATTATCC & 1918 & 1093 &  7.768509 & SMCs & SMCs & Mesen & fibrotic-ILD & IPF  & Habermann & lung & cells & primary & Yes & 59 & M & ILD60-2\\\\\n",
       "\t ILD61-2\\_AGACGTTTCTACTATC & 5376 & 2287 &  5.636161 & SMCs & SMCs & Mesen & fibrotic-ILD & IPF  & Habermann & lung & cells & primary & Yes & 66 & M & ILD61-2\\\\\n",
       "\t ILD61-2\\_AGCGGTCGTAGCCTAT & 2205 & 1209 &  2.811791 & SMCs & SMCs & Mesen & fibrotic-ILD & IPF  & Habermann & lung & cells & primary & Yes & 66 & M & ILD61-2\\\\\n",
       "\t ILD61-2\\_CACACTCCATGAACCT & 2564 & 1063 &  2.418097 & SMCs & SMCs & Mesen & fibrotic-ILD & IPF  & Habermann & lung & cells & primary & Yes & 66 & M & ILD61-2\\\\\n",
       "\t ILD61-2\\_CATCGGGCAATGGATA & 5498 & 2227 &  8.384867 & SMCs & SMCs & Mesen & fibrotic-ILD & IPF  & Habermann & lung & cells & primary & Yes & 66 & M & ILD61-2\\\\\n",
       "\t ILD61-2\\_CCGTACTGTCCCTTGT & 2426 & 1213 &  3.050289 & SMCs & SMCs & Mesen & fibrotic-ILD & IPF  & Habermann & lung & cells & primary & Yes & 66 & M & ILD61-2\\\\\n",
       "\t ILD61-2\\_CCTTCGAGTATATGGA & 2877 & 1376 &  4.935697 & SMCs & SMCs & Mesen & fibrotic-ILD & IPF  & Habermann & lung & cells & primary & Yes & 66 & M & ILD61-2\\\\\n",
       "\t ILD61-2\\_CTAGTGAAGATCCGAG & 3374 & 1592 &  5.068168 & SMCs & SMCs & Mesen & fibrotic-ILD & IPF  & Habermann & lung & cells & primary & Yes & 66 & M & ILD61-2\\\\\n",
       "\t ILD61-2\\_GGACGTCGTTACGCGC & 2816 & 1302 &  4.190341 & SMCs & SMCs & Mesen & fibrotic-ILD & IPF  & Habermann & lung & cells & primary & Yes & 66 & M & ILD61-2\\\\\n",
       "\t ILD61-2\\_GGGAGATTCCGCGGTA & 3645 & 1449 &  5.733882 & SMCs & SMCs & Mesen & fibrotic-ILD & IPF  & Habermann & lung & cells & primary & Yes & 66 & M & ILD61-2\\\\\n",
       "\t ILD61-2\\_GGTATTGAGTCTTGCA & 4346 & 1745 &  4.716981 & SMCs & SMCs & Mesen & fibrotic-ILD & IPF  & Habermann & lung & cells & primary & Yes & 66 & M & ILD61-2\\\\\n",
       "\t ILD61-2\\_GTACGTACATGCCACG & 1687 & 1002 &  6.757558 & SMCs & SMCs & Mesen & fibrotic-ILD & IPF  & Habermann & lung & cells & primary & Yes & 66 & M & ILD61-2\\\\\n",
       "\t ILD61-2\\_TCCACACAGCCACTAT & 3616 & 1648 &  5.420354 & SMCs & SMCs & Mesen & fibrotic-ILD & IPF  & Habermann & lung & cells & primary & Yes & 66 & M & ILD61-2\\\\\n",
       "\t ILD61-2\\_TGTGTTTCAAGTAGTA & 2752 & 1488 &  4.905523 & SMCs & SMCs & Mesen & fibrotic-ILD & IPF  & Habermann & lung & cells & primary & Yes & 66 & M & ILD61-2\\\\\n",
       "\t ILD62-1\\_AACTGGTAGAAACCAT & 4901 & 2130 &  4.448072 & SMCs & SMCs & Mesen & fibrotic-ILD & NSIP & Habermann & lung & cells & primary & No  & 55 & F & ILD62-1\\\\\n",
       "\t ILD62-1\\_AGTAGTCGTGCAGGTA & 2670 & 1205 &  5.730337 & SMCs & SMCs & Mesen & fibrotic-ILD & NSIP & Habermann & lung & cells & primary & No  & 55 & F & ILD62-1\\\\\n",
       "\t ILD62-1\\_CATTATCGTAGCAAAT & 2359 & 1424 &  4.620602 & SMCs & SMCs & Mesen & fibrotic-ILD & NSIP & Habermann & lung & cells & primary & No  & 55 & F & ILD62-1\\\\\n",
       "\t ILD62-1\\_TCAGCTCGTAGAAAGG & 6045 & 2364 &  2.762614 & SMCs & SMCs & Mesen & fibrotic-ILD & NSIP & Habermann & lung & cells & primary & No  & 55 & F & ILD62-1\\\\\n",
       "\t ILD62-1\\_TTAGTTCCAGCTCGAC & 1680 & 1143 &  5.000000 & SMCs & SMCs & Mesen & fibrotic-ILD & NSIP & Habermann & lung & cells & primary & No  & 55 & F & ILD62-1\\\\\n",
       "\t ILD62-2\\_ACGAGGATCTGCCAGG & 3296 & 1768 &  6.401699 & SMCs & SMCs & Mesen & fibrotic-ILD & NSIP & Habermann & lung & cells & primary & No  & 55 & F & ILD62-2\\\\\n",
       "\t ILD63\\_AACTCTTCAGACTCGC   & 3661 & 1756 &  7.183830 & SMCs & SMCs & Mesen & fibrotic-ILD & IPF  & Habermann & lung & cells & primary & No  & 64 & F & ILD63  \\\\\n",
       "\t ILD63\\_CAGAATCTCCACGTTC   & 1951 & 1075 &  7.739621 & SMCs & SMCs & Mesen & fibrotic-ILD & IPF  & Habermann & lung & cells & primary & No  & 64 & F & ILD63  \\\\\n",
       "\t ILD63\\_CTGAAACAGAAGGTGA   & 2978 & 1603 &  5.977166 & SMCs & SMCs & Mesen & fibrotic-ILD & IPF  & Habermann & lung & cells & primary & No  & 64 & F & ILD63  \\\\\n",
       "\t ILD63\\_GGCCGATAGCTGTTCA   & 1777 & 1023 &  3.657850 & SMCs & SMCs & Mesen & fibrotic-ILD & IPF  & Habermann & lung & cells & primary & No  & 64 & F & ILD63  \\\\\n",
       "\\end{tabular}\n"
      ],
      "text/markdown": [
       "\n",
       "A spec_tbl_df: 114396 × 17\n",
       "\n",
       "| ...1 &lt;chr&gt; | nCount_RNA &lt;dbl&gt; | nFeature_RNA &lt;dbl&gt; | percent.mt &lt;dbl&gt; | subclass &lt;chr&gt; | cells &lt;chr&gt; | lineage &lt;chr&gt; | condition &lt;chr&gt; | aetiology &lt;chr&gt; | study &lt;chr&gt; | tissue &lt;chr&gt; | cells_or_nuclei &lt;chr&gt; | primary_or_cultured &lt;chr&gt; | smoking &lt;chr&gt; | age &lt;dbl&gt; | sex &lt;chr&gt; | patientID &lt;chr&gt; |\n",
       "|---|---|---|---|---|---|---|---|---|---|---|---|---|---|---|---|---|\n",
       "| F00431_AGAGCTTGTAGAGGAA | 15703 | 4231 |  5.483029 | MUC5AC+ High | Secretory cells | Epi | fibrotic-ILD | IPF     | Habermann | lung | cells | primary | No  | 65 | M | F00431 |\n",
       "| F01380_GATCTAGTCTTGCCGT | 18128 | 3411 |  4.082083 | MUC5AC+ High | Secretory cells | Epi | fibrotic-ILD | IPF     | Habermann | lung | cells | primary | Yes | 54 | F | F01380 |\n",
       "| F01391_AGTCTTTAGGTTACCT | 41380 | 6802 |  3.339778 | MUC5AC+ High | Secretory cells | Epi | fibrotic-ILD | IPF     | Habermann | lung | cells | primary | No  | 68 | M | F01391 |\n",
       "| F01391_ATCCACCAGGAGTCTG | 37524 | 5003 |  3.528408 | MUC5AC+ High | Secretory cells | Epi | fibrotic-ILD | IPF     | Habermann | lung | cells | primary | No  | 68 | M | F01391 |\n",
       "| F01391_CTCGTCATCATCTGCC | 17885 | 4341 |  5.065698 | MUC5AC+ High | Secretory cells | Epi | fibrotic-ILD | IPF     | Habermann | lung | cells | primary | No  | 68 | M | F01391 |\n",
       "| F01391_CTGATAGCAGACGCCT | 55057 | 6871 |  3.632599 | MUC5AC+ High | Secretory cells | Epi | fibrotic-ILD | IPF     | Habermann | lung | cells | primary | No  | 68 | M | F01391 |\n",
       "| F01391_CTGGTCTCACAGAGGT | 33359 | 4628 |  2.928745 | MUC5AC+ High | Secretory cells | Epi | fibrotic-ILD | IPF     | Habermann | lung | cells | primary | No  | 68 | M | F01391 |\n",
       "| F01391_GAACATCAGCTGATAA | 37427 | 4814 |  4.002458 | MUC5AC+ High | Secretory cells | Epi | fibrotic-ILD | IPF     | Habermann | lung | cells | primary | No  | 68 | M | F01391 |\n",
       "| F01391_TACTCATCATAGAAAC | 22361 | 4322 |  6.327982 | MUC5AC+ High | Secretory cells | Epi | fibrotic-ILD | IPF     | Habermann | lung | cells | primary | No  | 68 | M | F01391 |\n",
       "| F01391_TCAGGATTCGGTGTTA | 19137 | 4030 |  2.900141 | MUC5AC+ High | Secretory cells | Epi | fibrotic-ILD | IPF     | Habermann | lung | cells | primary | No  | 68 | M | F01391 |\n",
       "| F01392_AAAGTAGCAAACTGCT | 22157 | 4707 |  6.720224 | MUC5AC+ High | Secretory cells | Epi | fibrotic-ILD | IPF     | Habermann | lung | cells | primary | No  | 63 | M | F01392 |\n",
       "| F01392_ACCGTAATCACATGCA | 10886 | 2880 |  4.859453 | MUC5AC+ High | Secretory cells | Epi | fibrotic-ILD | IPF     | Habermann | lung | cells | primary | No  | 63 | M | F01392 |\n",
       "| F01392_ACGATGTAGAAACCGC | 11184 | 2845 |  4.864092 | MUC5AC+ High | Secretory cells | Epi | fibrotic-ILD | IPF     | Habermann | lung | cells | primary | No  | 63 | M | F01392 |\n",
       "| F01392_ACGGAGATCACTCCTG | 13851 | 3583 |  5.580824 | MUC5AC+ High | Secretory cells | Epi | fibrotic-ILD | IPF     | Habermann | lung | cells | primary | No  | 63 | M | F01392 |\n",
       "| F01392_ACTATCTTCAGGTAAA | 16386 | 3629 |  5.547419 | MUC5AC+ High | Secretory cells | Epi | fibrotic-ILD | IPF     | Habermann | lung | cells | primary | No  | 63 | M | F01392 |\n",
       "| F01392_AGCTTGACAGATGGGT | 10024 | 2935 |  8.739026 | MUC5AC+ High | Secretory cells | Epi | fibrotic-ILD | IPF     | Habermann | lung | cells | primary | No  | 63 | M | F01392 |\n",
       "| F01392_ATCATCTCACTTCGAA | 15507 | 3610 |  6.390662 | MUC5AC+ High | Secretory cells | Epi | fibrotic-ILD | IPF     | Habermann | lung | cells | primary | No  | 63 | M | F01392 |\n",
       "| F01392_CATCAAGCAAGTAGTA | 11222 | 3354 |  8.055605 | MUC5AC+ High | Secretory cells | Epi | fibrotic-ILD | IPF     | Habermann | lung | cells | primary | No  | 63 | M | F01392 |\n",
       "| F01392_CCGTACTTCCTATTCA | 10520 | 3181 |  7.433460 | MUC5AC+ High | Secretory cells | Epi | fibrotic-ILD | IPF     | Habermann | lung | cells | primary | No  | 63 | M | F01392 |\n",
       "| F01392_CTACGTCAGAACTCGG |  9403 | 2741 |  7.593321 | MUC5AC+ High | Secretory cells | Epi | fibrotic-ILD | IPF     | Habermann | lung | cells | primary | No  | 63 | M | F01392 |\n",
       "| F01392_GGAAAGCGTTCAGTAC | 14061 | 4061 |  7.595477 | MUC5AC+ High | Secretory cells | Epi | fibrotic-ILD | IPF     | Habermann | lung | cells | primary | No  | 63 | M | F01392 |\n",
       "| F01392_GTAACTGGTGTTCGAT | 11374 | 3141 |  6.646738 | MUC5AC+ High | Secretory cells | Epi | fibrotic-ILD | IPF     | Habermann | lung | cells | primary | No  | 63 | M | F01392 |\n",
       "| F01392_TAAACCGTCAGCTCTC | 16807 | 3775 |  4.402927 | MUC5AC+ High | Secretory cells | Epi | fibrotic-ILD | IPF     | Habermann | lung | cells | primary | No  | 63 | M | F01392 |\n",
       "| F01392_TAGGCATTCAGCATGT | 14949 | 3466 |  5.766272 | MUC5AC+ High | Secretory cells | Epi | fibrotic-ILD | IPF     | Habermann | lung | cells | primary | No  | 63 | M | F01392 |\n",
       "| F01392_TGAAAGAGTACCGCTG | 22920 | 4910 |  4.249564 | MUC5AC+ High | Secretory cells | Epi | fibrotic-ILD | IPF     | Habermann | lung | cells | primary | No  | 63 | M | F01392 |\n",
       "| F01392_TTTGTCACACCCAGTG | 14250 | 3713 |  7.452632 | MUC5AC+ High | Secretory cells | Epi | fibrotic-ILD | IPF     | Habermann | lung | cells | primary | No  | 63 | M | F01392 |\n",
       "| HD65_ATCATGGCAAGTTGTC   | 33415 | 4343 |  4.725423 | MUC5AC+ High | Secretory cells | Epi | control      | control | Habermann | lung | cells | primary | Yes | 17 | M | HD65   |\n",
       "| HD65_ATTATCCAGACTACAA   | 22899 | 4798 | 11.773440 | MUC5AC+ High | Secretory cells | Epi | control      | control | Habermann | lung | cells | primary | Yes | 17 | M | HD65   |\n",
       "| HD65_CACAAACTCCTAGAAC   | 20865 | 3563 |  3.939612 | MUC5AC+ High | Secretory cells | Epi | control      | control | Habermann | lung | cells | primary | Yes | 17 | M | HD65   |\n",
       "| HD65_CATCCACTCCACGAAT   | 39772 | 5474 |  3.728754 | MUC5AC+ High | Secretory cells | Epi | control      | control | Habermann | lung | cells | primary | Yes | 17 | M | HD65   |\n",
       "| ⋮ | ⋮ | ⋮ | ⋮ | ⋮ | ⋮ | ⋮ | ⋮ | ⋮ | ⋮ | ⋮ | ⋮ | ⋮ | ⋮ | ⋮ | ⋮ | ⋮ |\n",
       "| ILD60-2_ATCTGCCGTCATATGC | 2817 | 1174 | 10.259141 | SMCs | SMCs | Mesen | fibrotic-ILD | IPF  | Habermann | lung | cells | primary | Yes | 59 | M | ILD60-2 |\n",
       "| ILD60-2_CAACCTCTCACCCGAG | 1779 | 1038 |  5.171445 | SMCs | SMCs | Mesen | fibrotic-ILD | IPF  | Habermann | lung | cells | primary | Yes | 59 | M | ILD60-2 |\n",
       "| ILD60-2_CACAAACTCACCGTAA | 2266 | 1213 |  6.796117 | SMCs | SMCs | Mesen | fibrotic-ILD | IPF  | Habermann | lung | cells | primary | Yes | 59 | M | ILD60-2 |\n",
       "| ILD60-2_CCTTCGACATGAAGTA | 2452 | 1207 |  8.034258 | SMCs | SMCs | Mesen | fibrotic-ILD | IPF  | Habermann | lung | cells | primary | Yes | 59 | M | ILD60-2 |\n",
       "| ILD60-2_CGAGAAGAGGACTGGT | 1862 | 1006 | 10.687433 | SMCs | SMCs | Mesen | fibrotic-ILD | IPF  | Habermann | lung | cells | primary | Yes | 59 | M | ILD60-2 |\n",
       "| ILD60-2_GCGGGTTCAGCTCCGA | 2550 | 1224 |  9.882353 | SMCs | SMCs | Mesen | fibrotic-ILD | IPF  | Habermann | lung | cells | primary | Yes | 59 | M | ILD60-2 |\n",
       "| ILD60-2_TCACAAGTCATTATCC | 1918 | 1093 |  7.768509 | SMCs | SMCs | Mesen | fibrotic-ILD | IPF  | Habermann | lung | cells | primary | Yes | 59 | M | ILD60-2 |\n",
       "| ILD61-2_AGACGTTTCTACTATC | 5376 | 2287 |  5.636161 | SMCs | SMCs | Mesen | fibrotic-ILD | IPF  | Habermann | lung | cells | primary | Yes | 66 | M | ILD61-2 |\n",
       "| ILD61-2_AGCGGTCGTAGCCTAT | 2205 | 1209 |  2.811791 | SMCs | SMCs | Mesen | fibrotic-ILD | IPF  | Habermann | lung | cells | primary | Yes | 66 | M | ILD61-2 |\n",
       "| ILD61-2_CACACTCCATGAACCT | 2564 | 1063 |  2.418097 | SMCs | SMCs | Mesen | fibrotic-ILD | IPF  | Habermann | lung | cells | primary | Yes | 66 | M | ILD61-2 |\n",
       "| ILD61-2_CATCGGGCAATGGATA | 5498 | 2227 |  8.384867 | SMCs | SMCs | Mesen | fibrotic-ILD | IPF  | Habermann | lung | cells | primary | Yes | 66 | M | ILD61-2 |\n",
       "| ILD61-2_CCGTACTGTCCCTTGT | 2426 | 1213 |  3.050289 | SMCs | SMCs | Mesen | fibrotic-ILD | IPF  | Habermann | lung | cells | primary | Yes | 66 | M | ILD61-2 |\n",
       "| ILD61-2_CCTTCGAGTATATGGA | 2877 | 1376 |  4.935697 | SMCs | SMCs | Mesen | fibrotic-ILD | IPF  | Habermann | lung | cells | primary | Yes | 66 | M | ILD61-2 |\n",
       "| ILD61-2_CTAGTGAAGATCCGAG | 3374 | 1592 |  5.068168 | SMCs | SMCs | Mesen | fibrotic-ILD | IPF  | Habermann | lung | cells | primary | Yes | 66 | M | ILD61-2 |\n",
       "| ILD61-2_GGACGTCGTTACGCGC | 2816 | 1302 |  4.190341 | SMCs | SMCs | Mesen | fibrotic-ILD | IPF  | Habermann | lung | cells | primary | Yes | 66 | M | ILD61-2 |\n",
       "| ILD61-2_GGGAGATTCCGCGGTA | 3645 | 1449 |  5.733882 | SMCs | SMCs | Mesen | fibrotic-ILD | IPF  | Habermann | lung | cells | primary | Yes | 66 | M | ILD61-2 |\n",
       "| ILD61-2_GGTATTGAGTCTTGCA | 4346 | 1745 |  4.716981 | SMCs | SMCs | Mesen | fibrotic-ILD | IPF  | Habermann | lung | cells | primary | Yes | 66 | M | ILD61-2 |\n",
       "| ILD61-2_GTACGTACATGCCACG | 1687 | 1002 |  6.757558 | SMCs | SMCs | Mesen | fibrotic-ILD | IPF  | Habermann | lung | cells | primary | Yes | 66 | M | ILD61-2 |\n",
       "| ILD61-2_TCCACACAGCCACTAT | 3616 | 1648 |  5.420354 | SMCs | SMCs | Mesen | fibrotic-ILD | IPF  | Habermann | lung | cells | primary | Yes | 66 | M | ILD61-2 |\n",
       "| ILD61-2_TGTGTTTCAAGTAGTA | 2752 | 1488 |  4.905523 | SMCs | SMCs | Mesen | fibrotic-ILD | IPF  | Habermann | lung | cells | primary | Yes | 66 | M | ILD61-2 |\n",
       "| ILD62-1_AACTGGTAGAAACCAT | 4901 | 2130 |  4.448072 | SMCs | SMCs | Mesen | fibrotic-ILD | NSIP | Habermann | lung | cells | primary | No  | 55 | F | ILD62-1 |\n",
       "| ILD62-1_AGTAGTCGTGCAGGTA | 2670 | 1205 |  5.730337 | SMCs | SMCs | Mesen | fibrotic-ILD | NSIP | Habermann | lung | cells | primary | No  | 55 | F | ILD62-1 |\n",
       "| ILD62-1_CATTATCGTAGCAAAT | 2359 | 1424 |  4.620602 | SMCs | SMCs | Mesen | fibrotic-ILD | NSIP | Habermann | lung | cells | primary | No  | 55 | F | ILD62-1 |\n",
       "| ILD62-1_TCAGCTCGTAGAAAGG | 6045 | 2364 |  2.762614 | SMCs | SMCs | Mesen | fibrotic-ILD | NSIP | Habermann | lung | cells | primary | No  | 55 | F | ILD62-1 |\n",
       "| ILD62-1_TTAGTTCCAGCTCGAC | 1680 | 1143 |  5.000000 | SMCs | SMCs | Mesen | fibrotic-ILD | NSIP | Habermann | lung | cells | primary | No  | 55 | F | ILD62-1 |\n",
       "| ILD62-2_ACGAGGATCTGCCAGG | 3296 | 1768 |  6.401699 | SMCs | SMCs | Mesen | fibrotic-ILD | NSIP | Habermann | lung | cells | primary | No  | 55 | F | ILD62-2 |\n",
       "| ILD63_AACTCTTCAGACTCGC   | 3661 | 1756 |  7.183830 | SMCs | SMCs | Mesen | fibrotic-ILD | IPF  | Habermann | lung | cells | primary | No  | 64 | F | ILD63   |\n",
       "| ILD63_CAGAATCTCCACGTTC   | 1951 | 1075 |  7.739621 | SMCs | SMCs | Mesen | fibrotic-ILD | IPF  | Habermann | lung | cells | primary | No  | 64 | F | ILD63   |\n",
       "| ILD63_CTGAAACAGAAGGTGA   | 2978 | 1603 |  5.977166 | SMCs | SMCs | Mesen | fibrotic-ILD | IPF  | Habermann | lung | cells | primary | No  | 64 | F | ILD63   |\n",
       "| ILD63_GGCCGATAGCTGTTCA   | 1777 | 1023 |  3.657850 | SMCs | SMCs | Mesen | fibrotic-ILD | IPF  | Habermann | lung | cells | primary | No  | 64 | F | ILD63   |\n",
       "\n"
      ],
      "text/plain": [
       "       ...1                     nCount_RNA nFeature_RNA percent.mt subclass    \n",
       "1      F00431_AGAGCTTGTAGAGGAA  15703      4231          5.483029  MUC5AC+ High\n",
       "2      F01380_GATCTAGTCTTGCCGT  18128      3411          4.082083  MUC5AC+ High\n",
       "3      F01391_AGTCTTTAGGTTACCT  41380      6802          3.339778  MUC5AC+ High\n",
       "4      F01391_ATCCACCAGGAGTCTG  37524      5003          3.528408  MUC5AC+ High\n",
       "5      F01391_CTCGTCATCATCTGCC  17885      4341          5.065698  MUC5AC+ High\n",
       "6      F01391_CTGATAGCAGACGCCT  55057      6871          3.632599  MUC5AC+ High\n",
       "7      F01391_CTGGTCTCACAGAGGT  33359      4628          2.928745  MUC5AC+ High\n",
       "8      F01391_GAACATCAGCTGATAA  37427      4814          4.002458  MUC5AC+ High\n",
       "9      F01391_TACTCATCATAGAAAC  22361      4322          6.327982  MUC5AC+ High\n",
       "10     F01391_TCAGGATTCGGTGTTA  19137      4030          2.900141  MUC5AC+ High\n",
       "11     F01392_AAAGTAGCAAACTGCT  22157      4707          6.720224  MUC5AC+ High\n",
       "12     F01392_ACCGTAATCACATGCA  10886      2880          4.859453  MUC5AC+ High\n",
       "13     F01392_ACGATGTAGAAACCGC  11184      2845          4.864092  MUC5AC+ High\n",
       "14     F01392_ACGGAGATCACTCCTG  13851      3583          5.580824  MUC5AC+ High\n",
       "15     F01392_ACTATCTTCAGGTAAA  16386      3629          5.547419  MUC5AC+ High\n",
       "16     F01392_AGCTTGACAGATGGGT  10024      2935          8.739026  MUC5AC+ High\n",
       "17     F01392_ATCATCTCACTTCGAA  15507      3610          6.390662  MUC5AC+ High\n",
       "18     F01392_CATCAAGCAAGTAGTA  11222      3354          8.055605  MUC5AC+ High\n",
       "19     F01392_CCGTACTTCCTATTCA  10520      3181          7.433460  MUC5AC+ High\n",
       "20     F01392_CTACGTCAGAACTCGG   9403      2741          7.593321  MUC5AC+ High\n",
       "21     F01392_GGAAAGCGTTCAGTAC  14061      4061          7.595477  MUC5AC+ High\n",
       "22     F01392_GTAACTGGTGTTCGAT  11374      3141          6.646738  MUC5AC+ High\n",
       "23     F01392_TAAACCGTCAGCTCTC  16807      3775          4.402927  MUC5AC+ High\n",
       "24     F01392_TAGGCATTCAGCATGT  14949      3466          5.766272  MUC5AC+ High\n",
       "25     F01392_TGAAAGAGTACCGCTG  22920      4910          4.249564  MUC5AC+ High\n",
       "26     F01392_TTTGTCACACCCAGTG  14250      3713          7.452632  MUC5AC+ High\n",
       "27     HD65_ATCATGGCAAGTTGTC    33415      4343          4.725423  MUC5AC+ High\n",
       "28     HD65_ATTATCCAGACTACAA    22899      4798         11.773440  MUC5AC+ High\n",
       "29     HD65_CACAAACTCCTAGAAC    20865      3563          3.939612  MUC5AC+ High\n",
       "30     HD65_CATCCACTCCACGAAT    39772      5474          3.728754  MUC5AC+ High\n",
       "⋮      ⋮                        ⋮          ⋮            ⋮          ⋮           \n",
       "114367 ILD60-2_ATCTGCCGTCATATGC 2817       1174         10.259141  SMCs        \n",
       "114368 ILD60-2_CAACCTCTCACCCGAG 1779       1038          5.171445  SMCs        \n",
       "114369 ILD60-2_CACAAACTCACCGTAA 2266       1213          6.796117  SMCs        \n",
       "114370 ILD60-2_CCTTCGACATGAAGTA 2452       1207          8.034258  SMCs        \n",
       "114371 ILD60-2_CGAGAAGAGGACTGGT 1862       1006         10.687433  SMCs        \n",
       "114372 ILD60-2_GCGGGTTCAGCTCCGA 2550       1224          9.882353  SMCs        \n",
       "114373 ILD60-2_TCACAAGTCATTATCC 1918       1093          7.768509  SMCs        \n",
       "114374 ILD61-2_AGACGTTTCTACTATC 5376       2287          5.636161  SMCs        \n",
       "114375 ILD61-2_AGCGGTCGTAGCCTAT 2205       1209          2.811791  SMCs        \n",
       "114376 ILD61-2_CACACTCCATGAACCT 2564       1063          2.418097  SMCs        \n",
       "114377 ILD61-2_CATCGGGCAATGGATA 5498       2227          8.384867  SMCs        \n",
       "114378 ILD61-2_CCGTACTGTCCCTTGT 2426       1213          3.050289  SMCs        \n",
       "114379 ILD61-2_CCTTCGAGTATATGGA 2877       1376          4.935697  SMCs        \n",
       "114380 ILD61-2_CTAGTGAAGATCCGAG 3374       1592          5.068168  SMCs        \n",
       "114381 ILD61-2_GGACGTCGTTACGCGC 2816       1302          4.190341  SMCs        \n",
       "114382 ILD61-2_GGGAGATTCCGCGGTA 3645       1449          5.733882  SMCs        \n",
       "114383 ILD61-2_GGTATTGAGTCTTGCA 4346       1745          4.716981  SMCs        \n",
       "114384 ILD61-2_GTACGTACATGCCACG 1687       1002          6.757558  SMCs        \n",
       "114385 ILD61-2_TCCACACAGCCACTAT 3616       1648          5.420354  SMCs        \n",
       "114386 ILD61-2_TGTGTTTCAAGTAGTA 2752       1488          4.905523  SMCs        \n",
       "114387 ILD62-1_AACTGGTAGAAACCAT 4901       2130          4.448072  SMCs        \n",
       "114388 ILD62-1_AGTAGTCGTGCAGGTA 2670       1205          5.730337  SMCs        \n",
       "114389 ILD62-1_CATTATCGTAGCAAAT 2359       1424          4.620602  SMCs        \n",
       "114390 ILD62-1_TCAGCTCGTAGAAAGG 6045       2364          2.762614  SMCs        \n",
       "114391 ILD62-1_TTAGTTCCAGCTCGAC 1680       1143          5.000000  SMCs        \n",
       "114392 ILD62-2_ACGAGGATCTGCCAGG 3296       1768          6.401699  SMCs        \n",
       "114393 ILD63_AACTCTTCAGACTCGC   3661       1756          7.183830  SMCs        \n",
       "114394 ILD63_CAGAATCTCCACGTTC   1951       1075          7.739621  SMCs        \n",
       "114395 ILD63_CTGAAACAGAAGGTGA   2978       1603          5.977166  SMCs        \n",
       "114396 ILD63_GGCCGATAGCTGTTCA   1777       1023          3.657850  SMCs        \n",
       "       cells           lineage condition    aetiology study     tissue\n",
       "1      Secretory cells Epi     fibrotic-ILD IPF       Habermann lung  \n",
       "2      Secretory cells Epi     fibrotic-ILD IPF       Habermann lung  \n",
       "3      Secretory cells Epi     fibrotic-ILD IPF       Habermann lung  \n",
       "4      Secretory cells Epi     fibrotic-ILD IPF       Habermann lung  \n",
       "5      Secretory cells Epi     fibrotic-ILD IPF       Habermann lung  \n",
       "6      Secretory cells Epi     fibrotic-ILD IPF       Habermann lung  \n",
       "7      Secretory cells Epi     fibrotic-ILD IPF       Habermann lung  \n",
       "8      Secretory cells Epi     fibrotic-ILD IPF       Habermann lung  \n",
       "9      Secretory cells Epi     fibrotic-ILD IPF       Habermann lung  \n",
       "10     Secretory cells Epi     fibrotic-ILD IPF       Habermann lung  \n",
       "11     Secretory cells Epi     fibrotic-ILD IPF       Habermann lung  \n",
       "12     Secretory cells Epi     fibrotic-ILD IPF       Habermann lung  \n",
       "13     Secretory cells Epi     fibrotic-ILD IPF       Habermann lung  \n",
       "14     Secretory cells Epi     fibrotic-ILD IPF       Habermann lung  \n",
       "15     Secretory cells Epi     fibrotic-ILD IPF       Habermann lung  \n",
       "16     Secretory cells Epi     fibrotic-ILD IPF       Habermann lung  \n",
       "17     Secretory cells Epi     fibrotic-ILD IPF       Habermann lung  \n",
       "18     Secretory cells Epi     fibrotic-ILD IPF       Habermann lung  \n",
       "19     Secretory cells Epi     fibrotic-ILD IPF       Habermann lung  \n",
       "20     Secretory cells Epi     fibrotic-ILD IPF       Habermann lung  \n",
       "21     Secretory cells Epi     fibrotic-ILD IPF       Habermann lung  \n",
       "22     Secretory cells Epi     fibrotic-ILD IPF       Habermann lung  \n",
       "23     Secretory cells Epi     fibrotic-ILD IPF       Habermann lung  \n",
       "24     Secretory cells Epi     fibrotic-ILD IPF       Habermann lung  \n",
       "25     Secretory cells Epi     fibrotic-ILD IPF       Habermann lung  \n",
       "26     Secretory cells Epi     fibrotic-ILD IPF       Habermann lung  \n",
       "27     Secretory cells Epi     control      control   Habermann lung  \n",
       "28     Secretory cells Epi     control      control   Habermann lung  \n",
       "29     Secretory cells Epi     control      control   Habermann lung  \n",
       "30     Secretory cells Epi     control      control   Habermann lung  \n",
       "⋮      ⋮               ⋮       ⋮            ⋮         ⋮         ⋮     \n",
       "114367 SMCs            Mesen   fibrotic-ILD IPF       Habermann lung  \n",
       "114368 SMCs            Mesen   fibrotic-ILD IPF       Habermann lung  \n",
       "114369 SMCs            Mesen   fibrotic-ILD IPF       Habermann lung  \n",
       "114370 SMCs            Mesen   fibrotic-ILD IPF       Habermann lung  \n",
       "114371 SMCs            Mesen   fibrotic-ILD IPF       Habermann lung  \n",
       "114372 SMCs            Mesen   fibrotic-ILD IPF       Habermann lung  \n",
       "114373 SMCs            Mesen   fibrotic-ILD IPF       Habermann lung  \n",
       "114374 SMCs            Mesen   fibrotic-ILD IPF       Habermann lung  \n",
       "114375 SMCs            Mesen   fibrotic-ILD IPF       Habermann lung  \n",
       "114376 SMCs            Mesen   fibrotic-ILD IPF       Habermann lung  \n",
       "114377 SMCs            Mesen   fibrotic-ILD IPF       Habermann lung  \n",
       "114378 SMCs            Mesen   fibrotic-ILD IPF       Habermann lung  \n",
       "114379 SMCs            Mesen   fibrotic-ILD IPF       Habermann lung  \n",
       "114380 SMCs            Mesen   fibrotic-ILD IPF       Habermann lung  \n",
       "114381 SMCs            Mesen   fibrotic-ILD IPF       Habermann lung  \n",
       "114382 SMCs            Mesen   fibrotic-ILD IPF       Habermann lung  \n",
       "114383 SMCs            Mesen   fibrotic-ILD IPF       Habermann lung  \n",
       "114384 SMCs            Mesen   fibrotic-ILD IPF       Habermann lung  \n",
       "114385 SMCs            Mesen   fibrotic-ILD IPF       Habermann lung  \n",
       "114386 SMCs            Mesen   fibrotic-ILD IPF       Habermann lung  \n",
       "114387 SMCs            Mesen   fibrotic-ILD NSIP      Habermann lung  \n",
       "114388 SMCs            Mesen   fibrotic-ILD NSIP      Habermann lung  \n",
       "114389 SMCs            Mesen   fibrotic-ILD NSIP      Habermann lung  \n",
       "114390 SMCs            Mesen   fibrotic-ILD NSIP      Habermann lung  \n",
       "114391 SMCs            Mesen   fibrotic-ILD NSIP      Habermann lung  \n",
       "114392 SMCs            Mesen   fibrotic-ILD NSIP      Habermann lung  \n",
       "114393 SMCs            Mesen   fibrotic-ILD IPF       Habermann lung  \n",
       "114394 SMCs            Mesen   fibrotic-ILD IPF       Habermann lung  \n",
       "114395 SMCs            Mesen   fibrotic-ILD IPF       Habermann lung  \n",
       "114396 SMCs            Mesen   fibrotic-ILD IPF       Habermann lung  \n",
       "       cells_or_nuclei primary_or_cultured smoking age sex patientID\n",
       "1      cells           primary             No      65  M   F00431   \n",
       "2      cells           primary             Yes     54  F   F01380   \n",
       "3      cells           primary             No      68  M   F01391   \n",
       "4      cells           primary             No      68  M   F01391   \n",
       "5      cells           primary             No      68  M   F01391   \n",
       "6      cells           primary             No      68  M   F01391   \n",
       "7      cells           primary             No      68  M   F01391   \n",
       "8      cells           primary             No      68  M   F01391   \n",
       "9      cells           primary             No      68  M   F01391   \n",
       "10     cells           primary             No      68  M   F01391   \n",
       "11     cells           primary             No      63  M   F01392   \n",
       "12     cells           primary             No      63  M   F01392   \n",
       "13     cells           primary             No      63  M   F01392   \n",
       "14     cells           primary             No      63  M   F01392   \n",
       "15     cells           primary             No      63  M   F01392   \n",
       "16     cells           primary             No      63  M   F01392   \n",
       "17     cells           primary             No      63  M   F01392   \n",
       "18     cells           primary             No      63  M   F01392   \n",
       "19     cells           primary             No      63  M   F01392   \n",
       "20     cells           primary             No      63  M   F01392   \n",
       "21     cells           primary             No      63  M   F01392   \n",
       "22     cells           primary             No      63  M   F01392   \n",
       "23     cells           primary             No      63  M   F01392   \n",
       "24     cells           primary             No      63  M   F01392   \n",
       "25     cells           primary             No      63  M   F01392   \n",
       "26     cells           primary             No      63  M   F01392   \n",
       "27     cells           primary             Yes     17  M   HD65     \n",
       "28     cells           primary             Yes     17  M   HD65     \n",
       "29     cells           primary             Yes     17  M   HD65     \n",
       "30     cells           primary             Yes     17  M   HD65     \n",
       "⋮      ⋮               ⋮                   ⋮       ⋮   ⋮   ⋮        \n",
       "114367 cells           primary             Yes     59  M   ILD60-2  \n",
       "114368 cells           primary             Yes     59  M   ILD60-2  \n",
       "114369 cells           primary             Yes     59  M   ILD60-2  \n",
       "114370 cells           primary             Yes     59  M   ILD60-2  \n",
       "114371 cells           primary             Yes     59  M   ILD60-2  \n",
       "114372 cells           primary             Yes     59  M   ILD60-2  \n",
       "114373 cells           primary             Yes     59  M   ILD60-2  \n",
       "114374 cells           primary             Yes     66  M   ILD61-2  \n",
       "114375 cells           primary             Yes     66  M   ILD61-2  \n",
       "114376 cells           primary             Yes     66  M   ILD61-2  \n",
       "114377 cells           primary             Yes     66  M   ILD61-2  \n",
       "114378 cells           primary             Yes     66  M   ILD61-2  \n",
       "114379 cells           primary             Yes     66  M   ILD61-2  \n",
       "114380 cells           primary             Yes     66  M   ILD61-2  \n",
       "114381 cells           primary             Yes     66  M   ILD61-2  \n",
       "114382 cells           primary             Yes     66  M   ILD61-2  \n",
       "114383 cells           primary             Yes     66  M   ILD61-2  \n",
       "114384 cells           primary             Yes     66  M   ILD61-2  \n",
       "114385 cells           primary             Yes     66  M   ILD61-2  \n",
       "114386 cells           primary             Yes     66  M   ILD61-2  \n",
       "114387 cells           primary             No      55  F   ILD62-1  \n",
       "114388 cells           primary             No      55  F   ILD62-1  \n",
       "114389 cells           primary             No      55  F   ILD62-1  \n",
       "114390 cells           primary             No      55  F   ILD62-1  \n",
       "114391 cells           primary             No      55  F   ILD62-1  \n",
       "114392 cells           primary             No      55  F   ILD62-2  \n",
       "114393 cells           primary             No      64  F   ILD63    \n",
       "114394 cells           primary             No      64  F   ILD63    \n",
       "114395 cells           primary             No      64  F   ILD63    \n",
       "114396 cells           primary             No      64  F   ILD63    "
      ]
     },
     "metadata": {},
     "output_type": "display_data"
    }
   ],
   "source": [
    "data_haber_metadata"
   ]
  },
  {
   "cell_type": "code",
   "execution_count": 32,
   "id": "e67db362-b4f9-4915-9c49-714787d4e899",
   "metadata": {
    "vscode": {
     "languageId": "r"
    }
   },
   "outputs": [],
   "source": [
    "#Export metadata as csv\n",
    "setwd(\"/dh-projects/ag-conrad/analysis/saal11/panfib/Metadata\")\n",
    "write.csv(data.frame(data_haber_metadata), file = \"data_haber_metadata_final.csv\")"
   ]
  },
  {
   "cell_type": "code",
   "execution_count": 33,
   "id": "5fe8089a-97e1-4d1b-97b9-08660d5646ac",
   "metadata": {
    "vscode": {
     "languageId": "r"
    }
   },
   "outputs": [
    {
     "name": "stderr",
     "output_type": "stream",
     "text": [
      "\u001b[1m\u001b[22mNew names:\n",
      "\u001b[36m•\u001b[39m `` -> `...1`\n",
      "\u001b[1mRows: \u001b[22m\u001b[34m40655\u001b[39m \u001b[1mColumns: \u001b[22m\u001b[34m17\u001b[39m\n",
      "\u001b[36m──\u001b[39m \u001b[1mColumn specification\u001b[22m \u001b[36m────────────────────────────────────────────────────────\u001b[39m\n",
      "\u001b[1mDelimiter:\u001b[22m \",\"\n",
      "\u001b[31mchr\u001b[39m (12): ...1, orig.ident, condition, cells, subclass, lineage, study, tiss...\n",
      "\u001b[32mdbl\u001b[39m  (4): nCount_RNA, nFeature_RNA, percent.mt, age\n",
      "\u001b[33mlgl\u001b[39m  (1): smoking\n",
      "\n",
      "\u001b[36mℹ\u001b[39m Use `spec()` to retrieve the full column specification for this data.\n",
      "\u001b[36mℹ\u001b[39m Specify the column types or set `show_col_types = FALSE` to quiet this message.\n"
     ]
    }
   ],
   "source": [
    "#--Harmonising data, Deng--#\n",
    "setwd(\"/dh-projects/ag-conrad/analysis/saal11/panfib/Renaming/Deng\")\n",
    "data_deng_metadata <- read_csv(\"data_deng_metadata.csv\")"
   ]
  },
  {
   "cell_type": "code",
   "execution_count": 40,
   "id": "c1408791-ad47-4df1-8fd9-6c1b3360af71",
   "metadata": {
    "vscode": {
     "languageId": "r"
    }
   },
   "outputs": [
    {
     "data": {
      "text/html": [
       "<style>\n",
       ".list-inline {list-style: none; margin:0; padding: 0}\n",
       ".list-inline>li {display: inline-block}\n",
       ".list-inline>li:not(:last-child)::after {content: \"\\00b7\"; padding: 0 .5ex}\n",
       "</style>\n",
       "<ol class=list-inline><li>'control'</li><li>'keloid'</li></ol>\n"
      ],
      "text/latex": [
       "\\begin{enumerate*}\n",
       "\\item 'control'\n",
       "\\item 'keloid'\n",
       "\\end{enumerate*}\n"
      ],
      "text/markdown": [
       "1. 'control'\n",
       "2. 'keloid'\n",
       "\n",
       "\n"
      ],
      "text/plain": [
       "[1] \"control\" \"keloid\" "
      ]
     },
     "metadata": {},
     "output_type": "display_data"
    }
   ],
   "source": [
    "unique(data_deng_metadata$aetiology)"
   ]
  },
  {
   "cell_type": "code",
   "execution_count": 39,
   "id": "fb942149-5120-4645-bbc2-709dc835704f",
   "metadata": {
    "vscode": {
     "languageId": "r"
    }
   },
   "outputs": [],
   "source": [
    "data_deng_metadata$aetiology <- ifelse(data_deng_metadata$aetiology == \"fibrotic-kel\", \"keloid\", data_deng_metadata$aetiology)"
   ]
  },
  {
   "cell_type": "code",
   "execution_count": 41,
   "id": "9fca0046-f740-44ee-ab58-518d0f3674ba",
   "metadata": {
    "vscode": {
     "languageId": "r"
    }
   },
   "outputs": [
    {
     "data": {
      "text/html": [
       "<style>\n",
       ".list-inline {list-style: none; margin:0; padding: 0}\n",
       ".list-inline>li {display: inline-block}\n",
       ".list-inline>li:not(:last-child)::after {content: \"\\00b7\"; padding: 0 .5ex}\n",
       "</style>\n",
       "<ol class=list-inline><li>'NF1'</li><li>'NF2'</li><li>'NF3'</li><li>'KF1'</li><li>'KF2'</li><li>'KF3'</li></ol>\n"
      ],
      "text/latex": [
       "\\begin{enumerate*}\n",
       "\\item 'NF1'\n",
       "\\item 'NF2'\n",
       "\\item 'NF3'\n",
       "\\item 'KF1'\n",
       "\\item 'KF2'\n",
       "\\item 'KF3'\n",
       "\\end{enumerate*}\n"
      ],
      "text/markdown": [
       "1. 'NF1'\n",
       "2. 'NF2'\n",
       "3. 'NF3'\n",
       "4. 'KF1'\n",
       "5. 'KF2'\n",
       "6. 'KF3'\n",
       "\n",
       "\n"
      ],
      "text/plain": [
       "[1] \"NF1\" \"NF2\" \"NF3\" \"KF1\" \"KF2\" \"KF3\""
      ]
     },
     "metadata": {},
     "output_type": "display_data"
    }
   ],
   "source": [
    "unique(data_deng_metadata$orig.ident)"
   ]
  },
  {
   "cell_type": "code",
   "execution_count": 42,
   "id": "1c8f0c54-e4f5-4bd8-8be9-14d8fe4ac9d4",
   "metadata": {
    "vscode": {
     "languageId": "r"
    }
   },
   "outputs": [],
   "source": [
    "data_deng_metadata$patientID <- data_deng_metadata$orig.ident"
   ]
  },
  {
   "cell_type": "code",
   "execution_count": 43,
   "id": "bb4fa640-7d5e-4394-886c-abc80820dcc9",
   "metadata": {
    "vscode": {
     "languageId": "r"
    }
   },
   "outputs": [],
   "source": [
    "data_deng_metadata$orig.ident <- NULL"
   ]
  },
  {
   "cell_type": "code",
   "execution_count": 56,
   "id": "4fdd16e5-2468-47ba-8cd2-f5a754005cdd",
   "metadata": {
    "vscode": {
     "languageId": "r"
    }
   },
   "outputs": [
    {
     "data": {
      "text/html": [
       "<style>\n",
       ".list-inline {list-style: none; margin:0; padding: 0}\n",
       ".list-inline>li {display: inline-block}\n",
       ".list-inline>li:not(:last-child)::after {content: \"\\00b7\"; padding: 0 .5ex}\n",
       "</style>\n",
       "<ol class=list-inline><li>'Lymph. endo. cells'</li><li>'Endothelial cells'</li><li>'Fibroblasts'</li><li>'Sweat gland cells'</li><li>'SMCs'</li><li>'Immune cells'</li><li>'Keratinocytes'</li><li>'Melanocytes'</li><li>'Unknown cells'</li><li>'Neural cells'</li></ol>\n"
      ],
      "text/latex": [
       "\\begin{enumerate*}\n",
       "\\item 'Lymph. endo. cells'\n",
       "\\item 'Endothelial cells'\n",
       "\\item 'Fibroblasts'\n",
       "\\item 'Sweat gland cells'\n",
       "\\item 'SMCs'\n",
       "\\item 'Immune cells'\n",
       "\\item 'Keratinocytes'\n",
       "\\item 'Melanocytes'\n",
       "\\item 'Unknown cells'\n",
       "\\item 'Neural cells'\n",
       "\\end{enumerate*}\n"
      ],
      "text/markdown": [
       "1. 'Lymph. endo. cells'\n",
       "2. 'Endothelial cells'\n",
       "3. 'Fibroblasts'\n",
       "4. 'Sweat gland cells'\n",
       "5. 'SMCs'\n",
       "6. 'Immune cells'\n",
       "7. 'Keratinocytes'\n",
       "8. 'Melanocytes'\n",
       "9. 'Unknown cells'\n",
       "10. 'Neural cells'\n",
       "\n",
       "\n"
      ],
      "text/plain": [
       " [1] \"Lymph. endo. cells\" \"Endothelial cells\"  \"Fibroblasts\"       \n",
       " [4] \"Sweat gland cells\"  \"SMCs\"               \"Immune cells\"      \n",
       " [7] \"Keratinocytes\"      \"Melanocytes\"        \"Unknown cells\"     \n",
       "[10] \"Neural cells\"      "
      ]
     },
     "metadata": {},
     "output_type": "display_data"
    }
   ],
   "source": [
    "unique(data_deng_metadata$cells)"
   ]
  },
  {
   "cell_type": "code",
   "execution_count": 55,
   "id": "02f8a958-050e-406c-a94e-1441ca3161c3",
   "metadata": {
    "vscode": {
     "languageId": "r"
    }
   },
   "outputs": [],
   "source": [
    "data_deng_metadata$cells <- ifelse(data_deng_metadata$cells == \"Unknown\", \"Unknown cells\", data_deng_metadata$cells)"
   ]
  },
  {
   "cell_type": "code",
   "execution_count": 69,
   "id": "e2b0c93a-a5ee-4511-a54e-8133aab7d26d",
   "metadata": {
    "vscode": {
     "languageId": "r"
    }
   },
   "outputs": [
    {
     "data": {
      "text/html": [
       "<style>\n",
       ".list-inline {list-style: none; margin:0; padding: 0}\n",
       ".list-inline>li {display: inline-block}\n",
       ".list-inline>li:not(:last-child)::after {content: \"\\00b7\"; padding: 0 .5ex}\n",
       "</style>\n",
       "<ol class=list-inline><li>'NF1'</li><li>'NF2'</li><li>'NF3'</li><li>'KF1'</li><li>'KF2'</li><li>'KF3'</li></ol>\n"
      ],
      "text/latex": [
       "\\begin{enumerate*}\n",
       "\\item 'NF1'\n",
       "\\item 'NF2'\n",
       "\\item 'NF3'\n",
       "\\item 'KF1'\n",
       "\\item 'KF2'\n",
       "\\item 'KF3'\n",
       "\\end{enumerate*}\n"
      ],
      "text/markdown": [
       "1. 'NF1'\n",
       "2. 'NF2'\n",
       "3. 'NF3'\n",
       "4. 'KF1'\n",
       "5. 'KF2'\n",
       "6. 'KF3'\n",
       "\n",
       "\n"
      ],
      "text/plain": [
       "[1] \"NF1\" \"NF2\" \"NF3\" \"KF1\" \"KF2\" \"KF3\""
      ]
     },
     "metadata": {},
     "output_type": "display_data"
    }
   ],
   "source": [
    "unique(data_deng_metadata$patientID)"
   ]
  },
  {
   "cell_type": "code",
   "execution_count": null,
   "id": "9685455d-e48c-46d5-b241-911b936b2d5d",
   "metadata": {
    "vscode": {
     "languageId": "r"
    }
   },
   "outputs": [],
   "source": [
    "data_deng_metadata"
   ]
  },
  {
   "cell_type": "code",
   "execution_count": 58,
   "id": "7c1da194-e045-4deb-b6d2-87bcf69dd9e5",
   "metadata": {
    "vscode": {
     "languageId": "r"
    }
   },
   "outputs": [],
   "source": [
    "#Export metadata as csv\n",
    "setwd(\"/dh-projects/ag-conrad/analysis/saal11/panfib/Metadata\")\n",
    "write.csv(data.frame(data_deng_metadata), file = \"data_deng_metadata_final.csv\")"
   ]
  },
  {
   "cell_type": "code",
   "execution_count": 70,
   "id": "1a507db4-f2b4-49cd-9764-7a19c37395e7",
   "metadata": {
    "vscode": {
     "languageId": "r"
    }
   },
   "outputs": [
    {
     "name": "stderr",
     "output_type": "stream",
     "text": [
      "\u001b[1m\u001b[22mNew names:\n",
      "\u001b[36m•\u001b[39m `` -> `...1`\n",
      "\u001b[1mRows: \u001b[22m\u001b[34m119919\u001b[39m \u001b[1mColumns: \u001b[22m\u001b[34m13\u001b[39m\n",
      "\u001b[36m──\u001b[39m \u001b[1mColumn specification\u001b[22m \u001b[36m────────────────────────────────────────────────────────\u001b[39m\n",
      "\u001b[1mDelimiter:\u001b[22m \",\"\n",
      "\u001b[31mchr\u001b[39m (10): ...1, fileID, subclass, cells, lineage, study, tissue, dataset, pa...\n",
      "\u001b[32mdbl\u001b[39m  (2): nCount_RNA, nFeature_RNA\n",
      "\u001b[33mlgl\u001b[39m  (1): is_cell_control\n",
      "\n",
      "\u001b[36mℹ\u001b[39m Use `spec()` to retrieve the full column specification for this data.\n",
      "\u001b[36mℹ\u001b[39m Specify the column types or set `show_col_types = FALSE` to quiet this message.\n"
     ]
    }
   ],
   "source": [
    "#--Harmonising data, Kuppe--#\n",
    "setwd(\"/dh-projects/ag-conrad/analysis/saal11/panfib/Renaming/Kuppe\")\n",
    "data_kuppe_metadata <- read_csv(\"data_kuppe_metadata.csv\")"
   ]
  },
  {
   "cell_type": "code",
   "execution_count": 72,
   "id": "459d33da-cd31-4a82-b98e-98c6cec0b768",
   "metadata": {
    "vscode": {
     "languageId": "r"
    }
   },
   "outputs": [
    {
     "data": {
      "text/plain": [
       "\n",
       " FALSE \n",
       "119919 "
      ]
     },
     "metadata": {},
     "output_type": "display_data"
    },
    {
     "data": {
      "text/plain": [
       "\n",
       "     control fibrotic-ckd \n",
       "       76690        43229 "
      ]
     },
     "metadata": {},
     "output_type": "display_data"
    }
   ],
   "source": [
    "table(data_kuppe_metadata$is_cell_control)\n",
    "table(data_kuppe_metadata$condition)"
   ]
  },
  {
   "cell_type": "code",
   "execution_count": 73,
   "id": "cc0815cd-b231-4ace-a09e-7ba6c97eb345",
   "metadata": {
    "vscode": {
     "languageId": "r"
    }
   },
   "outputs": [],
   "source": [
    "data_kuppe_metadata$is_cell_control <- NULL"
   ]
  },
  {
   "cell_type": "code",
   "execution_count": 83,
   "id": "b6d21001-8e7b-446f-9aa8-f45e52e1032d",
   "metadata": {
    "vscode": {
     "languageId": "r"
    }
   },
   "outputs": [
    {
     "data": {
      "text/html": [
       "'Kuppe'"
      ],
      "text/latex": [
       "'Kuppe'"
      ],
      "text/markdown": [
       "'Kuppe'"
      ],
      "text/plain": [
       "[1] \"Kuppe\""
      ]
     },
     "metadata": {},
     "output_type": "display_data"
    }
   ],
   "source": [
    "unique(data_kuppe_metadata$study)"
   ]
  },
  {
   "cell_type": "code",
   "execution_count": 84,
   "id": "1a1d9758-7a47-47f1-96f2-b0296413bb85",
   "metadata": {
    "vscode": {
     "languageId": "r"
    }
   },
   "outputs": [],
   "source": [
    "data_kuppe_metadata$study <- \"Kuppe\""
   ]
  },
  {
   "cell_type": "code",
   "execution_count": 85,
   "id": "d7972578-4848-405d-8bd7-514d71320033",
   "metadata": {
    "vscode": {
     "languageId": "r"
    }
   },
   "outputs": [],
   "source": [
    "data_kuppe_metadata$tissue <- \"kidney\""
   ]
  },
  {
   "cell_type": "code",
   "execution_count": 86,
   "id": "135d5f73-c994-4dac-8c3b-9bb1d3c88e66",
   "metadata": {
    "vscode": {
     "languageId": "r"
    }
   },
   "outputs": [
    {
     "data": {
      "text/html": [
       "'kidney'"
      ],
      "text/latex": [
       "'kidney'"
      ],
      "text/markdown": [
       "'kidney'"
      ],
      "text/plain": [
       "[1] \"kidney\""
      ]
     },
     "metadata": {},
     "output_type": "display_data"
    }
   ],
   "source": [
    "unique(data_kuppe_metadata$)"
   ]
  },
  {
   "cell_type": "code",
   "execution_count": 88,
   "id": "9ae859ba-be7b-45c1-a2ec-f2901c2b96fc",
   "metadata": {
    "vscode": {
     "languageId": "r"
    }
   },
   "outputs": [],
   "source": [
    "data_kuppe_metadata$smoking <- \"NA\""
   ]
  },
  {
   "cell_type": "code",
   "execution_count": 89,
   "id": "c1e56b6d-529e-4dbc-b268-57c9a97157d6",
   "metadata": {
    "vscode": {
     "languageId": "r"
    }
   },
   "outputs": [],
   "source": [
    "data_kuppe_metadata$primar_or_cultured <- \"primary\""
   ]
  },
  {
   "cell_type": "code",
   "execution_count": 90,
   "id": "fc6ebc6b-93a4-40d5-94a2-ab71d1943d4b",
   "metadata": {
    "vscode": {
     "languageId": "r"
    }
   },
   "outputs": [],
   "source": [
    "data_kuppe_metadata$cells_or_nuclei <- \"cells\""
   ]
  },
  {
   "cell_type": "code",
   "execution_count": 94,
   "id": "6f3c57c3-001a-4679-a831-d237f70f2b61",
   "metadata": {
    "vscode": {
     "languageId": "r"
    }
   },
   "outputs": [
    {
     "data": {
      "text/html": [
       "<style>\n",
       ".list-inline {list-style: none; margin:0; padding: 0}\n",
       ".list-inline>li {display: inline-block}\n",
       ".list-inline>li:not(:last-child)::after {content: \"\\00b7\"; padding: 0 .5ex}\n",
       "</style>\n",
       "<ol class=list-inline><li>'Glomerular capillaries 1'</li><li>'Un. endothelial 2'</li><li>'Glomerular capillaries 2'</li><li>'Arterioles 1'</li><li>'Inj. endothelial cells'</li><li>'Un. endothelial 3'</li><li>'Arterioles 2'</li><li>'Un. endothelial 1'</li><li>'TAL'</li><li>'Inj. PT'</li><li>'PCs'</li><li>'Un. epithelial 2'</li><li>'PT'</li><li>'Un. epithelial 4'</li><li>'Un. epithelial 5'</li><li>'Un. epithelial 6'</li><li>'Un. epithelial 1'</li><li>'Un. epithelial 3'</li><li>'Fibroblasts 3'</li><li>'Un. mesenchymal'</li><li>'Pericytes'</li><li>'Vascular SMCs'</li><li>'Myofibroblasts 2b'</li><li>'Myofibroblasts 1'</li><li>'Myofibroblasts 3a'</li><li>'Fibroblasts 2a'</li><li>'Fibroblasts 2b'</li><li>'Myofibroblasts 2a'</li><li>'Mesangial cells'</li><li>'Fibroblasts 1'</li><li>'Myofibroblasts 3b'</li><li>'Un. immune 6'</li><li>'DCs'</li><li>'Monocytes'</li><li>'Un. immune 2'</li><li>'Un. immune 3'</li><li>'Un. immune 7'</li><li>'Un. immune 5'</li><li>'Un. immune 4'</li><li>'Un. immune 1'</li><li>'Vasa recta 6'</li><li>'Glomerular capillaries'</li><li>'Arteriolar endothelial cells'</li><li>'Venular endothelial cells'</li><li>'Vasa recta 2'</li><li>'Vasa recta 1'</li><li>'Vasa recta 4'</li><li>'Vasa recta 3'</li><li>'Lymph. endo. cells'</li><li>'Vasa recta 5'</li><li>'DCT'</li><li>'TAL 1'</li><li>'CDP cells'</li><li>'TAL 2'</li><li>'DTL'</li><li>'ICA'</li><li>'TAL 3'</li><li>'CT'</li><li>'Uroethlial cells'</li><li>'TAL 4'</li><li>'ICB'</li><li>'Un. mesenchymal 3'</li><li>'Pericytes 2'</li><li>'Myofibroblasts 1a'</li><li>'Pericytes 1'</li><li>'Un. mesenchymal 1'</li><li>'Un. mesenchymal 2'</li><li>'Un. mesenchymal 4'</li><li>'Podocytes'</li><li>'Fibroblasts 2'</li><li>'Schwann cells'</li><li>'Myofibroblast 1b'</li><li>'Plasma cells'</li><li>'MPs 1'</li><li>'Mast cells'</li><li>'MPs 2'</li><li>'MPs 3'</li><li>'T cells'</li><li>'B cells'</li><li>'Un. immune'</li><li>'NK cells'</li><li>'IC3'</li><li>'IC5'</li><li>'IC8'</li><li>'IC6'</li><li>'IC7'</li><li>'IC4'</li><li>'PT4'</li><li>'PT1'</li><li>'PT6'</li><li>'PT7'</li><li>'PT3'</li><li>'PT5'</li><li>'PT2'</li><li>'PT8'</li></ol>\n"
      ],
      "text/latex": [
       "\\begin{enumerate*}\n",
       "\\item 'Glomerular capillaries 1'\n",
       "\\item 'Un. endothelial 2'\n",
       "\\item 'Glomerular capillaries 2'\n",
       "\\item 'Arterioles 1'\n",
       "\\item 'Inj. endothelial cells'\n",
       "\\item 'Un. endothelial 3'\n",
       "\\item 'Arterioles 2'\n",
       "\\item 'Un. endothelial 1'\n",
       "\\item 'TAL'\n",
       "\\item 'Inj. PT'\n",
       "\\item 'PCs'\n",
       "\\item 'Un. epithelial 2'\n",
       "\\item 'PT'\n",
       "\\item 'Un. epithelial 4'\n",
       "\\item 'Un. epithelial 5'\n",
       "\\item 'Un. epithelial 6'\n",
       "\\item 'Un. epithelial 1'\n",
       "\\item 'Un. epithelial 3'\n",
       "\\item 'Fibroblasts 3'\n",
       "\\item 'Un. mesenchymal'\n",
       "\\item 'Pericytes'\n",
       "\\item 'Vascular SMCs'\n",
       "\\item 'Myofibroblasts 2b'\n",
       "\\item 'Myofibroblasts 1'\n",
       "\\item 'Myofibroblasts 3a'\n",
       "\\item 'Fibroblasts 2a'\n",
       "\\item 'Fibroblasts 2b'\n",
       "\\item 'Myofibroblasts 2a'\n",
       "\\item 'Mesangial cells'\n",
       "\\item 'Fibroblasts 1'\n",
       "\\item 'Myofibroblasts 3b'\n",
       "\\item 'Un. immune 6'\n",
       "\\item 'DCs'\n",
       "\\item 'Monocytes'\n",
       "\\item 'Un. immune 2'\n",
       "\\item 'Un. immune 3'\n",
       "\\item 'Un. immune 7'\n",
       "\\item 'Un. immune 5'\n",
       "\\item 'Un. immune 4'\n",
       "\\item 'Un. immune 1'\n",
       "\\item 'Vasa recta 6'\n",
       "\\item 'Glomerular capillaries'\n",
       "\\item 'Arteriolar endothelial cells'\n",
       "\\item 'Venular endothelial cells'\n",
       "\\item 'Vasa recta 2'\n",
       "\\item 'Vasa recta 1'\n",
       "\\item 'Vasa recta 4'\n",
       "\\item 'Vasa recta 3'\n",
       "\\item 'Lymph. endo. cells'\n",
       "\\item 'Vasa recta 5'\n",
       "\\item 'DCT'\n",
       "\\item 'TAL 1'\n",
       "\\item 'CDP cells'\n",
       "\\item 'TAL 2'\n",
       "\\item 'DTL'\n",
       "\\item 'ICA'\n",
       "\\item 'TAL 3'\n",
       "\\item 'CT'\n",
       "\\item 'Uroethlial cells'\n",
       "\\item 'TAL 4'\n",
       "\\item 'ICB'\n",
       "\\item 'Un. mesenchymal 3'\n",
       "\\item 'Pericytes 2'\n",
       "\\item 'Myofibroblasts 1a'\n",
       "\\item 'Pericytes 1'\n",
       "\\item 'Un. mesenchymal 1'\n",
       "\\item 'Un. mesenchymal 2'\n",
       "\\item 'Un. mesenchymal 4'\n",
       "\\item 'Podocytes'\n",
       "\\item 'Fibroblasts 2'\n",
       "\\item 'Schwann cells'\n",
       "\\item 'Myofibroblast 1b'\n",
       "\\item 'Plasma cells'\n",
       "\\item 'MPs 1'\n",
       "\\item 'Mast cells'\n",
       "\\item 'MPs 2'\n",
       "\\item 'MPs 3'\n",
       "\\item 'T cells'\n",
       "\\item 'B cells'\n",
       "\\item 'Un. immune'\n",
       "\\item 'NK cells'\n",
       "\\item 'IC3'\n",
       "\\item 'IC5'\n",
       "\\item 'IC8'\n",
       "\\item 'IC6'\n",
       "\\item 'IC7'\n",
       "\\item 'IC4'\n",
       "\\item 'PT4'\n",
       "\\item 'PT1'\n",
       "\\item 'PT6'\n",
       "\\item 'PT7'\n",
       "\\item 'PT3'\n",
       "\\item 'PT5'\n",
       "\\item 'PT2'\n",
       "\\item 'PT8'\n",
       "\\end{enumerate*}\n"
      ],
      "text/markdown": [
       "1. 'Glomerular capillaries 1'\n",
       "2. 'Un. endothelial 2'\n",
       "3. 'Glomerular capillaries 2'\n",
       "4. 'Arterioles 1'\n",
       "5. 'Inj. endothelial cells'\n",
       "6. 'Un. endothelial 3'\n",
       "7. 'Arterioles 2'\n",
       "8. 'Un. endothelial 1'\n",
       "9. 'TAL'\n",
       "10. 'Inj. PT'\n",
       "11. 'PCs'\n",
       "12. 'Un. epithelial 2'\n",
       "13. 'PT'\n",
       "14. 'Un. epithelial 4'\n",
       "15. 'Un. epithelial 5'\n",
       "16. 'Un. epithelial 6'\n",
       "17. 'Un. epithelial 1'\n",
       "18. 'Un. epithelial 3'\n",
       "19. 'Fibroblasts 3'\n",
       "20. 'Un. mesenchymal'\n",
       "21. 'Pericytes'\n",
       "22. 'Vascular SMCs'\n",
       "23. 'Myofibroblasts 2b'\n",
       "24. 'Myofibroblasts 1'\n",
       "25. 'Myofibroblasts 3a'\n",
       "26. 'Fibroblasts 2a'\n",
       "27. 'Fibroblasts 2b'\n",
       "28. 'Myofibroblasts 2a'\n",
       "29. 'Mesangial cells'\n",
       "30. 'Fibroblasts 1'\n",
       "31. 'Myofibroblasts 3b'\n",
       "32. 'Un. immune 6'\n",
       "33. 'DCs'\n",
       "34. 'Monocytes'\n",
       "35. 'Un. immune 2'\n",
       "36. 'Un. immune 3'\n",
       "37. 'Un. immune 7'\n",
       "38. 'Un. immune 5'\n",
       "39. 'Un. immune 4'\n",
       "40. 'Un. immune 1'\n",
       "41. 'Vasa recta 6'\n",
       "42. 'Glomerular capillaries'\n",
       "43. 'Arteriolar endothelial cells'\n",
       "44. 'Venular endothelial cells'\n",
       "45. 'Vasa recta 2'\n",
       "46. 'Vasa recta 1'\n",
       "47. 'Vasa recta 4'\n",
       "48. 'Vasa recta 3'\n",
       "49. 'Lymph. endo. cells'\n",
       "50. 'Vasa recta 5'\n",
       "51. 'DCT'\n",
       "52. 'TAL 1'\n",
       "53. 'CDP cells'\n",
       "54. 'TAL 2'\n",
       "55. 'DTL'\n",
       "56. 'ICA'\n",
       "57. 'TAL 3'\n",
       "58. 'CT'\n",
       "59. 'Uroethlial cells'\n",
       "60. 'TAL 4'\n",
       "61. 'ICB'\n",
       "62. 'Un. mesenchymal 3'\n",
       "63. 'Pericytes 2'\n",
       "64. 'Myofibroblasts 1a'\n",
       "65. 'Pericytes 1'\n",
       "66. 'Un. mesenchymal 1'\n",
       "67. 'Un. mesenchymal 2'\n",
       "68. 'Un. mesenchymal 4'\n",
       "69. 'Podocytes'\n",
       "70. 'Fibroblasts 2'\n",
       "71. 'Schwann cells'\n",
       "72. 'Myofibroblast 1b'\n",
       "73. 'Plasma cells'\n",
       "74. 'MPs 1'\n",
       "75. 'Mast cells'\n",
       "76. 'MPs 2'\n",
       "77. 'MPs 3'\n",
       "78. 'T cells'\n",
       "79. 'B cells'\n",
       "80. 'Un. immune'\n",
       "81. 'NK cells'\n",
       "82. 'IC3'\n",
       "83. 'IC5'\n",
       "84. 'IC8'\n",
       "85. 'IC6'\n",
       "86. 'IC7'\n",
       "87. 'IC4'\n",
       "88. 'PT4'\n",
       "89. 'PT1'\n",
       "90. 'PT6'\n",
       "91. 'PT7'\n",
       "92. 'PT3'\n",
       "93. 'PT5'\n",
       "94. 'PT2'\n",
       "95. 'PT8'\n",
       "\n",
       "\n"
      ],
      "text/plain": [
       " [1] \"Glomerular capillaries 1\"     \"Un. endothelial 2\"           \n",
       " [3] \"Glomerular capillaries 2\"     \"Arterioles 1\"                \n",
       " [5] \"Inj. endothelial cells\"       \"Un. endothelial 3\"           \n",
       " [7] \"Arterioles 2\"                 \"Un. endothelial 1\"           \n",
       " [9] \"TAL\"                          \"Inj. PT\"                     \n",
       "[11] \"PCs\"                          \"Un. epithelial 2\"            \n",
       "[13] \"PT\"                           \"Un. epithelial 4\"            \n",
       "[15] \"Un. epithelial 5\"             \"Un. epithelial 6\"            \n",
       "[17] \"Un. epithelial 1\"             \"Un. epithelial 3\"            \n",
       "[19] \"Fibroblasts 3\"                \"Un. mesenchymal\"             \n",
       "[21] \"Pericytes\"                    \"Vascular SMCs\"               \n",
       "[23] \"Myofibroblasts 2b\"            \"Myofibroblasts 1\"            \n",
       "[25] \"Myofibroblasts 3a\"            \"Fibroblasts 2a\"              \n",
       "[27] \"Fibroblasts 2b\"               \"Myofibroblasts 2a\"           \n",
       "[29] \"Mesangial cells\"              \"Fibroblasts 1\"               \n",
       "[31] \"Myofibroblasts 3b\"            \"Un. immune 6\"                \n",
       "[33] \"DCs\"                          \"Monocytes\"                   \n",
       "[35] \"Un. immune 2\"                 \"Un. immune 3\"                \n",
       "[37] \"Un. immune 7\"                 \"Un. immune 5\"                \n",
       "[39] \"Un. immune 4\"                 \"Un. immune 1\"                \n",
       "[41] \"Vasa recta 6\"                 \"Glomerular capillaries\"      \n",
       "[43] \"Arteriolar endothelial cells\" \"Venular endothelial cells\"   \n",
       "[45] \"Vasa recta 2\"                 \"Vasa recta 1\"                \n",
       "[47] \"Vasa recta 4\"                 \"Vasa recta 3\"                \n",
       "[49] \"Lymph. endo. cells\"           \"Vasa recta 5\"                \n",
       "[51] \"DCT\"                          \"TAL 1\"                       \n",
       "[53] \"CDP cells\"                    \"TAL 2\"                       \n",
       "[55] \"DTL\"                          \"ICA\"                         \n",
       "[57] \"TAL 3\"                        \"CT\"                          \n",
       "[59] \"Uroethlial cells\"             \"TAL 4\"                       \n",
       "[61] \"ICB\"                          \"Un. mesenchymal 3\"           \n",
       "[63] \"Pericytes 2\"                  \"Myofibroblasts 1a\"           \n",
       "[65] \"Pericytes 1\"                  \"Un. mesenchymal 1\"           \n",
       "[67] \"Un. mesenchymal 2\"            \"Un. mesenchymal 4\"           \n",
       "[69] \"Podocytes\"                    \"Fibroblasts 2\"               \n",
       "[71] \"Schwann cells\"                \"Myofibroblast 1b\"            \n",
       "[73] \"Plasma cells\"                 \"MPs 1\"                       \n",
       "[75] \"Mast cells\"                   \"MPs 2\"                       \n",
       "[77] \"MPs 3\"                        \"T cells\"                     \n",
       "[79] \"B cells\"                      \"Un. immune\"                  \n",
       "[81] \"NK cells\"                     \"IC3\"                         \n",
       "[83] \"IC5\"                          \"IC8\"                         \n",
       "[85] \"IC6\"                          \"IC7\"                         \n",
       "[87] \"IC4\"                          \"PT4\"                         \n",
       "[89] \"PT1\"                          \"PT6\"                         \n",
       "[91] \"PT7\"                          \"PT3\"                         \n",
       "[93] \"PT5\"                          \"PT2\"                         \n",
       "[95] \"PT8\"                         "
      ]
     },
     "metadata": {},
     "output_type": "display_data"
    }
   ],
   "source": [
    "unique(data_kuppe_metadata$subclass)"
   ]
  },
  {
   "cell_type": "code",
   "execution_count": 109,
   "id": "934752da-0106-4596-a1a3-82f1d8969dcb",
   "metadata": {
    "vscode": {
     "languageId": "r"
    }
   },
   "outputs": [
    {
     "data": {
      "text/plain": [
       "\n",
       "               B cells              CDP cells                     CT \n",
       "                  3101                    693                    662 \n",
       "                   DCs                    DCT                    DTL \n",
       "                   529                   1342                    806 \n",
       "     Endothelial cells            Fibroblasts            Glial cells \n",
       "                 28987                   7418                     24 \n",
       "Inj. endothelial cells                Inj. PT     Intercalated cells \n",
       "                  2872                   1069                   1395 \n",
       "    Lymph. endo. cells            Macrophages             Mast cells \n",
       "                   509                   4982                    142 \n",
       "       Mesangial cells              Monocytes         Myofibroblasts \n",
       "                  1003                    973                  13961 \n",
       "              NK cells                    PCs              Pericytes \n",
       "                   740                     41                   4432 \n",
       "          Plasma cells              Podocytes                     PT \n",
       "                   167                     44                  32855 \n",
       "               T cells                    TAL         Un. epithelial \n",
       "                   484                   2440                    497 \n",
       "            Un. immune        Un. mesenchymal       Uroethlial cells \n",
       "                  5361                   1219                    246 \n",
       "         Vascular SMCs \n",
       "                   925 "
      ]
     },
     "metadata": {},
     "output_type": "display_data"
    }
   ],
   "source": [
    "table(data_kuppe_metadata$cells)"
   ]
  },
  {
   "cell_type": "code",
   "execution_count": 100,
   "id": "e46057b6-6e9a-4b01-b794-71d595f5da7f",
   "metadata": {
    "vscode": {
     "languageId": "r"
    }
   },
   "outputs": [],
   "source": [
    "data_kuppe_metadata$cells <- ifelse(data_kuppe_metadata$cells %in% c(\"Glomerular capillaries\",\t\"Un. endothelial\",\t\"Arterioles\",\n",
    "                                                                     \"Vasa recta\",\t\"Arteriolar endothelial cells\",\n",
    "                                                                     \"Venular endothelial cells\"), \"Endothelial cells\",\n",
    "ifelse(data_kuppe_metadata$cells == \"MPs\", \"Macrophages\",\n",
    "ifelse(data_kuppe_metadata$cells == \"Schwann cells\", \"Glial cells\",\n",
    "ifelse(data_kuppe_metadata$cells == \"Lymph. endo. Cells\", \"Lymph. endo. cells\",  data_kuppe_metadata$cells))))"
   ]
  },
  {
   "cell_type": "code",
   "execution_count": 111,
   "id": "026945cc-663b-4271-9902-24b4fb8b1af9",
   "metadata": {
    "vscode": {
     "languageId": "r"
    }
   },
   "outputs": [
    {
     "data": {
      "text/plain": [
       "\n",
       "  Epi   Imm Mesen   Neu \n",
       "43093 16479 60323    24 "
      ]
     },
     "metadata": {},
     "output_type": "display_data"
    }
   ],
   "source": [
    "table(data_kuppe_metadata$lineage)"
   ]
  },
  {
   "cell_type": "code",
   "execution_count": 110,
   "id": "c5587a18-74fe-4f11-8df3-416e2910020a",
   "metadata": {
    "vscode": {
     "languageId": "r"
    }
   },
   "outputs": [],
   "source": [
    "data_kuppe_metadata$lineage <- ifelse(data_kuppe_metadata$cells %in% c(\"Endothelial cells\", \"Inj. endothelial cells\",\t\"Lymph. endo. cells\",\t\"Un. mesenchymal\",\n",
    "                                                                      \"Fibroblasts\",\t\"Myofibroblasts\",\t\"Pericytes\",\t\"Vascular SMCs\"), \"Mesen\",\n",
    "ifelse(data_kuppe_metadata$cells %in% c('TAL',\t'DCT',\t'CDP cells',\t'DTL',\t'Intercalated cells',\t'CT',\n",
    "                                        'Uroethlial cells',\t'Inj. PT',\t'PCs',\t'PT',\t'Un. epithelial',\t'Mesangial cells',\t'Podocytes'), \"Epi\",\n",
    "ifelse(data_kuppe_metadata$cells %in% c('Un. immune',\t'DCs',\t'Monocytes',\t'Plasma cells',\n",
    "                                        'Macrophages',\t'Mast cells',\t'T cells',\t'B cells',\t'NK cells'), \"Imm\",\n",
    "ifelse(data_kuppe_metadata$cells == \"Glial cells\", \"Neu\", \"ERROR\"))))"
   ]
  },
  {
   "cell_type": "code",
   "execution_count": 112,
   "id": "dcd7e4b5-4d68-4e0a-b2ae-be608bcdf4c2",
   "metadata": {
    "vscode": {
     "languageId": "r"
    }
   },
   "outputs": [],
   "source": [
    "#Export metadata as csv\n",
    "setwd(\"/dh-projects/ag-conrad/analysis/saal11/panfib/Metadata\")\n",
    "write.csv(data.frame(data_kuppe_metadata), file = \"data_kuppe_metadata_final.csv\")"
   ]
  },
  {
   "cell_type": "code",
   "execution_count": 91,
   "id": "de4b34bd-e540-4f84-9fb4-b2c7cbcc5687",
   "metadata": {
    "vscode": {
     "languageId": "r"
    }
   },
   "outputs": [
    {
     "name": "stderr",
     "output_type": "stream",
     "text": [
      "\u001b[1m\u001b[22mNew names:\n",
      "\u001b[36m•\u001b[39m `` -> `...1`\n",
      "\u001b[1mRows: \u001b[22m\u001b[34m342668\u001b[39m \u001b[1mColumns: \u001b[22m\u001b[34m17\u001b[39m\n",
      "\u001b[36m──\u001b[39m \u001b[1mColumn specification\u001b[22m \u001b[36m────────────────────────────────────────────────────────\u001b[39m\n",
      "\u001b[1mDelimiter:\u001b[22m \",\"\n",
      "\u001b[31mchr\u001b[39m (10): ...1, orig.ident, patientID, study, cells_or_nuclei, tissue, condi...\n",
      "\u001b[32mdbl\u001b[39m  (5): nCount_RNA, nFeature_RNA, percent.mt, age, RNA_snn_res.0.8\n",
      "\u001b[33mlgl\u001b[39m  (2): sex, smoking\n",
      "\n",
      "\u001b[36mℹ\u001b[39m Use `spec()` to retrieve the full column specification for this data.\n",
      "\u001b[36mℹ\u001b[39m Specify the column types or set `show_col_types = FALSE` to quiet this message.\n"
     ]
    }
   ],
   "source": [
    "#--Harmonising data, Fonseca--#\n",
    "setwd(\"/dh-projects/ag-conrad/analysis/saal11/panfib/Renaming/Fons\")\n",
    "data_fons_metadata <- read_csv(\"data_fons_metadata.csv\")"
   ]
  },
  {
   "cell_type": "code",
   "execution_count": 115,
   "id": "f268fb9e-2332-4805-acfd-f09cbd5e7dc9",
   "metadata": {
    "vscode": {
     "languageId": "r"
    }
   },
   "outputs": [],
   "source": [
    "data_fons_metadata$location <- data_fons_metadata$tissue"
   ]
  },
  {
   "cell_type": "code",
   "execution_count": 116,
   "id": "f5c23c4a-23b6-49bc-aee5-42cb6ff2aed2",
   "metadata": {
    "vscode": {
     "languageId": "r"
    }
   },
   "outputs": [],
   "source": [
    "data_fons_metadata$tissue <- \"Endometrium\""
   ]
  },
  {
   "cell_type": "code",
   "execution_count": 132,
   "id": "288c1610-ce40-4782-b412-4d08a7e9d61b",
   "metadata": {
    "vscode": {
     "languageId": "r"
    }
   },
   "outputs": [
    {
     "data": {
      "text/html": [
       "'F'"
      ],
      "text/latex": [
       "'F'"
      ],
      "text/markdown": [
       "'F'"
      ],
      "text/plain": [
       "[1] \"F\""
      ]
     },
     "metadata": {},
     "output_type": "display_data"
    }
   ],
   "source": [
    "unique(data_fons_metadata$sex)"
   ]
  },
  {
   "cell_type": "code",
   "execution_count": 131,
   "id": "3fe028f4-849d-4cc8-8f5c-00ec392b43e9",
   "metadata": {
    "vscode": {
     "languageId": "r"
    }
   },
   "outputs": [],
   "source": [
    "data_fons_metadata$sex <- \"F\""
   ]
  },
  {
   "cell_type": "code",
   "execution_count": 133,
   "id": "bfe380fc-66bd-4cf3-ad5a-0559b078db4a",
   "metadata": {
    "vscode": {
     "languageId": "r"
    }
   },
   "outputs": [
    {
     "data": {
      "text/html": [
       "<style>\n",
       ".list-inline {list-style: none; margin:0; padding: 0}\n",
       ".list-inline>li {display: inline-block}\n",
       ".list-inline>li:not(:last-child)::after {content: \"\\00b7\"; padding: 0 .5ex}\n",
       "</style>\n",
       "<ol class=list-inline><li>'p1'</li><li>'p4'</li><li>'p5'</li><li>'p6'</li><li>'p7'</li><li>'p8'</li><li>'p9'</li><li>'p10'</li><li>'p11'</li><li>'p12'</li><li>'p13'</li><li>'p14'</li><li>'p15'</li><li>'p16'</li><li>'p17'</li><li>'p18'</li><li>'p19'</li><li>'p20'</li><li>'p21'</li></ol>\n"
      ],
      "text/latex": [
       "\\begin{enumerate*}\n",
       "\\item 'p1'\n",
       "\\item 'p4'\n",
       "\\item 'p5'\n",
       "\\item 'p6'\n",
       "\\item 'p7'\n",
       "\\item 'p8'\n",
       "\\item 'p9'\n",
       "\\item 'p10'\n",
       "\\item 'p11'\n",
       "\\item 'p12'\n",
       "\\item 'p13'\n",
       "\\item 'p14'\n",
       "\\item 'p15'\n",
       "\\item 'p16'\n",
       "\\item 'p17'\n",
       "\\item 'p18'\n",
       "\\item 'p19'\n",
       "\\item 'p20'\n",
       "\\item 'p21'\n",
       "\\end{enumerate*}\n"
      ],
      "text/markdown": [
       "1. 'p1'\n",
       "2. 'p4'\n",
       "3. 'p5'\n",
       "4. 'p6'\n",
       "5. 'p7'\n",
       "6. 'p8'\n",
       "7. 'p9'\n",
       "8. 'p10'\n",
       "9. 'p11'\n",
       "10. 'p12'\n",
       "11. 'p13'\n",
       "12. 'p14'\n",
       "13. 'p15'\n",
       "14. 'p16'\n",
       "15. 'p17'\n",
       "16. 'p18'\n",
       "17. 'p19'\n",
       "18. 'p20'\n",
       "19. 'p21'\n",
       "\n",
       "\n"
      ],
      "text/plain": [
       " [1] \"p1\"  \"p4\"  \"p5\"  \"p6\"  \"p7\"  \"p8\"  \"p9\"  \"p10\" \"p11\" \"p12\" \"p13\" \"p14\"\n",
       "[13] \"p15\" \"p16\" \"p17\" \"p18\" \"p19\" \"p20\" \"p21\""
      ]
     },
     "metadata": {},
     "output_type": "display_data"
    }
   ],
   "source": [
    "unique(data_fons_metadata$patientID)"
   ]
  },
  {
   "cell_type": "code",
   "execution_count": 134,
   "id": "615719ac-316d-4d23-9242-0b9773245f44",
   "metadata": {
    "vscode": {
     "languageId": "r"
    }
   },
   "outputs": [],
   "source": [
    "data_fons_metadata$fileID <- data_fons_metadata$orig.ident"
   ]
  },
  {
   "cell_type": "code",
   "execution_count": 135,
   "id": "75e49280-0647-4758-ab16-808370e2e0c4",
   "metadata": {
    "vscode": {
     "languageId": "r"
    }
   },
   "outputs": [],
   "source": [
    "data_fons_metadata$orig.ident <- NULL"
   ]
  },
  {
   "cell_type": "code",
   "execution_count": null,
   "id": "700132a2-a442-4a20-b569-83146cc9d1df",
   "metadata": {
    "vscode": {
     "languageId": "r"
    }
   },
   "outputs": [],
   "source": [
    "data_fons_metadata"
   ]
  },
  {
   "cell_type": "code",
   "execution_count": 67,
   "id": "bf139069-d83a-4091-90cc-2da9d1fb4423",
   "metadata": {
    "vscode": {
     "languageId": "r"
    }
   },
   "outputs": [
    {
     "name": "stderr",
     "output_type": "stream",
     "text": [
      "\u001b[1m\u001b[22mNew names:\n",
      "\u001b[36m•\u001b[39m `` -> `...1`\n",
      "\u001b[1mRows: \u001b[22m\u001b[34m56455\u001b[39m \u001b[1mColumns: \u001b[22m\u001b[34m14\u001b[39m\n",
      "\u001b[36m──\u001b[39m \u001b[1mColumn specification\u001b[22m \u001b[36m────────────────────────────────────────────────────────\u001b[39m\n",
      "\u001b[1mDelimiter:\u001b[22m \",\"\n",
      "\u001b[31mchr\u001b[39m (10): ...1, sex, location, orig.ident, patient_id, condition, study, sub...\n",
      "\u001b[32mdbl\u001b[39m  (4): nCount_RNA, nFeature_RNA, age, percent.mt\n",
      "\n",
      "\u001b[36mℹ\u001b[39m Use `spec()` to retrieve the full column specification for this data.\n",
      "\u001b[36mℹ\u001b[39m Specify the column types or set `show_col_types = FALSE` to quiet this message.\n"
     ]
    }
   ],
   "source": [
    "#--Harmonising data, tosti panc--#\n",
    "setwd(\"/dh-projects/ag-conrad/analysis/saal11/panfib/Renaming/Tostipanc\")\n",
    "data_tosti_panc_metadata <- read_csv(\"data_tosti_panc_metadata_new.csv\")"
   ]
  },
  {
   "cell_type": "code",
   "execution_count": 7,
   "id": "00a24b45-6858-4fb9-bc92-6177edba62c0",
   "metadata": {
    "vscode": {
     "languageId": "r"
    }
   },
   "outputs": [],
   "source": [
    "data_tosti_panc_metadata$fileID <- data_tosti_panc_metadata$orig.ident"
   ]
  },
  {
   "cell_type": "code",
   "execution_count": 8,
   "id": "c314db34-e203-45de-9036-a2284f4ca5b1",
   "metadata": {
    "vscode": {
     "languageId": "r"
    }
   },
   "outputs": [],
   "source": [
    "data_tosti_panc_metadata$orig.ident <- NULL"
   ]
  },
  {
   "cell_type": "code",
   "execution_count": 10,
   "id": "ff860706-6533-4e4c-9a93-14d44f80892e",
   "metadata": {
    "vscode": {
     "languageId": "r"
    }
   },
   "outputs": [],
   "source": [
    "data_tosti_panc_metadata$tissue <- \"pancreas\""
   ]
  },
  {
   "cell_type": "code",
   "execution_count": 11,
   "id": "c4e60a83-ffb2-434a-aabe-f0d0ae6a329e",
   "metadata": {
    "vscode": {
     "languageId": "r"
    }
   },
   "outputs": [],
   "source": [
    "data_tosti_panc_metadata$primary_or_cultured <- \"primary\""
   ]
  },
  {
   "cell_type": "code",
   "execution_count": 12,
   "id": "eeab4262-3761-4547-968c-9ea1f434f4d6",
   "metadata": {
    "vscode": {
     "languageId": "r"
    }
   },
   "outputs": [],
   "source": [
    "data_tosti_panc_metadata$smoking <- \"NA\""
   ]
  },
  {
   "cell_type": "code",
   "execution_count": 13,
   "id": "28b25f48-4202-44ff-bdf0-809370b35c7e",
   "metadata": {
    "vscode": {
     "languageId": "r"
    }
   },
   "outputs": [],
   "source": [
    "data_tosti_panc_metadata$cells_or_nuclei <- \"nuclei\""
   ]
  },
  {
   "cell_type": "code",
   "execution_count": 68,
   "id": "7fd6d15b-5b17-40d5-91fc-16eb62bc4ef8",
   "metadata": {
    "vscode": {
     "languageId": "r"
    }
   },
   "outputs": [
    {
     "data": {
      "text/html": [
       "<style>\n",
       ".list-inline {list-style: none; margin:0; padding: 0}\n",
       ".list-inline>li {display: inline-block}\n",
       ".list-inline>li:not(:last-child)::after {content: \"\\00b7\"; padding: 0 .5ex}\n",
       "</style>\n",
       "<ol class=list-inline><li>'head'</li><li>'body'</li><li>'tail'</li></ol>\n"
      ],
      "text/latex": [
       "\\begin{enumerate*}\n",
       "\\item 'head'\n",
       "\\item 'body'\n",
       "\\item 'tail'\n",
       "\\end{enumerate*}\n"
      ],
      "text/markdown": [
       "1. 'head'\n",
       "2. 'body'\n",
       "3. 'tail'\n",
       "\n",
       "\n"
      ],
      "text/plain": [
       "[1] \"head\" \"body\" \"tail\""
      ]
     },
     "metadata": {},
     "output_type": "display_data"
    }
   ],
   "source": [
    "unique(data_tosti_panc_metadata$location)"
   ]
  },
  {
   "cell_type": "code",
   "execution_count": 16,
   "id": "371a5d8b-ba6a-4622-a0fb-e5ef59fa3644",
   "metadata": {
    "vscode": {
     "languageId": "r"
    }
   },
   "outputs": [],
   "source": [
    "data_tosti_panc_metadata$patientID <- data_tosti_panc_metadata$patient_id"
   ]
  },
  {
   "cell_type": "code",
   "execution_count": 17,
   "id": "6ff3a121-63e9-4037-8dd2-558c657f235a",
   "metadata": {
    "vscode": {
     "languageId": "r"
    }
   },
   "outputs": [],
   "source": [
    "data_tosti_panc_metadata$patient_id <- NULL"
   ]
  },
  {
   "cell_type": "code",
   "execution_count": 42,
   "id": "2f34a1a4-972c-4a9e-aa3b-d48c052811d8",
   "metadata": {
    "vscode": {
     "languageId": "r"
    }
   },
   "outputs": [
    {
     "data": {
      "text/html": [
       "'control'"
      ],
      "text/latex": [
       "'control'"
      ],
      "text/markdown": [
       "'control'"
      ],
      "text/plain": [
       "[1] \"control\""
      ]
     },
     "metadata": {},
     "output_type": "display_data"
    }
   ],
   "source": [
    "unique(data_tosti_panc_metadata$condition)"
   ]
  },
  {
   "cell_type": "code",
   "execution_count": 20,
   "id": "ea609d7c-782a-437d-b78f-ba2e17a321d2",
   "metadata": {
    "vscode": {
     "languageId": "r"
    }
   },
   "outputs": [],
   "source": [
    "data_tosti_panc_metadata$sex <- ifelse(data_tosti_panc_metadata$sex == \"male\", \"M\", \"F\")"
   ]
  },
  {
   "cell_type": "code",
   "execution_count": 25,
   "id": "b6359802-2576-4391-9c60-703d06e4f23d",
   "metadata": {
    "vscode": {
     "languageId": "r"
    }
   },
   "outputs": [
    {
     "data": {
      "text/html": [
       "'Tosti'"
      ],
      "text/latex": [
       "'Tosti'"
      ],
      "text/markdown": [
       "'Tosti'"
      ],
      "text/plain": [
       "[1] \"Tosti\""
      ]
     },
     "metadata": {},
     "output_type": "display_data"
    }
   ],
   "source": [
    "unique(data_tosti_panc_metadata$study)"
   ]
  },
  {
   "cell_type": "code",
   "execution_count": 24,
   "id": "ddb956e8-bda1-410a-baf3-1f0ceb76c362",
   "metadata": {
    "vscode": {
     "languageId": "r"
    }
   },
   "outputs": [],
   "source": [
    "data_tosti_panc_metadata$study <- \"Tosti\""
   ]
  },
  {
   "cell_type": "code",
   "execution_count": 27,
   "id": "4b6d5587-7401-4412-b435-ec77ad68b0fd",
   "metadata": {
    "vscode": {
     "languageId": "r"
    }
   },
   "outputs": [
    {
     "data": {
      "text/html": [
       "<style>\n",
       ".list-inline {list-style: none; margin:0; padding: 0}\n",
       ".list-inline>li {display: inline-block}\n",
       ".list-inline>li:not(:last-child)::after {content: \"\\00b7\"; padding: 0 .5ex}\n",
       "</style>\n",
       "<ol class=list-inline><li>'Epi'</li><li>'Mesen'</li><li>'Neu'</li><li>'Imm'</li></ol>\n"
      ],
      "text/latex": [
       "\\begin{enumerate*}\n",
       "\\item 'Epi'\n",
       "\\item 'Mesen'\n",
       "\\item 'Neu'\n",
       "\\item 'Imm'\n",
       "\\end{enumerate*}\n"
      ],
      "text/markdown": [
       "1. 'Epi'\n",
       "2. 'Mesen'\n",
       "3. 'Neu'\n",
       "4. 'Imm'\n",
       "\n",
       "\n"
      ],
      "text/plain": [
       "[1] \"Epi\"   \"Mesen\" \"Neu\"   \"Imm\"  "
      ]
     },
     "metadata": {},
     "output_type": "display_data"
    }
   ],
   "source": [
    "unique(data_tosti_panc_metadata$lineage)"
   ]
  },
  {
   "cell_type": "code",
   "execution_count": 28,
   "id": "428e2533-695d-42a8-a818-76df8af456f3",
   "metadata": {
    "vscode": {
     "languageId": "r"
    }
   },
   "outputs": [],
   "source": [
    "#Export metadata as csv\n",
    "setwd(\"/dh-projects/ag-conrad/analysis/saal11/panfib/Metadata\")\n",
    "write.csv(data.frame(data_tosti_panc_metadata), file = \"data_tosti_panc_metadata_final.csv\")"
   ]
  },
  {
   "cell_type": "code",
   "execution_count": 65,
   "id": "57bc6a3e-a78c-4f9e-8538-d58553d8228a",
   "metadata": {
    "vscode": {
     "languageId": "r"
    }
   },
   "outputs": [
    {
     "name": "stderr",
     "output_type": "stream",
     "text": [
      "\u001b[1m\u001b[22mNew names:\n",
      "\u001b[36m•\u001b[39m `` -> `...1`\n",
      "\u001b[1mRows: \u001b[22m\u001b[34m2666\u001b[39m \u001b[1mColumns: \u001b[22m\u001b[34m13\u001b[39m\n",
      "\u001b[36m──\u001b[39m \u001b[1mColumn specification\u001b[22m \u001b[36m────────────────────────────────────────────────────────\u001b[39m\n",
      "\u001b[1mDelimiter:\u001b[22m \",\"\n",
      "\u001b[31mchr\u001b[39m (9): ...1, orig.ident, sex, patient_id, condition, study, cells, lineage...\n",
      "\u001b[32mdbl\u001b[39m (4): nCount_RNA, nFeature_RNA, percent.mt, age\n",
      "\n",
      "\u001b[36mℹ\u001b[39m Use `spec()` to retrieve the full column specification for this data.\n",
      "\u001b[36mℹ\u001b[39m Specify the column types or set `show_col_types = FALSE` to quiet this message.\n"
     ]
    }
   ],
   "source": [
    "#--Harmonising data, tosti panctits--#\n",
    "setwd(\"/dh-projects/ag-conrad/analysis/saal11/panfib/Renaming/Tostipanctits\")\n",
    "data_tosti_panctits_metadata <- read_csv(\"data_tosti_panctits_metadata_new.csv\")"
   ]
  },
  {
   "cell_type": "code",
   "execution_count": 32,
   "id": "8c6dce9e-438d-4d8f-bcbf-164b8566d083",
   "metadata": {
    "vscode": {
     "languageId": "r"
    }
   },
   "outputs": [],
   "source": [
    "data_tosti_panctits_metadata$sex <- ifelse(data_tosti_panctits_metadata$sex == \"male\", \"M\", \"F\")"
   ]
  },
  {
   "cell_type": "code",
   "execution_count": 66,
   "id": "c9ebcde9-6fef-497e-9da9-f1891d2a2642",
   "metadata": {
    "vscode": {
     "languageId": "r"
    }
   },
   "outputs": [
    {
     "name": "stderr",
     "output_type": "stream",
     "text": [
      "Warning message:\n",
      "“Unknown or uninitialised column: `location`.”\n"
     ]
    },
    {
     "data": {
      "text/plain": [
       "NULL"
      ]
     },
     "metadata": {},
     "output_type": "display_data"
    }
   ],
   "source": [
    "unique(data_tosti_panctits_metadata$)"
   ]
  },
  {
   "cell_type": "code",
   "execution_count": 35,
   "id": "7e71a206-9564-4bc3-b18b-dd537254826f",
   "metadata": {
    "vscode": {
     "languageId": "r"
    }
   },
   "outputs": [],
   "source": [
    "data_tosti_panctits_metadata$patientID <- data_tosti_panctits_metadata$patient_id\n"
   ]
  },
  {
   "cell_type": "code",
   "execution_count": 36,
   "id": "c98ff4a4-9955-4b4a-98f3-c498ba71a080",
   "metadata": {
    "vscode": {
     "languageId": "r"
    }
   },
   "outputs": [],
   "source": [
    "data_tosti_panctits_metadata$patient_id <- NULL"
   ]
  },
  {
   "cell_type": "code",
   "execution_count": 38,
   "id": "53e160c0-9da2-4e70-a05a-07ab617e212d",
   "metadata": {
    "vscode": {
     "languageId": "r"
    }
   },
   "outputs": [],
   "source": [
    "data_tosti_panctits_metadata$fileID <- data_tosti_panctits_metadata$orig.ident"
   ]
  },
  {
   "cell_type": "code",
   "execution_count": 39,
   "id": "abd93d65-bdf9-40be-b4aa-6c4741cb286c",
   "metadata": {
    "vscode": {
     "languageId": "r"
    }
   },
   "outputs": [],
   "source": [
    "data_tosti_panctits_metadata$orig.ident <- NULL"
   ]
  },
  {
   "cell_type": "code",
   "execution_count": 43,
   "id": "d509d868-e6b1-4d63-950a-499ae5cba2d5",
   "metadata": {
    "vscode": {
     "languageId": "r"
    }
   },
   "outputs": [
    {
     "data": {
      "text/html": [
       "'fibrotic-panc'"
      ],
      "text/latex": [
       "'fibrotic-panc'"
      ],
      "text/markdown": [
       "'fibrotic-panc'"
      ],
      "text/plain": [
       "[1] \"fibrotic-panc\""
      ]
     },
     "metadata": {},
     "output_type": "display_data"
    }
   ],
   "source": [
    "unique(data_tosti_panctits_metadata$condition)"
   ]
  },
  {
   "cell_type": "code",
   "execution_count": 45,
   "id": "b55f689f-1a5f-487c-8052-d23b3a1ee67f",
   "metadata": {
    "vscode": {
     "languageId": "r"
    }
   },
   "outputs": [],
   "source": [
    "data_tosti_panctits_metadata$tissue <- \"pancreas\""
   ]
  },
  {
   "cell_type": "code",
   "execution_count": 47,
   "id": "992b0eb2-2cca-44be-9e4a-4e9a4fee5de8",
   "metadata": {
    "vscode": {
     "languageId": "r"
    }
   },
   "outputs": [],
   "source": [
    "data_tosti_panctits_metadata$location <- \"head\""
   ]
  },
  {
   "cell_type": "code",
   "execution_count": 48,
   "id": "db53b00d-82db-4f14-957b-b59f98bd2332",
   "metadata": {
    "vscode": {
     "languageId": "r"
    }
   },
   "outputs": [],
   "source": [
    "data_tosti_panctits_metadata$primary_or_cultured <- \"primary\""
   ]
  },
  {
   "cell_type": "code",
   "execution_count": 49,
   "id": "95d908f6-7529-4a65-a61e-2ee0e54eff53",
   "metadata": {
    "vscode": {
     "languageId": "r"
    }
   },
   "outputs": [],
   "source": [
    "data_tosti_panctits_metadata$cells_or_nuclei <- \"nuclei\""
   ]
  },
  {
   "cell_type": "code",
   "execution_count": 50,
   "id": "8b4eddc6-6d9b-4a4e-b76d-cb2525db4b65",
   "metadata": {
    "vscode": {
     "languageId": "r"
    }
   },
   "outputs": [],
   "source": [
    "data_tosti_panctits_metadata$smoking <- NA "
   ]
  },
  {
   "cell_type": "code",
   "execution_count": 52,
   "id": "53045fab-04ee-420a-bcca-0be4b36215df",
   "metadata": {
    "vscode": {
     "languageId": "r"
    }
   },
   "outputs": [
    {
     "data": {
      "text/html": [
       "<style>\n",
       ".list-inline {list-style: none; margin:0; padding: 0}\n",
       ".list-inline>li {display: inline-block}\n",
       ".list-inline>li:not(:last-child)::after {content: \"\\00b7\"; padding: 0 .5ex}\n",
       "</style>\n",
       "<ol class=list-inline><li>'Mesen'</li><li>'Epi'</li><li>'Imm'</li><li>'Neu'</li></ol>\n"
      ],
      "text/latex": [
       "\\begin{enumerate*}\n",
       "\\item 'Mesen'\n",
       "\\item 'Epi'\n",
       "\\item 'Imm'\n",
       "\\item 'Neu'\n",
       "\\end{enumerate*}\n"
      ],
      "text/markdown": [
       "1. 'Mesen'\n",
       "2. 'Epi'\n",
       "3. 'Imm'\n",
       "4. 'Neu'\n",
       "\n",
       "\n"
      ],
      "text/plain": [
       "[1] \"Mesen\" \"Epi\"   \"Imm\"   \"Neu\"  "
      ]
     },
     "metadata": {},
     "output_type": "display_data"
    }
   ],
   "source": [
    "unique(data_tosti_panctits_metadata$lineage)"
   ]
  },
  {
   "cell_type": "code",
   "execution_count": null,
   "id": "bffee8bf-c17c-4c1e-aa4a-d60640904e33",
   "metadata": {
    "vscode": {
     "languageId": "r"
    }
   },
   "outputs": [],
   "source": [
    "data_tosti_panctits_metadata"
   ]
  },
  {
   "cell_type": "code",
   "execution_count": 54,
   "id": "23f412cd-fb02-40ad-a4e2-18d5e614fa62",
   "metadata": {
    "vscode": {
     "languageId": "r"
    }
   },
   "outputs": [],
   "source": [
    "#Export metadata as csv\n",
    "setwd(\"/dh-projects/ag-conrad/analysis/saal11/panfib/Metadata\")\n",
    "write.csv(data.frame(data_tosti_panctits_metadata), file = \"data_tosti_panctits_metadata_final.csv\")"
   ]
  },
  {
   "cell_type": "code",
   "execution_count": 56,
   "id": "f6e48d87-46e3-4881-88fe-d36a0abf3d7d",
   "metadata": {
    "vscode": {
     "languageId": "r"
    }
   },
   "outputs": [
    {
     "name": "stderr",
     "output_type": "stream",
     "text": [
      "\u001b[1m\u001b[22mNew names:\n",
      "\u001b[36m•\u001b[39m `` -> `...1`\n",
      "\u001b[1mRows: \u001b[22m\u001b[34m191694\u001b[39m \u001b[1mColumns: \u001b[22m\u001b[34m16\u001b[39m\n",
      "\u001b[36m──\u001b[39m \u001b[1mColumn specification\u001b[22m \u001b[36m────────────────────────────────────────────────────────\u001b[39m\n",
      "\u001b[1mDelimiter:\u001b[22m \",\"\n",
      "\u001b[31mchr\u001b[39m (12): ...1, orig.ident, patient_id, sex, condition, subclass, aetiology,...\n",
      "\u001b[32mdbl\u001b[39m  (4): nCount_RNA, nFeature_RNA, age, percent.mt\n",
      "\n",
      "\u001b[36mℹ\u001b[39m Use `spec()` to retrieve the full column specification for this data.\n",
      "\u001b[36mℹ\u001b[39m Specify the column types or set `show_col_types = FALSE` to quiet this message.\n"
     ]
    }
   ],
   "source": [
    "#--Harmonising data, tosti panctits--#\n",
    "setwd(\"/dh-projects/ag-conrad/analysis/saal11/panfib/Renaming/ESPACE\")\n",
    "data_espace_metadata <- read_csv(\"data_espace_metadata_new.csv\")"
   ]
  },
  {
   "cell_type": "code",
   "execution_count": 58,
   "id": "286bb28a-e917-4996-ab6c-38b83122deba",
   "metadata": {
    "vscode": {
     "languageId": "r"
    }
   },
   "outputs": [],
   "source": [
    "data_espace_metadata$patientID <- data_espace_metadata$patient_id"
   ]
  },
  {
   "cell_type": "code",
   "execution_count": 59,
   "id": "bfaef3c9-3f14-4d65-b819-76a330d264b6",
   "metadata": {
    "vscode": {
     "languageId": "r"
    }
   },
   "outputs": [],
   "source": [
    "data_espace_metadata$patient_id <- NULL"
   ]
  },
  {
   "cell_type": "code",
   "execution_count": 60,
   "id": "a464ff4e-7cf5-493a-9cf0-e7fdbbc182a7",
   "metadata": {
    "vscode": {
     "languageId": "r"
    }
   },
   "outputs": [],
   "source": [
    "data_espace_metadata$fileID <- data_espace_metadata$orig.ident"
   ]
  },
  {
   "cell_type": "code",
   "execution_count": 61,
   "id": "ec6ec864-8ea6-42ac-b328-92a2b6bb1b5d",
   "metadata": {
    "vscode": {
     "languageId": "r"
    }
   },
   "outputs": [],
   "source": [
    "data_espace_metadata$orig.ident <- NULL"
   ]
  },
  {
   "cell_type": "code",
   "execution_count": 69,
   "id": "dcd4ed35-62b1-4c11-bb8f-602d91949ec0",
   "metadata": {
    "vscode": {
     "languageId": "r"
    }
   },
   "outputs": [
    {
     "data": {
      "text/plain": [
       "\n",
       "    Body     Head Head_PPI     Tail \n",
       "   43342    47913    53418    47021 "
      ]
     },
     "metadata": {},
     "output_type": "display_data"
    }
   ],
   "source": [
    "table(data_espace_metadata$location)"
   ]
  },
  {
   "cell_type": "code",
   "execution_count": 70,
   "id": "977e29f6-2139-4c3d-92e7-60f864a01a4a",
   "metadata": {
    "vscode": {
     "languageId": "r"
    }
   },
   "outputs": [],
   "source": [
    "data_espace_metadata$location <- ifelse(data_espace_metadata$location == \"Head_PPI\", \"head_PPI\",\n",
    "ifelse(data_espace_metadata$location == \"Head\", \"head\",\n",
    "ifelse(data_espace_metadata$location == \"Body\", \"body\", \"tail\")))\n",
    "      "
   ]
  },
  {
   "cell_type": "code",
   "execution_count": 75,
   "id": "8fe751b3-a42d-42e0-844c-8c24befeda68",
   "metadata": {
    "vscode": {
     "languageId": "r"
    }
   },
   "outputs": [
    {
     "data": {
      "text/html": [
       "'liebig'"
      ],
      "text/latex": [
       "'liebig'"
      ],
      "text/markdown": [
       "'liebig'"
      ],
      "text/plain": [
       "[1] \"liebig\""
      ]
     },
     "metadata": {},
     "output_type": "display_data"
    }
   ],
   "source": [
    "unique(data_espace_metadata$study)"
   ]
  },
  {
   "cell_type": "code",
   "execution_count": 79,
   "id": "7d0448fb-8f83-4923-820d-a240d453c58b",
   "metadata": {
    "vscode": {
     "languageId": "r"
    }
   },
   "outputs": [],
   "source": [
    "data_espace_metadata$cells_or_nuclei <- \"nuclei\""
   ]
  },
  {
   "cell_type": "code",
   "execution_count": 82,
   "id": "e3c1d8dc-ac2b-4a0c-bc97-d832cf62ad37",
   "metadata": {
    "vscode": {
     "languageId": "r"
    }
   },
   "outputs": [
    {
     "data": {
      "text/html": [
       "<style>\n",
       ".list-inline {list-style: none; margin:0; padding: 0}\n",
       ".list-inline>li {display: inline-block}\n",
       ".list-inline>li:not(:last-child)::after {content: \"\\00b7\"; padding: 0 .5ex}\n",
       "</style>\n",
       "<ol class=list-inline><li>'Endothel_venous'</li><li>'Endothel_lymphatic'</li><li>'Endothel_arterial'</li><li>'Blood_vessel'</li><li>'Endothel_capillary'</li><li>'Quiescent_Stellate'</li><li>'Acinar-trans'</li><li>'Ductal'</li><li>'Beta'</li><li>'Acinar-i'</li><li>'Acinar-s'</li><li>'Alpha'</li><li>'Delta'</li><li>'Ductal-MucPos'</li><li>'Epsilon'</li><li>'Glia'</li><li>'PP'</li><li>'Immune'</li><li>'Mast_cell'</li><li>'Neutrophil'</li><li>'Monocyte'</li><li>'Dendritic_cells'</li><li>'T_cell'</li><li>'Cycling'</li><li>'B_cell'</li><li>'NK'</li><li>'Plasma_cell'</li><li>'Fibroblast'</li><li>'SMC'</li><li>'Activated_Stellate'</li><li>'Pericyte'</li></ol>\n"
      ],
      "text/latex": [
       "\\begin{enumerate*}\n",
       "\\item 'Endothel\\_venous'\n",
       "\\item 'Endothel\\_lymphatic'\n",
       "\\item 'Endothel\\_arterial'\n",
       "\\item 'Blood\\_vessel'\n",
       "\\item 'Endothel\\_capillary'\n",
       "\\item 'Quiescent\\_Stellate'\n",
       "\\item 'Acinar-trans'\n",
       "\\item 'Ductal'\n",
       "\\item 'Beta'\n",
       "\\item 'Acinar-i'\n",
       "\\item 'Acinar-s'\n",
       "\\item 'Alpha'\n",
       "\\item 'Delta'\n",
       "\\item 'Ductal-MucPos'\n",
       "\\item 'Epsilon'\n",
       "\\item 'Glia'\n",
       "\\item 'PP'\n",
       "\\item 'Immune'\n",
       "\\item 'Mast\\_cell'\n",
       "\\item 'Neutrophil'\n",
       "\\item 'Monocyte'\n",
       "\\item 'Dendritic\\_cells'\n",
       "\\item 'T\\_cell'\n",
       "\\item 'Cycling'\n",
       "\\item 'B\\_cell'\n",
       "\\item 'NK'\n",
       "\\item 'Plasma\\_cell'\n",
       "\\item 'Fibroblast'\n",
       "\\item 'SMC'\n",
       "\\item 'Activated\\_Stellate'\n",
       "\\item 'Pericyte'\n",
       "\\end{enumerate*}\n"
      ],
      "text/markdown": [
       "1. 'Endothel_venous'\n",
       "2. 'Endothel_lymphatic'\n",
       "3. 'Endothel_arterial'\n",
       "4. 'Blood_vessel'\n",
       "5. 'Endothel_capillary'\n",
       "6. 'Quiescent_Stellate'\n",
       "7. 'Acinar-trans'\n",
       "8. 'Ductal'\n",
       "9. 'Beta'\n",
       "10. 'Acinar-i'\n",
       "11. 'Acinar-s'\n",
       "12. 'Alpha'\n",
       "13. 'Delta'\n",
       "14. 'Ductal-MucPos'\n",
       "15. 'Epsilon'\n",
       "16. 'Glia'\n",
       "17. 'PP'\n",
       "18. 'Immune'\n",
       "19. 'Mast_cell'\n",
       "20. 'Neutrophil'\n",
       "21. 'Monocyte'\n",
       "22. 'Dendritic_cells'\n",
       "23. 'T_cell'\n",
       "24. 'Cycling'\n",
       "25. 'B_cell'\n",
       "26. 'NK'\n",
       "27. 'Plasma_cell'\n",
       "28. 'Fibroblast'\n",
       "29. 'SMC'\n",
       "30. 'Activated_Stellate'\n",
       "31. 'Pericyte'\n",
       "\n",
       "\n"
      ],
      "text/plain": [
       " [1] \"Endothel_venous\"    \"Endothel_lymphatic\" \"Endothel_arterial\" \n",
       " [4] \"Blood_vessel\"       \"Endothel_capillary\" \"Quiescent_Stellate\"\n",
       " [7] \"Acinar-trans\"       \"Ductal\"             \"Beta\"              \n",
       "[10] \"Acinar-i\"           \"Acinar-s\"           \"Alpha\"             \n",
       "[13] \"Delta\"              \"Ductal-MucPos\"      \"Epsilon\"           \n",
       "[16] \"Glia\"               \"PP\"                 \"Immune\"            \n",
       "[19] \"Mast_cell\"          \"Neutrophil\"         \"Monocyte\"          \n",
       "[22] \"Dendritic_cells\"    \"T_cell\"             \"Cycling\"           \n",
       "[25] \"B_cell\"             \"NK\"                 \"Plasma_cell\"       \n",
       "[28] \"Fibroblast\"         \"SMC\"                \"Activated_Stellate\"\n",
       "[31] \"Pericyte\"          "
      ]
     },
     "metadata": {},
     "output_type": "display_data"
    }
   ],
   "source": [
    "unique(data_espace_metadata$subclass)"
   ]
  },
  {
   "cell_type": "code",
   "execution_count": 83,
   "id": "124afdd1-127c-4300-9c5b-d4bd4419eaf0",
   "metadata": {
    "vscode": {
     "languageId": "r"
    }
   },
   "outputs": [],
   "source": [
    "#Export metadata as csv\n",
    "setwd(\"/dh-projects/ag-conrad/analysis/saal11/panfib/Metadata\")\n",
    "write.csv(data.frame(data_espace_metadata), file = \"data_espace_metadata_final.csv\")"
   ]
  }
 ],
 "metadata": {
  "kernelspec": {
   "display_name": "R [conda env:panfib]",
   "language": "R",
   "name": "conda-env-panfib-r"
  },
  "language_info": {
   "codemirror_mode": "r",
   "file_extension": ".r",
   "mimetype": "text/x-r-source",
   "name": "R",
   "pygments_lexer": "r",
   "version": "4.3.3"
  }
 },
 "nbformat": 4,
 "nbformat_minor": 5
}
